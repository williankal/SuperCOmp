{
 "cells": [
  {
   "cell_type": "markdown",
   "metadata": {},
   "source": [
    "## Análise de cliques em redes sociais"
   ]
  },
  {
   "cell_type": "markdown",
   "metadata": {},
   "source": [
    "Aluno: Willian Kenzo"
   ]
  },
  {
   "cell_type": "markdown",
   "metadata": {},
   "source": [
    "\n",
    "Em uma rede social, o termo \"cliques\" geralmente se refere a \"cliques de rede\" ou \"cliques sociais\". Esses cliques representam grupos de usuários interconectados, onde cada membro do grupo está diretamente conectado a todos os outros membros do grupo. Em outras palavras, em um clique, todos estão conectados entre si. A identificação de um clique é importante para entender a estrutura da rede social. Por exemplo, os cliques podem ser usados para identificar comunidades ou grupos de interesse. Em uma rede social, os cliques também podem ser usados para identificar grupos de usuários que podem ser alvos de um ataque de vírus ou de um ataque de negação de serviço."
   ]
  },
  {
   "cell_type": "markdown",
   "metadata": {},
   "source": [
    "### Códigos de auxílio(gerar/verificar)"
   ]
  },
  {
   "cell_type": "code",
   "execution_count": 124,
   "metadata": {},
   "outputs": [],
   "source": [
    "import networkx as nx\n",
    "import random\n",
    "import subprocess\n",
    "\n",
    "\n",
    "\n",
    "def cria_grafo(num_vertices, probabilidade_conexao):\n",
    "    # Crie um grafo aleatório densamente conectado\n",
    "    grafo = nx.fast_gnp_random_graph(num_vertices, probabilidade_conexao)\n",
    "\n",
    "    # Nome do arquivo de saída\n",
    "    nome_arquivo = \"grafo.txt\"\n",
    "\n",
    "    # Abra o arquivo para escrita\n",
    "    with open(nome_arquivo, 'w') as arquivo:\n",
    "        # Escreva a quantidade de vértices e número de arestas na primeira linha\n",
    "        arquivo.write(f\"{num_vertices} {grafo.number_of_edges()}\\n\")\n",
    "\n",
    "        # Escreva as arestas no formato de lista de adjacência\n",
    "        for aresta in grafo.edges():\n",
    "            arquivo.write(f\"{aresta[0]+1} {aresta[1]+1}\\n\")  # +1 para ajustar os índices (começando em 1)\n",
    "\n",
    "    print(f\"Grafo densamente conectado gerado e salvo em '{nome_arquivo}'.\")\n",
    "\n",
    "\n",
    "\n",
    "    # Nome do arquivo de entradapara paralelizar parte do processo, especificamente as iterações sobre os vértices. A diretiva #pragma omp parallel for é usada para paralelizar o loop, e #pra\n",
    "    # Nome do arquivo de entrada\n",
    "    nome_arquivo = \"grafo.txt\"\n",
    "\n",
    "    # Abrir o arquivo e pular a primeira linha\n",
    "    with open(nome_arquivo, 'r') as arquivo:\n",
    "        next(arquivo)  # Pula a primeira linha\n",
    "\n",
    "        # Lê o grafo a partir das linhas restantes\n",
    "        G = nx.parse_adjlist(arquivo)\n",
    "\n",
    "    # Encontrar todas as cliques maximais\n",
    "    cliques_maximais = list(nx.find_cliques(G))\n",
    "    clique_maxima = max(cliques_maximais, key=len)\n",
    "    tamamho_maxima = len(clique_maxima)\n",
    "\n",
    "    possiveis_cliques = []\n",
    "    print(f\"Cliques maximais encontradas de tamanho {tamamho_maxima}: \")\n",
    "    for  clique in cliques_maximais:\n",
    "        if len(clique) == tamamho_maxima:\n",
    "            clique = sorted([int(number) for number in clique])\n",
    "            print(clique)\n",
    "            possiveis_cliques.append(clique)\n",
    "\n",
    "    return tamamho_maxima, possiveis_cliques\n"
   ]
  },
  {
   "cell_type": "code",
   "execution_count": 125,
   "metadata": {},
   "outputs": [],
   "source": [
    "import networkx as nx\n",
    "import random\n",
    "\n",
    "\n",
    "def cria_grafo_sem_print(num_vertices, probabilidade_conexao):\n",
    "    # Crie um grafo aleatório densamente conectado\n",
    "    grafo = nx.fast_gnp_random_graph(num_vertices, probabilidade_conexao)\n",
    "\n",
    "    # Nome do arquivo de saída\n",
    "    nome_arquivo = \"grafo.txt\"\n",
    "\n",
    "    # Abra o arquivo para escrita\n",
    "    with open(nome_arquivo, 'w') as arquivo:\n",
    "        # Escreva a quantidade de vértices e número de arestas na primeira linha\n",
    "        arquivo.write(f\"{num_vertices} {grafo.number_of_edges()}\\n\")\n",
    "\n",
    "        # Escreva as arestas no formato de lista de adjacência\n",
    "        for aresta in grafo.edges():\n",
    "            arquivo.write(f\"{aresta[0]+1} {aresta[1]+1}\\n\")  # +1 para ajustar os índices (começando em 1)\n",
    "\n"
   ]
  },
  {
   "cell_type": "markdown",
   "metadata": {},
   "source": [
    "## Abordagem Exaustiva\n"
   ]
  },
  {
   "cell_type": "code",
   "execution_count": 126,
   "metadata": {},
   "outputs": [
    {
     "name": "stdout",
     "output_type": "stream",
     "text": [
      "Overwriting abordagemExaustiva.cpp\n"
     ]
    }
   ],
   "source": [
    "%%writefile abordagemExaustiva.cpp\n",
    "#include <iostream>\n",
    "#include <fstream>\n",
    "#include <omp.h>\n",
    "#include <vector>\n",
    "using namespace std;\n",
    "\n",
    "\n",
    "// Function declaration\n",
    "void BuscaExaustiva(std::vector<std::vector<int>>& grafo, int numVertices,\n",
    "                    std::vector<int>& cliqueAtual, std::vector<int>& melhorClique,\n",
    "                    int verticeAtual);\n",
    "\n",
    "\n",
    "std::vector<int> EncontrarCliqueMaxima(std::vector<std::vector<int>>& grafo, int numVertices) {\n",
    "    std::vector<int> cliqueMaxima;\n",
    "    std::vector<int> melhorClique;\n",
    "\n",
    "    BuscaExaustiva(grafo, numVertices, cliqueMaxima, melhorClique, 0);\n",
    "\n",
    "    return melhorClique;\n",
    "}\n",
    "\n",
    "void BuscaExaustiva(std::vector<std::vector<int>>& grafo, int numVertices,\n",
    "                    std::vector<int>& cliqueAtual, std::vector<int>& melhorClique,\n",
    "                    int verticeAtual) {\n",
    "    if (verticeAtual == numVertices) {\n",
    "        // Verifica se a clique atual é maior que a melhor encontrada até agora\n",
    "        if (cliqueAtual.size() > melhorClique.size()) {\n",
    "            melhorClique = cliqueAtual;\n",
    "        }\n",
    "        return;\n",
    "    }\n",
    "\n",
    "    // Tenta adicionar o vértice atual \n",
    "    bool podeAdicionar = true;\n",
    "    for (int u : cliqueAtual) {\n",
    "        if (grafo[u][verticeAtual] == 0) {\n",
    "            podeAdicionar = false;\n",
    "            break;\n",
    "        }\n",
    "    }\n",
    "\n",
    "    if (podeAdicionar) {\n",
    "        cliqueAtual.push_back(verticeAtual);\n",
    "        BuscaExaustiva(grafo, numVertices, cliqueAtual, melhorClique, verticeAtual + 1);\n",
    "        cliqueAtual.pop_back(); // Volta ao estado anterior\n",
    "    }\n",
    "\n",
    "    // Continua a busca sem adicionar o vértice atual à clique atual\n",
    "    BuscaExaustiva(grafo, numVertices, cliqueAtual, melhorClique, verticeAtual + 1);\n",
    "}\n",
    "\n",
    "  std::vector<std::vector<int>> LerGrafo(const std::string& nomeArquivo, int& numVertices) {\n",
    "    std::ifstream arquivo(nomeArquivo);\n",
    "    int numArestas;\n",
    "    arquivo >> numVertices >> numArestas;\n",
    "\n",
    "    std::vector<std::vector<int>> grafo(numVertices, std::vector<int>(numVertices, 0));\n",
    "\n",
    "    for (int i = 0; i < numArestas; ++i) {\n",
    "        int u, v;\n",
    "        arquivo >> u >> v;\n",
    "        grafo[u - 1][v - 1] = 1;\n",
    "        grafo[v - 1][u - 1] = 1;  // O grafo é não direcionado\n",
    "    }\n",
    "\n",
    "    arquivo.close();\n",
    "\n",
    "    return grafo;\n",
    "}\n",
    "\n",
    "\n",
    "int main(int numVertices, char* argv[]){\n",
    "\n",
    "  vector<vector<int>> grafo;\n",
    "\n",
    "  grafo = LerGrafo(\"grafo.txt\", numVertices);\n",
    "  \n",
    "  double tdata = omp_get_wtime();\n",
    "\n",
    "  std::vector<int> cliqueMax = EncontrarCliqueMaxima(grafo, numVertices);\n",
    "\n",
    "  tdata = omp_get_wtime() - tdata;\n",
    "\n",
    "\n",
    "\n",
    "  std::cout << \"Clique Máxima: \";\n",
    "  for (auto it = cliqueMax.begin(); it != cliqueMax.end(); ++it) {\n",
    "    std::cout << *it + 1 << \" \";\n",
    "}\n",
    "  std::cout << std::endl;\n",
    "  cout << \"Clique máxima encontrada de tamanho: \" << cliqueMax.size() <<endl;     ;\n",
    "  cout << \"Duração: \" << tdata << endl;\n",
    "  cout << endl;\n",
    "\n",
    "\n",
    "\n",
    "  return 0;\n",
    "}"
   ]
  },
  {
   "cell_type": "code",
   "execution_count": 127,
   "metadata": {},
   "outputs": [
    {
     "name": "stdout",
     "output_type": "stream",
     "text": [
      "Grafo densamente conectado gerado e salvo em 'grafo.txt'.\n",
      "Cliques maximais encontradas de tamanho 9: \n",
      "[20, 41, 46, 52, 60, 62, 84, 99, 100]\n",
      "[20, 35, 41, 46, 52, 60, 62, 99, 100]\n",
      "[2, 20, 35, 41, 46, 60, 62, 85, 100]\n",
      "[20, 41, 52, 60, 62, 84, 90, 99, 100]\n",
      "[20, 41, 42, 52, 60, 84, 90, 99, 100]\n",
      "[20, 27, 42, 47, 60, 84, 91, 99, 100]\n",
      "[20, 27, 42, 47, 60, 84, 90, 99, 100]\n",
      "[20, 27, 33, 42, 47, 60, 84, 90, 99]\n",
      "[20, 27, 41, 42, 60, 84, 90, 99, 100]\n",
      "[4, 15, 17, 18, 26, 67, 72, 74, 85]\n",
      "[16, 20, 34, 35, 41, 71, 82, 85, 96]\n",
      "[1, 9, 31, 32, 37, 54, 71, 72, 85]\n",
      "[1, 32, 37, 49, 54, 71, 72, 85, 93]\n",
      "[15, 17, 21, 25, 33, 61, 68, 70, 79]\n",
      "[15, 17, 21, 25, 30, 33, 61, 68, 70]\n",
      "[15, 17, 21, 25, 30, 33, 61, 70, 95]\n",
      "[10, 17, 25, 30, 33, 44, 61, 70, 90]\n",
      "[9, 30, 31, 34, 37, 54, 71, 72, 85]\n",
      "[1, 9, 30, 31, 37, 54, 71, 72, 85]\n"
     ]
    }
   ],
   "source": [
    "tamanho_maximo, possiveis_cliques = cria_grafo(100, 0.5)"
   ]
  },
  {
   "cell_type": "code",
   "execution_count": 128,
   "metadata": {},
   "outputs": [
    {
     "name": "stdout",
     "output_type": "stream",
     "text": [
      "Clique Máxima: 1 9 30 31 37 54 71 72 85 \n",
      "Clique máxima encontrada de tamanho: 9\n",
      "Duração: 0.0903164\n",
      "\n"
     ]
    }
   ],
   "source": [
    "%%bash\n",
    "g++ -Wall -o3 -g -fopenmp abordagemExaustiva.cpp -o abordagemExaustiva \n",
    "./abordagemExaustiva tamanho_maximo "
   ]
  },
  {
   "cell_type": "markdown",
   "metadata": {},
   "source": [
    "## Checando confiabilidade da abordagemExaustiva:"
   ]
  },
  {
   "cell_type": "code",
   "execution_count": 129,
   "metadata": {},
   "outputs": [
    {
     "name": "stdout",
     "output_type": "stream",
     "text": [
      "Grafo densamente conectado gerado e salvo em 'grafo.txt'.\n",
      "Cliques maximais encontradas de tamanho 6: \n",
      "[2, 3, 5, 7, 9, 10]\n",
      "[2, 3, 4, 7, 9, 10]\n",
      "Grafo densamente conectado gerado e salvo em 'grafo.txt'.\n",
      "Cliques maximais encontradas de tamanho 6: \n",
      "[2, 3, 4, 9, 10, 11]\n",
      "Grafo densamente conectado gerado e salvo em 'grafo.txt'.\n",
      "Cliques maximais encontradas de tamanho 5: \n",
      "[4, 5, 6, 7, 11]\n",
      "[2, 4, 5, 6, 7]\n",
      "[4, 5, 6, 8, 11]\n",
      "[5, 6, 7, 9, 11]\n",
      "[5, 6, 8, 9, 11]\n",
      "[1, 4, 5, 7, 11]\n",
      "[1, 2, 4, 5, 7]\n",
      "[1, 4, 5, 8, 11]\n",
      "[1, 5, 7, 9, 11]\n",
      "[1, 5, 8, 9, 11]\n",
      "[5, 7, 9, 10, 11]\n",
      "[5, 8, 9, 10, 11]\n",
      "Grafo densamente conectado gerado e salvo em 'grafo.txt'.\n",
      "Cliques maximais encontradas de tamanho 7: \n",
      "[3, 5, 6, 7, 8, 11, 12]\n",
      "[4, 5, 6, 7, 8, 11, 12]\n",
      "[2, 3, 6, 7, 8, 11, 12]\n",
      "[2, 4, 6, 7, 8, 9, 13]\n",
      "[2, 4, 6, 7, 8, 11, 12]\n",
      "[2, 4, 6, 7, 8, 9, 11]\n",
      "Grafo densamente conectado gerado e salvo em 'grafo.txt'.\n",
      "Cliques maximais encontradas de tamanho 6: \n",
      "[3, 4, 8, 9, 10, 11]\n",
      "[2, 3, 6, 7, 13, 14]\n",
      "[1, 3, 8, 12, 13, 14]\n",
      "[3, 8, 11, 12, 13, 14]\n",
      "[3, 8, 10, 11, 13, 14]\n",
      "[3, 8, 9, 10, 11, 14]\n",
      "Grafo densamente conectado gerado e salvo em 'grafo.txt'.\n",
      "Cliques maximais encontradas de tamanho 6: \n",
      "[1, 2, 5, 6, 13, 14]\n",
      "[4, 5, 9, 10, 11, 13]\n",
      "[2, 4, 5, 9, 11, 13]\n",
      "[2, 4, 7, 9, 11, 13]\n",
      "[2, 7, 9, 11, 13, 15]\n",
      "Grafo densamente conectado gerado e salvo em 'grafo.txt'.\n",
      "Cliques maximais encontradas de tamanho 7: \n",
      "[2, 4, 7, 9, 13, 14, 16]\n",
      "[2, 4, 7, 9, 13, 15, 16]\n",
      "Grafo densamente conectado gerado e salvo em 'grafo.txt'.\n",
      "Cliques maximais encontradas de tamanho 6: \n",
      "[5, 6, 8, 9, 13, 16]\n",
      "[4, 5, 8, 9, 13, 16]\n",
      "[1, 3, 4, 5, 9, 11]\n",
      "[1, 3, 5, 9, 10, 11]\n",
      "[5, 6, 8, 12, 16, 17]\n",
      "[5, 6, 12, 14, 16, 17]\n",
      "[5, 6, 8, 13, 16, 17]\n",
      "[4, 5, 8, 13, 16, 17]\n",
      "[1, 3, 4, 5, 11, 17]\n",
      "[1, 3, 5, 10, 11, 17]\n",
      "Grafo densamente conectado gerado e salvo em 'grafo.txt'.\n",
      "Cliques maximais encontradas de tamanho 6: \n",
      "[3, 5, 6, 8, 16, 18]\n",
      "[5, 9, 10, 14, 17, 18]\n",
      "[2, 4, 7, 12, 14, 16]\n",
      "[2, 4, 7, 10, 12, 14]\n",
      "[2, 4, 7, 11, 14, 16]\n",
      "[2, 4, 7, 10, 11, 14]\n",
      "[2, 7, 10, 11, 14, 17]\n",
      "Grafo densamente conectado gerado e salvo em 'grafo.txt'.\n",
      "Cliques maximais encontradas de tamanho 7: \n",
      "[1, 2, 5, 8, 11, 12, 18]\n",
      "[1, 2, 4, 8, 11, 12, 16]\n",
      "[1, 2, 4, 8, 11, 16, 19]\n",
      "[1, 4, 8, 9, 12, 13, 16]\n",
      "[1, 4, 8, 9, 13, 16, 19]\n",
      "[1, 2, 5, 8, 9, 12, 18]\n",
      "[1, 2, 4, 8, 9, 12, 16]\n",
      "[1, 2, 4, 8, 9, 16, 19]\n",
      "Grafo densamente conectado gerado e salvo em 'grafo.txt'.\n",
      "Cliques maximais encontradas de tamanho 7: \n",
      "[7, 12, 13, 14, 16, 17, 18]\n",
      "[7, 10, 12, 14, 16, 17, 18]\n",
      "[7, 12, 13, 14, 15, 17, 18]\n",
      "[7, 10, 12, 14, 15, 17, 18]\n",
      "[1, 2, 3, 6, 7, 12, 14]\n",
      "[2, 6, 7, 12, 13, 14, 16]\n",
      "[2, 3, 6, 7, 12, 14, 16]\n",
      "[2, 6, 7, 10, 12, 14, 16]\n",
      "[2, 6, 7, 12, 13, 14, 15]\n",
      "[2, 3, 6, 7, 12, 14, 15]\n",
      "[2, 6, 7, 10, 12, 14, 15]\n",
      "[1, 2, 3, 6, 7, 9, 12]\n",
      "[2, 3, 6, 7, 9, 12, 16]\n",
      "[2, 3, 6, 7, 9, 12, 15]\n",
      "[2, 6, 7, 9, 10, 12, 16]\n",
      "[2, 6, 7, 9, 10, 12, 15]\n",
      "[2, 7, 11, 12, 13, 16, 18]\n",
      "[2, 7, 10, 11, 12, 16, 18]\n",
      "[2, 7, 11, 12, 13, 15, 18]\n",
      "[2, 7, 10, 11, 12, 15, 18]\n",
      "[2, 7, 12, 13, 14, 16, 18]\n",
      "[2, 7, 10, 12, 14, 16, 18]\n",
      "[2, 7, 12, 13, 14, 15, 18]\n",
      "[2, 7, 10, 12, 14, 15, 18]\n",
      "[1, 2, 3, 7, 9, 11, 12]\n",
      "[2, 3, 7, 9, 11, 12, 16]\n",
      "[2, 3, 7, 9, 11, 12, 15]\n",
      "[2, 7, 9, 10, 11, 12, 16]\n",
      "[2, 7, 9, 10, 11, 12, 15]\n",
      "[1, 2, 3, 5, 6, 12, 14]\n",
      "[1, 2, 3, 5, 6, 9, 12]\n",
      "[1, 2, 3, 5, 9, 11, 12]\n",
      "[5, 12, 13, 14, 15, 17, 18]\n",
      "[5, 10, 12, 14, 15, 17, 18]\n",
      "[2, 3, 5, 6, 9, 12, 15]\n",
      "[2, 5, 6, 9, 10, 12, 15]\n",
      "[2, 5, 6, 12, 13, 14, 15]\n",
      "[2, 3, 5, 6, 12, 14, 15]\n",
      "[2, 5, 6, 10, 12, 14, 15]\n",
      "[2, 5, 11, 12, 13, 15, 18]\n",
      "[2, 5, 12, 13, 14, 15, 18]\n",
      "[2, 5, 10, 11, 12, 15, 18]\n",
      "[2, 5, 10, 12, 14, 15, 18]\n",
      "[2, 3, 5, 9, 11, 12, 15]\n",
      "[2, 5, 9, 10, 11, 12, 15]\n",
      "[2, 3, 6, 12, 14, 15, 20]\n",
      "[2, 3, 6, 9, 12, 15, 20]\n",
      "Grafo densamente conectado gerado e salvo em 'grafo.txt'.\n",
      "Cliques maximais encontradas de tamanho 8: \n",
      "[1, 2, 11, 12, 15, 17, 20, 21]\n",
      "Grafo densamente conectado gerado e salvo em 'grafo.txt'.\n",
      "Cliques maximais encontradas de tamanho 8: \n",
      "[2, 4, 5, 8, 10, 12, 18, 20]\n",
      "[2, 4, 5, 10, 12, 14, 18, 20]\n",
      "[2, 4, 5, 8, 10, 12, 18, 19]\n",
      "[2, 5, 10, 12, 14, 17, 18, 20]\n",
      "[1, 3, 8, 10, 12, 18, 20, 22]\n",
      "[2, 3, 8, 10, 12, 18, 19, 22]\n",
      "[2, 3, 8, 10, 12, 18, 20, 22]\n",
      "[2, 3, 10, 12, 14, 17, 18, 20]\n",
      "[2, 3, 8, 9, 11, 15, 19, 21]\n",
      "[1, 4, 8, 10, 12, 18, 20, 22]\n",
      "[2, 4, 8, 10, 12, 18, 20, 22]\n",
      "[2, 4, 8, 10, 12, 18, 19, 22]\n",
      "Grafo densamente conectado gerado e salvo em 'grafo.txt'.\n",
      "Cliques maximais encontradas de tamanho 7: \n",
      "[3, 5, 12, 18, 19, 21, 22]\n",
      "[3, 7, 12, 13, 18, 20, 21]\n",
      "[3, 6, 7, 13, 18, 20, 21]\n",
      "[3, 7, 8, 13, 18, 20, 21]\n",
      "[3, 5, 8, 18, 19, 21, 22]\n",
      "[1, 3, 4, 6, 11, 17, 23]\n",
      "[1, 2, 3, 4, 6, 11, 17]\n",
      "[1, 3, 4, 10, 17, 19, 23]\n",
      "[1, 2, 3, 4, 10, 17, 19]\n",
      "[3, 4, 6, 7, 13, 18, 20]\n",
      "[3, 4, 7, 8, 13, 18, 20]\n",
      "[3, 4, 5, 8, 13, 18, 23]\n",
      "[3, 4, 5, 17, 18, 19, 23]\n",
      "[3, 4, 5, 11, 17, 18, 23]\n",
      "[3, 4, 5, 8, 18, 19, 23]\n",
      "[3, 4, 6, 11, 17, 18, 23]\n",
      "[3, 4, 10, 17, 18, 19, 23]\n",
      "[3, 4, 5, 8, 18, 19, 22]\n",
      "[3, 4, 5, 8, 13, 15, 23]\n",
      "[1, 4, 6, 11, 16, 17, 23]\n",
      "[1, 2, 4, 6, 11, 16, 17]\n",
      "[4, 5, 8, 13, 14, 18, 23]\n",
      "[4, 7, 8, 13, 14, 18, 20]\n",
      "Grafo densamente conectado gerado e salvo em 'grafo.txt'.\n",
      "Cliques maximais encontradas de tamanho 9: \n",
      "[2, 3, 5, 8, 10, 13, 18, 21, 23]\n",
      "Grafo densamente conectado gerado e salvo em 'grafo.txt'.\n",
      "Cliques maximais encontradas de tamanho 8: \n",
      "[4, 6, 7, 11, 16, 18, 23, 25]\n",
      "[4, 6, 7, 11, 14, 16, 23, 25]\n",
      "[6, 7, 11, 16, 18, 20, 23, 25]\n",
      "[6, 7, 11, 14, 16, 20, 23, 25]\n",
      "[4, 7, 10, 11, 16, 18, 23, 25]\n",
      "[4, 7, 10, 11, 14, 16, 23, 25]\n",
      "[4, 7, 8, 10, 14, 16, 23, 25]\n",
      "[7, 10, 11, 16, 18, 20, 23, 25]\n",
      "[7, 10, 11, 14, 16, 20, 23, 25]\n",
      "Grafo densamente conectado gerado e salvo em 'grafo.txt'.\n",
      "Cliques maximais encontradas de tamanho 10: \n",
      "[5, 6, 7, 14, 15, 18, 19, 22, 24, 26]\n",
      "[5, 6, 7, 9, 14, 15, 18, 19, 22, 24]\n",
      "Grafo densamente conectado gerado e salvo em 'grafo.txt'.\n",
      "Cliques maximais encontradas de tamanho 8: \n",
      "[1, 2, 7, 8, 12, 20, 22, 27]\n",
      "[2, 3, 7, 8, 12, 20, 22, 27]\n",
      "[2, 8, 12, 14, 19, 20, 21, 22]\n",
      "[1, 2, 8, 12, 18, 19, 20, 22]\n",
      "[2, 8, 12, 14, 18, 19, 20, 22]\n",
      "[9, 11, 13, 14, 15, 17, 18, 25]\n",
      "[1, 7, 11, 13, 16, 20, 24, 26]\n",
      "[3, 11, 13, 16, 17, 18, 20, 23]\n",
      "[5, 11, 13, 14, 16, 17, 20, 23]\n",
      "[11, 13, 14, 16, 17, 18, 20, 23]\n",
      "[1, 2, 7, 11, 13, 16, 20, 26]\n",
      "[2, 5, 11, 13, 14, 16, 20, 23]\n",
      "[1, 2, 11, 13, 16, 18, 20, 23]\n",
      "[2, 3, 11, 13, 16, 18, 20, 23]\n",
      "[2, 11, 13, 14, 16, 18, 20, 23]\n",
      "[1, 2, 11, 13, 16, 20, 23, 26]\n",
      "[2, 11, 13, 14, 16, 20, 23, 26]\n",
      "[11, 13, 14, 15, 17, 18, 19, 25]\n",
      "[5, 11, 13, 14, 15, 16, 17, 23]\n",
      "[11, 13, 14, 15, 16, 17, 18, 23]\n",
      "Grafo densamente conectado gerado e salvo em 'grafo.txt'.\n",
      "Cliques maximais encontradas de tamanho 9: \n",
      "[1, 3, 10, 11, 12, 23, 24, 26, 27]\n",
      "Grafo densamente conectado gerado e salvo em 'grafo.txt'.\n",
      "Cliques maximais encontradas de tamanho 9: \n",
      "[4, 5, 9, 10, 11, 17, 18, 27, 28]\n",
      "[4, 5, 9, 10, 11, 17, 18, 24, 28]\n",
      "[2, 4, 5, 7, 9, 10, 17, 27, 28]\n",
      "[2, 4, 5, 9, 10, 11, 17, 27, 28]\n",
      "[2, 4, 5, 9, 10, 11, 17, 24, 28]\n",
      "[2, 4, 5, 7, 9, 10, 17, 25, 27]\n",
      "[2, 4, 5, 9, 10, 17, 23, 25, 27]\n",
      "[2, 4, 5, 9, 10, 17, 23, 24, 25]\n",
      "Grafo densamente conectado gerado e salvo em 'grafo.txt'.\n",
      "Cliques maximais encontradas de tamanho 10: \n",
      "[4, 5, 7, 9, 12, 18, 23, 26, 28, 30]\n",
      "[4, 5, 7, 8, 9, 12, 22, 26, 28, 30]\n",
      "[3, 5, 12, 17, 20, 21, 23, 26, 29, 30]\n",
      "[3, 5, 12, 17, 21, 23, 25, 26, 29, 30]\n",
      "Grafo densamente conectado gerado e salvo em 'grafo.txt'.\n",
      "Cliques maximais encontradas de tamanho 9: \n",
      "[5, 12, 15, 16, 19, 22, 25, 29, 30]\n",
      "[5, 9, 12, 16, 19, 22, 25, 29, 30]\n",
      "Grafo densamente conectado gerado e salvo em 'grafo.txt'.\n",
      "Cliques maximais encontradas de tamanho 11: \n",
      "[5, 6, 10, 13, 17, 19, 20, 23, 24, 25, 27]\n",
      "[4, 6, 10, 11, 14, 17, 20, 22, 23, 24, 30]\n",
      "[4, 6, 10, 11, 14, 17, 20, 22, 23, 24, 25]\n",
      "[6, 10, 11, 14, 17, 19, 20, 22, 23, 24, 25]\n",
      "[5, 10, 13, 17, 19, 20, 23, 24, 25, 27, 29]\n",
      "[10, 13, 17, 19, 20, 23, 24, 25, 26, 27, 29]\n",
      "[10, 13, 15, 17, 20, 23, 24, 26, 27, 29, 30]\n",
      "[4, 10, 15, 17, 20, 23, 24, 26, 27, 29, 30]\n",
      "[4, 10, 14, 15, 17, 20, 23, 24, 27, 29, 30]\n",
      "[10, 13, 15, 17, 19, 20, 23, 24, 26, 27, 29]\n",
      "[10, 13, 17, 19, 20, 22, 23, 24, 25, 26, 29]\n",
      "Grafo densamente conectado gerado e salvo em 'grafo.txt'.\n",
      "Cliques maximais encontradas de tamanho 10: \n",
      "[3, 4, 10, 11, 15, 20, 21, 24, 28, 31]\n",
      "Grafo densamente conectado gerado e salvo em 'grafo.txt'.\n",
      "Cliques maximais encontradas de tamanho 9: \n",
      "[2, 6, 7, 8, 12, 13, 22, 27, 28]\n",
      "[3, 10, 11, 17, 18, 21, 25, 26, 30]\n",
      "[4, 5, 7, 12, 14, 20, 23, 25, 32]\n",
      "[6, 7, 12, 13, 14, 20, 22, 28, 32]\n",
      "[7, 12, 13, 14, 20, 22, 28, 29, 32]\n",
      "[7, 12, 13, 14, 15, 20, 22, 28, 32]\n",
      "[6, 7, 13, 14, 20, 22, 28, 31, 32]\n",
      "[7, 13, 14, 20, 22, 28, 29, 31, 32]\n",
      "[7, 13, 14, 15, 20, 22, 28, 31, 32]\n",
      "[6, 7, 13, 14, 16, 20, 22, 31, 32]\n",
      "[7, 13, 14, 16, 20, 22, 29, 31, 32]\n",
      "[7, 13, 14, 15, 16, 20, 22, 31, 32]\n",
      "Grafo densamente conectado gerado e salvo em 'grafo.txt'.\n",
      "Cliques maximais encontradas de tamanho 10: \n",
      "[1, 13, 15, 16, 22, 25, 28, 31, 32, 33]\n",
      "[1, 11, 13, 15, 16, 25, 28, 31, 32, 33]\n",
      "[1, 9, 11, 13, 15, 16, 28, 31, 32, 33]\n",
      "[9, 11, 13, 14, 15, 16, 28, 31, 32, 33]\n",
      "[2, 6, 8, 11, 13, 14, 15, 19, 28, 30]\n",
      "[2, 5, 6, 8, 11, 14, 19, 21, 28, 30]\n",
      "[2, 5, 6, 11, 14, 19, 21, 28, 29, 30]\n",
      "Grafo densamente conectado gerado e salvo em 'grafo.txt'.\n",
      "Cliques maximais encontradas de tamanho 10: \n",
      "[5, 6, 7, 10, 12, 22, 25, 27, 28, 35]\n",
      "[1, 2, 6, 7, 12, 13, 22, 27, 31, 35]\n",
      "[5, 6, 7, 10, 12, 13, 22, 25, 27, 35]\n",
      "[2, 6, 7, 12, 13, 22, 25, 27, 31, 35]\n",
      "[1, 2, 6, 7, 12, 13, 17, 27, 31, 35]\n",
      "[1, 4, 6, 7, 10, 14, 15, 17, 20, 27]\n",
      "[1, 7, 10, 12, 13, 17, 27, 32, 34, 35]\n",
      "[1, 2, 7, 12, 13, 17, 27, 32, 34, 35]\n",
      "[1, 2, 7, 12, 13, 17, 27, 31, 34, 35]\n",
      "[1, 2, 12, 13, 17, 27, 30, 31, 34, 35]\n",
      "[1, 10, 12, 13, 17, 27, 30, 32, 34, 35]\n",
      "[1, 2, 12, 13, 17, 27, 30, 32, 34, 35]\n",
      "Grafo densamente conectado gerado e salvo em 'grafo.txt'.\n",
      "Cliques maximais encontradas de tamanho 10: \n",
      "[3, 9, 12, 19, 23, 25, 27, 31, 32, 35]\n",
      "[3, 5, 9, 12, 17, 19, 23, 27, 31, 35]\n",
      "[3, 9, 12, 17, 19, 23, 25, 27, 31, 35]\n",
      "[3, 9, 12, 16, 19, 27, 31, 32, 33, 35]\n",
      "[3, 9, 12, 16, 19, 25, 27, 31, 32, 35]\n",
      "[3, 5, 9, 12, 16, 19, 27, 31, 33, 35]\n",
      "[3, 5, 9, 12, 16, 17, 19, 27, 31, 35]\n",
      "[3, 9, 12, 16, 17, 19, 25, 27, 31, 35]\n",
      "[3, 12, 15, 19, 22, 23, 27, 31, 32, 35]\n",
      "[3, 12, 15, 19, 22, 27, 31, 32, 33, 35]\n",
      "[8, 9, 11, 12, 13, 23, 25, 30, 35, 36]\n",
      "[4, 8, 9, 11, 12, 13, 23, 25, 30, 36]\n",
      "[8, 9, 11, 12, 13, 16, 25, 30, 35, 36]\n",
      "[4, 8, 9, 11, 12, 13, 16, 25, 30, 36]\n",
      "[3, 8, 12, 15, 19, 22, 31, 33, 34, 35]\n",
      "[3, 8, 9, 12, 19, 23, 25, 31, 32, 35]\n",
      "[3, 8, 9, 12, 16, 19, 31, 32, 33, 35]\n",
      "[3, 8, 9, 12, 16, 19, 25, 31, 32, 35]\n",
      "[3, 8, 12, 15, 19, 22, 23, 31, 32, 35]\n",
      "[3, 8, 12, 15, 19, 22, 31, 32, 33, 35]\n",
      "[3, 8, 9, 12, 17, 19, 23, 25, 31, 35]\n",
      "[3, 8, 9, 12, 16, 17, 19, 25, 31, 35]\n",
      "[8, 12, 13, 15, 19, 22, 26, 33, 34, 35]\n",
      "[8, 12, 15, 19, 22, 26, 31, 33, 34, 35]\n",
      "[3, 8, 9, 14, 19, 23, 25, 31, 32, 35]\n",
      "[3, 8, 9, 14, 16, 19, 25, 31, 32, 35]\n",
      "[3, 8, 9, 14, 17, 19, 23, 25, 31, 35]\n",
      "[3, 8, 9, 14, 16, 17, 19, 25, 31, 35]\n",
      "Grafo densamente conectado gerado e salvo em 'grafo.txt'.\n",
      "Cliques maximais encontradas de tamanho 11: \n",
      "[1, 7, 10, 11, 12, 16, 18, 27, 31, 33, 38]\n",
      "[5, 6, 9, 10, 11, 16, 20, 29, 30, 32, 33]\n",
      "Grafo densamente conectado gerado e salvo em 'grafo.txt'.\n",
      "Cliques maximais encontradas de tamanho 10: \n",
      "[3, 14, 16, 18, 24, 27, 28, 31, 36, 38]\n",
      "Grafo densamente conectado gerado e salvo em 'grafo.txt'.\n",
      "Cliques maximais encontradas de tamanho 11: \n",
      "[2, 4, 5, 9, 11, 16, 20, 21, 27, 36, 39]\n",
      "Grafo densamente conectado gerado e salvo em 'grafo.txt'.\n",
      "Cliques maximais encontradas de tamanho 10: \n",
      "[2, 4, 9, 24, 25, 27, 29, 33, 36, 41]\n",
      "[2, 5, 11, 24, 25, 28, 29, 31, 33, 41]\n",
      "[4, 9, 10, 24, 25, 27, 29, 33, 36, 39]\n",
      "[2, 4, 9, 10, 24, 25, 27, 29, 33, 36]\n",
      "[4, 9, 10, 24, 25, 27, 33, 36, 37, 39]\n",
      "[2, 4, 9, 10, 24, 25, 27, 33, 36, 37]\n",
      "Grafo densamente conectado gerado e salvo em 'grafo.txt'.\n",
      "Cliques maximais encontradas de tamanho 10: \n",
      "[7, 8, 12, 15, 19, 21, 25, 26, 28, 42]\n",
      "[7, 8, 12, 15, 19, 21, 25, 26, 36, 42]\n",
      "[8, 12, 15, 19, 21, 24, 26, 28, 29, 42]\n",
      "[8, 12, 15, 19, 21, 24, 26, 28, 29, 37]\n",
      "[8, 15, 19, 21, 22, 23, 28, 29, 32, 37]\n",
      "[7, 8, 15, 19, 21, 23, 25, 26, 28, 42]\n",
      "[7, 8, 15, 19, 21, 23, 25, 26, 36, 42]\n",
      "[8, 15, 19, 21, 22, 23, 26, 28, 29, 37]\n",
      "[6, 7, 13, 15, 16, 22, 23, 26, 35, 40]\n",
      "[6, 7, 13, 15, 16, 23, 26, 35, 36, 40]\n",
      "[7, 8, 15, 19, 23, 25, 26, 28, 35, 42]\n",
      "[6, 7, 13, 15, 16, 23, 25, 26, 35, 36]\n",
      "[6, 7, 13, 15, 20, 23, 25, 26, 35, 36]\n",
      "[6, 7, 15, 16, 23, 25, 26, 35, 36, 42]\n",
      "[3, 7, 15, 16, 23, 25, 26, 35, 36, 42]\n",
      "[7, 15, 16, 19, 23, 25, 26, 35, 36, 42]\n",
      "[7, 8, 15, 19, 23, 25, 26, 35, 36, 42]\n",
      "[8, 15, 19, 21, 22, 24, 26, 28, 29, 37]\n",
      "[1, 3, 16, 23, 26, 29, 34, 35, 36, 40]\n",
      "[1, 3, 4, 14, 17, 18, 23, 30, 31, 34]\n",
      "[1, 4, 14, 17, 18, 19, 23, 30, 31, 34]\n",
      "[1, 4, 14, 17, 18, 19, 23, 30, 31, 37]\n",
      "Grafo densamente conectado gerado e salvo em 'grafo.txt'.\n",
      "Cliques maximais encontradas de tamanho 10: \n",
      "[4, 6, 7, 8, 15, 17, 29, 32, 33, 35]\n",
      "[4, 6, 7, 8, 15, 16, 17, 29, 32, 37]\n",
      "[2, 3, 7, 8, 14, 19, 25, 28, 30, 36]\n",
      "[2, 3, 7, 8, 14, 19, 25, 30, 36, 39]\n",
      "[2, 3, 7, 8, 11, 19, 25, 30, 36, 39]\n",
      "[3, 4, 7, 8, 16, 17, 25, 32, 37, 39]\n",
      "[3, 4, 7, 8, 15, 16, 17, 32, 37, 39]\n",
      "[3, 4, 7, 8, 15, 16, 17, 29, 32, 37]\n",
      "[4, 6, 7, 15, 17, 29, 32, 33, 35, 42]\n",
      "Grafo densamente conectado gerado e salvo em 'grafo.txt'.\n",
      "Cliques maximais encontradas de tamanho 11: \n",
      "[2, 4, 5, 10, 11, 15, 17, 22, 28, 40, 43]\n",
      "[2, 5, 10, 11, 14, 15, 17, 22, 28, 40, 43]\n",
      "[2, 3, 5, 10, 11, 14, 15, 17, 22, 40, 43]\n",
      "[2, 5, 10, 11, 14, 15, 17, 22, 25, 40, 43]\n",
      "[2, 4, 10, 11, 15, 17, 18, 22, 28, 40, 43]\n",
      "[2, 4, 10, 11, 18, 22, 28, 29, 35, 40, 41]\n",
      "Grafo densamente conectado gerado e salvo em 'grafo.txt'.\n",
      "Cliques maximais encontradas de tamanho 12: \n",
      "[1, 3, 6, 7, 8, 16, 21, 25, 31, 41, 43, 44]\n",
      "Grafo densamente conectado gerado e salvo em 'grafo.txt'.\n",
      "Cliques maximais encontradas de tamanho 12: \n",
      "[6, 9, 11, 13, 14, 16, 20, 21, 27, 32, 37, 46]\n",
      "[6, 9, 11, 13, 14, 16, 20, 21, 27, 32, 35, 37]\n",
      "Grafo densamente conectado gerado e salvo em 'grafo.txt'.\n",
      "Cliques maximais encontradas de tamanho 11: \n",
      "[1, 3, 6, 12, 17, 22, 25, 29, 36, 40, 42]\n",
      "[1, 3, 6, 12, 17, 21, 22, 25, 29, 40, 42]\n",
      "[1, 3, 6, 17, 22, 24, 25, 29, 36, 40, 42]\n",
      "[1, 3, 6, 17, 21, 22, 24, 25, 29, 40, 42]\n",
      "Grafo densamente conectado gerado e salvo em 'grafo.txt'.\n",
      "Cliques maximais encontradas de tamanho 12: \n",
      "[1, 3, 7, 9, 13, 15, 22, 26, 42, 43, 44, 48]\n",
      "Grafo densamente conectado gerado e salvo em 'grafo.txt'.\n",
      "Cliques maximais encontradas de tamanho 13: \n",
      "[1, 9, 13, 15, 21, 22, 27, 28, 37, 39, 42, 43, 47]\n",
      "[1, 9, 12, 13, 15, 21, 22, 28, 38, 39, 42, 47, 49]\n",
      "Grafo densamente conectado gerado e salvo em 'grafo.txt'.\n",
      "Cliques maximais encontradas de tamanho 11: \n",
      "[2, 6, 9, 21, 22, 27, 30, 37, 38, 43, 48]\n",
      "[2, 6, 21, 22, 23, 25, 27, 38, 40, 43, 48]\n",
      "[2, 6, 9, 21, 22, 23, 25, 27, 38, 43, 48]\n",
      "[2, 6, 9, 21, 22, 25, 27, 37, 38, 43, 48]\n",
      "[2, 6, 19, 22, 23, 25, 27, 38, 40, 43, 48]\n",
      "[2, 6, 12, 18, 30, 32, 35, 38, 43, 48, 49]\n",
      "[2, 6, 12, 18, 30, 35, 38, 39, 43, 48, 49]\n",
      "[2, 6, 18, 21, 22, 23, 25, 38, 40, 43, 48]\n",
      "[2, 6, 18, 21, 23, 29, 38, 39, 40, 43, 48]\n",
      "[2, 4, 6, 18, 21, 22, 23, 25, 38, 40, 48]\n",
      "[2, 4, 6, 18, 21, 23, 29, 38, 39, 40, 48]\n",
      "[2, 4, 6, 12, 19, 30, 32, 38, 42, 48, 49]\n",
      "[2, 4, 6, 19, 30, 32, 38, 40, 42, 48, 49]\n",
      "[2, 4, 6, 19, 22, 30, 38, 40, 42, 48, 49]\n",
      "[2, 6, 9, 21, 22, 23, 25, 27, 36, 38, 43]\n",
      "[2, 4, 10, 19, 22, 23, 26, 38, 40, 42, 48]\n",
      "[2, 4, 10, 19, 22, 23, 25, 26, 38, 40, 48]\n",
      "[2, 4, 10, 19, 22, 30, 38, 40, 42, 48, 49]\n",
      "[2, 4, 10, 19, 22, 26, 30, 38, 40, 42, 48]\n",
      "Grafo densamente conectado gerado e salvo em 'grafo.txt'.\n",
      "Cliques maximais encontradas de tamanho 11: \n",
      "[11, 13, 22, 25, 27, 34, 39, 42, 44, 45, 50]\n",
      "[7, 8, 21, 24, 28, 30, 33, 34, 40, 41, 47]\n",
      "Grafo densamente conectado gerado e salvo em 'grafo.txt'.\n",
      "Cliques maximais encontradas de tamanho 12: \n",
      "[4, 9, 11, 13, 14, 22, 29, 30, 34, 35, 43, 46]\n",
      "[4, 5, 9, 11, 13, 14, 22, 30, 34, 35, 43, 46]\n",
      "Grafo densamente conectado gerado e salvo em 'grafo.txt'.\n",
      "Cliques maximais encontradas de tamanho 12: \n",
      "[3, 4, 6, 10, 19, 24, 31, 32, 35, 43, 46, 51]\n",
      "[3, 10, 19, 24, 27, 31, 32, 33, 35, 42, 43, 46]\n",
      "[3, 10, 16, 19, 24, 25, 27, 31, 32, 33, 42, 43]\n",
      "[3, 4, 10, 19, 24, 31, 32, 33, 35, 43, 46, 51]\n",
      "[3, 4, 6, 10, 19, 21, 24, 31, 35, 43, 46, 51]\n",
      "[3, 4, 10, 19, 21, 24, 31, 33, 35, 43, 46, 51]\n",
      "Grafo densamente conectado gerado e salvo em 'grafo.txt'.\n",
      "Cliques maximais encontradas de tamanho 12: \n",
      "[2, 11, 15, 20, 25, 29, 35, 36, 37, 43, 44, 48]\n",
      "[1, 7, 22, 28, 30, 31, 32, 33, 34, 38, 51, 54]\n",
      "[6, 7, 13, 14, 15, 20, 25, 26, 29, 33, 37, 44]\n",
      "Grafo densamente conectado gerado e salvo em 'grafo.txt'.\n",
      "Cliques maximais encontradas de tamanho 12: \n",
      "[4, 15, 20, 24, 27, 32, 35, 36, 42, 44, 45, 47]\n",
      "Grafo densamente conectado gerado e salvo em 'grafo.txt'.\n",
      "Cliques maximais encontradas de tamanho 12: \n",
      "[22, 25, 27, 29, 33, 38, 39, 44, 47, 49, 51, 54]\n",
      "[22, 25, 27, 29, 33, 36, 39, 44, 47, 49, 51, 54]\n",
      "[22, 25, 27, 29, 30, 33, 36, 39, 44, 49, 51, 54]\n",
      "[22, 26, 27, 30, 33, 36, 39, 42, 44, 49, 51, 54]\n",
      "[22, 25, 27, 30, 33, 36, 39, 42, 44, 49, 51, 54]\n",
      "Grafo densamente conectado gerado e salvo em 'grafo.txt'.\n",
      "Cliques maximais encontradas de tamanho 12: \n",
      "[1, 4, 13, 15, 20, 23, 32, 43, 44, 46, 49, 53]\n",
      "[1, 4, 9, 13, 16, 20, 23, 32, 44, 46, 49, 50]\n",
      "[1, 4, 13, 15, 16, 20, 23, 32, 44, 46, 49, 50]\n",
      "Grafo densamente conectado gerado e salvo em 'grafo.txt'.\n",
      "Cliques maximais encontradas de tamanho 12: \n",
      "[3, 7, 12, 23, 25, 26, 28, 29, 32, 44, 55, 58]\n",
      "[3, 7, 12, 20, 23, 25, 26, 29, 32, 44, 55, 58]\n",
      "[3, 7, 12, 20, 23, 26, 27, 32, 41, 44, 55, 58]\n",
      "[3, 7, 12, 27, 32, 41, 44, 46, 51, 53, 55, 58]\n",
      "[3, 7, 12, 20, 27, 32, 41, 44, 46, 53, 55, 58]\n",
      "[3, 7, 12, 20, 26, 27, 32, 41, 44, 53, 55, 58]\n",
      "[7, 12, 19, 27, 32, 41, 44, 46, 50, 51, 53, 55]\n",
      "[3, 7, 12, 19, 27, 32, 41, 44, 46, 51, 53, 55]\n",
      "[7, 12, 19, 21, 27, 32, 41, 44, 46, 51, 53, 55]\n",
      "[7, 12, 19, 20, 27, 32, 41, 44, 46, 50, 53, 55]\n",
      "[3, 7, 12, 19, 20, 27, 32, 41, 44, 46, 53, 55]\n",
      "[7, 12, 19, 20, 26, 27, 32, 41, 44, 50, 53, 55]\n",
      "[3, 7, 12, 19, 20, 26, 27, 32, 41, 44, 53, 55]\n",
      "Grafo densamente conectado gerado e salvo em 'grafo.txt'.\n",
      "Cliques maximais encontradas de tamanho 13: \n",
      "[6, 7, 21, 22, 25, 32, 39, 42, 49, 52, 53, 54, 56]\n",
      "[8, 17, 22, 32, 33, 36, 44, 47, 48, 49, 50, 54, 56]\n",
      "[7, 21, 22, 25, 32, 39, 42, 49, 50, 52, 53, 54, 56]\n",
      "[8, 11, 17, 32, 33, 36, 44, 47, 48, 49, 50, 54, 56]\n",
      "Grafo densamente conectado gerado e salvo em 'grafo.txt'.\n",
      "Cliques maximais encontradas de tamanho 12: \n",
      "[6, 7, 8, 15, 18, 24, 30, 34, 36, 39, 42, 50]\n",
      "[6, 7, 15, 18, 19, 24, 30, 34, 36, 37, 39, 42]\n",
      "[6, 7, 8, 15, 18, 24, 30, 34, 36, 37, 39, 42]\n",
      "[10, 15, 18, 28, 34, 36, 37, 39, 42, 45, 47, 53]\n",
      "[7, 10, 15, 18, 28, 34, 36, 39, 42, 45, 47, 49]\n",
      "[7, 10, 18, 28, 34, 36, 37, 39, 42, 45, 46, 47]\n",
      "[7, 10, 15, 18, 28, 34, 36, 37, 39, 42, 45, 47]\n",
      "[7, 10, 15, 18, 19, 24, 34, 36, 39, 42, 45, 49]\n",
      "[7, 10, 15, 18, 19, 24, 34, 36, 37, 39, 42, 45]\n",
      "[7, 8, 10, 15, 18, 34, 36, 39, 42, 45, 47, 49]\n",
      "[8, 10, 15, 18, 34, 36, 37, 39, 42, 45, 47, 53]\n",
      "[7, 8, 10, 15, 18, 34, 36, 37, 39, 42, 45, 47]\n",
      "[7, 8, 10, 15, 18, 24, 34, 36, 39, 42, 45, 50]\n",
      "[7, 8, 10, 15, 18, 24, 34, 36, 39, 42, 45, 49]\n",
      "[7, 8, 10, 15, 18, 24, 34, 36, 37, 39, 42, 45]\n",
      "[7, 8, 10, 18, 34, 36, 37, 39, 42, 45, 46, 47]\n",
      "[7, 8, 10, 18, 24, 34, 36, 39, 42, 45, 46, 50]\n",
      "[7, 8, 10, 18, 24, 34, 36, 37, 39, 42, 45, 46]\n",
      "Grafo densamente conectado gerado e salvo em 'grafo.txt'.\n",
      "Cliques maximais encontradas de tamanho 12: \n",
      "[4, 5, 6, 13, 22, 25, 28, 39, 44, 46, 53, 59]\n",
      "[4, 5, 6, 13, 25, 28, 33, 39, 44, 46, 53, 59]\n",
      "[4, 6, 13, 21, 22, 25, 31, 39, 44, 53, 55, 59]\n",
      "[4, 6, 13, 22, 25, 31, 39, 44, 46, 53, 55, 59]\n",
      "[4, 6, 21, 22, 25, 31, 37, 39, 44, 53, 55, 58]\n",
      "[4, 6, 21, 22, 25, 31, 37, 39, 44, 53, 55, 59]\n",
      "[4, 6, 21, 25, 31, 37, 39, 44, 53, 55, 56, 58]\n",
      "[4, 5, 6, 17, 20, 25, 30, 33, 37, 42, 44, 51]\n",
      "[4, 6, 21, 25, 33, 37, 39, 44, 53, 55, 56, 58]\n",
      "[4, 6, 20, 21, 25, 33, 37, 39, 44, 53, 55, 58]\n",
      "[5, 6, 7, 9, 19, 21, 26, 35, 36, 39, 40, 59]\n",
      "Grafo densamente conectado gerado e salvo em 'grafo.txt'.\n",
      "Cliques maximais encontradas de tamanho 12: \n",
      "[3, 15, 21, 33, 43, 44, 48, 53, 55, 57, 58, 61]\n",
      "[10, 11, 25, 39, 40, 43, 47, 48, 50, 58, 60, 61]\n",
      "[3, 15, 21, 33, 40, 43, 44, 48, 55, 57, 58, 61]\n",
      "[3, 15, 21, 33, 38, 40, 43, 44, 55, 57, 58, 61]\n",
      "Grafo densamente conectado gerado e salvo em 'grafo.txt'.\n",
      "Cliques maximais encontradas de tamanho 13: \n",
      "[1, 3, 11, 12, 16, 17, 31, 38, 45, 50, 54, 55, 62]\n",
      "[3, 11, 12, 16, 17, 31, 38, 45, 50, 54, 55, 61, 62]\n",
      "[1, 3, 7, 11, 12, 16, 17, 24, 45, 50, 54, 55, 62]\n",
      "Grafo densamente conectado gerado e salvo em 'grafo.txt'.\n",
      "Cliques maximais encontradas de tamanho 13: \n",
      "[1, 9, 11, 16, 17, 27, 28, 32, 45, 46, 54, 56, 58]\n",
      "[1, 16, 17, 27, 29, 32, 35, 38, 41, 48, 54, 56, 58]\n",
      "Grafo densamente conectado gerado e salvo em 'grafo.txt'.\n",
      "Cliques maximais encontradas de tamanho 12: \n",
      "[4, 8, 17, 18, 23, 36, 41, 45, 48, 53, 55, 62]\n",
      "[4, 8, 17, 18, 22, 36, 41, 45, 48, 53, 55, 62]\n",
      "[4, 6, 8, 17, 18, 23, 36, 41, 45, 48, 55, 62]\n",
      "[4, 6, 8, 17, 18, 22, 36, 41, 45, 48, 55, 62]\n",
      "[4, 8, 17, 18, 23, 36, 37, 41, 45, 48, 53, 62]\n",
      "[4, 8, 17, 18, 22, 36, 37, 41, 45, 48, 53, 62]\n",
      "[4, 8, 17, 18, 23, 36, 37, 41, 45, 48, 53, 60]\n",
      "[4, 8, 17, 18, 22, 36, 37, 41, 45, 48, 53, 60]\n",
      "[8, 10, 17, 18, 22, 36, 37, 41, 45, 48, 53, 62]\n",
      "[4, 6, 8, 17, 18, 23, 36, 37, 41, 45, 48, 62]\n",
      "[4, 6, 8, 17, 18, 22, 36, 37, 41, 45, 48, 62]\n",
      "[4, 6, 8, 17, 18, 23, 36, 37, 41, 45, 48, 60]\n",
      "[4, 6, 8, 17, 18, 22, 36, 37, 41, 45, 48, 60]\n",
      "Grafo densamente conectado gerado e salvo em 'grafo.txt'.\n",
      "Cliques maximais encontradas de tamanho 13: \n",
      "[2, 5, 8, 16, 21, 23, 35, 44, 46, 56, 57, 61, 65]\n",
      "Grafo densamente conectado gerado e salvo em 'grafo.txt'.\n",
      "Cliques maximais encontradas de tamanho 13: \n",
      "[1, 6, 7, 11, 20, 34, 39, 44, 50, 53, 56, 63, 65]\n",
      "[1, 7, 11, 20, 34, 35, 39, 44, 50, 53, 56, 63, 65]\n",
      "[1, 7, 10, 11, 20, 24, 35, 44, 50, 56, 62, 63, 65]\n",
      "Grafo densamente conectado gerado e salvo em 'grafo.txt'.\n",
      "Cliques maximais encontradas de tamanho 13: \n",
      "[1, 23, 30, 31, 33, 37, 44, 49, 51, 54, 55, 64, 67]\n",
      "[1, 3, 4, 16, 23, 30, 32, 35, 49, 52, 54, 60, 64]\n",
      "[1, 3, 9, 11, 13, 14, 16, 19, 30, 42, 46, 52, 64]\n",
      "[1, 3, 9, 11, 13, 14, 16, 19, 30, 31, 46, 52, 64]\n",
      "[1, 3, 9, 11, 13, 14, 16, 19, 22, 30, 46, 47, 64]\n",
      "[1, 3, 9, 11, 13, 14, 16, 19, 22, 30, 42, 46, 64]\n",
      "[1, 3, 9, 11, 13, 14, 16, 19, 30, 31, 46, 47, 64]\n",
      "[1, 3, 9, 11, 13, 14, 16, 30, 42, 46, 52, 64, 66]\n",
      "[1, 3, 9, 11, 13, 14, 16, 30, 31, 46, 52, 64, 66]\n",
      "[1, 3, 9, 11, 13, 14, 16, 22, 30, 42, 46, 64, 66]\n",
      "[3, 4, 16, 23, 30, 32, 35, 38, 49, 52, 54, 60, 64]\n",
      "[2, 3, 8, 15, 23, 30, 31, 38, 46, 49, 52, 54, 64]\n",
      "[3, 8, 15, 23, 30, 31, 38, 44, 46, 49, 52, 54, 64]\n",
      "[3, 8, 15, 16, 23, 30, 31, 38, 46, 49, 52, 54, 64]\n",
      "Grafo densamente conectado gerado e salvo em 'grafo.txt'.\n",
      "Cliques maximais encontradas de tamanho 13: \n",
      "[4, 6, 20, 22, 23, 25, 27, 37, 39, 53, 57, 62, 64]\n",
      "[6, 11, 12, 16, 17, 25, 37, 39, 40, 42, 53, 66, 67]\n",
      "[6, 12, 22, 25, 37, 39, 40, 42, 53, 61, 64, 66, 67]\n",
      "[6, 12, 16, 25, 37, 39, 40, 42, 53, 61, 64, 66, 67]\n",
      "[4, 6, 20, 22, 23, 25, 37, 39, 53, 57, 61, 62, 64]\n",
      "[6, 11, 12, 16, 25, 37, 39, 40, 42, 53, 61, 66, 67]\n",
      "Grafo densamente conectado gerado e salvo em 'grafo.txt'.\n",
      "Cliques maximais encontradas de tamanho 13: \n",
      "[7, 10, 16, 20, 32, 35, 42, 43, 48, 52, 59, 61, 62]\n",
      "[7, 10, 16, 20, 21, 32, 35, 42, 48, 52, 59, 61, 62]\n",
      "[7, 10, 16, 20, 21, 32, 35, 37, 42, 48, 59, 61, 62]\n",
      "[7, 8, 10, 12, 13, 21, 27, 30, 42, 44, 47, 51, 62]\n",
      "[7, 8, 10, 12, 13, 20, 21, 30, 42, 44, 46, 47, 62]\n",
      "[7, 8, 10, 12, 13, 21, 30, 42, 44, 46, 47, 51, 62]\n",
      "[1, 5, 14, 15, 18, 22, 38, 40, 45, 46, 52, 63, 65]\n",
      "[1, 5, 14, 15, 18, 22, 29, 40, 45, 46, 52, 63, 65]\n",
      "[5, 14, 15, 18, 22, 29, 40, 41, 45, 46, 52, 63, 65]\n",
      "[1, 5, 14, 15, 18, 22, 38, 40, 45, 46, 52, 58, 63]\n",
      "[1, 5, 14, 15, 18, 22, 29, 40, 45, 46, 52, 58, 63]\n",
      "[5, 14, 15, 18, 22, 29, 40, 41, 45, 46, 52, 58, 63]\n",
      "[7, 18, 20, 36, 42, 43, 48, 49, 59, 60, 61, 65, 66]\n",
      "[11, 18, 20, 36, 42, 43, 48, 49, 59, 60, 61, 65, 66]\n",
      "[7, 18, 20, 36, 42, 43, 46, 49, 59, 60, 61, 65, 66]\n",
      "[11, 18, 20, 36, 42, 43, 46, 49, 59, 60, 61, 65, 66]\n",
      "[7, 8, 12, 13, 21, 23, 27, 30, 31, 42, 44, 47, 51]\n",
      "[1, 4, 23, 25, 27, 31, 42, 44, 47, 51, 58, 60, 66]\n",
      "[1, 5, 13, 21, 31, 33, 36, 42, 44, 45, 46, 57, 60]\n",
      "[1, 5, 11, 21, 31, 33, 36, 42, 44, 45, 46, 57, 60]\n",
      "[1, 13, 20, 21, 31, 33, 36, 42, 44, 46, 47, 57, 60]\n",
      "[1, 13, 20, 21, 31, 33, 36, 42, 44, 45, 46, 57, 60]\n",
      "[1, 11, 20, 21, 31, 33, 36, 42, 44, 45, 46, 57, 60]\n",
      "[4, 11, 20, 21, 31, 33, 39, 42, 44, 45, 46, 49, 60]\n",
      "[7, 13, 20, 31, 36, 42, 43, 46, 59, 60, 61, 65, 66]\n",
      "[7, 20, 31, 36, 42, 43, 46, 49, 59, 60, 61, 65, 66]\n",
      "[4, 11, 20, 31, 42, 43, 46, 49, 59, 60, 61, 65, 66]\n",
      "[4, 11, 16, 20, 31, 42, 43, 46, 59, 60, 61, 65, 66]\n",
      "[11, 20, 31, 36, 42, 43, 46, 49, 59, 60, 61, 65, 66]\n",
      "[1, 4, 11, 16, 20, 31, 42, 46, 59, 60, 61, 65, 66]\n",
      "[1, 13, 20, 31, 33, 36, 42, 44, 46, 47, 57, 60, 66]\n",
      "[7, 13, 20, 31, 36, 42, 43, 46, 54, 59, 61, 65, 66]\n",
      "[7, 20, 31, 36, 42, 43, 46, 49, 54, 59, 61, 65, 66]\n",
      "Grafo densamente conectado gerado e salvo em 'grafo.txt'.\n",
      "Cliques maximais encontradas de tamanho 13: \n",
      "[7, 11, 13, 17, 34, 37, 38, 40, 45, 47, 53, 69, 70]\n",
      "[7, 11, 13, 17, 34, 37, 38, 40, 45, 53, 67, 69, 70]\n",
      "Grafo densamente conectado gerado e salvo em 'grafo.txt'.\n",
      "Cliques maximais encontradas de tamanho 13: \n",
      "[4, 5, 6, 21, 25, 31, 42, 44, 60, 62, 65, 69, 70]\n",
      "[4, 5, 19, 21, 25, 31, 42, 44, 60, 62, 65, 69, 70]\n",
      "Grafo densamente conectado gerado e salvo em 'grafo.txt'.\n",
      "Cliques maximais encontradas de tamanho 13: \n",
      "[1, 4, 6, 18, 27, 43, 45, 49, 56, 58, 59, 65, 73]\n",
      "[4, 6, 18, 27, 43, 45, 49, 55, 56, 58, 59, 65, 73]\n",
      "[1, 4, 6, 18, 27, 43, 45, 57, 58, 59, 63, 65, 73]\n",
      "[1, 4, 6, 18, 27, 43, 45, 56, 57, 58, 59, 65, 73]\n",
      "[4, 6, 18, 27, 43, 45, 55, 56, 57, 58, 59, 65, 73]\n",
      "[4, 18, 27, 43, 45, 49, 55, 56, 58, 59, 65, 66, 73]\n",
      "[4, 18, 27, 43, 45, 55, 56, 57, 58, 59, 65, 66, 73]\n",
      "[1, 9, 13, 24, 27, 33, 34, 36, 40, 43, 58, 59, 63]\n",
      "[1, 9, 13, 24, 27, 33, 34, 36, 40, 43, 56, 58, 59]\n",
      "[1, 9, 13, 24, 27, 33, 34, 40, 43, 57, 58, 59, 63]\n",
      "[1, 9, 13, 24, 27, 33, 34, 40, 43, 56, 57, 58, 59]\n",
      "[1, 9, 13, 24, 31, 33, 34, 36, 40, 41, 43, 58, 63]\n",
      "[1, 9, 13, 24, 31, 33, 34, 36, 40, 41, 43, 56, 58]\n",
      "[35, 41, 43, 45, 49, 52, 55, 56, 58, 62, 65, 66, 73]\n",
      "[4, 27, 43, 45, 49, 55, 56, 58, 59, 62, 65, 66, 73]\n",
      "[4, 27, 35, 43, 45, 49, 55, 56, 58, 62, 65, 66, 73]\n",
      "[4, 35, 41, 43, 45, 49, 55, 56, 58, 62, 65, 66, 73]\n",
      "[4, 27, 34, 43, 55, 56, 57, 58, 59, 61, 62, 65, 66]\n",
      "[4, 34, 43, 55, 56, 57, 58, 59, 60, 61, 62, 65, 66]\n",
      "[4, 13, 24, 27, 34, 43, 56, 57, 58, 59, 61, 65, 66]\n",
      "[4, 13, 27, 34, 43, 55, 56, 57, 58, 59, 61, 65, 66]\n",
      "[9, 13, 24, 27, 33, 34, 40, 43, 57, 58, 59, 61, 63]\n",
      "[9, 13, 24, 27, 33, 34, 40, 43, 56, 57, 58, 59, 61]\n",
      "[9, 13, 24, 27, 33, 34, 36, 40, 43, 58, 59, 61, 63]\n",
      "[9, 13, 24, 27, 33, 34, 36, 40, 43, 56, 58, 59, 61]\n",
      "[9, 13, 24, 31, 33, 34, 36, 40, 41, 43, 58, 61, 63]\n",
      "[9, 13, 24, 31, 33, 34, 36, 40, 41, 43, 56, 58, 61]\n",
      "[10, 25, 45, 47, 52, 55, 57, 58, 60, 61, 62, 66, 71]\n",
      "[4, 27, 35, 43, 45, 55, 56, 57, 58, 61, 62, 65, 66]\n",
      "[4, 27, 43, 45, 55, 56, 57, 58, 59, 61, 62, 65, 66]\n",
      "[4, 13, 24, 27, 43, 45, 56, 57, 58, 59, 61, 65, 66]\n",
      "[4, 13, 27, 43, 45, 55, 56, 57, 58, 59, 61, 65, 66]\n",
      "[4, 43, 45, 55, 56, 57, 58, 59, 60, 61, 62, 65, 66]\n",
      "[4, 7, 11, 15, 17, 44, 45, 53, 61, 62, 67, 69, 71]\n",
      "[4, 5, 7, 11, 15, 17, 44, 45, 53, 61, 62, 69, 71]\n",
      "[14, 22, 25, 31, 32, 35, 36, 44, 45, 53, 54, 61, 69]\n",
      "[10, 14, 25, 27, 35, 36, 44, 45, 47, 53, 55, 61, 62]\n",
      "[10, 14, 25, 27, 35, 36, 44, 45, 47, 55, 61, 62, 66]\n",
      "[10, 14, 25, 27, 35, 44, 45, 47, 55, 57, 61, 62, 66]\n",
      "[14, 25, 27, 32, 35, 36, 43, 45, 53, 55, 61, 62, 69]\n",
      "[14, 25, 27, 32, 35, 42, 43, 45, 53, 55, 61, 62, 69]\n",
      "[14, 25, 27, 32, 35, 36, 44, 45, 53, 55, 61, 62, 69]\n",
      "[10, 14, 25, 27, 32, 35, 36, 44, 45, 53, 55, 61, 62]\n",
      "[4, 27, 43, 45, 55, 56, 57, 58, 59, 62, 65, 66, 73]\n",
      "[4, 27, 35, 43, 45, 55, 56, 57, 58, 62, 65, 66, 73]\n",
      "[4, 13, 27, 43, 45, 55, 56, 57, 58, 59, 65, 66, 73]\n",
      "Grafo densamente conectado gerado e salvo em 'grafo.txt'.\n",
      "Cliques maximais encontradas de tamanho 12: \n",
      "[1, 6, 8, 11, 12, 28, 30, 32, 40, 42, 51, 54]\n",
      "[1, 6, 8, 11, 12, 28, 30, 32, 42, 51, 54, 74]\n",
      "[1, 5, 12, 25, 31, 40, 44, 46, 52, 53, 54, 68]\n",
      "[1, 8, 12, 25, 31, 40, 44, 46, 52, 53, 54, 68]\n",
      "[1, 8, 11, 31, 32, 36, 40, 42, 52, 53, 54, 65]\n",
      "[1, 8, 11, 31, 36, 40, 42, 52, 53, 54, 65, 68]\n",
      "[5, 19, 32, 40, 44, 52, 53, 61, 64, 69, 71, 73]\n",
      "[1, 8, 11, 19, 36, 40, 42, 52, 53, 54, 65, 68]\n",
      "[1, 8, 11, 19, 32, 36, 40, 42, 52, 53, 54, 65]\n",
      "[1, 8, 11, 19, 27, 36, 40, 42, 53, 54, 65, 68]\n",
      "[1, 8, 11, 19, 27, 30, 36, 40, 42, 54, 65, 68]\n",
      "[8, 11, 19, 27, 30, 36, 40, 42, 54, 57, 65, 68]\n",
      "[1, 8, 11, 19, 30, 32, 36, 40, 42, 51, 54, 65]\n",
      "[4, 8, 13, 31, 35, 36, 43, 47, 48, 52, 64, 68]\n",
      "[8, 13, 25, 31, 35, 36, 43, 47, 48, 52, 64, 68]\n",
      "[4, 26, 32, 44, 45, 48, 52, 53, 63, 64, 71, 73]\n",
      "[19, 26, 32, 44, 45, 48, 52, 53, 63, 64, 71, 73]\n",
      "[19, 26, 32, 44, 45, 46, 48, 52, 53, 64, 71, 73]\n",
      "[4, 8, 9, 11, 13, 31, 36, 47, 48, 52, 65, 68]\n",
      "[4, 8, 9, 11, 13, 31, 35, 36, 47, 48, 52, 68]\n",
      "[4, 8, 9, 11, 13, 31, 35, 36, 47, 48, 52, 74]\n",
      "[4, 8, 9, 11, 13, 17, 31, 35, 47, 48, 52, 74]\n",
      "[4, 8, 9, 11, 31, 36, 41, 47, 48, 52, 65, 68]\n",
      "[4, 8, 9, 11, 31, 35, 36, 41, 47, 48, 52, 68]\n",
      "[8, 9, 11, 31, 33, 36, 41, 47, 48, 52, 65, 68]\n",
      "[8, 9, 11, 31, 33, 35, 36, 41, 47, 48, 52, 68]\n",
      "[8, 9, 11, 31, 33, 36, 41, 42, 48, 52, 65, 68]\n",
      "[8, 9, 11, 31, 33, 35, 36, 41, 42, 48, 52, 68]\n",
      "[8, 9, 31, 32, 36, 41, 42, 48, 52, 57, 59, 65]\n",
      "[8, 9, 25, 31, 35, 36, 41, 47, 48, 52, 57, 68]\n",
      "[8, 9, 11, 31, 36, 41, 47, 48, 52, 57, 65, 68]\n",
      "[8, 9, 11, 31, 32, 36, 41, 42, 48, 52, 57, 65]\n",
      "[8, 9, 11, 31, 36, 41, 42, 48, 52, 57, 65, 68]\n",
      "[8, 9, 11, 31, 35, 36, 41, 47, 48, 52, 57, 68]\n",
      "[8, 9, 11, 28, 31, 32, 35, 41, 42, 48, 52, 57]\n",
      "[8, 9, 11, 31, 32, 35, 36, 41, 42, 48, 52, 57]\n",
      "[8, 9, 11, 31, 35, 36, 41, 42, 48, 52, 57, 68]\n",
      "[4, 9, 11, 26, 28, 31, 32, 35, 41, 45, 48, 52]\n",
      "[9, 11, 28, 31, 32, 35, 41, 42, 45, 48, 52, 57]\n",
      "[9, 31, 32, 36, 41, 42, 45, 48, 52, 57, 59, 65]\n",
      "[9, 11, 31, 32, 36, 41, 42, 45, 48, 52, 57, 65]\n",
      "[4, 9, 11, 26, 31, 32, 35, 36, 41, 45, 48, 52]\n",
      "[9, 11, 31, 32, 35, 36, 41, 42, 45, 48, 52, 57]\n",
      "[4, 9, 11, 13, 26, 31, 35, 36, 47, 48, 52, 68]\n",
      "[4, 9, 11, 13, 26, 31, 35, 36, 47, 48, 52, 74]\n",
      "[4, 9, 11, 26, 31, 35, 36, 41, 47, 48, 52, 68]\n",
      "[9, 11, 26, 31, 33, 35, 36, 41, 47, 48, 52, 68]\n",
      "[8, 11, 12, 28, 31, 32, 35, 41, 42, 52, 54, 57]\n",
      "[4, 5, 7, 9, 13, 26, 36, 38, 52, 58, 68, 72]\n",
      "[4, 5, 7, 9, 26, 36, 38, 41, 52, 58, 68, 72]\n",
      "[1, 5, 10, 12, 25, 31, 44, 46, 52, 53, 54, 68]\n",
      "[4, 5, 26, 32, 44, 45, 52, 53, 63, 64, 71, 73]\n",
      "[5, 19, 26, 32, 44, 45, 46, 52, 53, 64, 71, 73]\n",
      "[5, 19, 26, 32, 44, 45, 52, 53, 63, 64, 71, 73]\n",
      "[8, 11, 19, 27, 30, 36, 41, 42, 54, 57, 65, 68]\n",
      "[4, 5, 12, 13, 14, 24, 29, 51, 55, 58, 67, 74]\n",
      "[4, 5, 12, 13, 24, 29, 44, 51, 55, 58, 67, 74]\n",
      "[4, 5, 12, 13, 14, 24, 29, 35, 51, 55, 67, 74]\n",
      "[5, 12, 13, 14, 22, 24, 29, 35, 51, 55, 67, 74]\n",
      "[4, 8, 9, 18, 20, 29, 41, 51, 58, 65, 66, 72]\n",
      "[8, 9, 16, 18, 20, 29, 41, 51, 58, 65, 66, 72]\n",
      "[5, 19, 22, 27, 29, 44, 45, 53, 63, 64, 71, 73]\n",
      "[5, 19, 22, 27, 29, 44, 45, 46, 53, 64, 71, 73]\n",
      "[5, 7, 13, 19, 22, 27, 29, 44, 64, 69, 71, 73]\n",
      "[5, 7, 10, 13, 22, 27, 29, 44, 64, 69, 71, 73]\n",
      "[2, 5, 7, 10, 13, 22, 27, 29, 64, 69, 71, 73]\n",
      "[4, 8, 9, 13, 18, 29, 51, 58, 65, 66, 72, 73]\n",
      "[4, 8, 9, 18, 29, 41, 51, 58, 65, 66, 72, 73]\n",
      "[8, 9, 16, 18, 29, 41, 51, 58, 65, 66, 72, 73]\n",
      "[4, 8, 9, 11, 13, 17, 29, 31, 35, 47, 48, 74]\n",
      "[4, 8, 9, 11, 13, 17, 29, 31, 35, 48, 51, 74]\n",
      "[5, 19, 22, 23, 29, 34, 36, 45, 46, 53, 64, 71]\n",
      "[4, 18, 29, 36, 43, 45, 48, 50, 53, 65, 70, 71]\n",
      "[23, 29, 32, 36, 45, 48, 50, 53, 59, 63, 65, 71]\n",
      "[23, 29, 32, 36, 45, 48, 50, 53, 59, 65, 70, 71]\n",
      "[9, 23, 29, 32, 36, 45, 48, 50, 53, 59, 65, 71]\n",
      "[18, 29, 36, 43, 45, 48, 50, 53, 59, 65, 70, 71]\n",
      "[19, 23, 29, 32, 36, 45, 48, 50, 53, 63, 65, 71]\n",
      "[19, 23, 29, 32, 36, 45, 48, 50, 53, 65, 70, 71]\n",
      "[23, 29, 32, 36, 45, 50, 53, 59, 63, 65, 66, 71]\n",
      "[9, 23, 29, 32, 36, 45, 50, 53, 59, 65, 66, 71]\n",
      "[5, 19, 22, 23, 27, 29, 36, 45, 53, 63, 64, 71]\n",
      "[5, 19, 22, 23, 27, 29, 36, 45, 46, 53, 64, 71]\n",
      "[5, 19, 22, 23, 27, 29, 36, 45, 53, 63, 65, 71]\n",
      "[1, 8, 11, 19, 23, 29, 30, 32, 36, 41, 51, 65]\n",
      "[4, 8, 9, 11, 29, 31, 32, 36, 41, 48, 51, 65]\n",
      "[4, 8, 9, 18, 29, 36, 41, 51, 58, 65, 66, 72]\n",
      "[4, 8, 9, 11, 29, 31, 32, 35, 36, 41, 48, 51]\n",
      "[4, 8, 9, 11, 29, 31, 32, 35, 36, 48, 51, 74]\n",
      "[7, 13, 14, 22, 23, 29, 36, 48, 59, 64, 70, 71]\n",
      "[2, 5, 13, 14, 22, 27, 29, 36, 47, 64, 69, 71]\n",
      "[5, 7, 13, 14, 19, 22, 23, 27, 29, 36, 64, 71]\n",
      "[5, 7, 13, 14, 19, 22, 27, 29, 36, 64, 69, 71]\n",
      "[2, 5, 7, 13, 14, 22, 27, 29, 36, 64, 69, 71]\n",
      "[2, 5, 9, 13, 14, 22, 27, 29, 36, 47, 69, 71]\n",
      "[5, 9, 13, 14, 22, 27, 29, 36, 47, 69, 71, 74]\n",
      "[5, 7, 9, 13, 14, 22, 23, 27, 29, 36, 71, 74]\n",
      "[2, 5, 7, 9, 13, 14, 22, 27, 29, 36, 69, 71]\n",
      "[5, 7, 9, 13, 14, 22, 27, 29, 36, 69, 71, 74]\n",
      "[5, 7, 13, 14, 19, 22, 23, 27, 29, 36, 71, 74]\n",
      "[5, 7, 13, 14, 19, 22, 27, 29, 36, 69, 71, 74]\n",
      "[7, 13, 14, 19, 22, 23, 29, 36, 48, 64, 70, 71]\n",
      "[7, 13, 14, 19, 22, 23, 29, 36, 48, 70, 71, 74]\n",
      "[2, 5, 7, 13, 14, 22, 29, 36, 55, 64, 69, 71]\n",
      "[4, 8, 9, 11, 13, 29, 31, 35, 36, 48, 51, 74]\n",
      "[13, 14, 19, 22, 23, 29, 36, 48, 51, 70, 71, 74]\n",
      "[4, 9, 11, 13, 14, 29, 31, 35, 36, 48, 51, 74]\n",
      "[4, 8, 9, 13, 18, 29, 36, 51, 58, 65, 66, 72]\n",
      "[13, 14, 19, 22, 23, 29, 36, 48, 51, 65, 70, 71]\n",
      "[2, 5, 13, 14, 22, 29, 36, 47, 55, 64, 67, 69]\n",
      "[2, 5, 13, 14, 22, 29, 36, 47, 55, 64, 69, 71]\n",
      "[4, 9, 11, 13, 14, 29, 31, 35, 36, 47, 48, 74]\n",
      "[4, 8, 9, 11, 13, 29, 31, 35, 36, 47, 48, 74]\n",
      "[2, 5, 13, 14, 22, 24, 29, 47, 55, 64, 67, 69]\n",
      "[2, 5, 7, 10, 13, 14, 22, 27, 29, 64, 69, 71]\n",
      "[4, 9, 11, 13, 14, 26, 31, 35, 36, 47, 48, 68]\n",
      "[8, 9, 16, 20, 31, 33, 41, 42, 49, 65, 66, 68]\n",
      "[1, 8, 11, 19, 27, 30, 36, 41, 42, 54, 65, 68]\n",
      "[4, 5, 12, 13, 14, 26, 28, 31, 51, 55, 58, 74]\n",
      "[4, 5, 12, 13, 14, 26, 28, 31, 35, 51, 55, 74]\n",
      "[4, 5, 12, 13, 26, 28, 31, 44, 51, 55, 58, 74]\n",
      "[4, 9, 11, 13, 14, 26, 28, 31, 35, 48, 51, 74]\n",
      "[4, 5, 12, 13, 14, 26, 28, 51, 55, 58, 67, 74]\n",
      "[4, 5, 12, 13, 14, 26, 28, 35, 51, 55, 67, 74]\n",
      "[4, 5, 12, 13, 26, 28, 44, 51, 55, 58, 67, 74]\n",
      "[4, 5, 12, 13, 14, 26, 38, 51, 55, 58, 67, 74]\n",
      "[4, 5, 12, 13, 14, 26, 31, 38, 51, 55, 58, 74]\n",
      "[2, 5, 13, 14, 22, 36, 38, 47, 55, 64, 67, 69]\n",
      "[4, 5, 13, 14, 26, 36, 38, 51, 55, 58, 67, 74]\n",
      "[4, 5, 13, 14, 26, 31, 36, 38, 51, 55, 58, 74]\n",
      "[4, 5, 9, 13, 14, 26, 31, 36, 38, 51, 58, 74]\n",
      "[1, 8, 11, 19, 30, 32, 36, 41, 42, 51, 54, 65]\n",
      "[4, 5, 13, 24, 26, 39, 44, 51, 55, 58, 67, 74]\n",
      "[4, 9, 11, 13, 14, 26, 31, 35, 36, 47, 48, 74]\n",
      "[4, 9, 11, 13, 14, 26, 31, 35, 36, 48, 51, 74]\n",
      "[4, 5, 12, 13, 24, 26, 44, 51, 55, 58, 67, 74]\n",
      "[4, 5, 12, 13, 14, 24, 26, 51, 55, 58, 67, 74]\n",
      "[4, 5, 12, 13, 14, 24, 26, 35, 51, 55, 67, 74]\n",
      "Grafo densamente conectado gerado e salvo em 'grafo.txt'.\n",
      "Cliques maximais encontradas de tamanho 13: \n",
      "[2, 11, 12, 13, 17, 20, 23, 27, 33, 38, 43, 66, 69]\n",
      "[1, 2, 11, 12, 13, 17, 20, 23, 33, 38, 43, 66, 69]\n",
      "Grafo densamente conectado gerado e salvo em 'grafo.txt'.\n",
      "Cliques maximais encontradas de tamanho 13: \n",
      "[1, 8, 13, 16, 20, 26, 28, 32, 34, 38, 45, 57, 67]\n",
      "[7, 16, 21, 28, 30, 33, 39, 41, 42, 45, 50, 59, 70]\n",
      "Grafo densamente conectado gerado e salvo em 'grafo.txt'.\n",
      "Cliques maximais encontradas de tamanho 13: \n",
      "[1, 4, 6, 14, 19, 23, 28, 32, 35, 38, 41, 55, 67]\n",
      "[1, 2, 6, 14, 19, 23, 28, 32, 35, 38, 41, 55, 67]\n",
      "[1, 4, 6, 14, 19, 23, 32, 35, 38, 41, 55, 56, 67]\n",
      "[4, 6, 14, 16, 18, 23, 32, 41, 44, 56, 59, 65, 67]\n",
      "[4, 6, 14, 16, 18, 23, 32, 38, 41, 44, 56, 65, 67]\n",
      "[4, 6, 14, 16, 18, 19, 23, 32, 38, 41, 44, 56, 67]\n",
      "[1, 4, 6, 14, 16, 19, 23, 32, 35, 38, 41, 56, 67]\n",
      "[4, 6, 16, 18, 23, 32, 41, 44, 56, 59, 65, 67, 77]\n",
      "[4, 6, 11, 16, 18, 23, 32, 44, 56, 59, 65, 67, 77]\n",
      "[4, 6, 16, 18, 23, 32, 41, 44, 56, 59, 64, 65, 77]\n",
      "[4, 6, 11, 16, 18, 23, 32, 44, 56, 59, 64, 65, 77]\n",
      "[4, 6, 16, 18, 23, 32, 44, 54, 56, 59, 64, 65, 77]\n",
      "[4, 6, 15, 16, 18, 23, 32, 41, 44, 59, 64, 65, 77]\n",
      "[4, 6, 11, 15, 16, 18, 23, 32, 44, 59, 64, 65, 77]\n",
      "[4, 6, 15, 16, 18, 23, 32, 44, 54, 59, 64, 65, 77]\n",
      "[4, 6, 16, 18, 23, 32, 38, 41, 44, 56, 65, 67, 77]\n",
      "[4, 6, 11, 16, 18, 23, 32, 38, 44, 56, 65, 67, 77]\n",
      "[1, 2, 6, 12, 19, 23, 28, 35, 38, 39, 41, 55, 67]\n",
      "[1, 4, 6, 19, 21, 23, 27, 28, 32, 35, 39, 55, 67]\n",
      "[1, 4, 6, 19, 23, 27, 28, 32, 35, 39, 41, 55, 67]\n",
      "[1, 4, 6, 19, 23, 27, 32, 35, 39, 41, 55, 56, 67]\n",
      "[1, 4, 6, 19, 23, 28, 32, 35, 38, 39, 41, 55, 67]\n",
      "[1, 4, 6, 19, 23, 32, 35, 38, 39, 41, 55, 56, 67]\n",
      "[1, 4, 6, 16, 19, 23, 32, 35, 38, 39, 41, 56, 67]\n",
      "[1, 2, 6, 19, 23, 28, 32, 35, 38, 39, 41, 55, 67]\n",
      "[4, 16, 18, 23, 32, 41, 44, 56, 59, 65, 67, 71, 77]\n",
      "[4, 14, 16, 18, 23, 32, 41, 44, 56, 59, 65, 67, 71]\n",
      "[4, 11, 16, 18, 23, 32, 44, 56, 59, 65, 67, 71, 77]\n",
      "[4, 16, 18, 23, 26, 32, 38, 41, 44, 56, 65, 67, 77]\n",
      "[4, 11, 16, 18, 23, 26, 32, 38, 44, 56, 65, 67, 77]\n",
      "Grafo densamente conectado gerado e salvo em 'grafo.txt'.\n",
      "Cliques maximais encontradas de tamanho 13: \n",
      "[3, 13, 15, 17, 32, 37, 51, 54, 57, 63, 71, 73, 77]\n",
      "[3, 13, 15, 17, 32, 37, 51, 54, 55, 57, 63, 73, 77]\n",
      "[3, 13, 15, 17, 32, 37, 51, 54, 55, 57, 73, 76, 77]\n",
      "[3, 13, 15, 17, 37, 51, 54, 57, 63, 71, 73, 74, 77]\n",
      "[3, 13, 15, 17, 37, 51, 54, 55, 57, 63, 73, 74, 77]\n",
      "Grafo densamente conectado gerado e salvo em 'grafo.txt'.\n",
      "Cliques maximais encontradas de tamanho 13: \n",
      "[1, 9, 10, 32, 39, 42, 50, 55, 56, 67, 71, 73, 78]\n",
      "[3, 5, 10, 18, 25, 32, 39, 56, 67, 71, 72, 73, 78]\n",
      "[3, 5, 10, 18, 25, 26, 32, 39, 56, 67, 72, 73, 78]\n",
      "[3, 5, 10, 18, 25, 39, 56, 64, 67, 71, 72, 73, 78]\n",
      "[3, 5, 10, 18, 25, 26, 39, 56, 64, 67, 72, 73, 78]\n",
      "[3, 7, 8, 13, 20, 29, 30, 47, 48, 58, 59, 60, 64]\n",
      "[3, 7, 8, 13, 20, 29, 30, 42, 47, 48, 58, 59, 60]\n",
      "[3, 7, 8, 13, 20, 29, 30, 32, 42, 47, 48, 58, 60]\n",
      "[15, 18, 28, 29, 46, 47, 52, 59, 60, 63, 68, 69, 76]\n",
      "[3, 5, 10, 18, 29, 30, 44, 47, 59, 60, 62, 63, 64]\n",
      "[15, 18, 28, 35, 46, 47, 52, 59, 60, 63, 68, 69, 76]\n",
      "[3, 18, 25, 32, 41, 46, 57, 62, 68, 71, 73, 76, 78]\n",
      "[3, 18, 25, 26, 32, 41, 46, 57, 62, 68, 73, 76, 78]\n",
      "[3, 18, 25, 32, 40, 41, 46, 57, 68, 71, 73, 76, 78]\n",
      "[3, 18, 25, 26, 32, 40, 41, 46, 57, 68, 73, 76, 78]\n",
      "[10, 11, 18, 25, 41, 51, 57, 62, 64, 71, 72, 73, 78]\n",
      "[10, 11, 18, 25, 40, 41, 51, 57, 64, 71, 72, 73, 78]\n",
      "[10, 11, 18, 25, 26, 41, 51, 57, 62, 64, 72, 73, 78]\n",
      "[10, 11, 18, 25, 26, 40, 41, 51, 57, 64, 72, 73, 78]\n",
      "[3, 18, 25, 34, 36, 40, 44, 51, 64, 71, 72, 73, 78]\n",
      "[3, 10, 18, 25, 36, 40, 44, 51, 64, 71, 72, 73, 78]\n",
      "[3, 10, 18, 25, 41, 51, 57, 62, 64, 71, 72, 73, 78]\n",
      "[3, 10, 18, 25, 40, 41, 51, 57, 64, 71, 72, 73, 78]\n",
      "[3, 10, 18, 25, 26, 41, 51, 57, 62, 64, 72, 73, 78]\n",
      "[3, 10, 18, 25, 26, 40, 41, 51, 57, 64, 72, 73, 78]\n",
      "[10, 11, 18, 25, 41, 51, 57, 62, 64, 71, 73, 76, 78]\n",
      "[10, 11, 18, 25, 26, 41, 51, 57, 62, 64, 73, 76, 78]\n",
      "[10, 11, 18, 25, 40, 41, 51, 57, 64, 71, 73, 76, 78]\n",
      "[10, 11, 18, 25, 26, 40, 41, 51, 57, 64, 73, 76, 78]\n",
      "[3, 10, 18, 25, 41, 51, 57, 62, 64, 71, 73, 76, 78]\n",
      "[3, 10, 18, 25, 26, 41, 51, 57, 62, 64, 73, 76, 78]\n",
      "[3, 10, 18, 25, 40, 41, 51, 57, 64, 71, 73, 76, 78]\n",
      "[3, 10, 18, 25, 26, 40, 41, 51, 57, 64, 73, 76, 78]\n",
      "[9, 11, 18, 21, 32, 34, 41, 54, 62, 71, 72, 73, 78]\n",
      "[9, 11, 18, 21, 26, 32, 34, 41, 54, 62, 72, 73, 78]\n",
      "[15, 18, 21, 28, 35, 46, 52, 59, 60, 63, 64, 75, 76]\n",
      "[7, 21, 34, 41, 46, 49, 50, 55, 64, 71, 73, 75, 77]\n",
      "[5, 9, 11, 18, 21, 32, 57, 62, 68, 71, 73, 76, 78]\n",
      "[5, 9, 11, 18, 21, 29, 32, 57, 62, 68, 73, 76, 78]\n",
      "[5, 9, 11, 18, 21, 26, 32, 57, 62, 68, 73, 76, 78]\n",
      "[9, 11, 18, 21, 32, 41, 57, 62, 68, 71, 73, 76, 78]\n",
      "[9, 11, 18, 21, 26, 32, 41, 57, 62, 68, 73, 76, 78]\n",
      "[5, 9, 11, 18, 21, 28, 29, 32, 52, 60, 63, 68, 76]\n",
      "[13, 15, 16, 20, 21, 28, 35, 46, 52, 59, 60, 63, 64]\n",
      "[15, 16, 18, 21, 28, 35, 46, 52, 59, 60, 63, 64, 76]\n",
      "[7, 9, 13, 20, 21, 32, 34, 36, 42, 48, 55, 71, 73]\n",
      "[7, 9, 14, 21, 41, 42, 48, 50, 55, 57, 71, 73, 77]\n",
      "[7, 9, 13, 20, 21, 29, 32, 34, 36, 42, 48, 55, 73]\n",
      "Grafo densamente conectado gerado e salvo em 'grafo.txt'.\n",
      "Cliques maximais encontradas de tamanho 13: \n",
      "[1, 3, 5, 15, 23, 25, 39, 40, 50, 55, 56, 64, 74]\n",
      "[7, 8, 14, 24, 28, 36, 39, 47, 61, 68, 70, 74, 77]\n",
      "[7, 8, 14, 24, 28, 39, 47, 61, 68, 70, 72, 74, 77]\n",
      "Grafo densamente conectado gerado e salvo em 'grafo.txt'.\n",
      "Cliques maximais encontradas de tamanho 13: \n",
      "[10, 27, 29, 30, 31, 32, 43, 52, 58, 61, 64, 70, 74]\n",
      "[10, 27, 29, 30, 31, 32, 43, 52, 59, 64, 70, 71, 74]\n",
      "[10, 27, 29, 30, 31, 32, 43, 52, 58, 59, 64, 70, 74]\n",
      "[10, 19, 27, 29, 30, 31, 32, 43, 52, 59, 70, 71, 74]\n",
      "[10, 29, 30, 31, 32, 42, 43, 52, 58, 61, 64, 70, 74]\n",
      "[10, 26, 27, 29, 30, 31, 32, 43, 52, 58, 61, 64, 74]\n",
      "[10, 26, 29, 30, 31, 32, 42, 43, 52, 58, 61, 64, 74]\n",
      "[7, 8, 21, 28, 35, 43, 45, 46, 52, 59, 63, 67, 71]\n",
      "[3, 7, 8, 21, 28, 35, 43, 45, 46, 52, 59, 63, 67]\n",
      "[7, 8, 20, 21, 28, 35, 43, 45, 46, 52, 59, 63, 71]\n",
      "[3, 7, 8, 20, 21, 28, 35, 43, 45, 46, 52, 59, 63]\n",
      "[7, 9, 20, 28, 35, 40, 45, 46, 52, 59, 63, 71, 74]\n",
      "[3, 7, 9, 20, 28, 35, 40, 45, 46, 52, 59, 63, 74]\n",
      "[7, 9, 20, 28, 35, 40, 44, 46, 52, 59, 63, 71, 74]\n",
      "[3, 7, 9, 20, 28, 35, 40, 44, 46, 52, 59, 63, 74]\n",
      "[9, 20, 28, 35, 40, 44, 46, 52, 59, 63, 70, 71, 74]\n",
      "[3, 9, 20, 28, 35, 40, 44, 46, 52, 59, 63, 70, 74]\n",
      "[7, 9, 20, 28, 30, 35, 40, 45, 46, 52, 59, 71, 74]\n",
      "[7, 9, 20, 28, 30, 35, 40, 44, 46, 52, 59, 71, 74]\n",
      "[7, 9, 20, 28, 30, 35, 37, 40, 45, 46, 52, 59, 74]\n",
      "[9, 20, 28, 30, 35, 40, 44, 46, 52, 59, 70, 71, 74]\n",
      "[7, 8, 20, 21, 35, 43, 45, 46, 52, 59, 63, 71, 73]\n",
      "[2, 10, 21, 27, 31, 32, 36, 43, 52, 57, 58, 64, 73]\n",
      "[14, 15, 18, 20, 33, 35, 40, 44, 46, 52, 71, 73, 74]\n",
      "[7, 9, 20, 32, 40, 44, 46, 52, 59, 63, 71, 73, 74]\n",
      "[9, 20, 32, 40, 44, 46, 52, 59, 63, 70, 71, 73, 74]\n",
      "[7, 9, 20, 35, 40, 44, 46, 52, 59, 63, 71, 73, 74]\n",
      "[9, 20, 35, 40, 44, 46, 52, 59, 63, 70, 71, 73, 74]\n",
      "[15, 20, 32, 40, 44, 46, 52, 59, 63, 70, 71, 73, 74]\n",
      "[15, 20, 32, 33, 40, 44, 46, 52, 59, 63, 71, 73, 74]\n",
      "[15, 20, 35, 40, 44, 46, 52, 59, 63, 70, 71, 73, 74]\n",
      "[15, 20, 33, 35, 40, 44, 46, 52, 59, 63, 71, 73, 74]\n",
      "[15, 20, 32, 33, 40, 45, 46, 52, 59, 63, 71, 73, 74]\n",
      "[7, 9, 20, 32, 40, 45, 46, 52, 59, 63, 71, 73, 74]\n",
      "[15, 20, 33, 35, 40, 45, 46, 52, 59, 63, 71, 73, 74]\n",
      "[7, 9, 20, 35, 40, 45, 46, 52, 59, 63, 71, 73, 74]\n",
      "[7, 9, 32, 40, 44, 46, 52, 59, 63, 64, 71, 73, 74]\n",
      "[7, 9, 35, 40, 44, 46, 52, 59, 63, 64, 71, 73, 74]\n",
      "[9, 32, 40, 44, 46, 52, 59, 63, 64, 70, 71, 73, 74]\n",
      "[9, 35, 40, 44, 46, 52, 59, 63, 64, 70, 71, 73, 74]\n",
      "[7, 9, 32, 40, 45, 46, 52, 59, 63, 64, 71, 73, 74]\n",
      "[7, 9, 35, 40, 45, 46, 52, 59, 63, 64, 71, 73, 74]\n",
      "[9, 10, 24, 27, 31, 34, 51, 52, 58, 61, 69, 70, 73]\n",
      "[9, 10, 24, 27, 31, 34, 51, 52, 58, 59, 69, 70, 73]\n",
      "[6, 8, 12, 15, 18, 21, 35, 39, 42, 53, 73, 77, 80]\n",
      "[6, 8, 15, 18, 21, 35, 39, 42, 53, 73, 77, 78, 80]\n",
      "[6, 8, 15, 18, 21, 35, 39, 42, 53, 70, 73, 77, 78]\n",
      "[2, 5, 6, 13, 24, 27, 31, 32, 34, 36, 40, 61, 73]\n",
      "[6, 8, 13, 18, 19, 21, 35, 39, 42, 53, 73, 78, 80]\n",
      "[2, 5, 6, 10, 27, 31, 32, 34, 36, 43, 58, 61, 73]\n",
      "[6, 8, 21, 27, 28, 41, 43, 45, 55, 58, 65, 67, 77]\n",
      "[6, 10, 27, 29, 30, 31, 32, 43, 58, 61, 64, 70, 74]\n",
      "[6, 10, 26, 27, 29, 30, 31, 32, 43, 58, 61, 64, 74]\n",
      "[2, 6, 10, 21, 27, 31, 32, 36, 43, 57, 58, 64, 73]\n",
      "[5, 6, 24, 27, 31, 32, 34, 40, 53, 55, 58, 61, 70]\n",
      "[6, 9, 24, 27, 31, 32, 34, 40, 53, 55, 58, 61, 70]\n",
      "[5, 6, 24, 27, 31, 32, 34, 40, 53, 58, 61, 70, 72]\n",
      "[5, 6, 24, 27, 31, 32, 34, 40, 53, 58, 61, 70, 73]\n",
      "[6, 9, 24, 27, 31, 32, 34, 40, 53, 58, 61, 70, 73]\n",
      "[6, 9, 27, 31, 32, 40, 53, 58, 61, 64, 70, 73, 74]\n",
      "[6, 9, 27, 30, 31, 32, 40, 53, 58, 61, 64, 70, 74]\n",
      "[2, 5, 6, 10, 27, 31, 34, 36, 58, 61, 69, 72, 75]\n",
      "[2, 5, 6, 24, 27, 31, 32, 34, 36, 40, 58, 61, 72]\n",
      "[2, 5, 6, 10, 24, 27, 31, 32, 34, 36, 58, 61, 72]\n",
      "[2, 5, 6, 10, 24, 27, 31, 34, 36, 58, 61, 69, 72]\n",
      "[2, 5, 6, 10, 24, 27, 31, 34, 36, 58, 61, 69, 73]\n",
      "[6, 9, 10, 24, 27, 31, 34, 51, 58, 61, 69, 70, 73]\n",
      "[6, 9, 10, 24, 27, 31, 34, 51, 55, 58, 61, 69, 70]\n",
      "[2, 5, 6, 24, 27, 31, 32, 34, 36, 40, 58, 61, 73]\n",
      "[2, 5, 6, 10, 24, 27, 31, 32, 34, 36, 58, 61, 73]\n",
      "[6, 9, 30, 31, 32, 40, 42, 53, 58, 61, 64, 70, 74]\n",
      "[6, 10, 29, 30, 31, 32, 42, 43, 58, 61, 64, 70, 74]\n",
      "[6, 10, 26, 29, 30, 31, 32, 42, 43, 58, 61, 64, 74]\n",
      "[6, 9, 31, 32, 40, 42, 53, 58, 61, 64, 70, 73, 74]\n",
      "[6, 8, 21, 27, 28, 39, 41, 43, 45, 55, 65, 67, 77]\n",
      "[22, 30, 31, 32, 40, 42, 44, 47, 53, 58, 70, 74, 79]\n",
      "[10, 30, 31, 32, 42, 43, 47, 58, 61, 64, 70, 74, 79]\n",
      "[5, 24, 27, 31, 32, 34, 40, 47, 53, 58, 61, 70, 72]\n",
      "[5, 24, 27, 31, 32, 34, 40, 47, 53, 58, 61, 70, 73]\n",
      "[5, 24, 31, 32, 34, 40, 47, 53, 58, 61, 70, 72, 79]\n",
      "[30, 31, 32, 40, 42, 47, 53, 58, 61, 64, 70, 74, 79]\n",
      "[30, 31, 32, 40, 42, 44, 47, 53, 58, 64, 70, 74, 79]\n",
      "[9, 30, 31, 32, 40, 42, 44, 53, 58, 64, 70, 74, 79]\n",
      "[18, 30, 40, 42, 44, 53, 58, 64, 70, 74, 78, 79, 81]\n",
      "[9, 30, 31, 32, 40, 42, 53, 58, 61, 64, 70, 74, 79]\n",
      "Grafo densamente conectado gerado e salvo em 'grafo.txt'.\n",
      "Cliques maximais encontradas de tamanho 13: \n",
      "[1, 6, 23, 24, 29, 34, 36, 40, 45, 49, 66, 68, 78]\n",
      "[1, 6, 24, 29, 34, 36, 40, 45, 49, 66, 68, 69, 78]\n",
      "[2, 3, 7, 9, 20, 37, 43, 47, 62, 63, 71, 72, 80]\n",
      "[2, 3, 7, 9, 20, 31, 37, 43, 47, 62, 63, 72, 80]\n",
      "[2, 7, 8, 22, 25, 40, 43, 47, 56, 62, 63, 74, 80]\n",
      "[7, 18, 20, 41, 43, 47, 62, 65, 71, 72, 74, 78, 80]\n",
      "[7, 18, 20, 26, 41, 43, 47, 62, 65, 71, 74, 78, 80]\n",
      "[7, 18, 20, 26, 41, 43, 47, 55, 62, 65, 71, 74, 78]\n",
      "[2, 20, 31, 37, 43, 47, 59, 62, 63, 65, 72, 74, 80]\n",
      "[2, 20, 31, 37, 43, 47, 59, 62, 65, 72, 74, 78, 80]\n",
      "[2, 3, 20, 31, 37, 43, 47, 59, 62, 63, 65, 72, 80]\n",
      "[3, 5, 23, 27, 29, 34, 45, 49, 59, 62, 65, 76, 77]\n",
      "[3, 5, 23, 29, 34, 45, 49, 59, 62, 65, 66, 68, 77]\n",
      "[3, 5, 23, 29, 34, 45, 49, 59, 62, 65, 68, 76, 77]\n",
      "[3, 22, 23, 27, 29, 34, 45, 49, 59, 62, 65, 76, 77]\n",
      "[3, 22, 23, 27, 29, 45, 51, 59, 62, 65, 72, 76, 77]\n",
      "[3, 22, 23, 27, 29, 45, 49, 59, 62, 65, 72, 76, 77]\n",
      "[2, 3, 7, 20, 22, 43, 47, 62, 63, 65, 71, 72, 80]\n",
      "[2, 3, 7, 20, 37, 43, 47, 62, 63, 65, 71, 72, 80]\n",
      "[2, 7, 18, 20, 43, 47, 62, 65, 71, 72, 74, 78, 80]\n",
      "[2, 7, 20, 37, 43, 47, 62, 65, 71, 72, 74, 78, 80]\n",
      "[2, 7, 20, 22, 43, 47, 62, 63, 65, 71, 72, 74, 80]\n",
      "[2, 7, 18, 20, 22, 43, 47, 62, 65, 71, 72, 74, 80]\n",
      "[2, 7, 20, 37, 43, 47, 62, 63, 65, 71, 72, 74, 80]\n",
      "[2, 7, 8, 22, 43, 47, 62, 63, 65, 71, 72, 74, 80]\n",
      "[2, 7, 8, 37, 43, 47, 62, 63, 65, 71, 72, 74, 80]\n",
      "[2, 7, 8, 18, 22, 43, 47, 62, 65, 71, 72, 74, 80]\n",
      "[2, 3, 7, 20, 31, 37, 43, 47, 62, 63, 65, 72, 80]\n",
      "[2, 7, 20, 31, 37, 43, 47, 62, 63, 65, 72, 74, 80]\n",
      "[2, 7, 20, 31, 37, 43, 47, 62, 65, 72, 74, 78, 80]\n",
      "[2, 7, 8, 31, 37, 43, 47, 62, 63, 65, 72, 74, 80]\n",
      "[2, 8, 14, 29, 32, 43, 44, 58, 62, 65, 73, 74, 82]\n",
      "[2, 6, 8, 11, 23, 31, 45, 46, 48, 65, 68, 70, 72]\n",
      "[7, 18, 20, 41, 43, 47, 48, 65, 71, 72, 74, 78, 80]\n",
      "[2, 7, 18, 20, 43, 47, 48, 65, 71, 72, 74, 78, 80]\n",
      "[2, 7, 18, 20, 22, 43, 47, 48, 65, 71, 72, 74, 80]\n",
      "[7, 18, 20, 26, 41, 43, 47, 48, 65, 71, 74, 78, 80]\n",
      "[2, 7, 8, 18, 22, 43, 47, 48, 65, 71, 72, 74, 80]\n",
      "Grafo densamente conectado gerado e salvo em 'grafo.txt'.\n",
      "Cliques maximais encontradas de tamanho 15: \n",
      "[2, 5, 6, 8, 11, 19, 25, 31, 34, 41, 49, 55, 59, 66, 67]\n",
      "Grafo densamente conectado gerado e salvo em 'grafo.txt'.\n",
      "Cliques maximais encontradas de tamanho 14: \n",
      "[2, 6, 12, 13, 22, 26, 27, 32, 42, 67, 72, 80, 81, 82]\n",
      "Grafo densamente conectado gerado e salvo em 'grafo.txt'.\n",
      "Cliques maximais encontradas de tamanho 14: \n",
      "[9, 17, 21, 36, 38, 39, 48, 61, 62, 63, 67, 68, 74, 78]\n",
      "Grafo densamente conectado gerado e salvo em 'grafo.txt'.\n",
      "Cliques maximais encontradas de tamanho 14: \n",
      "[1, 8, 16, 18, 21, 22, 23, 33, 34, 43, 69, 70, 75, 77]\n",
      "[1, 8, 16, 18, 21, 22, 31, 33, 34, 43, 69, 70, 75, 77]\n",
      "[18, 22, 24, 31, 33, 34, 41, 43, 60, 66, 67, 71, 75, 77]\n",
      "[8, 16, 18, 21, 22, 24, 31, 33, 34, 43, 69, 70, 75, 77]\n",
      "[16, 18, 21, 22, 24, 31, 33, 34, 41, 43, 66, 71, 75, 77]\n",
      "[18, 20, 22, 24, 31, 33, 43, 60, 66, 67, 71, 75, 77, 82]\n",
      "[8, 16, 18, 21, 22, 23, 24, 33, 34, 43, 69, 70, 75, 77]\n",
      "[16, 18, 21, 22, 23, 24, 33, 34, 41, 43, 66, 71, 75, 77]\n",
      "[6, 7, 20, 24, 25, 35, 44, 45, 59, 67, 71, 75, 81, 85]\n",
      "[3, 6, 7, 14, 35, 44, 45, 54, 67, 71, 75, 77, 81, 85]\n",
      "[11, 16, 18, 21, 22, 27, 29, 31, 33, 34, 41, 47, 66, 75]\n",
      "[8, 11, 16, 18, 21, 22, 27, 29, 31, 33, 34, 41, 47, 75]\n",
      "[1, 8, 11, 16, 18, 21, 22, 27, 29, 31, 33, 34, 41, 75]\n",
      "[11, 16, 18, 21, 22, 29, 31, 33, 34, 41, 47, 66, 75, 83]\n",
      "[11, 16, 18, 21, 22, 24, 29, 31, 33, 34, 41, 66, 75, 83]\n",
      "[8, 11, 16, 18, 21, 22, 29, 31, 33, 34, 41, 47, 75, 83]\n",
      "[1, 8, 11, 16, 18, 21, 22, 29, 31, 33, 34, 41, 75, 83]\n",
      "[8, 11, 16, 18, 21, 22, 24, 29, 31, 33, 34, 41, 75, 83]\n",
      "[1, 8, 11, 16, 18, 21, 22, 27, 31, 33, 34, 41, 75, 77]\n",
      "[1, 8, 11, 16, 18, 21, 22, 31, 33, 34, 41, 75, 77, 83]\n",
      "[11, 16, 18, 21, 22, 24, 31, 33, 34, 41, 66, 75, 77, 83]\n",
      "[8, 11, 16, 18, 21, 22, 24, 31, 33, 34, 41, 75, 77, 83]\n",
      "[1, 8, 11, 16, 18, 21, 22, 23, 27, 33, 34, 41, 75, 77]\n",
      "[1, 8, 11, 16, 18, 21, 22, 23, 33, 34, 41, 75, 77, 83]\n",
      "[11, 16, 18, 21, 22, 23, 24, 33, 34, 41, 66, 75, 77, 83]\n",
      "[8, 11, 16, 18, 21, 22, 23, 24, 33, 34, 41, 75, 77, 83]\n",
      "[1, 2, 8, 11, 16, 18, 21, 22, 29, 31, 34, 36, 41, 83]\n",
      "[2, 11, 16, 18, 21, 22, 24, 29, 31, 34, 36, 41, 66, 83]\n",
      "[2, 8, 11, 16, 18, 21, 22, 24, 29, 31, 34, 36, 41, 83]\n",
      "[1, 2, 8, 11, 16, 21, 22, 34, 36, 41, 56, 61, 74, 83]\n",
      "[1, 2, 8, 11, 16, 18, 21, 22, 29, 34, 36, 41, 61, 83]\n",
      "[2, 11, 16, 18, 21, 22, 24, 29, 34, 36, 41, 61, 66, 83]\n",
      "[2, 8, 11, 16, 18, 21, 22, 24, 29, 34, 36, 41, 61, 83]\n",
      "[1, 2, 8, 11, 18, 21, 22, 27, 29, 34, 36, 41, 52, 61]\n",
      "[1, 2, 8, 11, 18, 21, 22, 27, 29, 31, 34, 36, 41, 52]\n",
      "[1, 2, 8, 11, 18, 21, 22, 27, 31, 34, 41, 48, 52, 77]\n",
      "[1, 2, 8, 11, 18, 21, 22, 27, 34, 41, 48, 52, 61, 77]\n",
      "[1, 2, 8, 11, 18, 21, 22, 27, 34, 36, 41, 48, 52, 61]\n",
      "[1, 2, 8, 11, 18, 21, 22, 27, 31, 34, 36, 41, 48, 52]\n",
      "[1, 2, 8, 11, 16, 18, 21, 22, 27, 29, 34, 36, 41, 61]\n",
      "[1, 2, 8, 11, 16, 18, 21, 22, 27, 29, 31, 34, 36, 41]\n",
      "Grafo densamente conectado gerado e salvo em 'grafo.txt'.\n",
      "Cliques maximais encontradas de tamanho 14: \n",
      "[6, 7, 8, 15, 25, 29, 32, 40, 41, 53, 59, 62, 72, 79]\n",
      "[6, 7, 8, 15, 18, 25, 29, 32, 40, 41, 53, 59, 72, 79]\n",
      "[6, 7, 8, 15, 18, 23, 25, 29, 32, 40, 41, 53, 72, 79]\n",
      "[6, 7, 8, 15, 24, 31, 32, 42, 53, 59, 62, 68, 77, 79]\n",
      "[6, 8, 15, 18, 25, 29, 32, 40, 41, 53, 59, 72, 79, 82]\n",
      "[6, 8, 15, 18, 23, 25, 29, 32, 40, 41, 53, 72, 79, 82]\n",
      "Grafo densamente conectado gerado e salvo em 'grafo.txt'.\n",
      "Cliques maximais encontradas de tamanho 14: \n",
      "[6, 14, 18, 20, 23, 27, 31, 37, 41, 43, 64, 68, 76, 83]\n",
      "[6, 14, 20, 23, 26, 27, 31, 37, 41, 43, 64, 68, 76, 83]\n",
      "[6, 14, 18, 20, 23, 27, 29, 37, 41, 43, 51, 68, 76, 83]\n",
      "[6, 14, 18, 20, 23, 27, 31, 37, 41, 43, 51, 68, 76, 83]\n",
      "[6, 14, 20, 23, 26, 27, 31, 37, 41, 43, 51, 68, 76, 83]\n",
      "[6, 14, 20, 26, 27, 31, 37, 41, 43, 51, 59, 68, 76, 83]\n",
      "[14, 18, 20, 23, 27, 29, 37, 41, 43, 51, 63, 68, 76, 83]\n",
      "[14, 18, 20, 23, 27, 31, 37, 41, 43, 51, 63, 68, 76, 83]\n",
      "[14, 20, 23, 26, 27, 31, 37, 41, 43, 51, 63, 68, 76, 83]\n",
      "[6, 8, 11, 18, 20, 29, 38, 62, 65, 68, 78, 80, 83, 85]\n",
      "[6, 11, 18, 20, 29, 38, 62, 65, 68, 76, 78, 80, 83, 85]\n",
      "[6, 18, 20, 23, 27, 29, 38, 51, 65, 68, 73, 76, 83, 85]\n",
      "[6, 11, 18, 20, 23, 29, 38, 51, 65, 68, 73, 76, 83, 85]\n",
      "[6, 8, 11, 18, 20, 29, 38, 62, 65, 68, 75, 78, 80, 83]\n",
      "[6, 8, 11, 18, 20, 29, 38, 52, 62, 65, 68, 75, 78, 83]\n",
      "[11, 12, 19, 20, 22, 29, 32, 38, 44, 51, 61, 73, 74, 85]\n",
      "[6, 18, 20, 27, 33, 40, 43, 50, 51, 65, 73, 74, 75, 84]\n",
      "[6, 27, 32, 33, 43, 48, 51, 59, 65, 73, 74, 75, 82, 86]\n",
      "[6, 27, 31, 33, 43, 48, 51, 59, 65, 73, 74, 75, 82, 86]\n",
      "[6, 27, 31, 33, 43, 48, 51, 59, 65, 73, 74, 76, 82, 86]\n",
      "[2, 12, 20, 27, 32, 38, 44, 49, 61, 65, 69, 73, 74, 85]\n",
      "[2, 12, 20, 23, 27, 38, 44, 49, 61, 65, 69, 73, 74, 85]\n",
      "[2, 18, 20, 23, 27, 38, 44, 49, 65, 69, 73, 74, 76, 85]\n",
      "[2, 11, 12, 20, 32, 38, 44, 49, 61, 65, 69, 73, 74, 85]\n",
      "[2, 11, 12, 20, 23, 38, 44, 49, 61, 65, 69, 73, 74, 85]\n",
      "[2, 11, 18, 20, 23, 38, 44, 49, 65, 69, 73, 74, 76, 85]\n",
      "[2, 11, 12, 19, 20, 32, 38, 44, 49, 61, 65, 73, 74, 85]\n",
      "[11, 12, 19, 20, 29, 32, 38, 44, 49, 61, 65, 73, 74, 85]\n",
      "[18, 20, 23, 27, 38, 44, 51, 65, 69, 73, 74, 76, 85, 86]\n",
      "[18, 20, 23, 27, 38, 40, 44, 51, 65, 69, 73, 74, 76, 85]\n",
      "[2, 18, 20, 23, 27, 38, 40, 44, 65, 69, 73, 74, 76, 85]\n",
      "[11, 18, 20, 23, 38, 40, 44, 51, 65, 69, 73, 74, 76, 85]\n",
      "[2, 11, 18, 20, 23, 38, 40, 44, 65, 69, 73, 74, 76, 85]\n",
      "[6, 18, 20, 23, 27, 29, 38, 51, 65, 73, 74, 76, 83, 85]\n",
      "[6, 11, 18, 20, 23, 29, 38, 51, 65, 73, 74, 76, 83, 85]\n",
      "[6, 18, 20, 23, 27, 29, 38, 40, 51, 65, 73, 74, 76, 85]\n",
      "[6, 11, 18, 20, 23, 29, 38, 40, 51, 65, 73, 74, 76, 85]\n",
      "[11, 12, 19, 20, 29, 32, 38, 44, 51, 61, 65, 73, 74, 85]\n",
      "[18, 20, 23, 27, 29, 38, 40, 44, 51, 65, 73, 74, 76, 85]\n",
      "[11, 18, 20, 23, 29, 38, 40, 44, 51, 65, 73, 74, 76, 85]\n",
      "Grafo densamente conectado gerado e salvo em 'grafo.txt'.\n",
      "Cliques maximais encontradas de tamanho 14: \n",
      "[8, 10, 17, 27, 30, 33, 34, 41, 61, 65, 72, 74, 75, 78]\n",
      "[8, 16, 17, 21, 22, 27, 41, 61, 67, 70, 75, 77, 78, 83]\n",
      "[8, 16, 17, 20, 22, 27, 41, 61, 67, 70, 75, 77, 78, 83]\n",
      "[8, 16, 17, 21, 22, 27, 41, 61, 65, 67, 70, 75, 77, 78]\n",
      "[10, 17, 20, 22, 41, 43, 54, 58, 61, 67, 68, 77, 78, 83]\n",
      "[10, 17, 20, 22, 41, 43, 54, 58, 61, 63, 68, 77, 78, 83]\n",
      "[8, 10, 17, 20, 22, 27, 41, 58, 61, 67, 75, 77, 78, 83]\n",
      "[8, 10, 16, 17, 20, 22, 27, 41, 61, 67, 75, 77, 78, 83]\n",
      "[8, 10, 17, 20, 22, 41, 43, 58, 61, 67, 75, 77, 78, 83]\n",
      "[8, 10, 16, 17, 20, 22, 41, 43, 61, 67, 75, 77, 78, 83]\n",
      "[5, 10, 16, 17, 21, 22, 27, 41, 61, 67, 75, 77, 78, 83]\n",
      "[8, 10, 16, 17, 21, 22, 27, 41, 61, 67, 75, 77, 78, 83]\n",
      "[8, 10, 16, 17, 21, 22, 41, 43, 61, 67, 75, 77, 78, 83]\n",
      "[8, 10, 16, 17, 21, 22, 27, 41, 61, 65, 67, 75, 77, 78]\n",
      "[8, 10, 16, 17, 21, 22, 41, 43, 61, 65, 67, 75, 77, 78]\n",
      "[8, 10, 16, 17, 22, 27, 33, 41, 61, 65, 67, 75, 77, 78]\n",
      "[8, 10, 16, 17, 22, 33, 41, 43, 61, 65, 67, 75, 77, 78]\n",
      "[8, 10, 16, 17, 20, 22, 27, 33, 41, 61, 67, 75, 77, 78]\n",
      "[8, 10, 16, 17, 20, 22, 33, 41, 43, 61, 67, 75, 77, 78]\n",
      "[10, 17, 20, 22, 31, 43, 54, 58, 61, 67, 68, 77, 78, 83]\n",
      "[10, 17, 20, 22, 31, 43, 54, 58, 61, 63, 68, 77, 78, 83]\n",
      "[10, 17, 28, 33, 40, 43, 53, 54, 71, 72, 73, 80, 81, 86]\n",
      "[8, 10, 17, 28, 33, 40, 43, 53, 71, 72, 73, 80, 81, 86]\n",
      "[8, 10, 16, 17, 20, 27, 33, 41, 61, 67, 75, 77, 78, 84]\n",
      "[8, 10, 16, 17, 20, 33, 41, 43, 61, 67, 75, 77, 78, 84]\n",
      "[8, 10, 16, 17, 33, 41, 43, 61, 65, 67, 75, 77, 78, 84]\n",
      "[8, 10, 16, 17, 33, 41, 43, 61, 65, 67, 72, 75, 78, 84]\n",
      "[8, 10, 16, 17, 27, 33, 41, 61, 65, 67, 75, 77, 78, 84]\n",
      "[8, 10, 16, 17, 27, 33, 41, 61, 65, 67, 72, 75, 78, 84]\n",
      "[10, 17, 21, 23, 28, 37, 43, 53, 54, 71, 72, 73, 80, 81]\n",
      "[10, 21, 23, 26, 28, 37, 43, 53, 54, 71, 72, 73, 80, 81]\n",
      "[10, 17, 23, 28, 33, 37, 43, 53, 54, 71, 72, 73, 80, 81]\n",
      "[10, 23, 26, 28, 33, 37, 43, 53, 54, 71, 72, 73, 80, 81]\n",
      "[7, 8, 10, 23, 26, 28, 33, 43, 53, 71, 72, 73, 80, 81]\n",
      "[2, 7, 8, 10, 16, 20, 27, 33, 40, 47, 53, 80, 82, 84]\n",
      "[2, 7, 8, 10, 16, 20, 27, 30, 33, 40, 47, 53, 80, 82]\n",
      "[2, 7, 8, 10, 20, 27, 33, 40, 47, 53, 80, 82, 84, 87]\n",
      "[1, 2, 7, 8, 10, 20, 27, 33, 40, 47, 53, 80, 82, 87]\n",
      "[2, 7, 8, 10, 20, 27, 30, 33, 40, 47, 53, 80, 82, 87]\n",
      "[2, 10, 17, 20, 31, 43, 54, 58, 61, 63, 68, 77, 78, 83]\n",
      "[2, 7, 8, 10, 16, 20, 27, 33, 47, 77, 78, 80, 82, 84]\n",
      "[2, 7, 8, 10, 16, 20, 27, 33, 40, 47, 77, 80, 82, 84]\n",
      "[2, 7, 8, 10, 20, 27, 33, 47, 77, 78, 80, 82, 84, 87]\n",
      "[2, 7, 8, 10, 20, 27, 33, 40, 47, 77, 80, 82, 84, 87]\n",
      "[2, 10, 17, 20, 31, 43, 54, 58, 61, 63, 68, 77, 78, 87]\n",
      "[2, 8, 14, 27, 30, 42, 46, 47, 51, 58, 60, 64, 78, 89]\n",
      "[1, 2, 7, 8, 10, 20, 27, 33, 40, 47, 77, 80, 82, 87]\n",
      "Grafo densamente conectado gerado e salvo em 'grafo.txt'.\n",
      "Cliques maximais encontradas de tamanho 14: \n",
      "[4, 11, 20, 23, 37, 40, 42, 48, 57, 62, 65, 74, 80, 89]\n",
      "[2, 4, 11, 20, 23, 37, 40, 48, 57, 62, 65, 74, 80, 89]\n",
      "[4, 8, 11, 20, 23, 40, 42, 48, 57, 62, 65, 74, 80, 89]\n",
      "[2, 4, 8, 11, 20, 23, 40, 48, 57, 62, 65, 74, 80, 89]\n",
      "[6, 9, 11, 21, 28, 35, 39, 40, 42, 48, 52, 57, 80, 89]\n",
      "[6, 9, 11, 21, 35, 39, 40, 42, 48, 52, 57, 74, 80, 89]\n",
      "[6, 9, 11, 21, 35, 39, 40, 48, 52, 57, 74, 80, 89, 90]\n",
      "[9, 11, 21, 35, 39, 40, 48, 52, 56, 57, 74, 80, 89, 90]\n",
      "[6, 9, 21, 22, 28, 35, 37, 39, 40, 42, 48, 57, 80, 89]\n",
      "[6, 9, 11, 21, 28, 35, 37, 39, 40, 42, 48, 57, 80, 89]\n",
      "[6, 9, 21, 22, 35, 37, 39, 40, 42, 48, 57, 74, 80, 89]\n",
      "[2, 6, 9, 11, 21, 37, 39, 40, 48, 57, 74, 80, 89, 90]\n",
      "[6, 9, 11, 21, 35, 37, 39, 40, 42, 48, 57, 74, 80, 89]\n",
      "[6, 9, 11, 21, 35, 37, 39, 40, 48, 57, 74, 80, 89, 90]\n",
      "[6, 9, 21, 22, 26, 35, 37, 39, 40, 42, 48, 57, 74, 80]\n",
      "[9, 11, 21, 32, 35, 37, 39, 48, 56, 57, 74, 80, 89, 90]\n",
      "[9, 11, 21, 35, 37, 39, 40, 48, 56, 57, 74, 80, 89, 90]\n",
      "Grafo densamente conectado gerado e salvo em 'grafo.txt'.\n",
      "Cliques maximais encontradas de tamanho 14: \n",
      "[10, 21, 24, 37, 40, 41, 45, 71, 74, 75, 81, 82, 87, 90]\n",
      "[10, 21, 24, 28, 37, 40, 41, 45, 71, 74, 81, 82, 87, 90]\n",
      "Grafo densamente conectado gerado e salvo em 'grafo.txt'.\n",
      "Cliques maximais encontradas de tamanho 14: \n",
      "[2, 7, 18, 24, 29, 31, 37, 40, 51, 58, 63, 66, 87, 88]\n",
      "[2, 7, 8, 18, 24, 29, 31, 37, 40, 51, 56, 58, 63, 66]\n",
      "[2, 7, 24, 29, 37, 48, 55, 57, 63, 66, 68, 82, 87, 88]\n",
      "[2, 7, 24, 29, 37, 51, 55, 57, 58, 63, 66, 82, 87, 88]\n",
      "[2, 7, 24, 29, 37, 55, 57, 58, 63, 66, 68, 82, 87, 88]\n",
      "[2, 7, 8, 18, 24, 31, 37, 40, 51, 56, 58, 63, 66, 69]\n",
      "[3, 8, 24, 25, 29, 40, 45, 49, 64, 72, 77, 78, 84, 86]\n",
      "[3, 8, 24, 25, 29, 40, 45, 49, 64, 65, 72, 77, 84, 86]\n",
      "[3, 8, 24, 25, 29, 40, 45, 49, 58, 64, 72, 77, 84, 86]\n",
      "Grafo densamente conectado gerado e salvo em 'grafo.txt'.\n",
      "Cliques maximais encontradas de tamanho 14: \n",
      "[17, 29, 33, 36, 48, 52, 63, 68, 71, 74, 76, 77, 79, 91]\n",
      "[1, 7, 9, 19, 28, 29, 35, 64, 72, 76, 79, 80, 84, 91]\n",
      "[1, 9, 17, 29, 33, 36, 48, 52, 63, 71, 74, 76, 79, 91]\n",
      "[3, 5, 9, 11, 37, 40, 55, 66, 72, 76, 82, 84, 86, 89]\n",
      "[1, 7, 8, 19, 28, 29, 35, 64, 72, 76, 79, 80, 84, 91]\n",
      "Grafo densamente conectado gerado e salvo em 'grafo.txt'.\n",
      "Cliques maximais encontradas de tamanho 14: \n",
      "[10, 12, 32, 34, 41, 45, 48, 51, 53, 60, 79, 87, 89, 91]\n",
      "[1, 6, 33, 41, 43, 44, 46, 59, 65, 79, 80, 83, 87, 89]\n",
      "[11, 12, 17, 32, 41, 48, 51, 60, 65, 77, 79, 82, 87, 89]\n",
      "[11, 12, 17, 32, 41, 48, 51, 60, 65, 66, 79, 82, 87, 89]\n",
      "[6, 11, 12, 17, 32, 39, 41, 43, 65, 66, 79, 80, 83, 89]\n",
      "[6, 11, 12, 17, 32, 41, 43, 65, 66, 79, 80, 83, 87, 89]\n",
      "[6, 11, 14, 17, 32, 39, 41, 43, 65, 66, 79, 80, 83, 89]\n",
      "[6, 11, 12, 17, 39, 41, 43, 46, 65, 66, 79, 80, 83, 89]\n",
      "[6, 11, 12, 17, 41, 43, 46, 65, 66, 79, 80, 83, 87, 89]\n",
      "[6, 11, 12, 17, 32, 39, 41, 43, 65, 66, 79, 80, 82, 89]\n",
      "[6, 11, 14, 17, 32, 39, 41, 43, 65, 66, 79, 80, 82, 89]\n",
      "[6, 11, 12, 17, 39, 41, 43, 46, 65, 66, 79, 80, 82, 89]\n",
      "[6, 11, 12, 17, 32, 41, 43, 65, 66, 79, 80, 82, 87, 89]\n",
      "[6, 11, 12, 17, 41, 43, 46, 65, 66, 79, 80, 82, 87, 89]\n",
      "[6, 11, 12, 17, 32, 39, 41, 43, 65, 66, 79, 80, 83, 93]\n",
      "[6, 11, 12, 21, 32, 41, 43, 65, 79, 80, 83, 87, 91, 93]\n",
      "[6, 11, 12, 17, 32, 41, 43, 65, 66, 79, 80, 83, 87, 93]\n",
      "[6, 11, 14, 17, 32, 39, 41, 43, 65, 66, 79, 80, 83, 93]\n",
      "[6, 11, 21, 32, 41, 43, 44, 65, 79, 80, 83, 87, 91, 93]\n",
      "[6, 11, 12, 17, 39, 41, 43, 46, 65, 66, 79, 80, 83, 93]\n",
      "[6, 11, 12, 17, 41, 43, 46, 65, 66, 79, 80, 83, 87, 93]\n",
      "[4, 11, 12, 17, 32, 39, 41, 43, 65, 66, 79, 80, 83, 93]\n",
      "[4, 11, 12, 17, 32, 41, 43, 65, 66, 79, 80, 83, 87, 93]\n",
      "[4, 11, 12, 17, 32, 41, 48, 51, 65, 66, 79, 83, 87, 93]\n",
      "Grafo densamente conectado gerado e salvo em 'grafo.txt'.\n",
      "Cliques maximais encontradas de tamanho 15: \n",
      "[2, 6, 10, 25, 31, 38, 49, 54, 56, 62, 70, 78, 83, 86, 95]\n",
      "[6, 7, 9, 18, 20, 26, 28, 34, 49, 58, 62, 65, 74, 83, 84]\n",
      "[3, 7, 9, 15, 26, 32, 38, 54, 57, 61, 63, 78, 85, 89, 91]\n",
      "[3, 6, 7, 9, 15, 26, 32, 38, 54, 57, 61, 78, 85, 89, 91]\n",
      "[6, 9, 17, 26, 34, 43, 49, 58, 59, 60, 62, 65, 67, 74, 84]\n",
      "[6, 11, 17, 25, 26, 34, 41, 43, 49, 59, 62, 65, 67, 77, 84]\n",
      "[6, 11, 17, 25, 26, 34, 41, 43, 49, 52, 59, 65, 67, 77, 84]\n",
      "[6, 11, 17, 25, 26, 34, 41, 43, 49, 59, 62, 65, 67, 74, 84]\n",
      "[6, 11, 17, 25, 26, 34, 41, 43, 49, 52, 59, 65, 67, 74, 84]\n",
      "[2, 6, 11, 25, 26, 34, 41, 49, 59, 62, 65, 67, 77, 83, 84]\n",
      "[2, 6, 11, 21, 25, 26, 34, 36, 41, 49, 59, 65, 77, 83, 84]\n",
      "[2, 6, 8, 11, 21, 25, 26, 34, 36, 41, 59, 65, 77, 83, 84]\n",
      "[2, 6, 11, 25, 26, 34, 41, 49, 52, 59, 65, 67, 77, 83, 84]\n",
      "[2, 6, 11, 21, 25, 26, 34, 41, 49, 52, 59, 65, 77, 83, 84]\n",
      "[2, 6, 8, 11, 21, 25, 26, 34, 41, 52, 59, 65, 77, 83, 84]\n",
      "[2, 6, 11, 17, 25, 26, 34, 41, 49, 59, 62, 65, 67, 77, 84]\n",
      "[2, 6, 11, 17, 25, 26, 34, 41, 49, 52, 59, 65, 67, 77, 84]\n",
      "[6, 25, 26, 30, 31, 32, 38, 49, 54, 62, 70, 78, 83, 89, 95]\n",
      "[6, 15, 25, 26, 30, 31, 32, 38, 49, 54, 62, 70, 78, 89, 95]\n",
      "[6, 15, 25, 26, 30, 31, 32, 38, 49, 54, 62, 70, 81, 89, 95]\n",
      "[6, 15, 25, 26, 30, 31, 32, 38, 54, 62, 70, 81, 89, 94, 95]\n",
      "[6, 11, 17, 26, 34, 41, 43, 49, 58, 59, 62, 65, 67, 77, 84]\n",
      "[6, 11, 17, 26, 34, 41, 43, 49, 58, 59, 62, 65, 67, 74, 84]\n",
      "Grafo densamente conectado gerado e salvo em 'grafo.txt'.\n",
      "Cliques maximais encontradas de tamanho 14: \n",
      "[8, 15, 19, 37, 44, 45, 54, 55, 62, 64, 71, 79, 86, 93]\n",
      "[4, 8, 16, 17, 18, 19, 20, 45, 51, 54, 60, 69, 86, 93]\n",
      "[4, 8, 15, 16, 17, 18, 19, 20, 45, 51, 54, 60, 86, 93]\n",
      "[4, 8, 16, 17, 18, 20, 26, 45, 51, 54, 60, 69, 86, 93]\n",
      "[4, 16, 17, 19, 20, 45, 51, 53, 54, 78, 79, 87, 91, 93]\n",
      "[4, 15, 16, 17, 19, 20, 45, 51, 53, 54, 78, 79, 91, 93]\n",
      "[4, 8, 16, 17, 19, 20, 45, 51, 53, 54, 78, 79, 87, 93]\n",
      "[4, 8, 15, 16, 17, 19, 20, 45, 51, 53, 54, 78, 79, 93]\n",
      "[4, 16, 17, 20, 26, 45, 51, 53, 54, 78, 79, 87, 91, 93]\n",
      "[4, 8, 16, 17, 20, 26, 45, 51, 53, 54, 78, 79, 87, 93]\n",
      "[4, 13, 16, 17, 20, 26, 45, 53, 70, 78, 79, 87, 91, 93]\n",
      "[4, 16, 17, 20, 26, 45, 53, 54, 70, 78, 79, 87, 91, 93]\n",
      "[16, 17, 20, 26, 30, 45, 53, 54, 70, 78, 87, 91, 93, 96]\n",
      "[16, 17, 20, 26, 30, 45, 53, 54, 70, 78, 79, 87, 91, 93]\n",
      "[4, 17, 18, 20, 26, 35, 40, 45, 49, 54, 60, 63, 64, 91]\n",
      "[4, 7, 17, 18, 20, 22, 26, 35, 49, 63, 64, 70, 76, 91]\n",
      "[4, 7, 13, 17, 18, 20, 22, 26, 35, 49, 63, 70, 76, 91]\n",
      "[4, 8, 15, 17, 18, 19, 20, 37, 45, 54, 60, 64, 86, 93]\n",
      "[4, 8, 17, 18, 19, 20, 37, 45, 49, 54, 60, 64, 86, 93]\n",
      "[4, 17, 18, 20, 26, 35, 37, 40, 45, 49, 54, 60, 63, 64]\n",
      "[4, 8, 17, 18, 20, 26, 37, 45, 49, 54, 60, 64, 86, 93]\n",
      "[4, 8, 17, 18, 20, 26, 35, 37, 45, 49, 54, 60, 63, 64]\n",
      "[4, 8, 17, 18, 19, 20, 37, 45, 54, 60, 64, 69, 86, 93]\n",
      "[4, 17, 18, 20, 26, 35, 37, 40, 45, 54, 60, 63, 64, 69]\n",
      "[4, 8, 17, 18, 20, 26, 37, 45, 54, 60, 64, 69, 86, 93]\n",
      "[4, 8, 17, 18, 20, 26, 35, 37, 45, 54, 60, 63, 64, 69]\n",
      "[4, 8, 16, 17, 18, 20, 26, 35, 45, 54, 60, 63, 64, 69]\n",
      "[4, 8, 16, 17, 18, 19, 20, 45, 54, 60, 64, 69, 86, 93]\n",
      "[4, 8, 15, 16, 17, 18, 19, 20, 45, 54, 60, 64, 86, 93]\n",
      "[4, 8, 16, 17, 18, 20, 26, 45, 54, 60, 64, 69, 86, 93]\n",
      "[2, 12, 17, 30, 35, 36, 40, 49, 76, 84, 85, 91, 92, 96]\n",
      "[2, 7, 17, 30, 35, 36, 40, 49, 76, 84, 85, 91, 92, 96]\n",
      "[4, 17, 18, 25, 26, 35, 40, 45, 49, 54, 60, 63, 64, 91]\n",
      "[2, 19, 30, 32, 49, 58, 78, 80, 84, 85, 87, 89, 91, 96]\n",
      "[2, 19, 30, 32, 49, 54, 78, 80, 84, 85, 87, 89, 91, 96]\n",
      "[2, 7, 19, 30, 49, 58, 78, 80, 84, 85, 87, 89, 91, 96]\n",
      "[2, 7, 19, 30, 49, 58, 78, 80, 83, 85, 87, 89, 91, 96]\n",
      "[7, 27, 30, 36, 37, 40, 49, 50, 58, 76, 82, 84, 85, 96]\n",
      "[27, 30, 36, 37, 40, 46, 49, 50, 58, 76, 82, 84, 85, 96]\n",
      "[17, 30, 37, 40, 46, 54, 55, 60, 69, 73, 78, 83, 85, 96]\n",
      "[17, 30, 37, 40, 45, 46, 54, 55, 60, 69, 73, 78, 83, 96]\n",
      "[4, 15, 16, 17, 18, 19, 25, 34, 45, 54, 60, 64, 91, 93]\n",
      "[8, 15, 17, 19, 37, 44, 45, 54, 55, 60, 64, 66, 86, 93]\n",
      "[8, 15, 17, 18, 19, 37, 44, 45, 54, 55, 60, 64, 86, 93]\n",
      "[17, 26, 30, 37, 40, 45, 46, 54, 55, 60, 69, 73, 78, 96]\n",
      "[4, 15, 16, 17, 19, 34, 45, 51, 53, 54, 78, 79, 91, 93]\n",
      "[4, 15, 16, 17, 19, 25, 34, 45, 53, 54, 64, 79, 91, 93]\n",
      "[8, 15, 19, 37, 44, 45, 54, 55, 64, 66, 71, 79, 86, 93]\n",
      "[8, 15, 17, 19, 37, 44, 45, 54, 55, 64, 66, 79, 86, 93]\n",
      "[1, 12, 22, 30, 35, 36, 37, 50, 69, 76, 79, 82, 84, 88]\n",
      "[1, 7, 22, 30, 35, 36, 37, 50, 69, 76, 79, 82, 84, 88]\n",
      "[4, 15, 16, 17, 19, 24, 25, 34, 45, 53, 64, 79, 91, 93]\n",
      "[4, 15, 16, 19, 24, 34, 38, 45, 48, 64, 68, 71, 75, 79]\n",
      "[4, 15, 16, 19, 24, 25, 34, 38, 45, 48, 64, 68, 75, 79]\n",
      "[4, 15, 16, 19, 24, 29, 34, 38, 45, 48, 64, 68, 75, 79]\n",
      "[15, 16, 19, 24, 28, 32, 34, 38, 48, 64, 68, 71, 75, 79]\n",
      "[15, 16, 19, 24, 25, 28, 32, 34, 38, 48, 64, 68, 75, 79]\n",
      "[15, 16, 17, 19, 24, 25, 28, 34, 45, 53, 64, 79, 91, 93]\n",
      "[15, 16, 19, 24, 28, 34, 38, 45, 48, 64, 68, 71, 75, 79]\n",
      "[15, 16, 19, 24, 25, 28, 34, 38, 45, 48, 64, 68, 75, 79]\n",
      "[15, 16, 19, 24, 28, 29, 34, 38, 45, 48, 64, 68, 75, 79]\n",
      "[13, 16, 22, 24, 32, 34, 35, 39, 56, 70, 74, 82, 85, 91]\n",
      "[13, 16, 22, 24, 32, 34, 35, 39, 56, 70, 74, 79, 82, 91]\n",
      "[1, 3, 24, 44, 45, 50, 53, 56, 66, 71, 79, 87, 89, 93]\n",
      "[1, 3, 24, 44, 45, 50, 53, 56, 66, 79, 80, 87, 89, 93]\n",
      "[15, 19, 24, 44, 45, 55, 64, 66, 71, 74, 79, 86, 89, 93]\n",
      "Grafo densamente conectado gerado e salvo em 'grafo.txt'.\n",
      "Cliques maximais encontradas de tamanho 15: \n",
      "[7, 22, 23, 28, 29, 34, 35, 49, 60, 63, 68, 74, 81, 83, 91]\n",
      "[14, 16, 20, 22, 36, 52, 59, 62, 63, 70, 74, 83, 84, 91, 96]\n",
      "[14, 16, 20, 22, 36, 52, 59, 62, 63, 74, 83, 84, 90, 91, 96]\n",
      "[14, 15, 16, 20, 22, 36, 52, 59, 62, 63, 74, 84, 90, 91, 96]\n",
      "[14, 15, 16, 20, 22, 36, 52, 56, 59, 62, 74, 84, 90, 91, 96]\n",
      "[14, 20, 22, 36, 59, 62, 63, 70, 74, 83, 84, 85, 87, 91, 96]\n",
      "Grafo densamente conectado gerado e salvo em 'grafo.txt'.\n",
      "Cliques maximais encontradas de tamanho 15: \n",
      "[4, 9, 16, 19, 36, 41, 51, 58, 60, 63, 65, 70, 90, 97, 98]\n",
      "[4, 16, 19, 36, 41, 51, 58, 60, 63, 65, 70, 72, 90, 97, 98]\n",
      "Grafo densamente conectado gerado e salvo em 'grafo.txt'.\n",
      "Cliques maximais encontradas de tamanho 15: \n",
      "[4, 9, 16, 19, 37, 46, 55, 59, 62, 64, 81, 83, 93, 94, 99]\n",
      "Grafo densamente conectado gerado e salvo em 'grafo.txt'.\n",
      "Cliques maximais encontradas de tamanho 14: \n",
      "[9, 11, 30, 32, 35, 48, 50, 63, 77, 84, 90, 92, 96, 100]\n",
      "[11, 12, 13, 22, 30, 32, 35, 38, 43, 46, 76, 89, 96, 99]\n",
      "[12, 14, 18, 22, 25, 26, 32, 38, 46, 55, 79, 89, 94, 96]\n",
      "[12, 14, 18, 22, 25, 26, 32, 38, 46, 55, 79, 82, 94, 96]\n",
      "[11, 13, 16, 22, 30, 32, 35, 38, 43, 46, 76, 89, 96, 99]\n",
      "Grafo densamente conectado gerado e salvo em 'grafo.txt'.\n",
      "Cliques maximais encontradas de tamanho 16: \n",
      "[10, 17, 20, 23, 43, 47, 52, 53, 61, 62, 69, 75, 77, 88, 93, 96]\n",
      "[10, 17, 20, 23, 43, 47, 52, 61, 62, 69, 74, 75, 77, 88, 93, 96]\n",
      "[2, 20, 23, 43, 47, 52, 61, 68, 69, 74, 75, 77, 88, 89, 93, 96]\n",
      "[2, 10, 20, 23, 43, 47, 52, 61, 68, 69, 74, 75, 77, 88, 93, 96]\n",
      "[2, 10, 17, 20, 23, 43, 47, 52, 61, 69, 74, 75, 77, 88, 93, 96]\n",
      "[2, 20, 23, 35, 43, 47, 52, 61, 68, 69, 74, 75, 77, 88, 89, 93]\n",
      "Grafo densamente conectado gerado e salvo em 'grafo.txt'.\n",
      "Cliques maximais encontradas de tamanho 15: \n",
      "[6, 11, 28, 39, 43, 53, 59, 84, 86, 91, 92, 95, 100, 101, 102]\n",
      "[6, 11, 28, 39, 43, 53, 59, 73, 84, 86, 91, 95, 100, 101, 102]\n",
      "[6, 11, 28, 39, 43, 53, 59, 61, 73, 84, 86, 91, 95, 101, 102]\n",
      "Grafo densamente conectado gerado e salvo em 'grafo.txt'.\n",
      "Cliques maximais encontradas de tamanho 14: \n",
      "[2, 4, 6, 7, 28, 45, 51, 56, 58, 60, 63, 86, 93, 103]\n",
      "[24, 26, 40, 46, 48, 57, 60, 64, 72, 76, 84, 87, 90, 98]\n",
      "[24, 26, 33, 40, 46, 48, 57, 60, 64, 72, 76, 84, 87, 90]\n",
      "[2, 6, 7, 30, 32, 45, 49, 51, 56, 66, 84, 93, 100, 103]\n",
      "[2, 6, 7, 28, 30, 32, 45, 49, 51, 56, 66, 93, 100, 103]\n",
      "[2, 6, 7, 28, 30, 32, 45, 51, 56, 58, 86, 93, 100, 103]\n",
      "[2, 6, 7, 28, 30, 32, 45, 51, 56, 58, 66, 93, 100, 103]\n",
      "[2, 6, 7, 28, 30, 45, 51, 56, 58, 63, 86, 93, 100, 103]\n",
      "[2, 6, 7, 28, 30, 45, 51, 56, 58, 63, 66, 93, 100, 103]\n",
      "[2, 6, 7, 30, 32, 45, 49, 51, 56, 66, 82, 93, 100, 103]\n",
      "[2, 6, 7, 30, 32, 45, 51, 56, 58, 66, 82, 93, 100, 103]\n",
      "[2, 6, 7, 30, 45, 51, 56, 58, 63, 66, 82, 93, 100, 103]\n",
      "[2, 7, 28, 30, 32, 45, 51, 56, 58, 86, 88, 93, 100, 103]\n",
      "[2, 7, 28, 30, 32, 45, 51, 56, 58, 66, 88, 93, 100, 103]\n",
      "[2, 7, 28, 30, 45, 51, 56, 58, 63, 86, 88, 93, 100, 103]\n",
      "[2, 7, 28, 30, 45, 51, 56, 58, 63, 66, 88, 93, 100, 103]\n",
      "[2, 4, 6, 7, 11, 20, 28, 32, 45, 51, 58, 71, 86, 103]\n",
      "[2, 4, 6, 7, 11, 20, 28, 45, 51, 58, 65, 71, 86, 103]\n",
      "[2, 3, 6, 7, 16, 29, 45, 49, 51, 56, 57, 65, 84, 93]\n",
      "[2, 3, 6, 7, 16, 20, 29, 45, 49, 51, 57, 65, 84, 93]\n",
      "[10, 16, 22, 24, 26, 44, 48, 50, 54, 62, 65, 72, 84, 90]\n",
      "[16, 22, 24, 26, 48, 50, 54, 62, 65, 72, 76, 84, 87, 90]\n",
      "[16, 22, 24, 26, 40, 48, 50, 54, 65, 72, 76, 84, 87, 90]\n",
      "[16, 17, 22, 24, 26, 48, 50, 54, 62, 65, 72, 76, 87, 90]\n",
      "[3, 4, 6, 11, 16, 17, 20, 33, 39, 44, 45, 49, 50, 65]\n",
      "[3, 4, 11, 16, 17, 20, 33, 37, 39, 44, 45, 49, 50, 65]\n",
      "[2, 3, 6, 7, 16, 29, 45, 49, 51, 56, 57, 84, 93, 100]\n",
      "[2, 3, 6, 7, 16, 20, 29, 45, 49, 51, 57, 84, 93, 100]\n",
      "[2, 3, 6, 7, 16, 20, 29, 32, 45, 49, 51, 84, 93, 100]\n",
      "[2, 6, 7, 16, 20, 28, 29, 32, 45, 49, 51, 66, 93, 100]\n",
      "[2, 6, 7, 16, 20, 29, 32, 45, 49, 51, 66, 84, 93, 100]\n",
      "[2, 16, 20, 25, 28, 32, 33, 40, 51, 70, 76, 77, 86, 101]\n",
      "[2, 3, 6, 7, 16, 29, 32, 45, 49, 51, 56, 84, 93, 100]\n",
      "[2, 6, 7, 16, 28, 29, 32, 45, 49, 51, 56, 66, 93, 100]\n",
      "[2, 6, 7, 16, 29, 32, 45, 49, 51, 56, 66, 84, 93, 100]\n",
      "[2, 6, 7, 29, 30, 32, 45, 49, 51, 56, 66, 82, 93, 100]\n",
      "[2, 7, 28, 30, 32, 45, 51, 56, 58, 66, 73, 88, 93, 100]\n",
      "[2, 7, 28, 30, 45, 51, 56, 58, 63, 66, 73, 88, 93, 100]\n",
      "[2, 6, 7, 28, 29, 30, 32, 45, 49, 51, 56, 66, 93, 100]\n",
      "[2, 6, 7, 29, 30, 32, 45, 49, 51, 56, 66, 84, 93, 100]\n",
      "Grafo densamente conectado gerado e salvo em 'grafo.txt'.\n",
      "Cliques maximais encontradas de tamanho 16: \n",
      "[1, 21, 27, 38, 51, 52, 54, 60, 61, 62, 68, 70, 74, 80, 81, 91]\n",
      "[1, 21, 27, 38, 51, 52, 54, 57, 60, 62, 68, 70, 74, 80, 81, 91]\n",
      "Grafo densamente conectado gerado e salvo em 'grafo.txt'.\n",
      "Cliques maximais encontradas de tamanho 15: \n",
      "[12, 25, 33, 38, 39, 42, 67, 68, 70, 71, 72, 78, 79, 100, 102]\n",
      "[11, 12, 25, 33, 38, 39, 67, 68, 70, 71, 72, 78, 79, 100, 102]\n",
      "[11, 12, 20, 25, 33, 38, 39, 67, 70, 71, 72, 78, 79, 100, 102]\n",
      "[12, 20, 28, 33, 38, 40, 52, 53, 69, 71, 73, 74, 78, 95, 98]\n",
      "[20, 22, 39, 40, 41, 62, 63, 69, 71, 77, 80, 88, 91, 95, 98]\n",
      "[12, 20, 28, 33, 38, 40, 52, 69, 71, 73, 74, 78, 91, 95, 98]\n",
      "[12, 20, 22, 29, 33, 39, 40, 62, 69, 71, 88, 91, 95, 98, 102]\n",
      "[20, 22, 33, 39, 40, 41, 62, 69, 71, 77, 80, 88, 91, 95, 98]\n",
      "[20, 22, 29, 33, 39, 40, 41, 62, 69, 71, 77, 88, 91, 95, 98]\n",
      "Grafo densamente conectado gerado e salvo em 'grafo.txt'.\n",
      "Cliques maximais encontradas de tamanho 14: \n",
      "[3, 15, 16, 18, 26, 41, 60, 69, 78, 80, 84, 91, 102, 105]\n",
      "[3, 15, 16, 26, 41, 60, 69, 78, 80, 84, 87, 91, 102, 105]\n",
      "[8, 9, 29, 47, 55, 56, 64, 83, 85, 91, 95, 100, 102, 104]\n",
      "[8, 9, 29, 30, 47, 55, 56, 64, 83, 85, 91, 100, 102, 104]\n",
      "[9, 12, 18, 28, 30, 33, 54, 58, 69, 89, 90, 100, 102, 106]\n",
      "[8, 9, 26, 30, 47, 55, 56, 64, 83, 85, 91, 100, 102, 104]\n",
      "[8, 9, 26, 47, 55, 56, 64, 83, 85, 91, 95, 100, 102, 104]\n",
      "[11, 18, 29, 37, 44, 48, 50, 55, 64, 76, 91, 100, 103, 105]\n",
      "[11, 18, 29, 30, 37, 44, 48, 55, 64, 76, 91, 100, 103, 105]\n",
      "[11, 18, 19, 29, 37, 44, 48, 55, 64, 76, 91, 100, 103, 105]\n",
      "[11, 29, 37, 44, 48, 50, 51, 55, 64, 71, 76, 100, 103, 105]\n",
      "[4, 23, 29, 37, 41, 44, 47, 51, 56, 59, 76, 80, 99, 103]\n",
      "[4, 9, 23, 28, 29, 37, 41, 44, 51, 56, 59, 78, 80, 103]\n",
      "[4, 23, 29, 37, 41, 44, 51, 56, 59, 76, 78, 80, 99, 103]\n",
      "[4, 11, 23, 29, 37, 41, 44, 47, 51, 56, 59, 76, 99, 103]\n",
      "[4, 11, 23, 29, 37, 44, 50, 51, 56, 64, 71, 76, 99, 103]\n",
      "[4, 9, 23, 28, 29, 37, 41, 44, 51, 56, 71, 78, 80, 103]\n",
      "[4, 23, 29, 37, 41, 44, 51, 56, 71, 76, 78, 80, 99, 103]\n",
      "[9, 23, 29, 30, 31, 34, 37, 47, 56, 64, 81, 88, 91, 103]\n",
      "[8, 9, 29, 30, 34, 37, 47, 55, 56, 64, 81, 88, 91, 103]\n",
      "[9, 29, 30, 31, 34, 37, 47, 55, 56, 64, 81, 88, 91, 103]\n",
      "[7, 8, 9, 29, 30, 34, 37, 47, 55, 56, 81, 88, 91, 103]\n",
      "[7, 8, 9, 29, 30, 37, 47, 55, 56, 81, 88, 91, 100, 103]\n",
      "[8, 9, 29, 30, 37, 47, 55, 56, 64, 81, 88, 91, 100, 103]\n",
      "[11, 25, 30, 33, 34, 44, 55, 56, 63, 64, 79, 85, 91, 103]\n",
      "[1, 26, 35, 39, 45, 47, 53, 55, 56, 81, 83, 84, 85, 95]\n",
      "[1, 2, 26, 39, 45, 46, 47, 53, 65, 82, 92, 96, 98, 101]\n",
      "[5, 13, 33, 36, 42, 53, 57, 58, 67, 82, 84, 94, 96, 101]\n",
      "[3, 15, 16, 18, 26, 36, 41, 60, 69, 78, 80, 84, 91, 105]\n",
      "[9, 14, 29, 32, 36, 41, 44, 48, 51, 71, 78, 80, 103, 105]\n",
      "[14, 29, 32, 36, 41, 44, 51, 71, 76, 78, 80, 99, 103, 105]\n",
      "[14, 29, 32, 36, 41, 44, 48, 51, 71, 76, 78, 80, 103, 105]\n",
      "Grafo densamente conectado gerado e salvo em 'grafo.txt'.\n",
      "Cliques maximais encontradas de tamanho 15: \n",
      "[10, 24, 29, 32, 33, 48, 57, 60, 66, 69, 71, 79, 105, 106, 107]\n",
      "[10, 12, 24, 26, 28, 33, 41, 48, 60, 66, 71, 79, 98, 106, 107]\n",
      "[10, 24, 28, 29, 33, 41, 48, 57, 60, 66, 71, 79, 98, 106, 107]\n",
      "[24, 29, 32, 33, 34, 41, 48, 57, 60, 66, 71, 79, 98, 106, 107]\n",
      "[10, 24, 29, 32, 33, 41, 48, 57, 60, 66, 71, 79, 98, 106, 107]\n",
      "[10, 24, 28, 29, 33, 48, 57, 60, 66, 71, 79, 98, 105, 106, 107]\n",
      "[10, 24, 29, 32, 33, 48, 57, 60, 66, 71, 79, 98, 105, 106, 107]\n",
      "[24, 29, 32, 33, 34, 41, 43, 48, 57, 60, 66, 71, 79, 98, 107]\n",
      "[2, 4, 13, 18, 21, 24, 29, 33, 41, 43, 44, 45, 79, 98, 107]\n",
      "[2, 4, 13, 21, 24, 29, 33, 41, 43, 44, 45, 66, 79, 98, 107]\n",
      "[5, 6, 12, 16, 19, 23, 25, 38, 53, 62, 74, 88, 96, 97, 100]\n",
      "[6, 9, 12, 16, 23, 38, 53, 59, 62, 79, 86, 88, 96, 97, 100]\n",
      "[6, 11, 12, 16, 23, 38, 42, 44, 53, 59, 62, 79, 86, 96, 100]\n",
      "Grafo densamente conectado gerado e salvo em 'grafo.txt'.\n",
      "Cliques maximais encontradas de tamanho 15: \n",
      "[2, 21, 40, 46, 48, 54, 59, 60, 66, 68, 72, 74, 78, 83, 85]\n",
      "[2, 21, 40, 46, 48, 54, 59, 60, 66, 67, 68, 74, 78, 83, 85]\n",
      "[2, 21, 24, 40, 46, 48, 54, 59, 60, 66, 68, 74, 78, 83, 85]\n",
      "[2, 21, 24, 25, 27, 40, 54, 57, 60, 65, 68, 78, 83, 85, 92]\n",
      "[2, 21, 24, 25, 27, 40, 54, 57, 60, 68, 78, 83, 85, 92, 102]\n",
      "[2, 3, 21, 40, 45, 46, 59, 60, 66, 68, 72, 74, 78, 83, 85]\n",
      "[2, 21, 40, 45, 46, 48, 59, 60, 66, 67, 68, 74, 78, 83, 85]\n",
      "[2, 21, 40, 45, 46, 48, 59, 60, 66, 68, 72, 74, 78, 83, 85]\n",
      "[2, 4, 8, 13, 40, 52, 59, 67, 68, 74, 78, 93, 94, 95, 103]\n",
      "[4, 21, 29, 40, 45, 46, 48, 52, 58, 68, 74, 78, 93, 100, 102]\n",
      "[2, 4, 21, 40, 45, 46, 48, 52, 67, 68, 74, 78, 93, 94, 102]\n",
      "[2, 4, 21, 40, 46, 48, 52, 67, 68, 74, 78, 93, 94, 95, 102]\n",
      "[2, 4, 21, 40, 46, 52, 59, 67, 68, 74, 78, 93, 94, 95, 103]\n",
      "[2, 4, 21, 40, 45, 46, 48, 52, 59, 67, 68, 74, 78, 93, 94]\n",
      "[2, 4, 21, 40, 46, 48, 52, 59, 67, 68, 74, 78, 93, 94, 95]\n",
      "[2, 4, 8, 40, 46, 52, 59, 67, 68, 74, 78, 93, 94, 95, 103]\n",
      "[2, 21, 24, 35, 48, 52, 54, 59, 60, 62, 66, 68, 74, 78, 96]\n",
      "[2, 21, 24, 35, 40, 48, 52, 54, 59, 60, 66, 68, 74, 78, 96]\n",
      "[2, 21, 24, 35, 40, 48, 52, 54, 59, 66, 68, 74, 78, 96, 98]\n",
      "[7, 13, 25, 34, 35, 40, 51, 52, 56, 65, 68, 78, 82, 100, 104]\n",
      "[7, 8, 13, 25, 34, 35, 40, 51, 52, 65, 68, 78, 82, 100, 104]\n",
      "[7, 13, 25, 34, 35, 40, 51, 52, 56, 57, 65, 68, 78, 82, 103]\n",
      "[7, 8, 13, 25, 34, 35, 40, 52, 57, 65, 67, 68, 78, 82, 103]\n",
      "[7, 8, 13, 25, 34, 35, 40, 51, 52, 57, 65, 68, 78, 82, 103]\n",
      "[8, 13, 24, 25, 35, 40, 51, 52, 57, 65, 68, 75, 78, 98, 103]\n",
      "[7, 8, 13, 25, 34, 35, 40, 52, 57, 65, 67, 68, 78, 82, 104]\n",
      "[7, 13, 25, 34, 35, 40, 51, 52, 56, 57, 65, 68, 78, 82, 104]\n",
      "[7, 8, 13, 25, 34, 35, 40, 51, 52, 57, 65, 68, 78, 82, 104]\n",
      "[8, 13, 24, 25, 35, 40, 51, 52, 57, 65, 68, 75, 78, 98, 104]\n",
      "[8, 13, 24, 25, 35, 40, 51, 52, 54, 57, 65, 68, 75, 78, 98]\n",
      "[2, 13, 24, 25, 30, 35, 40, 52, 54, 56, 57, 65, 68, 78, 92]\n",
      "[7, 25, 34, 35, 40, 51, 52, 56, 60, 65, 68, 78, 82, 100, 104]\n",
      "[7, 8, 25, 34, 35, 40, 51, 52, 60, 65, 68, 78, 82, 100, 104]\n",
      "[7, 25, 34, 35, 40, 51, 52, 56, 57, 60, 65, 68, 78, 82, 103]\n",
      "[7, 25, 34, 35, 40, 51, 52, 56, 57, 60, 65, 68, 78, 82, 104]\n",
      "[7, 8, 25, 34, 35, 40, 51, 52, 57, 60, 65, 68, 78, 82, 103]\n",
      "[7, 8, 25, 34, 35, 40, 51, 52, 57, 60, 65, 68, 78, 82, 104]\n",
      "[7, 8, 25, 34, 35, 40, 52, 57, 60, 65, 67, 68, 78, 82, 103]\n",
      "[7, 8, 25, 34, 35, 40, 52, 57, 60, 65, 67, 68, 78, 82, 104]\n",
      "[21, 29, 40, 45, 46, 48, 52, 58, 60, 68, 74, 78, 93, 100, 102]\n",
      "[2, 13, 24, 25, 30, 39, 40, 52, 56, 57, 68, 78, 92, 94, 102]\n",
      "[2, 13, 25, 30, 39, 40, 52, 56, 57, 68, 78, 92, 94, 95, 102]\n",
      "[2, 13, 24, 25, 30, 39, 40, 52, 54, 56, 57, 68, 78, 92, 102]\n",
      "[7, 13, 25, 39, 40, 41, 52, 57, 65, 68, 75, 78, 92, 94, 104]\n",
      "[13, 24, 25, 30, 39, 40, 52, 57, 65, 68, 75, 78, 92, 94, 104]\n",
      "[2, 13, 24, 25, 39, 40, 52, 56, 57, 65, 68, 78, 92, 94, 103]\n",
      "[13, 24, 25, 30, 39, 40, 52, 56, 57, 65, 68, 78, 92, 94, 104]\n",
      "[2, 13, 24, 25, 30, 39, 40, 52, 56, 57, 65, 68, 78, 92, 94]\n",
      "[2, 13, 24, 25, 30, 39, 40, 52, 54, 56, 57, 65, 68, 78, 92]\n",
      "Grafo densamente conectado gerado e salvo em 'grafo.txt'.\n",
      "Cliques maximais encontradas de tamanho 15: \n",
      "[6, 11, 29, 34, 56, 59, 61, 62, 70, 73, 78, 88, 101, 104, 105]\n",
      "[59, 62, 65, 66, 71, 73, 75, 78, 82, 84, 88, 91, 94, 104, 105]\n",
      "[21, 26, 59, 62, 66, 71, 73, 75, 78, 82, 84, 88, 91, 94, 104]\n",
      "[21, 59, 62, 66, 71, 73, 75, 78, 82, 84, 88, 91, 94, 104, 105]\n",
      "Grafo densamente conectado gerado e salvo em 'grafo.txt'.\n",
      "Cliques maximais encontradas de tamanho 16: \n",
      "[10, 11, 20, 26, 27, 50, 55, 58, 69, 74, 77, 84, 89, 91, 96, 107]\n",
      "[10, 11, 20, 26, 27, 44, 50, 55, 58, 69, 77, 84, 89, 91, 96, 107]\n",
      "[10, 11, 20, 26, 27, 38, 44, 55, 58, 69, 77, 84, 89, 91, 96, 107]\n",
      "Grafo densamente conectado gerado e salvo em 'grafo.txt'.\n",
      "Cliques maximais encontradas de tamanho 16: \n",
      "[2, 6, 13, 26, 38, 39, 40, 45, 56, 57, 62, 72, 74, 92, 93, 98]\n",
      "[2, 6, 13, 26, 38, 39, 40, 56, 57, 62, 72, 74, 92, 93, 94, 98]\n",
      "[2, 13, 23, 26, 38, 39, 40, 56, 57, 62, 72, 74, 92, 93, 94, 98]\n",
      "[2, 13, 23, 26, 38, 39, 40, 56, 57, 62, 72, 74, 93, 94, 98, 108]\n",
      "[2, 13, 17, 18, 26, 29, 40, 57, 62, 73, 74, 78, 88, 92, 93, 94]\n",
      "Grafo densamente conectado gerado e salvo em 'grafo.txt'.\n",
      "Cliques maximais encontradas de tamanho 15: \n",
      "[1, 2, 20, 25, 39, 40, 48, 55, 60, 90, 95, 96, 101, 107, 108]\n",
      "Grafo densamente conectado gerado e salvo em 'grafo.txt'.\n",
      "Cliques maximais encontradas de tamanho 15: \n",
      "[32, 34, 39, 55, 68, 73, 78, 92, 95, 97, 99, 101, 104, 108, 112]\n",
      "[9, 32, 34, 39, 55, 68, 73, 92, 95, 97, 99, 101, 104, 108, 112]\n",
      "[4, 11, 18, 21, 37, 39, 57, 75, 77, 92, 99, 105, 106, 107, 112]\n",
      "[4, 11, 18, 21, 37, 57, 70, 75, 77, 92, 99, 105, 106, 107, 112]\n",
      "[8, 13, 15, 17, 21, 23, 65, 66, 74, 75, 78, 80, 87, 94, 103]\n",
      "Grafo densamente conectado gerado e salvo em 'grafo.txt'.\n",
      "Cliques maximais encontradas de tamanho 16: \n",
      "[1, 2, 7, 8, 16, 32, 39, 40, 46, 57, 69, 88, 90, 98, 100, 114]\n",
      "Grafo densamente conectado gerado e salvo em 'grafo.txt'.\n",
      "Cliques maximais encontradas de tamanho 16: \n",
      "[2, 22, 23, 24, 26, 37, 38, 40, 53, 73, 82, 85, 95, 99, 107, 111]\n",
      "[2, 8, 11, 15, 22, 24, 26, 32, 41, 47, 70, 73, 74, 99, 101, 111]\n",
      "[2, 8, 11, 15, 22, 24, 26, 32, 41, 70, 73, 74, 85, 99, 101, 111]\n",
      "[2, 8, 11, 15, 24, 26, 32, 39, 41, 47, 70, 73, 74, 99, 101, 111]\n",
      "Grafo densamente conectado gerado e salvo em 'grafo.txt'.\n",
      "Cliques maximais encontradas de tamanho 16: \n",
      "[2, 9, 10, 11, 15, 22, 35, 62, 71, 79, 80, 85, 92, 99, 101, 110]\n",
      "Grafo densamente conectado gerado e salvo em 'grafo.txt'.\n",
      "Cliques maximais encontradas de tamanho 14: \n",
      "[9, 16, 29, 31, 38, 39, 44, 56, 61, 72, 75, 102, 106, 108]\n",
      "[10, 20, 22, 50, 65, 68, 78, 79, 82, 83, 84, 86, 94, 97]\n",
      "[8, 10, 20, 22, 50, 65, 68, 78, 79, 82, 83, 84, 86, 97]\n",
      "[10, 11, 20, 22, 50, 65, 68, 78, 79, 82, 83, 84, 97, 110]\n",
      "[10, 20, 22, 23, 50, 65, 68, 78, 79, 82, 84, 86, 94, 97]\n",
      "[8, 10, 20, 22, 23, 50, 65, 68, 78, 79, 82, 84, 86, 97]\n",
      "[10, 11, 20, 22, 23, 50, 65, 68, 78, 79, 82, 84, 97, 110]\n",
      "[10, 20, 50, 57, 65, 68, 78, 82, 83, 84, 86, 94, 99, 111]\n",
      "[10, 20, 57, 65, 68, 74, 78, 82, 83, 84, 86, 94, 99, 111]\n",
      "[10, 20, 50, 65, 68, 78, 82, 83, 84, 86, 94, 99, 105, 111]\n",
      "[10, 20, 65, 68, 74, 78, 82, 83, 84, 86, 94, 99, 105, 111]\n",
      "[10, 20, 50, 65, 68, 78, 79, 82, 83, 84, 86, 94, 99, 105]\n",
      "[8, 10, 20, 50, 65, 68, 78, 79, 82, 83, 84, 86, 99, 105]\n",
      "[10, 23, 26, 30, 35, 65, 72, 74, 84, 87, 105, 111, 114, 116]\n",
      "[10, 20, 23, 26, 30, 35, 65, 72, 74, 84, 87, 105, 111, 116]\n",
      "[10, 16, 23, 30, 65, 72, 74, 84, 86, 87, 105, 111, 114, 116]\n",
      "[10, 16, 23, 30, 56, 65, 72, 74, 84, 86, 87, 105, 114, 116]\n",
      "[4, 10, 16, 20, 22, 23, 65, 69, 72, 74, 86, 87, 94, 111]\n",
      "[16, 20, 22, 23, 25, 36, 65, 69, 75, 80, 81, 88, 110, 113]\n",
      "[10, 16, 20, 50, 57, 65, 78, 82, 83, 84, 86, 94, 99, 111]\n",
      "[10, 16, 20, 50, 57, 65, 78, 83, 84, 86, 87, 94, 99, 111]\n",
      "[10, 16, 20, 57, 65, 74, 78, 82, 83, 84, 86, 94, 99, 111]\n",
      "[10, 16, 20, 57, 65, 74, 78, 83, 84, 86, 87, 94, 99, 111]\n",
      "[4, 10, 16, 20, 57, 65, 74, 78, 83, 86, 87, 94, 99, 111]\n",
      "[10, 16, 20, 23, 30, 65, 72, 74, 84, 86, 87, 105, 111, 116]\n",
      "[10, 16, 20, 50, 65, 78, 79, 82, 83, 84, 86, 94, 99, 105]\n",
      "[8, 10, 16, 20, 50, 65, 78, 79, 82, 83, 84, 86, 99, 105]\n",
      "[10, 16, 20, 50, 65, 78, 79, 83, 84, 86, 87, 94, 99, 105]\n",
      "[10, 16, 20, 50, 65, 78, 82, 83, 84, 86, 94, 99, 105, 111]\n",
      "[10, 16, 20, 50, 65, 78, 83, 84, 86, 87, 94, 99, 105, 111]\n",
      "[10, 16, 20, 65, 74, 78, 82, 83, 84, 86, 94, 99, 105, 111]\n",
      "[10, 16, 20, 65, 74, 78, 83, 84, 86, 87, 94, 99, 105, 111]\n",
      "[10, 23, 26, 30, 65, 72, 74, 84, 86, 87, 105, 111, 114, 116]\n",
      "[10, 20, 23, 26, 30, 65, 72, 74, 84, 86, 87, 105, 111, 116]\n",
      "[5, 10, 16, 20, 22, 27, 44, 51, 69, 70, 73, 75, 83, 88]\n",
      "[5, 10, 16, 20, 22, 44, 51, 69, 70, 73, 75, 83, 88, 110]\n",
      "[10, 13, 16, 20, 22, 44, 50, 54, 69, 70, 73, 75, 83, 88]\n",
      "[10, 16, 20, 22, 27, 44, 50, 54, 69, 70, 73, 75, 83, 88]\n",
      "[5, 10, 16, 20, 40, 74, 78, 82, 83, 84, 86, 94, 99, 105]\n",
      "[10, 16, 20, 40, 74, 78, 82, 83, 84, 86, 94, 99, 105, 111]\n",
      "[10, 16, 20, 40, 74, 78, 83, 84, 86, 87, 94, 99, 105, 111]\n",
      "[6, 10, 16, 20, 40, 74, 78, 82, 83, 84, 94, 99, 105, 111]\n",
      "[5, 10, 14, 30, 40, 44, 51, 52, 60, 73, 82, 83, 88, 110]\n",
      "[5, 10, 14, 16, 40, 44, 51, 52, 70, 73, 82, 83, 88, 110]\n",
      "[5, 10, 14, 16, 30, 40, 44, 51, 52, 73, 82, 83, 88, 110]\n",
      "[7, 10, 11, 44, 50, 52, 54, 60, 68, 73, 79, 82, 83, 97]\n",
      "[10, 13, 25, 30, 52, 54, 58, 60, 73, 79, 82, 83, 88, 97]\n",
      "[8, 10, 20, 22, 23, 27, 49, 50, 68, 78, 79, 84, 86, 97]\n",
      "[10, 11, 20, 22, 23, 44, 50, 68, 78, 79, 82, 84, 97, 110]\n",
      "[8, 10, 20, 22, 27, 49, 50, 68, 78, 79, 83, 84, 86, 97]\n",
      "[10, 11, 20, 22, 44, 50, 68, 78, 79, 82, 83, 84, 97, 110]\n",
      "[10, 13, 20, 22, 44, 50, 54, 70, 73, 79, 82, 83, 88, 97]\n",
      "[6, 10, 13, 35, 50, 52, 54, 70, 73, 79, 82, 83, 88, 105]\n",
      "[6, 10, 13, 20, 35, 50, 54, 70, 73, 79, 82, 83, 88, 105]\n",
      "[10, 13, 20, 22, 35, 44, 50, 54, 70, 73, 79, 82, 83, 88]\n",
      "[6, 10, 13, 16, 50, 52, 54, 70, 73, 79, 82, 83, 88, 105]\n",
      "[5, 10, 16, 20, 22, 44, 51, 70, 73, 79, 82, 83, 88, 110]\n",
      "[10, 13, 16, 20, 22, 44, 50, 54, 70, 73, 79, 82, 83, 88]\n",
      "[6, 10, 13, 16, 20, 50, 54, 70, 73, 79, 82, 83, 88, 105]\n",
      "[2, 8, 20, 22, 23, 34, 49, 50, 68, 78, 80, 84, 86, 97]\n",
      "[2, 11, 20, 22, 23, 34, 49, 50, 68, 78, 80, 84, 97, 110]\n",
      "[2, 11, 20, 23, 31, 34, 49, 50, 68, 78, 80, 84, 97, 110]\n",
      "[2, 8, 20, 22, 23, 27, 49, 50, 68, 78, 80, 84, 86, 97]\n",
      "[2, 8, 20, 22, 23, 27, 49, 50, 68, 78, 79, 84, 86, 97]\n",
      "[2, 11, 20, 31, 34, 47, 49, 68, 71, 78, 80, 84, 99, 110]\n",
      "[5, 8, 20, 27, 33, 57, 68, 71, 76, 78, 80, 83, 86, 99]\n",
      "[2, 11, 20, 31, 34, 49, 50, 68, 71, 78, 80, 84, 99, 110]\n",
      "[20, 27, 57, 68, 76, 77, 78, 80, 81, 86, 90, 99, 107, 113]\n",
      "[4, 5, 8, 20, 27, 33, 57, 71, 76, 78, 80, 83, 86, 99]\n",
      "[1, 6, 8, 16, 20, 34, 49, 50, 71, 78, 80, 81, 99, 113]\n",
      "[16, 20, 22, 23, 25, 34, 36, 69, 75, 80, 81, 88, 110, 113]\n",
      "[12, 20, 24, 26, 30, 35, 48, 72, 74, 84, 87, 105, 111, 116]\n",
      "[2, 11, 17, 38, 51, 58, 60, 61, 64, 73, 79, 97, 100, 107]\n",
      "[2, 11, 17, 38, 51, 58, 60, 61, 64, 79, 97, 100, 101, 107]\n",
      "[2, 7, 11, 17, 51, 58, 60, 64, 73, 79, 82, 97, 100, 107]\n",
      "[2, 11, 17, 38, 51, 58, 60, 64, 73, 79, 82, 97, 100, 107]\n",
      "[2, 6, 7, 11, 51, 58, 60, 64, 73, 79, 82, 97, 100, 107]\n",
      "[2, 7, 11, 30, 51, 58, 60, 64, 73, 79, 82, 97, 100, 107]\n",
      "[2, 6, 11, 38, 51, 58, 60, 61, 64, 73, 79, 97, 100, 107]\n",
      "[2, 6, 11, 38, 51, 58, 60, 61, 64, 79, 97, 100, 101, 107]\n",
      "[2, 6, 11, 38, 51, 58, 60, 64, 73, 79, 82, 97, 100, 107]\n",
      "[2, 11, 30, 38, 51, 58, 60, 61, 64, 73, 79, 97, 100, 107]\n",
      "[2, 11, 30, 38, 51, 58, 60, 61, 64, 79, 97, 100, 101, 107]\n",
      "[2, 11, 30, 38, 51, 58, 60, 64, 73, 79, 82, 97, 100, 107]\n",
      "[2, 6, 11, 38, 51, 58, 60, 61, 64, 80, 97, 100, 101, 107]\n",
      "[2, 11, 30, 38, 51, 58, 60, 61, 64, 80, 97, 100, 101, 107]\n",
      "[2, 5, 7, 12, 14, 23, 30, 51, 60, 67, 82, 100, 105, 116]\n",
      "[2, 5, 12, 14, 23, 30, 51, 60, 67, 74, 82, 100, 105, 116]\n",
      "[2, 5, 14, 23, 30, 38, 51, 60, 67, 74, 82, 100, 105, 116]\n",
      "[2, 5, 14, 23, 30, 38, 51, 60, 67, 82, 93, 100, 105, 116]\n",
      "[2, 5, 14, 30, 38, 51, 60, 67, 73, 74, 82, 100, 105, 116]\n",
      "[2, 5, 30, 38, 40, 41, 51, 60, 61, 69, 80, 100, 101, 105]\n",
      "[2, 5, 14, 30, 38, 40, 51, 60, 67, 73, 74, 82, 100, 105]\n",
      "[23, 34, 49, 68, 77, 78, 80, 81, 86, 100, 107, 113, 114, 117]\n",
      "[23, 31, 34, 49, 68, 77, 78, 80, 81, 100, 107, 113, 114, 117]\n",
      "[23, 34, 68, 77, 78, 80, 81, 86, 90, 100, 107, 113, 114, 117]\n",
      "[23, 31, 34, 68, 77, 78, 80, 81, 90, 100, 107, 113, 114, 117]\n",
      "[2, 12, 23, 26, 62, 72, 74, 77, 84, 86, 95, 100, 105, 116]\n",
      "[2, 12, 23, 26, 35, 62, 72, 74, 77, 84, 95, 100, 105, 116]\n",
      "[2, 23, 26, 38, 62, 72, 74, 77, 84, 86, 95, 100, 105, 116]\n",
      "[2, 23, 26, 35, 38, 62, 72, 74, 77, 84, 95, 100, 105, 116]\n",
      "[12, 24, 26, 30, 35, 48, 72, 74, 84, 87, 100, 105, 111, 116]\n",
      "[12, 23, 26, 30, 72, 74, 84, 86, 87, 100, 105, 111, 114, 116]\n",
      "[12, 23, 26, 30, 35, 72, 74, 84, 87, 100, 105, 111, 114, 116]\n",
      "[12, 24, 26, 30, 35, 72, 74, 84, 87, 100, 105, 111, 114, 116]\n",
      "[2, 7, 12, 14, 23, 26, 30, 51, 67, 77, 82, 100, 105, 116]\n",
      "[2, 12, 14, 23, 26, 30, 51, 67, 74, 77, 82, 100, 105, 116]\n",
      "[2, 14, 23, 26, 30, 33, 38, 51, 67, 77, 82, 93, 100, 105]\n",
      "[2, 14, 23, 26, 30, 38, 51, 67, 77, 82, 93, 100, 105, 116]\n",
      "[2, 14, 23, 26, 30, 38, 51, 67, 74, 77, 82, 100, 105, 116]\n",
      "[2, 14, 23, 31, 38, 39, 62, 68, 72, 77, 93, 100, 105, 116]\n",
      "[2, 22, 23, 27, 49, 50, 62, 68, 78, 79, 84, 86, 97, 100]\n",
      "[2, 11, 22, 23, 27, 49, 50, 62, 68, 78, 79, 84, 97, 100]\n",
      "[2, 12, 23, 56, 62, 68, 72, 74, 77, 84, 86, 100, 105, 116]\n",
      "[2, 23, 38, 56, 62, 68, 72, 74, 77, 84, 86, 100, 105, 116]\n",
      "[2, 12, 21, 39, 56, 62, 68, 72, 74, 77, 86, 100, 105, 116]\n",
      "[2, 12, 23, 39, 56, 62, 68, 72, 74, 77, 86, 100, 105, 116]\n",
      "[2, 23, 38, 39, 56, 62, 68, 72, 74, 77, 86, 100, 105, 116]\n",
      "[12, 21, 24, 43, 56, 62, 69, 72, 74, 87, 95, 100, 105, 108]\n",
      "[2, 12, 23, 56, 62, 72, 74, 77, 84, 86, 95, 100, 105, 116]\n",
      "[2, 12, 23, 39, 56, 62, 72, 74, 77, 86, 95, 100, 105, 116]\n",
      "[2, 12, 21, 39, 56, 62, 72, 74, 77, 86, 95, 100, 105, 116]\n",
      "[2, 23, 38, 56, 62, 72, 74, 77, 84, 86, 95, 100, 105, 116]\n",
      "[2, 23, 38, 39, 56, 62, 72, 74, 77, 86, 95, 100, 105, 116]\n",
      "[12, 16, 23, 30, 56, 72, 74, 77, 84, 86, 100, 105, 114, 116]\n",
      "[12, 16, 23, 56, 72, 74, 77, 84, 86, 95, 100, 105, 114, 116]\n",
      "[12, 16, 23, 30, 56, 72, 74, 84, 86, 87, 100, 105, 114, 116]\n",
      "[12, 16, 23, 56, 72, 74, 84, 86, 87, 95, 100, 105, 114, 116]\n",
      "[12, 16, 23, 30, 72, 74, 84, 86, 87, 100, 105, 111, 114, 116]\n",
      "[16, 18, 23, 56, 72, 74, 84, 86, 87, 95, 100, 105, 114, 116]\n",
      "[16, 23, 30, 38, 56, 72, 74, 77, 84, 86, 100, 105, 114, 116]\n",
      "[16, 23, 38, 56, 72, 74, 77, 84, 86, 95, 100, 105, 114, 116]\n",
      "[1, 6, 8, 16, 34, 46, 49, 50, 56, 71, 78, 84, 99, 100]\n",
      "[6, 16, 24, 38, 56, 72, 74, 77, 84, 95, 100, 105, 114, 116]\n",
      "[6, 16, 24, 38, 56, 74, 77, 84, 95, 99, 100, 101, 105, 116]\n",
      "[16, 18, 23, 44, 56, 72, 74, 84, 87, 95, 100, 104, 108, 114]\n",
      "[1, 3, 6, 16, 43, 46, 48, 50, 64, 82, 92, 94, 99, 100]\n",
      "[16, 22, 23, 34, 49, 77, 78, 80, 81, 86, 100, 107, 113, 114]\n",
      "[16, 22, 23, 27, 49, 77, 78, 80, 81, 86, 100, 107, 113, 114]\n",
      "[1, 6, 8, 16, 34, 46, 49, 50, 56, 71, 78, 81, 99, 100]\n",
      "[1, 6, 8, 16, 34, 49, 50, 71, 78, 80, 81, 99, 100, 113]\n",
      "[1, 6, 8, 16, 34, 49, 50, 56, 71, 78, 81, 99, 100, 113]\n",
      "[16, 22, 23, 34, 49, 51, 77, 78, 80, 81, 100, 107, 113, 114]\n",
      "[16, 22, 23, 27, 49, 51, 77, 78, 80, 81, 100, 107, 113, 114]\n",
      "[2, 8, 22, 23, 34, 49, 50, 68, 78, 80, 84, 86, 97, 100]\n",
      "[2, 8, 22, 23, 27, 49, 50, 68, 78, 79, 84, 86, 97, 100]\n",
      "[2, 8, 22, 23, 27, 49, 50, 68, 78, 80, 84, 86, 97, 100]\n",
      "[22, 23, 34, 49, 68, 77, 78, 80, 81, 86, 100, 107, 113, 114]\n",
      "[22, 23, 27, 49, 68, 77, 78, 80, 81, 86, 100, 107, 113, 114]\n",
      "[2, 6, 7, 11, 51, 52, 58, 60, 64, 73, 79, 82, 97, 107]\n",
      "[2, 7, 11, 30, 51, 52, 58, 60, 64, 73, 79, 82, 97, 107]\n",
      "[2, 7, 11, 17, 51, 52, 58, 60, 64, 73, 79, 82, 97, 107]\n",
      "[2, 6, 11, 38, 51, 52, 58, 60, 64, 73, 79, 82, 97, 107]\n",
      "[2, 11, 30, 38, 51, 52, 58, 60, 64, 73, 79, 82, 97, 107]\n",
      "[2, 11, 17, 38, 51, 52, 58, 60, 64, 73, 79, 82, 97, 107]\n",
      "Grafo densamente conectado gerado e salvo em 'grafo.txt'.\n",
      "Cliques maximais encontradas de tamanho 15: \n",
      "[9, 24, 38, 39, 41, 43, 49, 63, 65, 74, 84, 96, 97, 98, 105]\n",
      "[9, 24, 36, 38, 39, 41, 43, 49, 65, 74, 84, 95, 97, 98, 105]\n",
      "[9, 21, 24, 38, 39, 41, 43, 49, 63, 65, 74, 96, 97, 98, 105]\n",
      "[9, 21, 24, 38, 39, 41, 43, 49, 59, 63, 65, 74, 96, 98, 105]\n",
      "[3, 9, 24, 38, 39, 41, 43, 49, 63, 65, 84, 96, 97, 98, 105]\n",
      "[3, 9, 24, 36, 38, 39, 41, 43, 49, 65, 84, 95, 97, 98, 105]\n",
      "[3, 9, 24, 36, 38, 39, 41, 49, 65, 84, 95, 97, 98, 99, 105]\n",
      "[9, 24, 36, 38, 39, 41, 49, 65, 74, 84, 95, 97, 98, 99, 105]\n",
      "[3, 9, 24, 26, 39, 41, 44, 47, 49, 63, 65, 66, 78, 84, 96]\n",
      "[3, 9, 26, 39, 41, 44, 47, 49, 65, 66, 78, 84, 96, 99, 111]\n",
      "[3, 9, 24, 26, 39, 41, 44, 47, 49, 65, 66, 78, 84, 96, 99]\n",
      "[3, 9, 26, 36, 39, 41, 44, 47, 49, 65, 66, 78, 84, 99, 111]\n",
      "[3, 9, 24, 26, 36, 39, 41, 44, 47, 49, 65, 66, 78, 84, 99]\n",
      "[3, 9, 24, 36, 39, 41, 44, 47, 49, 65, 66, 78, 84, 99, 105]\n",
      "[3, 9, 24, 39, 41, 44, 47, 49, 63, 65, 66, 78, 84, 96, 105]\n",
      "[3, 9, 24, 39, 41, 44, 47, 49, 65, 66, 78, 84, 96, 99, 105]\n",
      "[3, 9, 24, 38, 39, 41, 43, 47, 49, 63, 65, 84, 96, 97, 105]\n",
      "[3, 4, 9, 24, 38, 39, 43, 47, 49, 63, 65, 84, 96, 97, 105]\n",
      "[3, 9, 24, 38, 39, 41, 43, 47, 49, 63, 65, 66, 84, 96, 105]\n",
      "[3, 9, 24, 36, 38, 39, 41, 44, 47, 49, 65, 84, 97, 99, 105]\n",
      "[3, 9, 24, 36, 38, 39, 41, 44, 47, 49, 65, 66, 84, 99, 105]\n",
      "[3, 9, 24, 38, 39, 41, 44, 47, 49, 63, 65, 84, 96, 97, 105]\n",
      "[3, 9, 24, 38, 39, 41, 44, 47, 49, 63, 65, 66, 84, 96, 105]\n",
      "[3, 4, 9, 24, 38, 39, 44, 47, 49, 63, 65, 84, 96, 97, 105]\n",
      "[3, 9, 24, 38, 39, 41, 44, 47, 49, 65, 84, 96, 97, 99, 105]\n",
      "[3, 9, 24, 38, 39, 41, 44, 47, 49, 65, 66, 84, 96, 99, 105]\n",
      "[3, 9, 24, 36, 38, 39, 41, 44, 49, 65, 84, 95, 97, 99, 105]\n",
      "[5, 15, 23, 36, 38, 45, 48, 52, 68, 76, 84, 87, 89, 108, 109]\n",
      "[5, 15, 23, 36, 38, 44, 45, 52, 76, 84, 87, 89, 93, 108, 110]\n",
      "Grafo densamente conectado gerado e salvo em 'grafo.txt'.\n",
      "Cliques maximais encontradas de tamanho 16: \n",
      "[1, 5, 8, 9, 11, 15, 26, 32, 73, 75, 81, 95, 105, 106, 107, 115]\n",
      "[1, 5, 8, 9, 11, 15, 26, 32, 73, 75, 95, 105, 106, 107, 110, 115]\n",
      "[6, 9, 11, 25, 36, 44, 45, 69, 72, 78, 82, 95, 96, 98, 100, 107]\n",
      "[6, 9, 11, 25, 36, 45, 61, 72, 78, 82, 95, 96, 98, 100, 107, 117]\n",
      "[6, 9, 11, 25, 36, 44, 45, 61, 72, 78, 82, 95, 96, 98, 100, 107]\n",
      "Grafo densamente conectado gerado e salvo em 'grafo.txt'.\n",
      "Cliques maximais encontradas de tamanho 16: \n",
      "[18, 21, 33, 39, 40, 42, 50, 73, 83, 86, 98, 105, 109, 112, 114, 116]\n",
      "[18, 21, 33, 39, 40, 42, 50, 55, 83, 86, 98, 105, 109, 112, 114, 116]\n",
      "[18, 21, 33, 39, 40, 42, 73, 83, 86, 88, 98, 105, 109, 112, 114, 116]\n",
      "Grafo densamente conectado gerado e salvo em 'grafo.txt'.\n",
      "Cliques maximais encontradas de tamanho 15: \n",
      "[10, 27, 29, 35, 42, 53, 62, 65, 69, 83, 86, 94, 105, 116, 120]\n",
      "[10, 26, 27, 29, 35, 42, 53, 62, 69, 83, 86, 94, 105, 116, 120]\n",
      "[4, 9, 29, 33, 37, 47, 63, 70, 86, 88, 93, 103, 110, 118, 121]\n",
      "[2, 4, 9, 21, 29, 33, 40, 63, 70, 82, 85, 86, 88, 93, 118]\n",
      "[21, 28, 36, 56, 60, 67, 78, 79, 80, 81, 92, 107, 108, 114, 119]\n",
      "[2, 4, 9, 21, 33, 40, 56, 63, 70, 82, 86, 88, 93, 97, 118]\n",
      "[2, 4, 9, 21, 33, 40, 56, 63, 70, 82, 85, 86, 88, 93, 118]\n",
      "Grafo densamente conectado gerado e salvo em 'grafo.txt'.\n",
      "Cliques maximais encontradas de tamanho 15: \n",
      "[3, 13, 15, 16, 17, 27, 45, 50, 59, 78, 83, 84, 98, 99, 117]\n",
      "[3, 13, 15, 16, 17, 27, 45, 50, 59, 83, 84, 97, 98, 99, 117]\n",
      "[3, 4, 13, 16, 17, 27, 50, 74, 83, 84, 94, 97, 108, 113, 117]\n",
      "[3, 4, 13, 16, 17, 27, 38, 50, 74, 83, 84, 94, 97, 113, 117]\n",
      "[3, 4, 16, 17, 27, 50, 55, 74, 83, 84, 94, 97, 108, 113, 117]\n",
      "[3, 4, 13, 16, 17, 27, 50, 74, 78, 83, 84, 94, 108, 113, 117]\n",
      "[3, 4, 13, 16, 17, 27, 38, 50, 74, 78, 83, 84, 94, 113, 117]\n",
      "[3, 4, 16, 17, 27, 50, 55, 74, 78, 83, 84, 94, 108, 113, 117]\n",
      "[3, 4, 13, 16, 17, 27, 45, 50, 78, 83, 84, 94, 108, 113, 117]\n",
      "[3, 4, 16, 17, 27, 45, 50, 55, 78, 83, 84, 94, 108, 113, 117]\n",
      "[3, 4, 13, 16, 17, 27, 38, 45, 50, 78, 83, 84, 94, 113, 117]\n",
      "[3, 4, 13, 16, 17, 27, 45, 50, 83, 84, 94, 97, 108, 113, 117]\n",
      "[3, 4, 16, 17, 27, 45, 50, 55, 83, 84, 94, 97, 108, 113, 117]\n",
      "[3, 4, 13, 16, 17, 27, 38, 45, 50, 83, 84, 94, 97, 113, 117]\n",
      "[3, 13, 16, 17, 27, 45, 50, 83, 84, 94, 97, 99, 108, 113, 117]\n",
      "[3, 13, 16, 17, 27, 45, 50, 78, 83, 84, 94, 99, 108, 113, 117]\n",
      "[3, 13, 16, 17, 27, 45, 50, 83, 84, 94, 97, 98, 99, 108, 117]\n",
      "[3, 13, 16, 17, 27, 45, 50, 78, 83, 84, 94, 98, 99, 108, 117]\n",
      "[7, 15, 18, 21, 40, 44, 47, 59, 66, 79, 85, 97, 111, 116, 122]\n",
      "[15, 21, 36, 47, 61, 67, 70, 80, 87, 88, 97, 98, 103, 111, 116]\n",
      "[15, 21, 36, 40, 47, 61, 67, 70, 80, 87, 88, 97, 98, 111, 116]\n",
      "[15, 16, 25, 30, 36, 37, 45, 47, 55, 61, 87, 97, 98, 111, 116]\n",
      "[15, 16, 25, 30, 36, 37, 47, 55, 87, 89, 97, 98, 111, 116, 122]\n",
      "[15, 16, 25, 30, 36, 37, 39, 47, 87, 89, 90, 98, 111, 116, 122]\n",
      "[15, 16, 25, 30, 36, 37, 47, 55, 87, 89, 90, 98, 111, 116, 122]\n",
      "[2, 15, 16, 21, 40, 44, 47, 59, 66, 79, 85, 90, 111, 116, 122]\n",
      "[2, 16, 21, 40, 44, 47, 59, 66, 79, 85, 90, 91, 111, 116, 122]\n",
      "[11, 21, 37, 40, 47, 61, 65, 67, 70, 75, 87, 98, 110, 111, 116]\n",
      "[15, 16, 25, 27, 30, 34, 38, 45, 50, 52, 61, 76, 87, 97, 102]\n",
      "[15, 16, 25, 27, 30, 34, 37, 45, 50, 61, 76, 87, 97, 98, 102]\n",
      "[15, 16, 25, 27, 30, 34, 37, 45, 50, 55, 61, 76, 87, 97, 98]\n",
      "[15, 16, 25, 27, 30, 36, 37, 45, 50, 61, 76, 87, 97, 98, 102]\n",
      "[15, 16, 25, 27, 30, 36, 37, 45, 50, 55, 61, 76, 87, 97, 98]\n",
      "[15, 16, 25, 27, 30, 34, 37, 45, 50, 52, 61, 76, 87, 97, 102]\n",
      "[15, 16, 25, 27, 30, 34, 37, 45, 50, 52, 55, 61, 76, 87, 97]\n",
      "[15, 16, 25, 30, 34, 37, 45, 47, 50, 61, 76, 87, 97, 98, 102]\n",
      "[15, 16, 25, 30, 34, 37, 45, 47, 50, 55, 61, 76, 87, 97, 98]\n",
      "[15, 16, 25, 30, 36, 37, 45, 47, 50, 61, 76, 87, 97, 98, 102]\n",
      "[15, 16, 25, 30, 36, 37, 45, 47, 50, 55, 61, 76, 87, 97, 98]\n",
      "[16, 25, 27, 30, 34, 38, 45, 50, 52, 76, 87, 94, 97, 102, 113]\n",
      "[7, 18, 21, 24, 33, 48, 53, 66, 67, 74, 79, 83, 84, 116, 122]\n",
      "[4, 13, 15, 16, 17, 24, 43, 74, 83, 84, 85, 97, 112, 116, 122]\n",
      "[6, 7, 18, 32, 43, 47, 50, 73, 74, 78, 84, 85, 94, 108, 113]\n",
      "[7, 18, 32, 43, 47, 50, 73, 74, 78, 83, 84, 85, 94, 108, 113]\n",
      "[16, 25, 30, 36, 37, 39, 43, 49, 50, 57, 72, 90, 94, 98, 120]\n",
      "[4, 13, 16, 17, 24, 43, 50, 74, 78, 83, 84, 85, 94, 108, 113]\n",
      "[4, 13, 16, 17, 24, 43, 50, 74, 83, 84, 85, 94, 97, 108, 113]\n",
      "[4, 13, 16, 17, 24, 43, 50, 74, 83, 84, 85, 97, 108, 112, 113]\n",
      "[16, 25, 27, 30, 36, 37, 39, 43, 50, 57, 72, 90, 94, 98, 102]\n",
      "[16, 25, 30, 36, 37, 39, 43, 47, 50, 57, 72, 90, 94, 98, 102]\n",
      "[3, 5, 7, 33, 49, 50, 54, 72, 73, 74, 83, 92, 108, 112, 113]\n",
      "[3, 7, 17, 33, 49, 50, 54, 72, 73, 74, 83, 92, 108, 112, 113]\n",
      "[16, 25, 27, 30, 34, 38, 50, 52, 72, 76, 87, 94, 97, 102, 113]\n",
      "[3, 5, 7, 33, 49, 50, 54, 72, 73, 74, 83, 87, 92, 112, 113]\n",
      "[3, 7, 18, 32, 47, 50, 73, 74, 78, 79, 83, 84, 85, 108, 113]\n",
      "[3, 7, 18, 32, 47, 50, 73, 74, 78, 83, 84, 85, 94, 108, 113]\n",
      "[3, 18, 32, 47, 50, 73, 74, 78, 83, 84, 85, 94, 105, 108, 113]\n",
      "[3, 6, 7, 18, 32, 47, 50, 73, 74, 78, 79, 84, 85, 108, 113]\n",
      "[3, 6, 7, 18, 32, 47, 50, 73, 74, 78, 84, 85, 94, 108, 113]\n",
      "[3, 7, 18, 28, 32, 47, 50, 73, 74, 78, 79, 83, 84, 108, 113]\n",
      "[3, 7, 28, 32, 47, 50, 55, 56, 74, 78, 79, 83, 84, 108, 113]\n",
      "[3, 7, 18, 28, 32, 47, 50, 73, 74, 78, 83, 84, 94, 108, 113]\n",
      "[3, 18, 28, 32, 47, 50, 73, 74, 78, 83, 84, 94, 105, 108, 113]\n",
      "[3, 6, 7, 18, 28, 32, 47, 50, 73, 74, 78, 79, 84, 108, 113]\n",
      "[3, 6, 7, 18, 28, 32, 47, 50, 73, 74, 78, 84, 94, 108, 113]\n",
      "[3, 6, 7, 18, 28, 47, 50, 51, 73, 74, 78, 84, 94, 108, 113]\n",
      "[3, 7, 18, 28, 47, 50, 51, 73, 74, 78, 83, 84, 94, 108, 113]\n",
      "[3, 18, 28, 47, 50, 51, 73, 78, 83, 84, 94, 102, 105, 108, 113]\n",
      "[3, 18, 28, 47, 50, 51, 73, 74, 78, 83, 84, 94, 105, 108, 113]\n",
      "[7, 18, 21, 24, 33, 48, 66, 67, 74, 79, 83, 84, 97, 116, 122]\n",
      "[3, 7, 18, 24, 28, 33, 38, 54, 67, 74, 78, 79, 83, 84, 113]\n",
      "[3, 4, 5, 13, 16, 24, 50, 74, 83, 84, 85, 97, 108, 112, 113]\n",
      "[3, 4, 13, 16, 17, 24, 50, 74, 83, 84, 85, 97, 108, 112, 113]\n",
      "[3, 4, 13, 16, 17, 24, 50, 74, 83, 84, 85, 94, 97, 108, 113]\n",
      "[3, 7, 17, 24, 28, 50, 51, 55, 74, 78, 83, 84, 94, 108, 113]\n",
      "[3, 17, 24, 28, 50, 51, 55, 74, 78, 83, 84, 94, 105, 108, 113]\n",
      "[3, 6, 7, 18, 28, 33, 50, 54, 73, 74, 78, 79, 84, 108, 113]\n",
      "[3, 7, 18, 24, 28, 33, 50, 54, 74, 78, 79, 83, 84, 108, 113]\n",
      "[3, 7, 18, 28, 33, 50, 54, 73, 74, 78, 79, 83, 84, 108, 113]\n",
      "[3, 7, 18, 24, 28, 33, 38, 50, 54, 74, 78, 79, 83, 84, 113]\n",
      "[3, 7, 17, 24, 28, 33, 50, 54, 55, 74, 78, 83, 84, 108, 113]\n",
      "[3, 17, 24, 28, 33, 50, 54, 55, 74, 78, 83, 84, 105, 108, 113]\n",
      "[3, 7, 17, 28, 33, 49, 50, 54, 73, 74, 83, 92, 108, 112, 113]\n",
      "[3, 7, 24, 28, 33, 50, 54, 55, 74, 78, 79, 83, 84, 108, 113]\n",
      "[18, 21, 37, 40, 48, 59, 64, 66, 84, 85, 99, 105, 114, 116, 122]\n",
      "[2, 4, 15, 18, 21, 24, 25, 44, 46, 64, 71, 74, 85, 116, 122]\n",
      "[9, 21, 25, 36, 37, 39, 54, 57, 64, 71, 90, 98, 116, 120, 122]\n",
      "[9, 21, 25, 36, 37, 39, 54, 64, 71, 87, 90, 98, 116, 120, 122]\n",
      "[9, 21, 25, 36, 37, 39, 54, 64, 71, 73, 87, 90, 116, 120, 122]\n",
      "[5, 6, 27, 33, 46, 50, 52, 54, 55, 64, 74, 78, 84, 108, 113]\n",
      "[6, 18, 33, 46, 50, 52, 54, 64, 73, 74, 78, 79, 84, 108, 113]\n",
      "[6, 18, 46, 50, 52, 54, 64, 73, 74, 78, 79, 84, 85, 108, 113]\n",
      "[2, 6, 15, 18, 46, 50, 52, 59, 64, 78, 79, 82, 84, 85, 99]\n",
      "[3, 6, 7, 18, 32, 50, 64, 73, 74, 78, 79, 84, 85, 108, 113]\n",
      "[3, 6, 7, 18, 32, 50, 64, 73, 74, 78, 84, 85, 94, 108, 113]\n",
      "[3, 4, 5, 6, 27, 46, 50, 54, 55, 64, 74, 78, 84, 108, 113]\n",
      "[3, 4, 5, 6, 46, 50, 54, 64, 73, 74, 78, 84, 85, 108, 113]\n",
      "[3, 4, 6, 18, 46, 50, 54, 64, 73, 74, 78, 84, 85, 108, 113]\n",
      "[3, 5, 6, 27, 33, 46, 50, 54, 55, 64, 74, 78, 84, 108, 113]\n",
      "[3, 6, 7, 18, 33, 50, 54, 64, 73, 74, 78, 79, 84, 108, 113]\n",
      "[3, 6, 18, 33, 46, 50, 54, 64, 73, 74, 78, 79, 84, 108, 113]\n",
      "[3, 6, 7, 18, 50, 54, 64, 73, 74, 78, 79, 84, 85, 108, 113]\n",
      "[3, 6, 18, 46, 50, 54, 64, 73, 74, 78, 79, 84, 85, 108, 113]\n",
      "[2, 6, 12, 15, 40, 50, 59, 64, 79, 82, 85, 90, 99, 112, 118]\n",
      "[5, 6, 25, 27, 33, 46, 50, 52, 54, 55, 64, 74, 78, 108, 113]\n",
      "[3, 7, 18, 32, 50, 64, 73, 74, 78, 79, 83, 84, 85, 108, 113]\n",
      "[3, 7, 18, 32, 50, 64, 73, 74, 78, 83, 84, 85, 94, 108, 113]\n",
      "[3, 18, 32, 50, 64, 73, 74, 78, 83, 84, 85, 94, 105, 108, 113]\n",
      "[3, 7, 18, 24, 33, 50, 54, 64, 74, 78, 79, 83, 84, 108, 113]\n",
      "[3, 7, 18, 33, 50, 54, 64, 73, 74, 78, 79, 83, 84, 108, 113]\n",
      "[3, 7, 18, 24, 50, 54, 64, 74, 78, 79, 83, 84, 85, 108, 113]\n",
      "[3, 7, 18, 50, 54, 64, 73, 74, 78, 79, 83, 84, 85, 108, 113]\n",
      "[3, 7, 18, 24, 33, 38, 50, 54, 64, 74, 78, 79, 83, 84, 113]\n",
      "[3, 17, 27, 33, 50, 54, 55, 64, 74, 78, 83, 84, 96, 105, 108]\n",
      "[3, 17, 27, 33, 50, 54, 55, 64, 74, 78, 83, 84, 105, 108, 113]\n",
      "[3, 17, 24, 33, 50, 54, 55, 64, 74, 78, 83, 84, 105, 108, 113]\n",
      "[3, 17, 24, 50, 51, 55, 64, 74, 78, 83, 84, 94, 105, 108, 113]\n",
      "[3, 5, 7, 24, 33, 50, 54, 55, 64, 74, 78, 83, 84, 108, 113]\n",
      "[3, 7, 17, 24, 33, 50, 54, 55, 64, 74, 78, 83, 84, 108, 113]\n",
      "[3, 7, 24, 33, 50, 54, 55, 64, 74, 78, 79, 83, 84, 108, 113]\n",
      "[3, 7, 17, 24, 50, 51, 55, 64, 74, 78, 83, 84, 94, 108, 113]\n",
      "[15, 16, 25, 27, 30, 34, 37, 50, 52, 55, 61, 64, 76, 87, 96]\n",
      "[3, 16, 17, 24, 50, 51, 55, 64, 74, 78, 83, 84, 94, 108, 113]\n",
      "[3, 4, 16, 17, 24, 50, 64, 74, 78, 83, 84, 85, 94, 108, 113]\n",
      "[3, 4, 16, 17, 27, 50, 55, 64, 74, 78, 83, 84, 94, 108, 113]\n",
      "[3, 4, 16, 17, 24, 50, 55, 64, 74, 78, 83, 84, 94, 108, 113]\n",
      "[3, 4, 13, 16, 17, 24, 50, 74, 78, 83, 84, 85, 94, 108, 113]\n",
      "Grafo densamente conectado gerado e salvo em 'grafo.txt'.\n",
      "Cliques maximais encontradas de tamanho 16: \n",
      "[9, 10, 23, 40, 47, 57, 62, 63, 88, 95, 97, 105, 111, 112, 121, 123]\n",
      "[3, 9, 10, 40, 47, 62, 63, 81, 88, 95, 97, 105, 111, 112, 121, 123]\n",
      "[3, 9, 10, 40, 47, 57, 62, 63, 88, 95, 97, 105, 111, 112, 121, 123]\n",
      "Grafo densamente conectado gerado e salvo em 'grafo.txt'.\n",
      "Cliques maximais encontradas de tamanho 16: \n",
      "[5, 13, 25, 40, 43, 45, 49, 57, 63, 68, 74, 75, 81, 85, 96, 118]\n",
      "[5, 25, 40, 43, 45, 49, 57, 63, 68, 74, 75, 81, 85, 96, 118, 124]\n",
      "[4, 26, 27, 36, 46, 50, 51, 55, 67, 71, 73, 97, 106, 108, 109, 116]\n",
      "[4, 20, 26, 27, 36, 46, 50, 51, 55, 67, 71, 73, 106, 108, 109, 116]\n",
      "Grafo densamente conectado gerado e salvo em 'grafo.txt'.\n",
      "Cliques maximais encontradas de tamanho 16: \n",
      "[15, 23, 32, 41, 47, 53, 54, 60, 62, 72, 76, 88, 89, 92, 112, 122]\n",
      "[11, 15, 32, 34, 41, 47, 54, 62, 72, 73, 76, 88, 89, 92, 112, 122]\n",
      "[11, 15, 32, 41, 47, 53, 54, 62, 72, 73, 76, 88, 89, 92, 112, 122]\n",
      "[11, 15, 24, 32, 34, 41, 47, 54, 72, 73, 88, 89, 92, 105, 112, 122]\n",
      "[11, 15, 32, 34, 41, 47, 54, 72, 73, 76, 88, 89, 92, 105, 112, 122]\n",
      "[2, 11, 15, 32, 34, 41, 51, 72, 73, 76, 88, 89, 92, 105, 117, 122]\n",
      "[11, 15, 32, 41, 47, 53, 54, 72, 73, 76, 88, 89, 92, 105, 112, 122]\n",
      "[11, 15, 24, 32, 34, 41, 47, 54, 72, 73, 77, 88, 89, 92, 112, 122]\n",
      "[11, 15, 24, 32, 34, 41, 47, 72, 73, 74, 77, 88, 89, 91, 112, 122]\n",
      "[11, 15, 24, 32, 34, 41, 47, 72, 73, 74, 88, 89, 91, 105, 112, 122]\n",
      "[11, 15, 24, 32, 34, 41, 47, 51, 68, 72, 73, 74, 89, 91, 109, 122]\n",
      "[11, 15, 24, 32, 34, 41, 47, 51, 72, 73, 74, 89, 91, 105, 109, 122]\n",
      "[11, 15, 24, 32, 34, 41, 47, 51, 72, 73, 74, 88, 89, 91, 105, 122]\n",
      "[11, 15, 24, 32, 34, 41, 47, 51, 72, 73, 74, 77, 88, 89, 91, 122]\n",
      "[11, 15, 24, 32, 34, 41, 47, 54, 72, 73, 88, 89, 91, 105, 112, 122]\n",
      "[11, 15, 32, 34, 41, 47, 54, 72, 73, 76, 88, 89, 91, 105, 112, 122]\n",
      "[11, 15, 24, 32, 34, 41, 47, 54, 72, 73, 77, 88, 89, 91, 112, 122]\n",
      "[15, 23, 32, 41, 47, 53, 54, 62, 72, 73, 76, 88, 89, 92, 112, 122]\n",
      "[24, 27, 32, 34, 41, 47, 72, 73, 74, 80, 88, 89, 91, 105, 112, 122]\n",
      "[11, 24, 32, 34, 41, 47, 72, 73, 74, 80, 88, 89, 91, 105, 112, 122]\n",
      "[8, 11, 24, 28, 32, 38, 42, 47, 51, 68, 69, 72, 74, 109, 118, 122]\n",
      "[8, 24, 28, 38, 42, 47, 51, 59, 68, 69, 72, 74, 78, 109, 118, 122]\n",
      "[8, 11, 24, 28, 38, 42, 47, 51, 68, 69, 72, 74, 78, 109, 118, 122]\n",
      "[8, 11, 17, 24, 28, 32, 38, 42, 47, 51, 68, 69, 74, 109, 118, 122]\n",
      "[8, 9, 24, 28, 38, 42, 47, 51, 59, 68, 69, 74, 78, 109, 118, 122]\n",
      "[8, 9, 24, 38, 39, 42, 47, 51, 59, 68, 69, 74, 78, 109, 118, 122]\n",
      "[8, 9, 11, 24, 28, 32, 38, 42, 47, 51, 68, 69, 74, 109, 118, 122]\n",
      "[8, 9, 11, 24, 28, 38, 42, 47, 51, 68, 69, 74, 78, 109, 118, 122]\n",
      "[8, 9, 11, 24, 38, 39, 42, 47, 51, 68, 69, 74, 78, 109, 118, 122]\n",
      "[9, 24, 28, 34, 38, 47, 51, 59, 61, 74, 79, 105, 109, 118, 121, 122]\n",
      "[24, 28, 34, 38, 47, 59, 61, 72, 74, 79, 98, 105, 109, 113, 118, 122]\n",
      "[24, 28, 34, 38, 47, 51, 59, 61, 72, 74, 79, 105, 109, 113, 118, 122]\n",
      "[24, 28, 34, 38, 47, 51, 59, 61, 74, 79, 105, 109, 113, 118, 121, 122]\n",
      "[17, 24, 28, 34, 38, 47, 51, 59, 61, 74, 79, 105, 109, 113, 118, 122]\n",
      "[24, 28, 38, 47, 59, 61, 65, 72, 74, 79, 98, 105, 109, 113, 118, 122]\n",
      "[9, 11, 24, 28, 32, 34, 38, 47, 51, 74, 79, 105, 109, 118, 121, 122]\n",
      "[8, 11, 24, 28, 32, 38, 42, 47, 51, 69, 72, 74, 105, 109, 118, 122]\n",
      "[8, 11, 17, 24, 28, 32, 38, 42, 47, 51, 69, 74, 105, 109, 118, 122]\n",
      "[8, 9, 11, 24, 28, 32, 38, 42, 47, 51, 69, 74, 105, 109, 118, 122]\n",
      "[8, 11, 24, 28, 32, 37, 38, 42, 47, 51, 72, 79, 92, 105, 118, 122]\n",
      "[8, 11, 24, 28, 32, 38, 42, 47, 51, 72, 74, 79, 105, 109, 118, 122]\n",
      "[8, 11, 17, 24, 28, 32, 38, 42, 47, 51, 74, 79, 105, 109, 118, 122]\n",
      "[8, 9, 11, 24, 28, 32, 38, 42, 47, 51, 74, 79, 105, 109, 118, 122]\n",
      "Grafo densamente conectado gerado e salvo em 'grafo.txt'.\n",
      "Cliques maximais encontradas de tamanho 16: \n",
      "[1, 24, 38, 41, 44, 60, 67, 72, 73, 90, 99, 100, 103, 119, 120, 125]\n",
      "[1, 24, 38, 41, 44, 48, 60, 67, 72, 73, 90, 99, 100, 103, 120, 125]\n",
      "Grafo densamente conectado gerado e salvo em 'grafo.txt'.\n",
      "Cliques maximais encontradas de tamanho 15: \n",
      "[2, 9, 10, 17, 18, 19, 20, 36, 37, 60, 64, 65, 90, 92, 93]\n",
      "[2, 9, 17, 18, 19, 20, 36, 37, 60, 64, 65, 90, 92, 93, 117]\n",
      "[9, 10, 17, 22, 36, 44, 55, 60, 62, 64, 65, 67, 73, 78, 85]\n",
      "[9, 10, 17, 21, 22, 44, 55, 60, 62, 64, 73, 78, 84, 114, 122]\n",
      "[9, 10, 17, 21, 22, 44, 55, 60, 62, 64, 67, 73, 78, 114, 122]\n",
      "[9, 10, 17, 21, 22, 36, 44, 55, 60, 62, 64, 65, 67, 73, 78]\n",
      "[9, 10, 21, 22, 44, 55, 60, 62, 64, 73, 78, 84, 94, 114, 122]\n",
      "[5, 9, 10, 21, 44, 55, 60, 62, 64, 78, 84, 94, 105, 114, 122]\n",
      "[5, 9, 10, 17, 21, 44, 55, 60, 62, 64, 78, 84, 105, 114, 122]\n",
      "[5, 9, 10, 17, 21, 44, 55, 60, 62, 64, 73, 78, 84, 114, 122]\n",
      "[5, 9, 10, 21, 44, 55, 60, 62, 64, 73, 78, 84, 94, 114, 122]\n",
      "[7, 14, 19, 22, 39, 44, 71, 73, 78, 79, 84, 85, 98, 104, 122]\n",
      "[14, 19, 22, 29, 39, 44, 73, 78, 79, 80, 84, 85, 98, 104, 122]\n",
      "[7, 14, 19, 22, 29, 39, 44, 73, 78, 79, 84, 85, 98, 104, 122]\n",
      "[7, 14, 19, 21, 22, 29, 39, 44, 73, 78, 79, 84, 98, 104, 122]\n",
      "[14, 19, 21, 22, 29, 39, 44, 73, 78, 79, 80, 84, 98, 104, 122]\n",
      "[3, 14, 19, 22, 29, 39, 44, 73, 78, 79, 80, 84, 98, 104, 122]\n",
      "[2, 22, 23, 54, 62, 71, 75, 78, 79, 85, 91, 97, 101, 103, 104]\n",
      "[17, 22, 23, 36, 44, 45, 62, 71, 73, 75, 78, 79, 85, 95, 104]\n",
      "[17, 22, 23, 36, 45, 54, 62, 71, 73, 75, 78, 79, 85, 95, 104]\n",
      "[8, 11, 23, 28, 32, 42, 54, 58, 62, 78, 79, 85, 91, 97, 101]\n",
      "[8, 11, 23, 28, 32, 42, 54, 62, 73, 78, 79, 85, 91, 97, 101]\n",
      "[8, 17, 23, 36, 45, 54, 62, 71, 73, 75, 78, 79, 85, 95, 104]\n",
      "[2, 8, 17, 23, 45, 54, 58, 62, 71, 75, 78, 79, 85, 97, 104]\n",
      "[2, 8, 23, 54, 62, 71, 75, 78, 79, 85, 91, 97, 101, 103, 104]\n",
      "[2, 8, 23, 54, 58, 62, 71, 75, 78, 79, 85, 91, 97, 101, 104]\n",
      "[2, 8, 23, 45, 54, 58, 62, 71, 75, 78, 79, 85, 97, 101, 104]\n",
      "[8, 23, 29, 32, 42, 54, 58, 62, 75, 78, 79, 85, 91, 97, 104]\n",
      "[8, 11, 23, 29, 32, 42, 54, 58, 62, 78, 79, 85, 91, 97, 104]\n",
      "[8, 23, 29, 32, 42, 54, 62, 73, 75, 78, 79, 85, 91, 97, 104]\n",
      "[8, 11, 23, 29, 32, 42, 54, 62, 73, 78, 79, 85, 91, 97, 104]\n",
      "[8, 23, 32, 42, 54, 58, 62, 75, 78, 79, 85, 91, 97, 101, 104]\n",
      "[8, 11, 23, 32, 42, 54, 58, 62, 78, 79, 85, 91, 97, 101, 104]\n",
      "[8, 23, 32, 42, 54, 62, 73, 75, 78, 79, 85, 91, 97, 101, 104]\n",
      "[8, 11, 23, 32, 42, 54, 62, 73, 78, 79, 85, 91, 97, 101, 104]\n",
      "[2, 8, 23, 29, 42, 54, 58, 62, 75, 78, 79, 85, 91, 97, 104]\n",
      "[2, 8, 23, 42, 54, 62, 75, 78, 79, 85, 91, 97, 101, 103, 104]\n",
      "[2, 8, 23, 42, 54, 58, 62, 75, 78, 79, 85, 91, 97, 101, 104]\n",
      "[7, 14, 19, 21, 22, 29, 39, 44, 73, 78, 79, 84, 99, 104, 122]\n",
      "[3, 14, 19, 22, 29, 39, 44, 73, 78, 79, 80, 84, 99, 104, 122]\n",
      "[14, 19, 21, 22, 29, 39, 44, 73, 78, 79, 80, 84, 99, 104, 122]\n",
      "Grafo densamente conectado gerado e salvo em 'grafo.txt'.\n",
      "Cliques maximais encontradas de tamanho 16: \n",
      "[3, 15, 17, 19, 32, 42, 51, 56, 63, 64, 71, 79, 90, 99, 106, 109]\n",
      "[3, 15, 17, 19, 32, 40, 42, 51, 56, 63, 64, 71, 90, 99, 106, 109]\n",
      "Grafo densamente conectado gerado e salvo em 'grafo.txt'.\n",
      "Cliques maximais encontradas de tamanho 16: \n",
      "[7, 21, 39, 41, 58, 59, 60, 61, 65, 73, 75, 84, 104, 116, 118, 119]\n",
      "[7, 21, 39, 58, 59, 60, 61, 65, 73, 75, 84, 104, 116, 118, 119, 120]\n",
      "[7, 21, 39, 41, 58, 59, 60, 61, 65, 73, 75, 80, 104, 116, 118, 119]\n",
      "[7, 21, 39, 58, 59, 60, 61, 65, 73, 75, 80, 104, 116, 118, 119, 120]\n",
      "Grafo densamente conectado gerado e salvo em 'grafo.txt'.\n",
      "Cliques maximais encontradas de tamanho 16: \n",
      "[1, 6, 15, 18, 22, 36, 39, 60, 71, 72, 73, 79, 86, 109, 127, 128]\n",
      "[1, 15, 18, 22, 36, 39, 41, 60, 71, 72, 73, 79, 86, 109, 127, 128]\n",
      "Grafo densamente conectado gerado e salvo em 'grafo.txt'.\n",
      "Cliques maximais encontradas de tamanho 16: \n",
      "[2, 3, 38, 49, 53, 63, 65, 81, 84, 85, 88, 95, 111, 114, 117, 119]\n",
      "Grafo densamente conectado gerado e salvo em 'grafo.txt'.\n",
      "Cliques maximais encontradas de tamanho 16: \n",
      "[27, 28, 33, 42, 46, 48, 57, 58, 71, 91, 102, 107, 109, 112, 113, 119]\n",
      "[11, 23, 25, 37, 72, 75, 81, 99, 108, 115, 116, 118, 123, 124, 126, 132]\n",
      "[24, 28, 41, 48, 51, 53, 65, 87, 99, 102, 107, 113, 118, 123, 127, 131]\n",
      "Grafo densamente conectado gerado e salvo em 'grafo.txt'.\n",
      "Cliques maximais encontradas de tamanho 16: \n",
      "[2, 25, 28, 31, 36, 49, 54, 62, 67, 68, 69, 71, 92, 123, 129, 133]\n",
      "[20, 28, 30, 31, 49, 54, 62, 68, 69, 72, 92, 96, 109, 123, 129, 133]\n",
      "[25, 28, 30, 31, 49, 54, 62, 68, 69, 72, 92, 96, 109, 123, 129, 133]\n",
      "[16, 17, 31, 49, 54, 67, 68, 76, 79, 91, 92, 109, 123, 125, 126, 133]\n",
      "[6, 10, 16, 17, 44, 49, 54, 67, 77, 79, 91, 92, 109, 121, 125, 133]\n",
      "[6, 10, 16, 17, 30, 44, 49, 54, 67, 77, 79, 91, 92, 109, 125, 133]\n",
      "[16, 17, 30, 31, 49, 54, 67, 68, 76, 79, 91, 92, 109, 123, 125, 133]\n",
      "Grafo densamente conectado gerado e salvo em 'grafo.txt'.\n",
      "Cliques maximais encontradas de tamanho 16: \n",
      "[5, 15, 16, 17, 19, 21, 27, 28, 39, 44, 45, 46, 63, 68, 96, 103]\n",
      "Grafo densamente conectado gerado e salvo em 'grafo.txt'.\n",
      "Cliques maximais encontradas de tamanho 16: \n",
      "[5, 20, 38, 47, 67, 73, 83, 94, 98, 106, 107, 116, 120, 123, 134, 135]\n",
      "[5, 12, 20, 67, 73, 94, 98, 106, 107, 116, 120, 123, 124, 133, 134, 135]\n",
      "[5, 20, 67, 73, 94, 97, 98, 106, 107, 116, 120, 123, 124, 133, 134, 135]\n",
      "[5, 20, 47, 67, 73, 94, 98, 106, 107, 116, 120, 123, 124, 133, 134, 135]\n",
      "[5, 12, 20, 38, 67, 73, 94, 98, 106, 107, 116, 120, 123, 133, 134, 135]\n",
      "[5, 20, 38, 67, 73, 94, 97, 98, 106, 107, 116, 120, 123, 133, 134, 135]\n",
      "[5, 20, 38, 47, 67, 73, 94, 98, 106, 107, 116, 120, 123, 133, 134, 135]\n",
      "[11, 26, 52, 58, 60, 73, 74, 81, 88, 95, 97, 101, 105, 116, 119, 121]\n",
      "[11, 26, 50, 52, 58, 60, 74, 88, 93, 95, 97, 101, 105, 116, 119, 121]\n",
      "[11, 26, 52, 58, 60, 74, 81, 88, 93, 95, 97, 101, 105, 116, 119, 121]\n",
      "[13, 26, 28, 32, 33, 52, 58, 59, 60, 61, 75, 78, 85, 103, 107, 110]\n",
      "Grafo densamente conectado gerado e salvo em 'grafo.txt'.\n",
      "Cliques maximais encontradas de tamanho 17: \n",
      "[24, 26, 28, 35, 37, 39, 42, 50, 77, 81, 85, 88, 90, 109, 117, 128, 135]\n",
      "Grafo densamente conectado gerado e salvo em 'grafo.txt'.\n",
      "Cliques maximais encontradas de tamanho 16: \n",
      "[11, 13, 15, 16, 21, 37, 47, 50, 57, 60, 87, 89, 98, 107, 108, 124]\n",
      "[11, 13, 15, 16, 21, 37, 47, 50, 51, 57, 60, 87, 89, 98, 108, 124]\n",
      "[11, 13, 15, 16, 21, 37, 51, 57, 78, 87, 89, 97, 98, 108, 121, 136]\n",
      "[2, 15, 18, 21, 43, 45, 51, 54, 72, 83, 84, 94, 100, 109, 121, 134]\n",
      "Grafo densamente conectado gerado e salvo em 'grafo.txt'.\n",
      "Cliques maximais encontradas de tamanho 16: \n",
      "[4, 5, 9, 31, 39, 40, 47, 53, 56, 74, 79, 87, 101, 118, 120, 123]\n",
      "[4, 6, 26, 27, 32, 47, 50, 61, 71, 83, 85, 91, 116, 121, 124, 126]\n",
      "[6, 12, 33, 34, 47, 49, 63, 69, 71, 85, 98, 99, 108, 124, 126, 136]\n",
      "[6, 12, 47, 49, 50, 53, 65, 67, 71, 75, 88, 98, 116, 123, 126, 136]\n",
      "[4, 6, 12, 26, 27, 34, 47, 49, 63, 67, 69, 71, 77, 85, 98, 126]\n",
      "[6, 12, 27, 33, 34, 47, 49, 63, 67, 69, 71, 77, 85, 98, 108, 126]\n",
      "[6, 12, 26, 27, 34, 47, 49, 63, 67, 69, 71, 77, 85, 98, 108, 126]\n",
      "[6, 12, 27, 33, 34, 47, 49, 60, 63, 67, 69, 71, 77, 85, 98, 126]\n",
      "[6, 12, 27, 33, 34, 47, 49, 63, 69, 71, 85, 98, 99, 108, 124, 126]\n",
      "[12, 47, 49, 50, 51, 53, 70, 71, 75, 88, 98, 105, 116, 123, 126, 136]\n",
      "[12, 47, 49, 50, 51, 53, 67, 70, 71, 75, 88, 98, 116, 123, 126, 136]\n",
      "[12, 26, 27, 34, 47, 49, 63, 67, 69, 70, 71, 77, 85, 98, 108, 126]\n",
      "[6, 25, 32, 33, 49, 54, 63, 69, 71, 83, 85, 86, 108, 124, 126, 136]\n",
      "[6, 25, 32, 33, 47, 49, 54, 63, 69, 71, 83, 85, 108, 124, 126, 136]\n",
      "[11, 26, 27, 32, 47, 49, 50, 70, 71, 83, 85, 91, 103, 116, 124, 126]\n",
      "[6, 12, 16, 33, 34, 47, 63, 69, 71, 85, 98, 99, 110, 114, 124, 136]\n",
      "[4, 16, 21, 23, 35, 42, 64, 74, 78, 79, 97, 101, 105, 123, 127, 136]\n",
      "[4, 16, 35, 42, 45, 64, 69, 74, 78, 79, 97, 101, 105, 111, 123, 136]\n",
      "[4, 16, 35, 42, 64, 69, 74, 78, 79, 97, 101, 105, 111, 123, 127, 136]\n",
      "[6, 11, 26, 38, 54, 55, 57, 78, 83, 91, 95, 100, 114, 116, 119, 132]\n",
      "[6, 25, 32, 33, 49, 54, 63, 69, 71, 83, 85, 86, 108, 114, 124, 136]\n",
      "[6, 25, 32, 33, 47, 49, 54, 63, 69, 71, 83, 85, 108, 114, 124, 136]\n",
      "[6, 12, 33, 34, 47, 49, 63, 69, 71, 85, 98, 99, 108, 114, 124, 136]\n",
      "Grafo densamente conectado gerado e salvo em 'grafo.txt'.\n",
      "Cliques maximais encontradas de tamanho 16: \n",
      "[17, 27, 40, 43, 56, 57, 60, 61, 62, 73, 83, 89, 97, 115, 129, 130]\n",
      "[9, 17, 27, 40, 43, 56, 57, 60, 61, 62, 73, 83, 89, 97, 115, 130]\n",
      "[1, 11, 30, 52, 60, 70, 90, 93, 98, 102, 107, 109, 122, 125, 126, 131]\n",
      "[13, 22, 32, 35, 40, 42, 46, 53, 58, 60, 64, 67, 87, 90, 118, 129]\n",
      "[43, 52, 60, 61, 62, 65, 73, 89, 97, 102, 108, 109, 115, 119, 135, 139]\n",
      "[43, 52, 60, 61, 62, 65, 73, 89, 97, 102, 108, 109, 115, 119, 129, 139]\n",
      "[43, 52, 56, 60, 61, 62, 71, 73, 83, 89, 97, 108, 109, 115, 129, 136]\n",
      "[43, 52, 60, 61, 62, 71, 73, 83, 89, 97, 102, 108, 109, 115, 129, 136]\n",
      "[9, 26, 43, 49, 51, 56, 60, 61, 71, 81, 83, 97, 108, 115, 121, 130]\n",
      "[9, 43, 49, 56, 60, 61, 71, 73, 81, 83, 92, 97, 108, 115, 121, 130]\n",
      "[9, 26, 43, 49, 56, 60, 61, 71, 73, 81, 83, 97, 108, 115, 121, 130]\n",
      "[13, 40, 43, 56, 60, 61, 62, 71, 73, 83, 89, 97, 108, 115, 129, 130]\n",
      "[9, 26, 40, 43, 49, 56, 60, 61, 71, 73, 81, 83, 97, 108, 115, 130]\n",
      "[9, 26, 43, 49, 56, 60, 61, 71, 73, 81, 83, 97, 108, 109, 115, 121]\n",
      "[3, 5, 43, 52, 60, 61, 62, 65, 71, 102, 108, 109, 115, 117, 129, 136]\n",
      "[43, 52, 60, 61, 62, 65, 71, 73, 89, 97, 102, 108, 109, 115, 129, 136]\n",
      "[3, 5, 43, 52, 56, 60, 61, 62, 65, 71, 108, 109, 115, 117, 129, 136]\n",
      "[43, 52, 56, 60, 61, 62, 65, 71, 73, 89, 97, 108, 109, 115, 129, 136]\n",
      "[3, 5, 43, 52, 60, 61, 65, 70, 71, 102, 108, 109, 115, 117, 129, 136]\n",
      "[43, 52, 60, 61, 62, 65, 73, 89, 97, 102, 108, 109, 115, 119, 129, 136]\n",
      "[43, 52, 56, 60, 61, 62, 65, 73, 89, 97, 108, 109, 115, 119, 129, 136]\n",
      "[43, 56, 60, 73, 77, 81, 92, 97, 103, 104, 108, 114, 115, 119, 121, 132]\n",
      "[9, 43, 56, 60, 73, 77, 81, 92, 97, 103, 104, 108, 115, 119, 121, 132]\n",
      "[13, 40, 56, 60, 61, 62, 71, 73, 83, 85, 89, 97, 108, 115, 129, 130]\n",
      "[5, 22, 52, 60, 61, 67, 70, 90, 102, 103, 107, 108, 109, 113, 115, 119]\n",
      "[3, 5, 13, 24, 29, 31, 36, 37, 40, 44, 63, 71, 80, 108, 116, 117]\n",
      "[3, 5, 19, 24, 29, 31, 36, 37, 40, 44, 63, 71, 80, 108, 116, 117]\n",
      "[3, 5, 14, 19, 24, 29, 31, 36, 37, 40, 44, 63, 71, 108, 116, 117]\n",
      "[3, 13, 24, 29, 31, 36, 37, 38, 40, 44, 63, 71, 80, 108, 116, 117]\n",
      "[3, 19, 24, 29, 31, 36, 37, 38, 40, 44, 63, 71, 80, 108, 116, 117]\n",
      "[3, 5, 13, 24, 29, 31, 36, 37, 40, 44, 62, 63, 71, 80, 108, 117]\n",
      "[3, 13, 24, 29, 31, 36, 37, 38, 40, 44, 62, 63, 71, 80, 108, 117]\n",
      "[3, 5, 19, 24, 29, 31, 36, 37, 40, 44, 62, 63, 71, 80, 108, 117]\n",
      "[3, 19, 24, 29, 31, 36, 37, 38, 40, 44, 62, 63, 71, 80, 108, 117]\n",
      "[3, 5, 13, 24, 29, 36, 37, 40, 44, 50, 62, 63, 71, 80, 108, 117]\n",
      "[4, 5, 7, 19, 25, 29, 47, 63, 80, 94, 96, 106, 108, 116, 119, 130]\n",
      "[3, 5, 13, 24, 29, 31, 36, 40, 44, 63, 71, 80, 108, 116, 117, 123]\n",
      "[31, 43, 52, 61, 62, 71, 73, 83, 89, 97, 102, 108, 109, 115, 129, 136]\n",
      "[31, 43, 52, 61, 62, 65, 71, 73, 89, 97, 102, 108, 109, 115, 129, 136]\n",
      "[31, 43, 52, 61, 62, 65, 73, 89, 97, 102, 108, 109, 115, 119, 129, 136]\n",
      "[3, 5, 29, 31, 43, 52, 62, 65, 66, 71, 102, 108, 109, 117, 129, 136]\n",
      "[3, 5, 29, 31, 43, 52, 65, 66, 70, 71, 102, 108, 109, 117, 129, 136]\n",
      "[3, 5, 31, 43, 52, 61, 62, 65, 71, 102, 108, 109, 115, 117, 129, 136]\n",
      "[3, 5, 31, 43, 52, 61, 65, 70, 71, 102, 108, 109, 115, 117, 129, 136]\n",
      "[3, 5, 31, 43, 52, 61, 62, 65, 66, 71, 102, 108, 109, 117, 129, 136]\n",
      "[3, 5, 31, 43, 52, 61, 65, 66, 70, 71, 102, 108, 109, 117, 129, 136]\n",
      "[3, 5, 43, 52, 61, 65, 70, 71, 102, 108, 109, 115, 117, 128, 129, 136]\n",
      "Grafo densamente conectado gerado e salvo em 'grafo.txt'.\n",
      "Cliques maximais encontradas de tamanho 17: \n",
      "[3, 4, 9, 11, 20, 31, 37, 40, 56, 61, 66, 68, 75, 98, 109, 114, 116]\n",
      "[3, 4, 9, 11, 20, 31, 37, 40, 56, 66, 68, 75, 98, 109, 114, 116, 131]\n",
      "Grafo densamente conectado gerado e salvo em 'grafo.txt'.\n",
      "Cliques maximais encontradas de tamanho 16: \n",
      "[6, 26, 38, 42, 43, 51, 62, 76, 81, 88, 95, 98, 106, 109, 123, 139]\n",
      "[6, 26, 38, 42, 43, 62, 76, 81, 88, 95, 98, 106, 109, 123, 126, 139]\n",
      "[6, 26, 38, 42, 48, 51, 62, 76, 81, 88, 95, 98, 106, 109, 123, 139]\n",
      "[2, 12, 26, 40, 43, 47, 59, 62, 73, 76, 88, 119, 123, 126, 131, 139]\n",
      "[2, 26, 39, 59, 60, 62, 74, 76, 82, 87, 88, 103, 119, 126, 131, 139]\n",
      "[18, 29, 42, 43, 44, 53, 57, 62, 68, 73, 88, 97, 106, 109, 119, 139]\n",
      "[18, 29, 42, 43, 44, 53, 57, 59, 62, 73, 88, 97, 106, 109, 119, 139]\n",
      "[18, 29, 42, 44, 53, 57, 62, 63, 68, 73, 88, 97, 106, 109, 119, 139]\n",
      "[18, 29, 42, 44, 53, 57, 59, 62, 63, 73, 88, 97, 106, 109, 119, 139]\n",
      "[29, 42, 44, 51, 57, 59, 62, 63, 73, 74, 88, 97, 106, 109, 119, 139]\n",
      "[2, 12, 26, 40, 43, 47, 53, 59, 62, 73, 76, 88, 97, 119, 131, 139]\n",
      "[2, 20, 25, 26, 47, 59, 60, 62, 74, 76, 82, 88, 104, 119, 131, 139]\n",
      "[2, 12, 26, 40, 43, 47, 53, 59, 62, 73, 76, 88, 119, 123, 131, 139]\n",
      "[2, 12, 25, 26, 47, 59, 60, 62, 73, 74, 76, 88, 104, 119, 131, 139]\n",
      "[8, 10, 21, 26, 29, 31, 34, 59, 65, 69, 77, 96, 100, 104, 106, 138]\n",
      "[2, 8, 10, 21, 26, 29, 31, 34, 59, 65, 69, 77, 96, 100, 104, 138]\n",
      "[2, 5, 8, 10, 14, 21, 26, 29, 34, 65, 69, 77, 96, 100, 104, 138]\n",
      "[2, 4, 12, 26, 47, 59, 60, 62, 73, 74, 76, 97, 119, 129, 131, 139]\n",
      "[2, 4, 12, 26, 47, 59, 60, 62, 73, 74, 76, 77, 97, 119, 129, 131]\n",
      "[8, 10, 21, 29, 31, 34, 59, 65, 69, 72, 77, 96, 100, 104, 106, 138]\n",
      "[8, 21, 29, 31, 34, 49, 59, 65, 69, 72, 77, 96, 100, 104, 106, 138]\n",
      "[2, 8, 21, 29, 31, 34, 49, 59, 65, 69, 72, 77, 96, 100, 104, 138]\n",
      "[2, 8, 10, 21, 29, 31, 34, 59, 65, 69, 72, 77, 96, 100, 104, 138]\n",
      "[2, 5, 8, 14, 18, 29, 34, 57, 65, 72, 77, 78, 96, 100, 131, 138]\n",
      "[2, 5, 8, 14, 18, 21, 29, 34, 57, 65, 72, 77, 96, 100, 131, 138]\n",
      "[2, 5, 8, 10, 14, 18, 21, 29, 34, 57, 65, 72, 77, 96, 100, 138]\n",
      "[2, 5, 8, 10, 14, 21, 29, 34, 65, 69, 72, 77, 89, 96, 100, 138]\n",
      "[2, 5, 8, 10, 14, 21, 29, 34, 65, 69, 72, 77, 96, 100, 104, 138]\n",
      "[2, 5, 8, 10, 14, 21, 29, 34, 57, 65, 69, 72, 77, 96, 100, 138]\n",
      "[2, 5, 8, 10, 14, 21, 29, 34, 65, 69, 72, 77, 89, 100, 112, 138]\n",
      "[7, 13, 21, 29, 31, 34, 49, 59, 65, 69, 77, 96, 100, 104, 106, 138]\n",
      "[8, 13, 21, 29, 31, 34, 49, 59, 65, 69, 77, 96, 100, 104, 106, 138]\n",
      "[8, 10, 13, 21, 29, 31, 34, 59, 65, 69, 77, 96, 100, 104, 106, 138]\n",
      "[7, 13, 21, 29, 31, 49, 59, 65, 69, 77, 96, 100, 102, 104, 106, 138]\n",
      "[13, 21, 29, 31, 49, 59, 60, 65, 69, 77, 96, 100, 102, 104, 106, 138]\n",
      "[8, 13, 21, 29, 31, 49, 59, 65, 69, 77, 96, 100, 102, 104, 106, 138]\n",
      "[21, 29, 31, 49, 59, 60, 65, 69, 72, 77, 96, 100, 102, 104, 106, 138]\n",
      "[8, 21, 29, 31, 49, 59, 65, 69, 72, 77, 96, 100, 102, 104, 106, 138]\n",
      "[7, 13, 16, 21, 29, 31, 49, 59, 69, 77, 96, 100, 102, 104, 106, 138]\n",
      "[2, 21, 29, 31, 49, 59, 60, 65, 69, 72, 77, 96, 100, 102, 104, 138]\n",
      "[2, 8, 21, 29, 31, 49, 59, 65, 69, 72, 77, 96, 100, 102, 104, 138]\n",
      "[5, 14, 29, 42, 57, 62, 63, 72, 74, 78, 82, 84, 87, 119, 133, 139]\n",
      "[5, 14, 29, 57, 62, 63, 72, 74, 78, 82, 84, 87, 94, 127, 133, 139]\n",
      "[10, 21, 22, 24, 29, 43, 52, 56, 61, 73, 85, 86, 89, 98, 125, 128]\n",
      "[10, 11, 21, 22, 24, 29, 43, 52, 56, 61, 73, 85, 86, 89, 125, 128]\n",
      "[10, 11, 21, 22, 24, 29, 43, 52, 56, 73, 85, 86, 89, 112, 125, 128]\n",
      "[10, 11, 13, 21, 24, 29, 52, 56, 61, 65, 73, 85, 86, 89, 125, 128]\n",
      "[10, 11, 13, 21, 22, 24, 29, 52, 56, 61, 73, 85, 86, 89, 125, 128]\n",
      "[10, 11, 13, 21, 24, 29, 56, 61, 65, 73, 85, 86, 89, 120, 125, 128]\n",
      "[10, 21, 22, 24, 29, 43, 56, 61, 73, 85, 86, 89, 98, 120, 125, 128]\n",
      "[10, 11, 21, 22, 24, 29, 43, 56, 61, 73, 85, 86, 89, 120, 125, 128]\n",
      "[10, 11, 13, 21, 22, 24, 29, 56, 61, 73, 85, 86, 89, 120, 125, 128]\n",
      "[1, 2, 4, 16, 32, 38, 40, 47, 50, 59, 62, 71, 86, 99, 111, 123]\n",
      "[10, 11, 13, 21, 24, 29, 52, 56, 59, 61, 65, 73, 86, 89, 125, 128]\n",
      "[2, 7, 16, 38, 40, 43, 59, 62, 64, 69, 83, 86, 99, 100, 108, 112]\n",
      "[7, 17, 29, 56, 57, 59, 62, 77, 86, 97, 106, 110, 111, 117, 118, 138]\n",
      "[10, 13, 21, 24, 29, 52, 56, 59, 61, 65, 73, 86, 89, 125, 128, 138]\n",
      "[12, 22, 24, 43, 44, 45, 61, 81, 86, 91, 98, 120, 123, 132, 137, 138]\n",
      "[22, 24, 43, 44, 45, 56, 61, 81, 86, 91, 98, 120, 123, 132, 137, 138]\n",
      "[10, 21, 22, 24, 29, 43, 56, 61, 73, 86, 89, 98, 120, 125, 128, 138]\n",
      "[10, 21, 22, 24, 29, 43, 52, 56, 61, 73, 86, 89, 98, 125, 128, 138]\n",
      "[12, 22, 24, 38, 43, 44, 45, 61, 81, 86, 91, 98, 120, 123, 132, 137]\n",
      "[22, 24, 38, 43, 44, 45, 56, 61, 81, 86, 91, 98, 120, 123, 132, 137]\n",
      "[21, 24, 29, 35, 59, 60, 67, 72, 73, 75, 89, 96, 125, 128, 136, 138]\n",
      "[21, 24, 35, 39, 59, 60, 67, 72, 73, 75, 89, 96, 125, 128, 136, 138]\n",
      "[13, 21, 24, 29, 35, 59, 60, 67, 73, 75, 89, 96, 125, 128, 136, 138]\n",
      "[13, 21, 24, 35, 39, 59, 60, 67, 73, 75, 89, 96, 125, 128, 136, 138]\n",
      "Grafo densamente conectado gerado e salvo em 'grafo.txt'.\n",
      "Cliques maximais encontradas de tamanho 16: \n",
      "[1, 4, 8, 18, 22, 23, 24, 48, 81, 92, 94, 101, 102, 118, 131, 140]\n",
      "[1, 4, 8, 18, 22, 24, 48, 75, 81, 92, 94, 101, 102, 118, 131, 140]\n",
      "[1, 4, 8, 12, 22, 23, 24, 81, 91, 92, 99, 101, 102, 129, 131, 140]\n",
      "[1, 4, 8, 22, 23, 24, 81, 91, 92, 94, 101, 102, 118, 129, 131, 140]\n",
      "[1, 4, 8, 18, 22, 23, 24, 81, 91, 92, 94, 101, 102, 118, 131, 140]\n",
      "[9, 13, 32, 37, 42, 51, 57, 66, 71, 75, 77, 117, 119, 124, 137, 140]\n",
      "[9, 13, 32, 42, 51, 57, 66, 71, 75, 77, 82, 117, 119, 124, 137, 140]\n",
      "[6, 9, 13, 20, 32, 66, 71, 77, 82, 91, 94, 117, 119, 124, 129, 140]\n",
      "[6, 9, 13, 20, 32, 37, 66, 71, 77, 91, 94, 117, 119, 124, 129, 140]\n",
      "[9, 13, 20, 32, 37, 42, 57, 71, 73, 77, 91, 93, 117, 119, 124, 140]\n",
      "[9, 13, 20, 25, 32, 37, 42, 57, 71, 73, 77, 91, 93, 117, 119, 124]\n",
      "[9, 13, 20, 32, 37, 42, 71, 73, 77, 91, 93, 117, 119, 124, 129, 140]\n",
      "[9, 13, 20, 25, 32, 37, 42, 71, 73, 77, 91, 93, 117, 119, 124, 129]\n",
      "[9, 13, 20, 32, 37, 71, 73, 77, 91, 93, 94, 117, 119, 124, 129, 140]\n",
      "[9, 13, 20, 25, 32, 37, 71, 73, 77, 91, 93, 94, 117, 119, 124, 129]\n",
      "[9, 13, 20, 25, 37, 44, 71, 73, 77, 91, 93, 94, 117, 119, 124, 129]\n",
      "[9, 25, 32, 42, 57, 71, 77, 82, 91, 117, 119, 122, 123, 124, 137, 141]\n",
      "[9, 13, 32, 37, 42, 51, 57, 66, 71, 77, 91, 117, 119, 124, 137, 140]\n",
      "[9, 13, 32, 37, 42, 51, 57, 71, 77, 91, 93, 117, 119, 124, 137, 140]\n",
      "[9, 13, 32, 42, 51, 57, 66, 71, 77, 82, 91, 117, 119, 124, 137, 140]\n",
      "[9, 13, 32, 42, 51, 57, 71, 77, 82, 91, 93, 117, 119, 124, 137, 140]\n",
      "[9, 13, 32, 37, 42, 57, 71, 73, 77, 91, 93, 117, 119, 124, 137, 140]\n",
      "[9, 13, 32, 42, 57, 71, 77, 82, 91, 93, 117, 119, 122, 124, 137, 140]\n",
      "[9, 13, 32, 37, 42, 57, 71, 77, 91, 93, 117, 119, 122, 124, 137, 140]\n",
      "[9, 13, 25, 32, 42, 57, 71, 77, 82, 91, 93, 117, 119, 122, 124, 137]\n",
      "[9, 13, 25, 32, 37, 42, 57, 71, 73, 77, 91, 93, 117, 119, 124, 137]\n",
      "[9, 13, 25, 32, 37, 42, 57, 71, 77, 91, 93, 117, 119, 122, 124, 137]\n",
      "[9, 13, 32, 38, 42, 51, 57, 66, 71, 77, 82, 91, 117, 119, 124, 140]\n",
      "[9, 11, 18, 20, 24, 25, 32, 37, 73, 77, 91, 94, 114, 117, 124, 141]\n",
      "[7, 9, 14, 29, 36, 38, 48, 49, 51, 55, 63, 80, 103, 107, 115, 125]\n",
      "[4, 15, 30, 36, 41, 42, 49, 57, 63, 72, 78, 120, 123, 130, 136, 137]\n",
      "[8, 14, 22, 24, 48, 76, 88, 92, 97, 101, 111, 112, 113, 118, 131, 140]\n",
      "[8, 14, 22, 23, 24, 48, 76, 81, 88, 92, 97, 101, 111, 118, 131, 135]\n",
      "[8, 14, 22, 24, 48, 75, 81, 88, 92, 97, 101, 111, 112, 118, 131, 140]\n",
      "[8, 14, 22, 24, 48, 76, 81, 88, 92, 97, 101, 111, 112, 118, 131, 140]\n",
      "[8, 14, 22, 23, 24, 48, 76, 81, 88, 92, 97, 101, 111, 118, 131, 140]\n",
      "[8, 14, 22, 24, 48, 75, 81, 88, 92, 97, 101, 111, 112, 118, 134, 140]\n",
      "[9, 13, 20, 25, 32, 37, 42, 64, 66, 71, 76, 77, 91, 119, 124, 129]\n",
      "[9, 13, 20, 25, 32, 37, 42, 64, 71, 73, 77, 91, 93, 119, 124, 129]\n",
      "[9, 13, 20, 25, 32, 37, 42, 64, 71, 76, 77, 91, 93, 119, 124, 129]\n",
      "[9, 13, 20, 25, 32, 37, 64, 71, 73, 77, 91, 93, 94, 119, 124, 129]\n",
      "[9, 13, 20, 25, 37, 44, 64, 71, 73, 77, 91, 93, 94, 119, 124, 129]\n",
      "[9, 13, 20, 25, 32, 37, 42, 64, 66, 76, 77, 91, 114, 119, 124, 129]\n",
      "[8, 16, 19, 20, 32, 59, 85, 87, 88, 100, 113, 118, 121, 133, 134, 140]\n",
      "[8, 16, 19, 20, 32, 59, 87, 88, 91, 100, 113, 118, 121, 133, 134, 140]\n",
      "[16, 17, 20, 26, 42, 66, 74, 78, 87, 91, 100, 104, 113, 114, 121, 134]\n",
      "[5, 16, 17, 26, 27, 28, 41, 45, 49, 50, 52, 72, 86, 87, 97, 109]\n",
      "[5, 14, 16, 17, 26, 28, 41, 45, 49, 50, 72, 87, 90, 97, 109, 125]\n",
      "Grafo densamente conectado gerado e salvo em 'grafo.txt'.\n",
      "Cliques maximais encontradas de tamanho 16: \n",
      "[7, 8, 16, 17, 20, 32, 40, 44, 102, 106, 108, 116, 122, 123, 126, 134]\n",
      "[15, 30, 31, 42, 47, 53, 57, 81, 92, 95, 96, 99, 107, 110, 121, 122]\n",
      "[15, 30, 31, 42, 47, 53, 81, 92, 95, 96, 99, 107, 108, 110, 121, 122]\n",
      "[7, 13, 40, 46, 57, 77, 97, 101, 107, 116, 122, 123, 130, 134, 135, 136]\n",
      "[13, 15, 40, 46, 57, 77, 97, 101, 107, 116, 122, 123, 130, 134, 135, 136]\n",
      "[7, 13, 40, 46, 47, 57, 77, 97, 101, 107, 116, 121, 122, 130, 134, 135]\n",
      "[7, 13, 40, 46, 57, 77, 97, 101, 107, 116, 121, 122, 123, 130, 134, 135]\n",
      "[13, 15, 40, 46, 47, 57, 77, 97, 101, 107, 116, 121, 122, 130, 134, 135]\n",
      "[13, 15, 40, 47, 57, 77, 97, 101, 107, 110, 116, 121, 122, 130, 134, 135]\n",
      "[13, 15, 40, 47, 57, 77, 96, 97, 101, 107, 110, 116, 121, 122, 130, 134]\n",
      "[13, 15, 40, 46, 57, 77, 97, 101, 107, 116, 121, 122, 123, 130, 134, 135]\n",
      "[3, 7, 40, 46, 57, 77, 97, 101, 107, 116, 121, 122, 123, 130, 134, 135]\n",
      "[3, 15, 40, 46, 57, 77, 97, 101, 107, 116, 121, 122, 123, 130, 134, 135]\n",
      "[15, 22, 33, 41, 52, 89, 92, 97, 99, 104, 121, 124, 130, 132, 135, 138]\n",
      "[13, 15, 34, 40, 46, 57, 77, 97, 101, 116, 122, 123, 130, 134, 135, 136]\n",
      "[3, 15, 34, 40, 46, 57, 77, 97, 101, 116, 121, 122, 123, 130, 134, 135]\n",
      "[13, 15, 34, 40, 46, 47, 57, 77, 97, 101, 116, 121, 122, 130, 134, 135]\n",
      "[13, 15, 34, 40, 47, 57, 77, 97, 101, 110, 116, 121, 122, 130, 134, 135]\n",
      "[13, 15, 34, 40, 46, 57, 77, 97, 101, 116, 121, 122, 123, 130, 134, 135]\n",
      "[7, 13, 34, 40, 46, 47, 57, 77, 97, 101, 116, 121, 122, 130, 134, 135]\n",
      "[7, 13, 34, 40, 46, 57, 77, 97, 101, 116, 122, 123, 130, 134, 135, 136]\n",
      "[7, 13, 34, 40, 46, 57, 77, 97, 101, 116, 121, 122, 123, 130, 134, 135]\n",
      "[3, 7, 34, 40, 46, 57, 77, 97, 101, 116, 121, 122, 123, 130, 134, 135]\n",
      "[7, 13, 28, 34, 46, 72, 77, 79, 97, 122, 123, 126, 130, 134, 135, 136]\n",
      "[1, 15, 22, 30, 40, 47, 55, 73, 74, 89, 99, 121, 130, 131, 135, 137]\n",
      "[1, 15, 22, 30, 34, 40, 46, 47, 55, 95, 99, 121, 130, 131, 135, 137]\n",
      "[1, 15, 22, 30, 34, 40, 47, 55, 73, 95, 99, 121, 130, 131, 135, 137]\n",
      "[1, 15, 30, 34, 40, 46, 47, 55, 57, 95, 99, 121, 130, 131, 135, 137]\n",
      "[1, 13, 15, 34, 40, 46, 47, 55, 57, 95, 116, 121, 130, 131, 135, 137]\n",
      "[1, 15, 22, 30, 40, 47, 55, 73, 74, 95, 99, 121, 130, 131, 135, 137]\n",
      "[1, 15, 22, 30, 34, 40, 47, 73, 95, 99, 110, 121, 122, 130, 135, 137]\n",
      "[1, 15, 22, 30, 34, 40, 46, 47, 55, 95, 99, 121, 122, 130, 135, 137]\n",
      "[1, 15, 22, 30, 34, 40, 47, 55, 73, 95, 99, 121, 122, 130, 135, 137]\n",
      "[1, 15, 30, 34, 40, 46, 47, 55, 57, 95, 99, 121, 122, 130, 135, 137]\n",
      "[1, 13, 15, 34, 40, 46, 47, 55, 57, 95, 116, 121, 122, 130, 135, 137]\n",
      "[1, 15, 22, 30, 40, 47, 73, 74, 95, 99, 110, 121, 122, 130, 135, 137]\n",
      "[1, 15, 22, 30, 40, 47, 55, 73, 74, 95, 99, 121, 122, 130, 135, 137]\n",
      "[1, 15, 22, 30, 34, 40, 46, 47, 55, 95, 99, 115, 121, 122, 130, 135]\n",
      "[1, 15, 22, 30, 34, 40, 47, 55, 73, 95, 99, 115, 121, 122, 130, 135]\n",
      "[1, 15, 22, 30, 34, 40, 47, 73, 95, 99, 110, 115, 121, 122, 130, 135]\n",
      "[1, 15, 22, 30, 40, 47, 73, 74, 95, 99, 110, 115, 121, 122, 130, 135]\n",
      "[1, 15, 22, 30, 40, 47, 55, 73, 74, 95, 99, 115, 121, 122, 130, 135]\n",
      "[1, 29, 53, 58, 63, 64, 67, 69, 73, 84, 90, 102, 103, 110, 120, 122]\n",
      "[1, 15, 18, 22, 31, 33, 40, 41, 95, 99, 103, 110, 115, 121, 122, 132]\n",
      "[1, 15, 22, 31, 40, 41, 52, 73, 80, 89, 99, 103, 104, 111, 121, 132]\n",
      "[1, 15, 18, 22, 30, 31, 40, 46, 95, 99, 103, 111, 115, 121, 122, 132]\n",
      "[1, 15, 18, 22, 31, 33, 40, 41, 95, 99, 103, 111, 115, 121, 122, 132]\n",
      "[1, 15, 22, 30, 31, 38, 40, 46, 95, 99, 103, 111, 115, 121, 122, 132]\n",
      "[1, 15, 22, 40, 41, 52, 73, 80, 89, 99, 103, 104, 111, 121, 132, 135]\n",
      "[1, 15, 18, 22, 33, 40, 41, 95, 99, 103, 111, 115, 121, 122, 132, 135]\n",
      "[1, 15, 18, 22, 30, 40, 46, 95, 99, 103, 111, 115, 121, 122, 132, 135]\n",
      "[10, 15, 16, 41, 53, 58, 59, 61, 95, 96, 103, 110, 115, 121, 122, 139]\n",
      "[10, 15, 16, 41, 53, 58, 59, 61, 95, 96, 99, 103, 110, 115, 121, 122]\n",
      "[1, 5, 15, 16, 40, 42, 44, 89, 94, 103, 104, 110, 116, 121, 132, 135]\n",
      "[1, 5, 10, 15, 16, 22, 58, 95, 99, 103, 104, 110, 115, 121, 132, 135]\n",
      "[1, 15, 16, 41, 53, 58, 73, 80, 89, 94, 99, 103, 104, 121, 124, 135]\n",
      "[1, 15, 16, 22, 41, 58, 73, 95, 99, 103, 104, 110, 115, 121, 132, 135]\n",
      "[1, 15, 16, 22, 40, 41, 73, 95, 99, 103, 104, 110, 115, 121, 132, 135]\n",
      "[1, 15, 16, 22, 41, 52, 73, 80, 89, 99, 103, 104, 121, 124, 132, 135]\n",
      "[1, 15, 16, 22, 40, 41, 52, 73, 80, 89, 99, 103, 104, 121, 132, 135]\n",
      "[1, 15, 16, 22, 41, 58, 73, 80, 89, 99, 103, 104, 121, 124, 132, 135]\n",
      "[1, 15, 16, 22, 41, 58, 73, 95, 99, 103, 110, 115, 121, 122, 132, 135]\n",
      "[1, 15, 16, 22, 40, 41, 73, 95, 99, 103, 110, 115, 121, 122, 132, 135]\n",
      "[1, 15, 16, 41, 58, 73, 80, 89, 94, 99, 103, 104, 121, 124, 132, 135]\n",
      "[1, 15, 16, 40, 41, 42, 44, 89, 94, 103, 104, 110, 116, 121, 132, 135]\n",
      "[1, 15, 16, 22, 33, 40, 41, 95, 99, 103, 104, 110, 115, 121, 132, 135]\n",
      "[1, 15, 16, 22, 33, 40, 41, 95, 99, 103, 110, 115, 121, 122, 132, 135]\n",
      "[1, 10, 15, 16, 22, 41, 58, 95, 99, 103, 104, 110, 115, 121, 132, 135]\n",
      "[1, 10, 15, 16, 22, 41, 58, 95, 99, 103, 110, 115, 121, 122, 132, 135]\n",
      "[1, 15, 18, 22, 33, 40, 41, 95, 99, 103, 110, 115, 121, 122, 132, 135]\n",
      "[10, 13, 16, 25, 48, 58, 76, 82, 96, 108, 113, 121, 124, 127, 138, 139]\n",
      "[10, 13, 25, 48, 53, 58, 64, 82, 89, 96, 104, 108, 113, 121, 124, 139]\n",
      "[10, 13, 16, 25, 48, 53, 58, 82, 89, 96, 104, 108, 113, 121, 124, 139]\n",
      "[10, 13, 25, 48, 53, 58, 64, 76, 82, 89, 96, 108, 113, 121, 124, 139]\n",
      "[10, 13, 48, 53, 58, 64, 76, 82, 89, 96, 101, 108, 113, 121, 124, 139]\n",
      "[10, 13, 48, 53, 58, 64, 76, 89, 94, 96, 101, 108, 113, 121, 124, 139]\n",
      "[10, 13, 16, 25, 48, 53, 58, 76, 82, 89, 96, 108, 113, 121, 124, 139]\n",
      "[10, 13, 25, 48, 58, 64, 82, 89, 96, 104, 108, 113, 121, 124, 138, 139]\n",
      "[10, 13, 25, 48, 58, 64, 76, 82, 89, 96, 108, 113, 121, 124, 138, 139]\n",
      "[10, 13, 48, 58, 64, 76, 82, 89, 96, 101, 108, 113, 121, 124, 138, 139]\n",
      "[10, 13, 48, 58, 64, 76, 89, 94, 96, 101, 108, 113, 121, 124, 138, 139]\n",
      "[10, 13, 16, 25, 48, 58, 82, 89, 96, 104, 108, 113, 121, 124, 138, 139]\n",
      "[10, 13, 16, 25, 48, 58, 76, 82, 89, 96, 108, 113, 121, 124, 138, 139]\n",
      "[10, 13, 25, 48, 53, 58, 64, 82, 89, 96, 104, 108, 110, 113, 121, 139]\n",
      "[10, 13, 16, 25, 48, 53, 58, 82, 89, 96, 104, 108, 110, 113, 121, 139]\n",
      "[10, 13, 25, 48, 58, 64, 82, 89, 96, 104, 108, 110, 113, 121, 138, 139]\n",
      "[10, 13, 16, 25, 48, 58, 82, 89, 96, 104, 108, 110, 113, 121, 138, 139]\n",
      "[1, 15, 30, 34, 40, 42, 46, 47, 55, 57, 95, 99, 121, 131, 135, 137]\n",
      "[1, 15, 30, 34, 40, 42, 46, 47, 55, 57, 95, 99, 121, 122, 135, 137]\n",
      "[15, 16, 22, 33, 41, 61, 74, 92, 95, 99, 110, 121, 122, 135, 137, 138]\n",
      "[15, 16, 22, 33, 41, 61, 74, 92, 95, 96, 99, 110, 121, 122, 137, 138]\n",
      "[1, 5, 10, 15, 22, 47, 58, 74, 95, 99, 104, 110, 115, 121, 135, 138]\n",
      "[10, 15, 16, 22, 41, 58, 61, 74, 95, 96, 110, 115, 121, 122, 138, 139]\n",
      "[10, 15, 16, 22, 41, 58, 61, 74, 95, 96, 99, 110, 115, 121, 122, 138]\n",
      "[1, 5, 10, 15, 16, 22, 58, 74, 95, 99, 104, 110, 115, 121, 135, 138]\n",
      "[1, 10, 15, 16, 22, 41, 58, 74, 95, 99, 104, 110, 115, 121, 135, 138]\n",
      "[1, 10, 15, 16, 22, 41, 58, 74, 95, 99, 110, 115, 121, 122, 135, 138]\n",
      "[10, 15, 16, 22, 41, 58, 61, 74, 95, 99, 110, 115, 121, 122, 135, 138]\n",
      "[10, 15, 16, 22, 41, 58, 61, 74, 95, 110, 115, 121, 122, 135, 138, 139]\n",
      "[15, 16, 22, 33, 41, 52, 89, 92, 97, 99, 104, 121, 124, 132, 135, 138]\n",
      "[1, 5, 10, 15, 16, 22, 58, 95, 99, 104, 110, 115, 121, 132, 135, 138]\n",
      "[1, 10, 15, 16, 22, 41, 58, 95, 99, 104, 110, 115, 121, 132, 135, 138]\n",
      "[1, 10, 15, 16, 22, 41, 58, 95, 99, 110, 115, 121, 122, 132, 135, 138]\n",
      "Grafo densamente conectado gerado e salvo em 'grafo.txt'.\n",
      "Cliques maximais encontradas de tamanho 16: \n",
      "[13, 28, 43, 46, 49, 60, 62, 64, 69, 72, 77, 102, 109, 111, 130, 141]\n",
      "[13, 28, 43, 46, 49, 60, 62, 64, 69, 77, 102, 109, 111, 120, 130, 141]\n",
      "[9, 10, 21, 32, 35, 37, 57, 70, 80, 97, 101, 107, 108, 122, 125, 139]\n",
      "[11, 21, 25, 31, 38, 43, 61, 63, 64, 65, 68, 69, 80, 109, 111, 136]\n",
      "[11, 21, 25, 31, 38, 43, 61, 63, 64, 65, 68, 69, 80, 109, 111, 120]\n",
      "[16, 28, 30, 43, 46, 49, 62, 64, 69, 72, 102, 105, 109, 111, 130, 141]\n",
      "[16, 28, 30, 43, 46, 49, 62, 64, 69, 102, 105, 109, 111, 120, 130, 141]\n",
      "[39, 42, 53, 71, 82, 97, 99, 102, 113, 125, 126, 133, 137, 140, 142, 144]\n",
      "[22, 39, 42, 58, 71, 82, 97, 99, 113, 114, 125, 126, 137, 140, 142, 144]\n",
      "[39, 42, 58, 71, 82, 97, 99, 102, 113, 125, 126, 133, 137, 140, 142, 144]\n",
      "[39, 53, 71, 82, 99, 102, 111, 113, 125, 126, 130, 133, 137, 140, 142, 144]\n",
      "[39, 42, 53, 71, 82, 99, 102, 111, 113, 125, 126, 133, 137, 140, 142, 144]\n",
      "[26, 39, 53, 71, 82, 102, 111, 113, 125, 126, 130, 133, 137, 140, 142, 144]\n",
      "[39, 42, 53, 65, 71, 82, 97, 99, 102, 113, 125, 126, 133, 137, 140, 144]\n",
      "[39, 53, 65, 71, 82, 99, 102, 111, 113, 125, 126, 130, 133, 137, 140, 144]\n",
      "[39, 42, 53, 65, 71, 82, 99, 102, 111, 113, 125, 126, 133, 137, 140, 144]\n",
      "[13, 28, 30, 43, 46, 49, 62, 64, 69, 72, 77, 102, 109, 111, 130, 141]\n",
      "[13, 16, 28, 30, 43, 46, 49, 62, 64, 69, 72, 102, 109, 111, 130, 141]\n",
      "[16, 18, 28, 46, 48, 49, 62, 74, 78, 81, 90, 103, 106, 110, 117, 120]\n",
      "[13, 28, 30, 43, 46, 49, 62, 64, 69, 77, 102, 109, 111, 120, 130, 141]\n",
      "[13, 16, 28, 30, 43, 46, 49, 62, 64, 69, 102, 109, 111, 120, 130, 141]\n",
      "[11, 12, 39, 45, 46, 56, 62, 80, 99, 102, 104, 111, 112, 125, 133, 139]\n",
      "[11, 12, 39, 46, 56, 62, 80, 99, 102, 104, 111, 112, 125, 126, 133, 139]\n",
      "[12, 39, 46, 56, 62, 80, 99, 102, 104, 111, 112, 125, 126, 130, 133, 139]\n",
      "[12, 39, 45, 46, 56, 62, 80, 99, 102, 104, 111, 112, 125, 130, 133, 139]\n",
      "[39, 53, 65, 71, 77, 99, 102, 104, 111, 112, 125, 126, 130, 133, 137, 144]\n",
      "[39, 42, 53, 65, 71, 77, 99, 102, 104, 111, 112, 125, 126, 133, 137, 144]\n",
      "[6, 11, 12, 22, 30, 39, 54, 56, 65, 73, 98, 99, 112, 126, 127, 129]\n",
      "[28, 30, 37, 46, 48, 62, 69, 79, 103, 106, 110, 112, 120, 126, 129, 134]\n",
      "[16, 28, 30, 46, 48, 69, 79, 81, 103, 106, 110, 112, 115, 120, 129, 134]\n",
      "[16, 28, 30, 46, 48, 62, 69, 79, 81, 103, 106, 110, 112, 120, 129, 134]\n",
      "[28, 30, 37, 46, 48, 62, 69, 79, 81, 103, 106, 110, 112, 120, 129, 134]\n",
      "[18, 28, 30, 37, 46, 48, 62, 69, 79, 81, 103, 106, 110, 120, 129, 134]\n",
      "[16, 18, 28, 30, 46, 48, 69, 79, 81, 103, 106, 110, 115, 120, 129, 134]\n",
      "[16, 18, 28, 30, 46, 48, 62, 69, 79, 81, 103, 106, 110, 120, 129, 134]\n",
      "Grafo densamente conectado gerado e salvo em 'grafo.txt'.\n",
      "Cliques maximais encontradas de tamanho 17: \n",
      "[2, 23, 29, 33, 53, 58, 61, 70, 77, 80, 83, 97, 103, 119, 124, 126, 129]\n",
      "[2, 13, 15, 23, 25, 48, 53, 55, 58, 61, 63, 64, 80, 115, 126, 134, 141]\n",
      "[9, 23, 28, 33, 37, 43, 49, 53, 55, 58, 61, 67, 77, 97, 99, 103, 141]\n",
      "[4, 22, 23, 33, 39, 43, 44, 58, 73, 80, 87, 90, 93, 99, 105, 124, 140]\n",
      "[4, 23, 33, 39, 43, 44, 58, 73, 80, 87, 90, 93, 99, 103, 105, 124, 140]\n",
      "Grafo densamente conectado gerado e salvo em 'grafo.txt'.\n",
      "Cliques maximais encontradas de tamanho 17: \n",
      "[15, 17, 29, 30, 41, 50, 62, 67, 74, 79, 83, 86, 96, 112, 134, 143, 145]\n",
      "Grafo densamente conectado gerado e salvo em 'grafo.txt'.\n",
      "Cliques maximais encontradas de tamanho 16: \n",
      "[19, 27, 30, 51, 61, 78, 89, 95, 97, 100, 105, 117, 121, 124, 131, 141]\n",
      "[18, 19, 27, 30, 51, 78, 89, 95, 97, 100, 105, 117, 121, 124, 131, 141]\n",
      "[2, 10, 13, 18, 27, 34, 57, 66, 81, 85, 88, 99, 100, 118, 125, 141]\n",
      "[2, 4, 10, 18, 28, 34, 56, 57, 58, 66, 81, 99, 100, 109, 115, 147]\n",
      "[2, 4, 10, 18, 28, 34, 56, 57, 58, 66, 81, 99, 100, 104, 109, 147]\n",
      "[2, 4, 10, 14, 18, 28, 34, 56, 57, 58, 66, 99, 100, 109, 115, 147]\n",
      "[2, 4, 10, 14, 18, 28, 34, 56, 57, 58, 66, 99, 100, 104, 109, 147]\n",
      "[4, 10, 16, 18, 34, 56, 57, 58, 59, 66, 81, 99, 100, 104, 109, 147]\n",
      "[2, 4, 10, 16, 18, 34, 56, 57, 58, 66, 81, 99, 100, 104, 109, 147]\n",
      "[2, 4, 10, 16, 18, 34, 56, 57, 58, 66, 81, 99, 100, 104, 141, 147]\n",
      "[2, 4, 10, 14, 16, 18, 34, 56, 57, 58, 66, 99, 100, 104, 109, 147]\n",
      "[2, 4, 10, 14, 16, 18, 34, 56, 57, 58, 66, 99, 100, 104, 141, 147]\n",
      "[2, 10, 14, 18, 28, 56, 57, 58, 66, 71, 78, 97, 99, 100, 104, 109]\n",
      "[2, 4, 10, 14, 18, 28, 56, 57, 58, 66, 78, 99, 100, 109, 115, 147]\n",
      "[2, 4, 10, 14, 18, 28, 56, 57, 58, 66, 78, 99, 100, 104, 109, 147]\n",
      "[2, 4, 10, 18, 28, 56, 57, 58, 66, 78, 81, 99, 100, 109, 115, 147]\n",
      "[2, 4, 10, 18, 28, 56, 57, 58, 66, 78, 81, 99, 100, 104, 109, 147]\n",
      "[2, 4, 10, 14, 18, 28, 34, 48, 56, 57, 58, 66, 99, 109, 115, 147]\n",
      "[2, 4, 10, 14, 18, 28, 34, 48, 56, 57, 58, 66, 99, 104, 109, 147]\n",
      "[2, 4, 10, 14, 18, 28, 48, 56, 57, 58, 66, 78, 99, 109, 115, 147]\n",
      "[2, 4, 10, 14, 18, 28, 48, 56, 57, 58, 66, 78, 99, 104, 109, 147]\n",
      "[12, 13, 17, 18, 27, 34, 43, 57, 60, 86, 96, 105, 124, 125, 128, 137]\n",
      "[12, 13, 17, 27, 34, 43, 57, 60, 86, 96, 105, 116, 124, 125, 128, 137]\n",
      "[7, 12, 13, 17, 34, 43, 57, 60, 86, 96, 105, 116, 124, 125, 128, 137]\n",
      "[7, 12, 13, 17, 31, 34, 43, 57, 60, 96, 105, 116, 124, 125, 128, 137]\n",
      "[7, 12, 17, 31, 34, 43, 51, 60, 87, 96, 105, 116, 124, 125, 128, 137]\n",
      "[7, 12, 17, 31, 34, 43, 51, 60, 74, 87, 96, 105, 116, 125, 128, 137]\n",
      "[7, 12, 13, 17, 31, 34, 43, 60, 87, 96, 105, 116, 124, 125, 128, 137]\n",
      "[13, 17, 27, 34, 43, 52, 57, 60, 86, 96, 105, 116, 124, 125, 128, 137]\n",
      "[7, 13, 17, 34, 43, 52, 57, 60, 86, 96, 105, 116, 124, 125, 128, 137]\n",
      "[13, 27, 29, 34, 52, 57, 58, 66, 97, 100, 105, 116, 124, 129, 137, 141]\n",
      "[12, 13, 27, 34, 43, 57, 60, 66, 86, 96, 105, 116, 124, 125, 128, 137]\n",
      "[13, 27, 34, 43, 52, 57, 60, 66, 86, 96, 105, 116, 124, 125, 128, 137]\n",
      "[15, 19, 27, 34, 51, 52, 95, 97, 100, 105, 116, 124, 125, 129, 131, 141]\n",
      "[7, 15, 19, 34, 51, 52, 95, 97, 100, 105, 116, 124, 125, 129, 131, 141]\n",
      "[7, 15, 19, 28, 34, 50, 51, 52, 95, 97, 100, 105, 116, 125, 129, 131]\n",
      "[7, 15, 19, 28, 34, 50, 51, 52, 95, 96, 97, 105, 116, 125, 129, 131]\n",
      "[12, 13, 18, 27, 34, 43, 57, 60, 66, 86, 90, 105, 124, 125, 128, 137]\n",
      "[4, 18, 34, 56, 57, 58, 59, 66, 81, 85, 99, 100, 109, 115, 126, 129]\n",
      "[4, 18, 34, 56, 57, 58, 59, 81, 85, 99, 100, 109, 115, 126, 129, 135]\n",
      "[16, 18, 34, 56, 57, 58, 59, 81, 97, 99, 100, 104, 109, 129, 134, 135]\n",
      "[4, 18, 34, 56, 57, 58, 59, 81, 99, 100, 109, 115, 126, 129, 134, 135]\n",
      "[4, 16, 18, 34, 56, 57, 58, 59, 81, 99, 100, 104, 109, 129, 134, 135]\n",
      "[4, 18, 34, 56, 57, 58, 59, 81, 99, 100, 109, 115, 126, 134, 135, 147]\n",
      "[4, 16, 18, 34, 56, 57, 58, 59, 81, 99, 100, 104, 109, 134, 135, 147]\n",
      "[12, 13, 18, 27, 34, 43, 57, 60, 66, 86, 96, 105, 124, 125, 128, 137]\n",
      "[18, 26, 30, 56, 57, 58, 59, 81, 85, 99, 100, 109, 115, 126, 129, 135]\n",
      "[18, 26, 30, 56, 57, 58, 59, 78, 81, 85, 99, 100, 109, 115, 129, 135]\n",
      "[6, 16, 18, 30, 47, 56, 58, 59, 81, 97, 99, 100, 109, 129, 134, 135]\n",
      "[6, 16, 18, 26, 30, 47, 58, 59, 81, 84, 99, 100, 109, 129, 134, 135]\n",
      "[6, 16, 18, 26, 30, 47, 56, 58, 59, 81, 99, 100, 109, 129, 134, 135]\n",
      "[18, 26, 30, 56, 57, 58, 59, 78, 81, 99, 100, 109, 115, 129, 134, 135]\n",
      "[18, 26, 30, 56, 57, 58, 59, 81, 99, 100, 109, 115, 126, 129, 134, 135]\n",
      "[6, 16, 18, 26, 30, 47, 58, 59, 81, 84, 99, 100, 109, 134, 135, 147]\n",
      "[6, 16, 18, 26, 30, 47, 56, 58, 59, 81, 99, 100, 109, 134, 135, 147]\n",
      "[18, 26, 30, 56, 57, 58, 59, 78, 81, 99, 100, 109, 115, 134, 135, 147]\n",
      "[18, 26, 30, 56, 57, 58, 59, 81, 99, 100, 109, 115, 126, 134, 135, 147]\n",
      "[12, 37, 47, 49, 63, 65, 70, 72, 84, 89, 98, 99, 134, 135, 142, 146]\n",
      "[6, 12, 26, 37, 47, 49, 63, 70, 72, 84, 89, 98, 99, 134, 135, 146]\n",
      "[12, 26, 37, 47, 49, 63, 65, 70, 72, 84, 89, 98, 99, 134, 135, 146]\n",
      "[6, 12, 26, 37, 47, 63, 70, 72, 84, 89, 90, 98, 134, 135, 138, 146]\n",
      "[6, 12, 26, 37, 47, 49, 63, 70, 72, 84, 89, 90, 98, 134, 135, 146]\n",
      "[12, 26, 37, 47, 49, 63, 65, 70, 72, 84, 89, 90, 98, 134, 135, 146]\n",
      "[6, 9, 26, 30, 41, 49, 61, 63, 70, 72, 88, 89, 98, 99, 101, 135]\n",
      "[26, 30, 41, 49, 57, 61, 63, 70, 72, 85, 88, 98, 99, 101, 125, 135]\n",
      "[6, 26, 30, 35, 41, 53, 59, 61, 63, 72, 84, 99, 101, 111, 125, 135]\n",
      "[6, 26, 30, 35, 41, 53, 61, 63, 70, 72, 84, 99, 101, 111, 125, 135]\n",
      "[26, 30, 35, 41, 53, 59, 61, 63, 72, 84, 85, 99, 101, 111, 125, 135]\n",
      "[26, 30, 35, 41, 53, 61, 63, 70, 72, 84, 85, 99, 101, 111, 125, 135]\n",
      "[8, 17, 25, 41, 68, 72, 73, 80, 83, 87, 92, 96, 107, 111, 130, 142]\n",
      "[8, 17, 25, 41, 54, 68, 72, 73, 80, 83, 87, 92, 96, 111, 133, 142]\n",
      "[8, 17, 25, 41, 50, 54, 72, 80, 83, 87, 92, 96, 111, 133, 142, 145]\n",
      "[8, 17, 25, 41, 50, 54, 72, 73, 80, 83, 87, 92, 96, 111, 133, 142]\n",
      "[8, 17, 26, 29, 51, 52, 72, 73, 96, 107, 111, 116, 124, 128, 130, 135]\n",
      "[8, 17, 26, 29, 51, 52, 72, 73, 87, 96, 107, 111, 116, 124, 128, 130]\n",
      "[8, 17, 26, 29, 51, 52, 72, 73, 74, 87, 96, 107, 111, 116, 128, 130]\n",
      "[8, 17, 26, 29, 52, 72, 73, 96, 107, 111, 116, 124, 128, 130, 135, 143]\n",
      "[8, 17, 26, 29, 40, 52, 72, 73, 96, 111, 116, 124, 128, 130, 135, 143]\n",
      "[8, 17, 31, 40, 60, 68, 72, 74, 87, 92, 96, 111, 116, 125, 128, 133]\n",
      "[8, 17, 26, 29, 31, 51, 72, 73, 96, 107, 111, 116, 124, 128, 130, 135]\n",
      "[8, 17, 26, 29, 31, 72, 73, 96, 107, 111, 116, 124, 128, 130, 135, 143]\n",
      "[8, 17, 26, 29, 31, 51, 72, 73, 74, 87, 96, 107, 111, 116, 128, 130]\n",
      "[8, 17, 26, 29, 31, 51, 72, 73, 87, 96, 107, 111, 116, 124, 128, 130]\n",
      "[8, 17, 26, 29, 31, 40, 72, 73, 96, 111, 116, 124, 128, 130, 135, 143]\n",
      "[8, 17, 31, 40, 60, 68, 72, 73, 74, 87, 92, 96, 111, 116, 128, 133]\n",
      "[17, 22, 25, 54, 68, 72, 73, 77, 83, 87, 96, 111, 116, 127, 133, 142]\n",
      "[17, 25, 68, 72, 73, 77, 80, 83, 87, 92, 96, 107, 111, 116, 130, 142]\n",
      "[17, 25, 40, 68, 72, 73, 77, 80, 83, 87, 92, 96, 111, 116, 130, 142]\n",
      "[17, 25, 40, 68, 72, 73, 77, 80, 83, 87, 92, 96, 111, 116, 133, 142]\n",
      "[17, 25, 54, 68, 72, 73, 77, 80, 83, 87, 92, 96, 111, 116, 133, 142]\n",
      "[17, 25, 54, 68, 72, 73, 77, 80, 83, 87, 96, 111, 116, 127, 133, 142]\n",
      "[8, 17, 25, 68, 72, 73, 80, 83, 87, 92, 96, 107, 111, 116, 130, 142]\n",
      "[8, 17, 25, 40, 68, 72, 73, 80, 83, 87, 92, 96, 111, 116, 130, 142]\n",
      "[8, 17, 25, 40, 68, 72, 73, 80, 83, 87, 92, 96, 111, 116, 133, 142]\n",
      "[8, 17, 25, 54, 68, 72, 73, 80, 83, 87, 92, 96, 111, 116, 133, 142]\n",
      "[21, 25, 40, 68, 72, 73, 77, 80, 83, 87, 92, 96, 111, 116, 130, 142]\n",
      "[21, 22, 25, 54, 68, 72, 73, 77, 83, 87, 96, 111, 116, 127, 133, 142]\n",
      "[21, 25, 40, 68, 72, 73, 77, 80, 83, 87, 92, 96, 111, 116, 133, 142]\n",
      "[21, 25, 54, 68, 72, 73, 77, 80, 83, 87, 92, 96, 111, 116, 133, 142]\n",
      "[21, 25, 54, 68, 72, 73, 77, 80, 83, 87, 96, 111, 116, 127, 133, 142]\n",
      "[17, 25, 40, 68, 72, 73, 74, 92, 111, 112, 116, 126, 128, 136, 138, 141]\n",
      "[17, 25, 40, 68, 72, 73, 74, 87, 92, 111, 116, 126, 128, 136, 138, 141]\n",
      "[8, 17, 25, 40, 60, 68, 72, 73, 74, 92, 96, 111, 112, 116, 128, 138]\n",
      "[8, 17, 25, 40, 60, 68, 72, 73, 74, 87, 92, 96, 111, 116, 128, 138]\n",
      "[8, 17, 25, 40, 68, 72, 73, 74, 92, 111, 112, 116, 126, 128, 138, 141]\n",
      "[8, 17, 25, 40, 68, 72, 73, 74, 87, 92, 111, 116, 126, 128, 138, 141]\n",
      "[8, 17, 25, 40, 60, 68, 72, 73, 74, 87, 92, 96, 111, 116, 128, 133]\n",
      "[21, 25, 40, 50, 72, 73, 77, 80, 83, 87, 92, 96, 111, 116, 130, 142]\n",
      "[21, 25, 40, 50, 72, 73, 77, 80, 83, 87, 92, 96, 111, 116, 133, 142]\n",
      "[21, 25, 50, 54, 72, 73, 77, 80, 83, 87, 92, 96, 111, 116, 133, 142]\n",
      "[8, 17, 25, 50, 51, 54, 72, 73, 80, 83, 87, 96, 111, 116, 133, 142]\n",
      "[8, 17, 25, 40, 50, 72, 73, 80, 83, 87, 92, 96, 111, 116, 133, 142]\n",
      "[8, 17, 25, 40, 50, 72, 73, 80, 83, 87, 92, 96, 111, 116, 130, 142]\n",
      "[8, 17, 25, 50, 54, 72, 73, 80, 83, 87, 92, 96, 111, 116, 133, 142]\n",
      "[17, 25, 40, 50, 72, 73, 77, 80, 83, 87, 92, 96, 111, 116, 130, 142]\n",
      "[17, 25, 40, 50, 72, 73, 77, 80, 83, 87, 92, 96, 111, 116, 133, 142]\n",
      "[17, 25, 50, 54, 72, 73, 77, 80, 83, 87, 92, 96, 111, 116, 133, 142]\n",
      "[8, 17, 25, 26, 29, 51, 72, 73, 96, 107, 111, 116, 124, 128, 130, 135]\n",
      "[8, 17, 25, 26, 29, 51, 72, 73, 87, 96, 107, 111, 116, 124, 128, 130]\n",
      "[8, 17, 25, 26, 29, 51, 72, 73, 74, 87, 96, 107, 111, 116, 128, 130]\n",
      "[8, 25, 26, 40, 60, 66, 72, 73, 74, 87, 92, 96, 111, 116, 128, 138]\n",
      "[8, 17, 25, 26, 40, 60, 72, 73, 74, 87, 92, 96, 111, 116, 128, 138]\n",
      "[17, 25, 37, 40, 72, 73, 74, 92, 111, 112, 116, 126, 128, 136, 138, 141]\n",
      "[8, 17, 25, 37, 40, 72, 73, 74, 92, 111, 112, 116, 126, 128, 138, 141]\n",
      "[25, 37, 40, 66, 72, 73, 74, 92, 111, 112, 116, 126, 128, 136, 138, 141]\n",
      "[8, 25, 37, 40, 66, 72, 73, 74, 92, 111, 112, 116, 126, 128, 138, 141]\n",
      "[21, 22, 54, 68, 72, 73, 77, 83, 87, 96, 111, 116, 127, 132, 133, 142]\n",
      "[21, 54, 68, 72, 73, 77, 80, 83, 87, 96, 111, 116, 127, 132, 133, 142]\n",
      "[17, 22, 54, 68, 72, 73, 77, 83, 87, 96, 111, 116, 127, 132, 133, 142]\n",
      "[17, 54, 68, 72, 73, 77, 80, 83, 87, 96, 111, 116, 127, 132, 133, 142]\n",
      "[11, 21, 22, 42, 54, 72, 73, 83, 87, 96, 111, 113, 127, 132, 133, 142]\n",
      "[8, 11, 14, 25, 37, 40, 66, 72, 73, 74, 111, 112, 126, 128, 138, 141]\n",
      "[8, 11, 14, 17, 25, 37, 40, 72, 73, 74, 111, 112, 126, 128, 138, 141]\n",
      "[8, 14, 25, 37, 40, 66, 72, 73, 74, 92, 111, 112, 126, 128, 138, 141]\n",
      "[8, 14, 17, 25, 40, 68, 72, 73, 74, 92, 111, 112, 126, 128, 138, 141]\n",
      "[8, 14, 17, 25, 37, 40, 72, 73, 74, 92, 111, 112, 126, 128, 138, 141]\n",
      "[7, 12, 17, 40, 60, 68, 74, 87, 92, 96, 111, 116, 125, 128, 137, 138]\n",
      "[7, 12, 17, 31, 40, 60, 68, 74, 87, 92, 96, 111, 116, 125, 128, 137]\n",
      "[7, 12, 17, 26, 40, 43, 60, 74, 87, 92, 96, 116, 125, 128, 137, 138]\n",
      "[7, 12, 17, 26, 31, 40, 43, 60, 74, 87, 92, 96, 116, 125, 128, 137]\n",
      "[7, 12, 17, 26, 40, 60, 74, 87, 92, 96, 111, 116, 125, 128, 137, 138]\n",
      "[7, 12, 17, 26, 31, 40, 60, 74, 87, 92, 96, 111, 116, 125, 128, 137]\n",
      "[21, 22, 54, 68, 73, 77, 83, 87, 96, 110, 111, 116, 127, 132, 133, 142]\n",
      "[21, 54, 68, 73, 77, 80, 83, 87, 96, 110, 111, 116, 127, 132, 133, 142]\n",
      "[11, 21, 22, 42, 54, 73, 83, 87, 95, 96, 111, 113, 127, 132, 133, 142]\n",
      "Grafo densamente conectado gerado e salvo em 'grafo.txt'.\n",
      "Cliques maximais encontradas de tamanho 17: \n",
      "[12, 15, 18, 22, 33, 38, 69, 74, 75, 78, 80, 90, 94, 107, 110, 134, 138]\n",
      "[9, 20, 35, 50, 54, 55, 63, 65, 77, 104, 111, 114, 117, 123, 124, 129, 133]\n",
      "Grafo densamente conectado gerado e salvo em 'grafo.txt'.\n",
      "Cliques maximais encontradas de tamanho 16: \n",
      "[12, 14, 17, 20, 26, 29, 30, 39, 45, 47, 59, 60, 63, 84, 99, 144]\n",
      "[7, 20, 36, 39, 40, 45, 51, 61, 63, 78, 89, 96, 117, 121, 141, 144]\n",
      "[7, 14, 20, 36, 39, 40, 45, 51, 63, 78, 89, 96, 117, 121, 141, 144]\n",
      "[4, 6, 10, 13, 23, 42, 69, 89, 93, 94, 98, 104, 108, 119, 140, 149]\n",
      "[4, 6, 10, 69, 81, 89, 92, 93, 98, 114, 119, 122, 128, 130, 140, 145]\n",
      "[4, 10, 42, 64, 69, 77, 81, 89, 93, 97, 98, 104, 113, 130, 132, 140]\n",
      "[4, 10, 42, 64, 69, 77, 81, 89, 90, 93, 98, 104, 113, 130, 132, 140]\n",
      "[10, 42, 64, 69, 72, 77, 81, 89, 90, 93, 98, 104, 113, 130, 132, 140]\n",
      "[10, 14, 42, 69, 72, 77, 81, 89, 90, 93, 98, 104, 113, 130, 132, 140]\n",
      "[4, 34, 42, 50, 52, 69, 81, 93, 97, 98, 101, 106, 123, 130, 146, 149]\n",
      "[12, 14, 17, 20, 26, 29, 30, 39, 45, 47, 59, 63, 69, 84, 99, 144]\n",
      "[4, 6, 13, 23, 42, 47, 48, 69, 89, 93, 94, 98, 108, 119, 140, 149]\n",
      "[2, 4, 6, 27, 29, 35, 46, 52, 53, 55, 64, 65, 87, 95, 118, 127]\n",
      "[4, 6, 13, 23, 42, 48, 69, 89, 93, 94, 98, 104, 108, 118, 140, 149]\n",
      "[4, 7, 24, 50, 57, 76, 80, 85, 90, 93, 94, 118, 123, 126, 128, 140]\n",
      "[4, 7, 24, 57, 76, 80, 85, 90, 93, 94, 118, 123, 126, 128, 132, 140]\n",
      "[13, 17, 20, 29, 39, 46, 69, 74, 81, 89, 92, 112, 116, 118, 123, 144]\n",
      "[7, 20, 29, 46, 69, 70, 77, 81, 88, 89, 92, 116, 118, 123, 130, 140]\n",
      "[7, 20, 29, 46, 58, 61, 69, 70, 77, 88, 89, 92, 116, 118, 130, 140]\n",
      "[7, 20, 29, 46, 55, 58, 61, 69, 70, 77, 88, 89, 108, 116, 118, 140]\n",
      "[19, 46, 70, 74, 75, 77, 81, 88, 89, 92, 109, 114, 116, 118, 125, 130]\n",
      "[17, 29, 46, 69, 70, 74, 77, 81, 88, 89, 92, 109, 114, 116, 118, 125]\n",
      "[7, 29, 46, 69, 70, 77, 81, 88, 89, 92, 109, 116, 118, 123, 130, 140]\n",
      "[29, 46, 69, 70, 74, 77, 81, 88, 89, 92, 109, 114, 116, 118, 125, 130]\n",
      "[7, 29, 46, 69, 70, 77, 81, 88, 89, 109, 116, 118, 123, 130, 132, 140]\n",
      "[19, 29, 46, 70, 74, 77, 81, 88, 89, 92, 109, 114, 116, 118, 125, 130]\n",
      "[2, 7, 14, 29, 30, 46, 69, 77, 89, 90, 93, 118, 123, 130, 132, 140]\n",
      "[2, 4, 7, 24, 50, 57, 76, 77, 80, 85, 90, 93, 118, 123, 138, 140]\n",
      "[2, 7, 29, 46, 49, 55, 58, 61, 69, 77, 89, 90, 93, 108, 118, 140]\n",
      "[2, 4, 7, 29, 46, 49, 55, 58, 69, 77, 89, 90, 93, 108, 118, 140]\n",
      "[4, 7, 29, 46, 49, 69, 77, 81, 88, 89, 92, 109, 118, 123, 130, 140]\n",
      "[7, 29, 46, 49, 69, 70, 77, 81, 88, 89, 92, 109, 118, 123, 130, 140]\n",
      "[2, 4, 7, 29, 46, 49, 55, 58, 69, 77, 89, 90, 93, 118, 132, 140]\n",
      "[2, 7, 29, 46, 49, 55, 58, 61, 69, 77, 89, 90, 93, 118, 132, 140]\n",
      "[4, 7, 29, 46, 49, 69, 77, 81, 88, 89, 109, 118, 123, 130, 132, 140]\n",
      "[4, 7, 29, 46, 49, 69, 77, 81, 89, 90, 109, 118, 123, 130, 132, 140]\n",
      "[4, 7, 29, 46, 49, 69, 77, 81, 89, 90, 93, 118, 123, 130, 132, 140]\n",
      "[2, 4, 7, 29, 46, 49, 69, 77, 89, 90, 93, 118, 123, 130, 132, 140]\n",
      "[7, 29, 46, 49, 69, 70, 77, 81, 88, 89, 109, 118, 123, 130, 132, 140]\n",
      "[2, 7, 29, 30, 46, 49, 69, 77, 89, 90, 93, 118, 123, 130, 132, 140]\n",
      "[2, 7, 29, 46, 49, 58, 61, 69, 77, 89, 90, 93, 118, 130, 132, 140]\n",
      "[2, 7, 29, 30, 46, 49, 61, 69, 77, 89, 90, 93, 118, 130, 132, 140]\n",
      "[2, 4, 7, 29, 46, 49, 58, 69, 77, 89, 90, 93, 118, 130, 132, 140]\n",
      "[4, 6, 13, 23, 42, 48, 69, 89, 93, 94, 98, 104, 108, 119, 140, 149]\n"
     ]
    }
   ],
   "source": [
    "lista_tamanho_encontrado_exaustiva = []\n",
    "lista_tamanhoMax_grafo = []\n",
    "for i in range(10, 150, 1):\n",
    "    tamanho_maximo_python, lista_cliques = cria_grafo(i, 0.7)    \n",
    "    lista_tamanhoMax_grafo.append(tamanho_maximo_python)\n",
    "    command = f'./abordagemExaustiva {i}'\n",
    "    with open(\"resultadosExaustivaConfi.txt\", \"w\") as output_file:\n",
    "        subprocess.run(command, shell=True, stdout=output_file)\n",
    "    with open(\"resultadosExaustivaConfi.txt\", \"r\") as input_file:\n",
    "        for line in input_file:\n",
    "            if line.startswith(\"Clique máxima encontrada de tamanho:\"):\n",
    "                tamanho_encontrado = line.split(\":\")[1]\n",
    "                lista_tamanho_encontrado_exaustiva.append(tamanho_encontrado)\n",
    "    \n"
   ]
  },
  {
   "cell_type": "code",
   "execution_count": 130,
   "metadata": {},
   "outputs": [
    {
     "name": "stdout",
     "output_type": "stream",
     "text": [
      "Valores de cliques máximos encontrado diferentes\n"
     ]
    }
   ],
   "source": [
    "int_list = [int(s.strip()) for s in lista_tamanho_encontrado_exaustiva]\n",
    "\n",
    "if int_list == lista_tamanho_encontrado_exaustiva:\n",
    "    print(\"Valores de cliques máximos encontrados iguais\")\n",
    "    print(int_list)\n",
    "    print(lista_tamanhoMax_grafo)\n",
    "else:\n",
    "    print(\"Valores de cliques máximos encontrado diferentes\")"
   ]
  },
  {
   "cell_type": "markdown",
   "metadata": {},
   "source": [
    "Como pode ser vista nos prints acima, os valores de cliques máximos encontrados são iguais, o que indica que o algoritmo está correto."
   ]
  },
  {
   "cell_type": "markdown",
   "metadata": {},
   "source": [
    "## Abordagem Gulosa com OMP"
   ]
  },
  {
   "cell_type": "markdown",
   "metadata": {},
   "source": [
    "A heurística gulosa é um método de resolução de problemas que faz escolhas locais otimizadas em cada estágio com a espera de encontrar uma solução global ótima. A heurística gulosa é um algoritmo de aproximação, ou seja, um algoritmo que encontra uma solução aproximada para um problema de otimização, produzindo uma solução viável onde a ótima não é conhecida ou não é fácil de encontrar. Ela acaba sendo uma boa alternativa para problemas NP-difíceis, onde não é possível encontrar uma solução ótima em um tempo razoável, mas é possível encontrar uma solução aproximada em um tempo razoável."
   ]
  },
  {
   "cell_type": "code",
   "execution_count": 131,
   "metadata": {},
   "outputs": [
    {
     "name": "stdout",
     "output_type": "stream",
     "text": [
      "Grafo densamente conectado gerado e salvo em 'grafo.txt'.\n",
      "Cliques maximais encontradas de tamanho 10: \n",
      "[12, 16, 21, 22, 35, 64, 70, 71, 83, 93]\n"
     ]
    }
   ],
   "source": [
    "tamanho_gulosa, possiveis_cliques = cria_grafo(100, 0.5)"
   ]
  },
  {
   "cell_type": "code",
   "execution_count": null,
   "metadata": {},
   "outputs": [],
   "source": [
    "%%writefile abordagemGulosaOMP\n",
    "\n",
    "#include <iostream>\n",
    "#include <fstream>\n",
    "#include <omp.h>\n",
    "#include <vector>\n",
    "using namespace std;\n",
    "\n",
    "// Function to find the maximum clique in a graph\n",
    "std::vector<int> EncontrarCliqueMaxima(std::vector<std::vector<int>>& grafo, int numVertices) {\n",
    "    // Initialize vectors to store the maximum clique and candidates\n",
    "    std::vector<int> cliqueMaxima;\n",
    "    std::vector<int> candidatos;\n",
    "\n",
    "    // Initialize the candidates vector with all vertices\n",
    "    for (int i = 0; i < numVertices; ++i) {\n",
    "        candidatos.push_back(i);\n",
    "    }\n",
    "\n",
    "    // Iterate until there are no more candidates\n",
    "    while (!candidatos.empty()) {\n",
    "        // Get the last candidate\n",
    "        int v = candidatos.back();\n",
    "        candidatos.pop_back();\n",
    "\n",
    "        // Flag to check if the current vertex can be added to the clique\n",
    "        bool podeAdicionar = true;\n",
    "\n",
    "        // Check adjacency with vertices in the current clique in parallel\n",
    "        #pragma omp parallel for\n",
    "        for (int u : cliqueMaxima) {\n",
    "            if (grafo[u][v] == 0) {\n",
    "                #pragma omp critical\n",
    "                {\n",
    "                    podeAdicionar = false;\n",
    "                }\n",
    "            }\n",
    "        }\n",
    "\n",
    "        // If the current vertex can be added to the clique\n",
    "        if (podeAdicionar) {\n",
    "            // Add the vertex to the clique in a critical section\n",
    "            #pragma omp critical\n",
    "            {\n",
    "                cliqueMaxima.push_back(v);\n",
    "            }\n",
    "\n",
    "            // Initialize a vector for new candidates\n",
    "            std::vector<int> novosCandidatos;\n",
    "\n",
    "            // Check adjacency with the remaining candidates in parallel\n",
    "            #pragma omp parallel for\n",
    "            for (int u : candidatos) {\n",
    "                bool adjacenteATodos = true;\n",
    "\n",
    "                // Check adjacency with vertices in the current clique\n",
    "                for (int c : cliqueMaxima) {\n",
    "                    if (grafo[u][c] == 0) {\n",
    "                        adjacenteATodos = false;\n",
    "                        break;\n",
    "                    }\n",
    "                }\n",
    "\n",
    "                // If adjacent to all vertices in the current clique, add to new candidates\n",
    "                if (adjacenteATodos) {\n",
    "                    #pragma omp critical\n",
    "                    {\n",
    "                        novosCandidatos.push_back(u);\n",
    "                    }\n",
    "                }\n",
    "            }\n",
    "\n",
    "            // Update the candidates vector in a critical section\n",
    "            #pragma omp critical\n",
    "            {\n",
    "                candidatos = novosCandidatos;\n",
    "            }\n",
    "        }\n",
    "    }\n",
    "\n",
    "    return cliqueMaxima;\n",
    "}\n",
    "\n",
    "// Function to read a graph from a file\n",
    "std::vector<std::vector<int>> LerGrafo(const std::string& nomeArquivo, int& numVertices) {\n",
    "    std::ifstream arquivo(nomeArquivo);\n",
    "    int numArestas;\n",
    "    arquivo >> numVertices >> numArestas;\n",
    "\n",
    "    std::vector<std::vector<int>> grafo(numVertices, std::vector<int>(numVertices, 0));\n",
    "\n",
    "    // Read edges from the file and update the adjacency matrix\n",
    "    for (int i = 0; i < numArestas; ++i) {\n",
    "        int u, v;\n",
    "        arquivo >> u >> v;\n",
    "        grafo[u - 1][v - 1] = 1;\n",
    "        grafo[v - 1][u - 1] = 1;  // The graph is undirected\n",
    "    }\n",
    "\n",
    "    arquivo.close();\n",
    "\n",
    "    return grafo;\n",
    "}\n",
    "\n",
    "int main(int numVertices, char* argv[]) {\n",
    "    // Read the graph from a file\n",
    "    vector<vector<int>> grafo;\n",
    "    grafo = LerGrafo(\"grafo.txt\", numVertices);\n",
    "\n",
    "    // Measure the execution time of finding the maximum clique\n",
    "    double tdata = omp_get_wtime();\n",
    "    std::vector<int> cliqueMax = EncontrarCliqueMaxima(grafo, numVertices);\n",
    "    tdata = omp_get_wtime() - tdata;\n",
    "\n",
    "    // Print the maximum clique\n",
    "    std::cout << \"Clique Máxima: \";\n",
    "    for (auto it = cliqueMax.rbegin(); it != cliqueMax.rend(); ++it) {\n",
    "        std::cout << *it + 1 << \" \";\n",
    "    }\n",
    "\n",
    "    // Print the size of the maximum clique and the duration of the computation\n",
    "    std::cout << std::endl;\n",
    "    cout << \"Clique máxima encontrada de tamanho:\" << cliqueMax.size() << endl;\n",
    "    cout << \"Duração: \" << tdata << endl;\n",
    "    cout << endl;\n",
    "\n",
    "    return 0;\n",
    "}\n"
   ]
  },
  {
   "cell_type": "code",
   "execution_count": 132,
   "metadata": {},
   "outputs": [
    {
     "name": "stdout",
     "output_type": "stream",
     "text": [
      "Clique Máxima: 27 90 52 25 99 100 \n",
      "Clique máxima encontrada de tamanho:6\n",
      "Duração: 0.000292322\n",
      "\n"
     ]
    }
   ],
   "source": [
    "%%bash\n",
    "g++ -Wall -o3 -g -fopenmp abordagemGulosaOMP.cpp -o abordagemGulosaOMP\n",
    "./abordagemGulosaOMP 100"
   ]
  },
  {
   "cell_type": "code",
   "execution_count": 133,
   "metadata": {},
   "outputs": [
    {
     "name": "stdout",
     "output_type": "stream",
     "text": [
      "Grafo densamente conectado gerado e salvo em 'grafo.txt'.\n",
      "Cliques maximais encontradas de tamanho 6: \n",
      "[3, 4, 5, 6, 9, 10]\n",
      "Grafo densamente conectado gerado e salvo em 'grafo.txt'.\n",
      "Cliques maximais encontradas de tamanho 6: \n",
      "[3, 6, 7, 10, 11, 14]\n",
      "Grafo densamente conectado gerado e salvo em 'grafo.txt'.\n",
      "Cliques maximais encontradas de tamanho 8: \n",
      "[1, 5, 6, 7, 9, 17, 18, 19]\n",
      "[3, 4, 8, 9, 10, 15, 19, 20]\n",
      "Grafo densamente conectado gerado e salvo em 'grafo.txt'.\n",
      "Cliques maximais encontradas de tamanho 8: \n",
      "[2, 3, 5, 6, 11, 12, 21, 24]\n",
      "[2, 3, 5, 11, 12, 17, 21, 24]\n",
      "[2, 3, 5, 11, 12, 17, 19, 21]\n",
      "[2, 3, 5, 12, 15, 17, 19, 21]\n",
      "[2, 3, 5, 6, 12, 15, 21, 24]\n",
      "[2, 3, 5, 12, 15, 17, 21, 24]\n",
      "Grafo densamente conectado gerado e salvo em 'grafo.txt'.\n",
      "Cliques maximais encontradas de tamanho 9: \n",
      "[2, 3, 7, 13, 14, 20, 23, 24, 26]\n",
      "[2, 7, 11, 13, 14, 20, 23, 24, 26]\n",
      "[2, 7, 10, 11, 14, 20, 23, 24, 26]\n",
      "[2, 3, 7, 14, 15, 20, 23, 24, 26]\n",
      "Grafo densamente conectado gerado e salvo em 'grafo.txt'.\n",
      "Cliques maximais encontradas de tamanho 10: \n",
      "[2, 3, 4, 8, 18, 20, 23, 30, 31, 32]\n",
      "[2, 3, 4, 8, 9, 18, 20, 23, 30, 32]\n",
      "Grafo densamente conectado gerado e salvo em 'grafo.txt'.\n",
      "Cliques maximais encontradas de tamanho 10: \n",
      "[2, 3, 11, 16, 22, 24, 28, 30, 32, 33]\n",
      "[2, 3, 11, 16, 22, 23, 30, 33, 36, 39]\n",
      "[2, 3, 11, 16, 22, 24, 28, 32, 33, 38]\n",
      "[2, 3, 11, 16, 22, 23, 33, 36, 38, 39]\n",
      "[2, 3, 11, 22, 24, 28, 32, 33, 35, 38]\n",
      "[5, 6, 9, 14, 20, 23, 25, 31, 35, 40]\n",
      "[5, 9, 14, 20, 23, 25, 27, 31, 35, 40]\n",
      "Grafo densamente conectado gerado e salvo em 'grafo.txt'.\n",
      "Cliques maximais encontradas de tamanho 13: \n",
      "[2, 4, 9, 13, 16, 18, 19, 22, 25, 28, 36, 37, 44]\n",
      "Grafo densamente conectado gerado e salvo em 'grafo.txt'.\n",
      "Cliques maximais encontradas de tamanho 10: \n",
      "[6, 11, 12, 16, 25, 26, 30, 33, 43, 48]\n",
      "[7, 24, 31, 35, 37, 39, 40, 41, 44, 45]\n",
      "[1, 7, 10, 14, 15, 32, 35, 46, 48, 50]\n",
      "[1, 7, 10, 14, 15, 30, 32, 35, 46, 48]\n",
      "[1, 10, 14, 15, 25, 32, 35, 46, 48, 50]\n",
      "[1, 10, 14, 15, 25, 30, 32, 35, 46, 48]\n",
      "[1, 7, 10, 13, 14, 17, 34, 46, 48, 50]\n",
      "[2, 7, 10, 17, 28, 38, 46, 47, 49, 50]\n",
      "[2, 7, 10, 13, 14, 17, 34, 46, 48, 50]\n",
      "[2, 7, 10, 13, 17, 28, 38, 46, 49, 50]\n",
      "[2, 7, 10, 13, 14, 17, 28, 38, 46, 50]\n",
      "[10, 11, 23, 24, 25, 29, 34, 44, 46, 50]\n",
      "[4, 10, 11, 16, 23, 24, 29, 34, 44, 50]\n",
      "[10, 11, 16, 23, 24, 25, 29, 34, 44, 50]\n",
      "[10, 11, 16, 23, 24, 29, 31, 34, 44, 50]\n",
      "[10, 11, 19, 21, 25, 29, 35, 44, 46, 50]\n",
      "[10, 11, 23, 24, 25, 29, 35, 44, 46, 50]\n",
      "[9, 10, 11, 19, 21, 25, 29, 35, 40, 44]\n",
      "[9, 10, 11, 19, 21, 29, 31, 35, 40, 44]\n",
      "[4, 7, 10, 11, 16, 23, 24, 34, 44, 50]\n",
      "[7, 10, 11, 16, 23, 24, 31, 34, 44, 50]\n",
      "Grafo densamente conectado gerado e salvo em 'grafo.txt'.\n",
      "Cliques maximais encontradas de tamanho 12: \n",
      "[4, 12, 14, 22, 24, 26, 31, 33, 34, 35, 50, 52]\n",
      "[4, 12, 14, 18, 22, 24, 26, 31, 33, 34, 50, 52]\n",
      "Grafo densamente conectado gerado e salvo em 'grafo.txt'.\n",
      "Cliques maximais encontradas de tamanho 13: \n",
      "[1, 3, 12, 24, 29, 31, 33, 38, 41, 49, 53, 54, 55]\n",
      "[13, 19, 24, 26, 29, 30, 33, 38, 40, 51, 54, 55, 56]\n",
      "[13, 19, 24, 29, 30, 31, 33, 38, 40, 51, 54, 55, 56]\n",
      "[13, 16, 19, 24, 26, 30, 33, 38, 40, 51, 54, 55, 56]\n",
      "[13, 16, 19, 24, 25, 26, 30, 33, 38, 40, 51, 54, 56]\n",
      "[13, 16, 24, 25, 26, 30, 33, 38, 40, 51, 54, 56, 60]\n",
      "Grafo densamente conectado gerado e salvo em 'grafo.txt'.\n",
      "Cliques maximais encontradas de tamanho 13: \n",
      "[4, 9, 22, 25, 28, 36, 41, 42, 44, 48, 54, 56, 63]\n",
      "Grafo densamente conectado gerado e salvo em 'grafo.txt'.\n",
      "Cliques maximais encontradas de tamanho 14: \n",
      "[2, 3, 5, 7, 20, 23, 30, 33, 38, 42, 48, 51, 52, 68]\n",
      "[2, 3, 5, 7, 20, 23, 29, 30, 33, 38, 48, 51, 52, 68]\n",
      "[2, 3, 5, 7, 17, 20, 23, 30, 33, 38, 42, 48, 52, 68]\n",
      "[2, 3, 5, 7, 17, 20, 23, 29, 30, 33, 38, 48, 52, 68]\n",
      "[3, 9, 10, 14, 19, 21, 32, 35, 41, 47, 51, 52, 54, 63]\n",
      "[3, 9, 10, 14, 19, 21, 22, 23, 35, 41, 47, 51, 52, 54]\n",
      "[3, 9, 10, 14, 19, 21, 22, 32, 35, 41, 47, 51, 52, 54]\n",
      "[3, 9, 10, 14, 19, 21, 22, 32, 35, 40, 41, 47, 51, 54]\n",
      "[3, 9, 10, 14, 19, 21, 22, 23, 35, 40, 41, 47, 51, 54]\n",
      "[3, 9, 10, 14, 19, 21, 22, 32, 35, 37, 41, 51, 52, 54]\n",
      "[3, 9, 10, 14, 19, 21, 22, 32, 35, 37, 40, 41, 51, 54]\n",
      "Grafo densamente conectado gerado e salvo em 'grafo.txt'.\n",
      "Cliques maximais encontradas de tamanho 13: \n",
      "[9, 15, 16, 27, 30, 44, 45, 46, 56, 59, 61, 62, 73]\n",
      "[15, 19, 21, 24, 38, 41, 42, 43, 45, 51, 65, 68, 74]\n",
      "[9, 15, 19, 21, 24, 41, 42, 43, 45, 51, 65, 68, 74]\n",
      "[14, 21, 27, 33, 38, 40, 42, 43, 45, 51, 61, 67, 68]\n",
      "[14, 19, 21, 27, 38, 40, 42, 43, 45, 51, 61, 67, 68]\n",
      "[14, 16, 19, 27, 40, 42, 43, 45, 49, 57, 61, 68, 69]\n",
      "[14, 16, 19, 27, 38, 40, 42, 43, 45, 49, 57, 61, 68]\n",
      "[14, 16, 19, 27, 40, 42, 43, 49, 57, 61, 68, 69, 70]\n",
      "[10, 14, 21, 27, 30, 33, 34, 39, 43, 51, 59, 68, 70]\n",
      "[10, 14, 21, 27, 30, 33, 43, 51, 59, 61, 68, 69, 70]\n",
      "[10, 14, 21, 27, 33, 40, 43, 51, 59, 61, 68, 69, 70]\n",
      "[10, 14, 21, 27, 30, 33, 43, 45, 51, 59, 61, 68, 69]\n",
      "[10, 14, 21, 27, 33, 40, 43, 45, 51, 59, 61, 68, 69]\n",
      "[10, 14, 21, 27, 30, 33, 39, 43, 51, 59, 61, 68, 70]\n",
      "[10, 14, 16, 27, 30, 33, 43, 45, 51, 59, 61, 68, 69]\n",
      "[10, 14, 16, 27, 33, 40, 43, 45, 51, 59, 61, 68, 69]\n",
      "[10, 14, 16, 27, 30, 33, 43, 51, 59, 61, 68, 69, 70]\n",
      "[10, 14, 16, 27, 33, 40, 43, 51, 59, 61, 68, 69, 70]\n",
      "[9, 10, 21, 27, 30, 33, 43, 45, 51, 59, 61, 68, 69]\n",
      "[9, 10, 21, 27, 33, 40, 43, 45, 51, 59, 61, 68, 69]\n",
      "[9, 10, 16, 27, 30, 33, 43, 45, 51, 59, 61, 68, 69]\n",
      "[9, 10, 16, 27, 33, 40, 43, 45, 51, 59, 61, 68, 69]\n",
      "[9, 10, 21, 27, 30, 33, 34, 39, 43, 51, 59, 68, 70]\n",
      "[9, 10, 21, 27, 30, 33, 43, 51, 59, 61, 68, 69, 70]\n",
      "[9, 10, 21, 27, 30, 33, 39, 43, 51, 59, 61, 68, 70]\n",
      "[9, 10, 21, 27, 33, 40, 43, 51, 59, 61, 68, 69, 70]\n",
      "[9, 10, 16, 27, 30, 33, 43, 51, 59, 61, 68, 69, 70]\n",
      "[9, 10, 16, 27, 33, 40, 43, 51, 59, 61, 68, 69, 70]\n",
      "[9, 16, 27, 30, 33, 45, 51, 56, 59, 60, 61, 68, 69]\n",
      "[9, 16, 27, 33, 40, 42, 45, 51, 56, 60, 61, 68, 69]\n",
      "[9, 16, 27, 33, 40, 45, 51, 56, 59, 60, 61, 68, 69]\n",
      "[9, 16, 27, 30, 33, 51, 56, 59, 60, 61, 68, 69, 70]\n",
      "[9, 16, 27, 33, 40, 42, 51, 56, 60, 61, 68, 69, 70]\n",
      "[9, 16, 27, 33, 40, 51, 56, 59, 60, 61, 68, 69, 70]\n",
      "[14, 21, 30, 33, 43, 51, 59, 61, 63, 68, 69, 70, 74]\n",
      "[14, 21, 30, 33, 39, 43, 51, 59, 61, 63, 68, 70, 74]\n",
      "[14, 16, 30, 33, 43, 51, 59, 61, 63, 68, 69, 70, 74]\n",
      "[14, 21, 33, 40, 43, 51, 59, 61, 63, 68, 69, 70, 74]\n",
      "[14, 16, 33, 40, 43, 51, 59, 61, 63, 68, 69, 70, 74]\n",
      "[14, 21, 30, 31, 33, 39, 43, 51, 59, 61, 63, 70, 74]\n",
      "[9, 15, 16, 19, 31, 32, 40, 43, 51, 61, 63, 70, 74]\n",
      "[9, 21, 30, 33, 43, 51, 59, 61, 63, 68, 69, 70, 74]\n",
      "[9, 21, 30, 33, 39, 43, 51, 59, 61, 63, 68, 70, 74]\n",
      "[9, 16, 30, 33, 43, 51, 59, 61, 63, 68, 69, 70, 74]\n",
      "[9, 15, 21, 30, 39, 43, 51, 59, 61, 63, 68, 70, 74]\n",
      "[9, 15, 16, 30, 37, 43, 59, 63, 64, 68, 70, 71, 74]\n",
      "[9, 15, 16, 30, 31, 37, 43, 59, 63, 64, 70, 71, 74]\n",
      "[9, 15, 16, 30, 31, 37, 43, 44, 59, 63, 71, 73, 74]\n",
      "[9, 15, 16, 30, 31, 37, 43, 44, 59, 61, 63, 73, 74]\n",
      "[9, 21, 30, 31, 33, 39, 43, 51, 59, 61, 63, 70, 74]\n",
      "[9, 15, 21, 30, 31, 39, 43, 51, 59, 61, 63, 70, 74]\n",
      "[9, 15, 30, 31, 37, 39, 43, 44, 59, 61, 63, 73, 74]\n",
      "[9, 15, 26, 30, 31, 37, 39, 43, 44, 61, 63, 73, 74]\n",
      "[9, 21, 33, 40, 43, 51, 59, 61, 63, 68, 69, 70, 74]\n",
      "[9, 16, 33, 40, 43, 51, 59, 61, 63, 68, 69, 70, 74]\n",
      "[4, 8, 20, 34, 39, 44, 49, 53, 54, 57, 63, 66, 75]\n",
      "[4, 13, 14, 16, 20, 44, 49, 53, 54, 55, 57, 63, 66]\n",
      "[4, 13, 14, 16, 20, 25, 44, 49, 53, 54, 55, 57, 63]\n",
      "[4, 13, 14, 16, 20, 25, 44, 49, 54, 55, 57, 63, 68]\n",
      "[1, 14, 16, 20, 30, 46, 49, 53, 60, 63, 66, 70, 71]\n",
      "[4, 13, 14, 16, 19, 20, 25, 44, 49, 55, 57, 63, 68]\n",
      "[4, 12, 13, 16, 19, 25, 44, 49, 55, 56, 57, 63, 68]\n",
      "[1, 8, 20, 34, 49, 53, 56, 57, 63, 66, 70, 71, 75]\n",
      "[1, 16, 20, 30, 46, 49, 53, 56, 60, 63, 66, 70, 71]\n",
      "[15, 16, 20, 30, 44, 46, 53, 56, 59, 63, 71, 73, 74]\n",
      "[15, 16, 20, 30, 37, 44, 46, 56, 59, 63, 71, 73, 74]\n",
      "[15, 16, 20, 30, 37, 44, 46, 56, 59, 61, 63, 73, 74]\n",
      "[4, 5, 8, 13, 15, 20, 32, 44, 49, 53, 56, 63, 74]\n",
      "[4, 13, 15, 16, 19, 20, 32, 44, 49, 56, 61, 63, 74]\n",
      "[4, 13, 15, 16, 19, 20, 44, 49, 56, 61, 63, 68, 74]\n",
      "[4, 13, 16, 19, 20, 25, 44, 49, 55, 56, 57, 63, 68]\n",
      "[5, 8, 13, 15, 20, 44, 46, 49, 53, 56, 63, 71, 74]\n",
      "[9, 15, 16, 30, 44, 46, 53, 56, 59, 63, 71, 73, 74]\n",
      "[9, 15, 16, 30, 31, 44, 53, 56, 59, 63, 71, 73, 74]\n",
      "[9, 15, 16, 30, 37, 44, 46, 56, 59, 63, 71, 73, 74]\n",
      "[9, 15, 16, 30, 31, 37, 44, 56, 59, 63, 71, 73, 74]\n",
      "[9, 15, 16, 30, 37, 44, 46, 56, 59, 61, 63, 73, 74]\n",
      "[9, 15, 16, 30, 31, 37, 44, 56, 59, 61, 63, 73, 74]\n",
      "[9, 16, 30, 33, 51, 56, 59, 60, 61, 63, 68, 69, 70]\n",
      "[9, 16, 33, 40, 51, 56, 59, 60, 61, 63, 68, 69, 70]\n",
      "[9, 16, 33, 40, 50, 51, 56, 59, 61, 63, 68, 70, 74]\n",
      "[9, 21, 30, 33, 51, 56, 59, 61, 63, 68, 69, 70, 74]\n",
      "[9, 21, 33, 40, 51, 56, 59, 61, 63, 68, 69, 70, 74]\n",
      "[9, 16, 30, 33, 51, 56, 59, 61, 63, 68, 69, 70, 74]\n",
      "[9, 16, 33, 40, 51, 56, 59, 61, 63, 68, 69, 70, 74]\n",
      "[9, 21, 30, 35, 51, 56, 59, 61, 63, 68, 69, 70, 74]\n",
      "[9, 15, 16, 19, 31, 32, 40, 51, 56, 61, 63, 70, 74]\n",
      "[9, 16, 31, 33, 40, 50, 51, 56, 59, 61, 63, 70, 74]\n",
      "[4, 5, 8, 13, 15, 20, 32, 39, 44, 49, 53, 63, 74]\n",
      "[14, 21, 33, 38, 40, 42, 43, 45, 51, 61, 67, 68, 74]\n",
      "[14, 19, 21, 38, 40, 42, 43, 45, 51, 61, 67, 68, 74]\n",
      "[10, 14, 21, 30, 33, 43, 45, 51, 59, 61, 68, 69, 74]\n",
      "[10, 14, 21, 33, 40, 43, 45, 51, 59, 61, 68, 69, 74]\n",
      "[9, 10, 21, 30, 33, 43, 45, 51, 59, 61, 68, 69, 74]\n",
      "[9, 10, 21, 33, 40, 43, 45, 51, 59, 61, 68, 69, 74]\n",
      "[10, 14, 16, 30, 33, 43, 45, 51, 59, 61, 68, 69, 74]\n",
      "[10, 14, 16, 33, 40, 43, 45, 51, 59, 61, 68, 69, 74]\n",
      "[9, 10, 16, 33, 40, 43, 45, 51, 59, 61, 68, 69, 74]\n",
      "[9, 10, 16, 30, 33, 43, 45, 51, 59, 61, 68, 69, 74]\n",
      "[9, 15, 16, 30, 37, 44, 45, 46, 56, 59, 61, 73, 74]\n",
      "[10, 14, 21, 30, 33, 43, 51, 59, 61, 68, 69, 70, 74]\n",
      "[10, 14, 21, 30, 33, 39, 43, 51, 59, 61, 68, 70, 74]\n",
      "[10, 14, 21, 33, 40, 43, 51, 59, 61, 68, 69, 70, 74]\n",
      "[10, 14, 16, 30, 33, 43, 51, 59, 61, 68, 69, 70, 74]\n",
      "[10, 14, 16, 33, 40, 43, 51, 59, 61, 68, 69, 70, 74]\n",
      "[9, 10, 21, 30, 33, 43, 51, 59, 61, 68, 69, 70, 74]\n",
      "[9, 10, 21, 33, 40, 43, 51, 59, 61, 68, 69, 70, 74]\n",
      "[9, 10, 16, 30, 33, 43, 51, 59, 61, 68, 69, 70, 74]\n",
      "[9, 10, 16, 33, 40, 43, 51, 59, 61, 68, 69, 70, 74]\n",
      "[9, 10, 21, 30, 33, 39, 43, 51, 59, 61, 68, 70, 74]\n",
      "Grafo densamente conectado gerado e salvo em 'grafo.txt'.\n",
      "Cliques maximais encontradas de tamanho 14: \n",
      "[1, 3, 5, 18, 22, 44, 45, 49, 51, 52, 54, 62, 68, 78]\n",
      "[1, 3, 5, 18, 22, 41, 44, 45, 49, 51, 52, 54, 62, 78]\n",
      "Grafo densamente conectado gerado e salvo em 'grafo.txt'.\n",
      "Cliques maximais encontradas de tamanho 13: \n",
      "[11, 13, 15, 22, 24, 30, 47, 49, 56, 65, 68, 70, 72]\n",
      "[9, 15, 21, 22, 30, 32, 37, 49, 56, 65, 68, 72, 84]\n",
      "[3, 12, 20, 31, 36, 38, 47, 48, 50, 56, 63, 68, 83]\n",
      "[3, 12, 20, 31, 36, 38, 47, 48, 50, 56, 68, 79, 83]\n",
      "[3, 12, 15, 20, 31, 36, 38, 47, 48, 56, 62, 68, 79]\n",
      "[3, 8, 12, 15, 20, 31, 36, 38, 48, 56, 62, 68, 79]\n",
      "[3, 12, 20, 31, 36, 38, 47, 48, 50, 62, 63, 68, 80]\n",
      "[3, 12, 20, 31, 36, 38, 47, 48, 50, 62, 68, 79, 80]\n",
      "[3, 12, 20, 31, 36, 38, 47, 48, 50, 56, 62, 63, 68]\n",
      "[3, 12, 20, 31, 36, 38, 47, 48, 50, 56, 62, 68, 79]\n",
      "[3, 11, 12, 15, 20, 31, 36, 38, 47, 49, 56, 62, 68]\n",
      "[11, 15, 20, 30, 32, 35, 37, 49, 56, 65, 68, 72, 84]\n",
      "[11, 20, 24, 36, 44, 50, 57, 61, 62, 63, 68, 76, 82]\n",
      "[11, 20, 24, 36, 38, 50, 57, 62, 63, 68, 76, 80, 82]\n",
      "[11, 20, 24, 36, 44, 50, 57, 62, 63, 68, 76, 80, 82]\n",
      "[11, 20, 31, 36, 37, 38, 49, 57, 62, 63, 68, 75, 80]\n",
      "[11, 20, 31, 36, 37, 38, 49, 57, 62, 63, 68, 80, 82]\n",
      "[11, 20, 24, 36, 38, 49, 57, 62, 63, 68, 76, 80, 82]\n",
      "[3, 11, 12, 20, 31, 36, 38, 47, 50, 62, 63, 68, 80]\n",
      "[3, 11, 12, 20, 31, 36, 38, 47, 50, 56, 62, 63, 68]\n",
      "[3, 11, 20, 31, 36, 38, 47, 50, 62, 63, 68, 80, 82]\n",
      "[3, 11, 12, 20, 31, 36, 38, 47, 49, 62, 63, 68, 80]\n",
      "[3, 11, 12, 20, 31, 36, 38, 47, 49, 56, 62, 63, 68]\n",
      "[3, 11, 20, 31, 36, 38, 47, 49, 62, 63, 68, 75, 80]\n",
      "[3, 11, 20, 31, 36, 38, 47, 49, 62, 63, 68, 80, 82]\n",
      "[9, 15, 20, 21, 30, 32, 37, 49, 56, 65, 68, 72, 84]\n",
      "[15, 20, 21, 30, 32, 35, 37, 49, 56, 65, 68, 72, 84]\n",
      "[3, 12, 15, 20, 31, 36, 38, 47, 49, 56, 62, 68, 79]\n",
      "[3, 8, 12, 15, 20, 31, 36, 38, 49, 56, 62, 68, 79]\n",
      "[5, 11, 24, 36, 44, 45, 47, 50, 61, 62, 63, 68, 82]\n",
      "[5, 11, 31, 36, 44, 45, 47, 50, 61, 62, 63, 68, 82]\n",
      "[5, 11, 24, 30, 36, 44, 45, 47, 50, 61, 62, 68, 82]\n",
      "[5, 11, 30, 31, 36, 44, 45, 47, 50, 61, 62, 68, 82]\n",
      "[18, 25, 26, 33, 34, 37, 45, 51, 63, 67, 68, 83, 85]\n",
      "[18, 25, 26, 33, 34, 45, 51, 63, 67, 68, 76, 83, 85]\n",
      "[12, 24, 25, 26, 34, 44, 47, 51, 61, 63, 65, 68, 83]\n",
      "[24, 25, 26, 33, 34, 44, 45, 51, 63, 67, 68, 76, 83]\n",
      "[3, 11, 31, 36, 38, 45, 47, 49, 62, 63, 68, 75, 80]\n",
      "[3, 11, 31, 36, 38, 45, 47, 50, 62, 63, 68, 80, 82]\n",
      "[3, 11, 31, 36, 38, 45, 47, 49, 62, 63, 68, 80, 82]\n",
      "[2, 4, 5, 17, 24, 25, 39, 47, 52, 56, 71, 73, 78]\n",
      "[13, 17, 24, 25, 27, 34, 44, 47, 51, 63, 65, 67, 83]\n",
      "[17, 24, 25, 26, 27, 34, 44, 47, 51, 63, 65, 67, 83]\n",
      "[13, 17, 24, 25, 27, 34, 44, 47, 63, 65, 67, 70, 83]\n",
      "[17, 24, 25, 26, 27, 34, 44, 47, 63, 65, 67, 70, 83]\n",
      "[4, 17, 24, 25, 27, 34, 44, 47, 65, 67, 70, 73, 83]\n",
      "[17, 24, 25, 26, 27, 34, 44, 47, 65, 67, 70, 73, 83]\n",
      "[17, 24, 25, 26, 27, 34, 44, 58, 63, 65, 67, 70, 83]\n",
      "[4, 17, 24, 25, 27, 34, 39, 44, 47, 65, 70, 73, 83]\n",
      "[13, 17, 24, 25, 27, 34, 39, 44, 47, 51, 63, 65, 83]\n",
      "[17, 24, 25, 26, 27, 34, 39, 44, 47, 51, 63, 65, 83]\n",
      "[13, 17, 24, 25, 27, 34, 39, 44, 47, 63, 65, 70, 83]\n",
      "[17, 24, 25, 26, 27, 34, 39, 44, 47, 63, 65, 70, 83]\n",
      "[17, 24, 25, 26, 27, 34, 39, 44, 47, 65, 70, 73, 83]\n",
      "[4, 17, 24, 25, 27, 34, 39, 44, 47, 65, 66, 70, 73]\n",
      "[17, 24, 25, 26, 27, 34, 39, 44, 47, 65, 66, 70, 73]\n",
      "[8, 17, 24, 25, 26, 27, 34, 44, 58, 63, 65, 70, 83]\n",
      "[13, 24, 25, 27, 34, 39, 44, 47, 51, 61, 63, 65, 83]\n",
      "[24, 25, 26, 27, 34, 39, 44, 47, 51, 61, 63, 65, 83]\n",
      "[13, 24, 25, 27, 34, 39, 44, 47, 61, 63, 65, 70, 83]\n",
      "[24, 25, 26, 27, 34, 39, 44, 47, 61, 63, 65, 70, 83]\n",
      "[4, 24, 25, 27, 34, 39, 44, 47, 61, 65, 70, 73, 83]\n",
      "[24, 25, 26, 27, 34, 39, 44, 47, 61, 65, 70, 73, 83]\n",
      "[4, 15, 24, 25, 27, 34, 39, 44, 47, 51, 61, 65, 66]\n",
      "[4, 15, 24, 25, 27, 34, 39, 44, 47, 61, 65, 66, 70]\n",
      "[13, 15, 24, 27, 30, 34, 39, 44, 47, 51, 61, 65, 66]\n",
      "[13, 15, 24, 25, 27, 34, 39, 44, 47, 51, 61, 65, 66]\n",
      "[13, 15, 24, 27, 30, 34, 39, 44, 47, 61, 65, 66, 70]\n",
      "[13, 15, 24, 25, 27, 34, 39, 44, 47, 61, 65, 66, 70]\n",
      "[24, 25, 26, 27, 34, 39, 44, 47, 61, 65, 66, 70, 73]\n",
      "[4, 24, 25, 27, 34, 39, 44, 47, 61, 65, 66, 70, 73]\n",
      "[8, 24, 25, 26, 27, 34, 44, 58, 61, 63, 65, 70, 83]\n",
      "[13, 15, 24, 27, 30, 34, 35, 39, 44, 51, 61, 65, 66]\n",
      "[13, 15, 24, 25, 27, 34, 35, 39, 44, 51, 61, 65, 66]\n",
      "[4, 15, 24, 25, 27, 34, 35, 39, 44, 51, 61, 65, 66]\n",
      "[3, 12, 17, 20, 31, 36, 38, 47, 48, 50, 56, 62, 63]\n",
      "[3, 11, 12, 17, 20, 31, 36, 38, 47, 50, 56, 62, 63]\n",
      "[3, 12, 17, 20, 31, 36, 38, 47, 48, 50, 56, 63, 83]\n",
      "[3, 11, 12, 17, 20, 31, 36, 38, 47, 49, 56, 62, 63]\n",
      "[9, 17, 19, 24, 25, 39, 47, 51, 52, 56, 63, 65, 72]\n",
      "[9, 13, 17, 19, 24, 25, 39, 47, 51, 56, 63, 65, 72]\n",
      "[3, 9, 13, 17, 20, 31, 39, 47, 49, 56, 63, 77, 78]\n",
      "[3, 9, 13, 17, 20, 31, 39, 47, 49, 63, 77, 78, 82]\n",
      "[17, 19, 24, 25, 26, 33, 45, 51, 52, 63, 67, 76, 78]\n",
      "[17, 19, 24, 25, 26, 33, 45, 51, 52, 63, 67, 76, 83]\n",
      "[17, 19, 24, 25, 26, 33, 34, 45, 51, 63, 67, 76, 83]\n",
      "[17, 24, 25, 26, 33, 34, 44, 45, 51, 63, 67, 76, 83]\n",
      "[17, 19, 24, 25, 26, 33, 34, 45, 58, 63, 67, 76, 83]\n",
      "[17, 24, 25, 26, 33, 34, 44, 45, 58, 63, 67, 76, 83]\n",
      "[3, 12, 17, 20, 31, 36, 38, 47, 48, 50, 56, 62, 79]\n",
      "[3, 12, 17, 20, 31, 36, 38, 47, 48, 50, 56, 79, 83]\n",
      "[5, 11, 30, 31, 36, 44, 45, 47, 50, 55, 61, 62, 82]\n",
      "[9, 15, 20, 21, 30, 32, 37, 39, 49, 56, 65, 72, 84]\n",
      "[15, 20, 21, 30, 32, 35, 37, 39, 49, 56, 65, 72, 84]\n",
      "Grafo densamente conectado gerado e salvo em 'grafo.txt'.\n",
      "Cliques maximais encontradas de tamanho 14: \n",
      "[1, 3, 8, 13, 18, 21, 31, 34, 43, 55, 62, 74, 86, 88]\n",
      "[1, 3, 8, 13, 18, 31, 34, 43, 55, 62, 74, 85, 86, 88]\n",
      "[1, 8, 13, 18, 31, 34, 43, 55, 62, 74, 85, 86, 88, 90]\n",
      "[3, 13, 21, 22, 31, 32, 34, 36, 43, 51, 70, 74, 86, 88]\n",
      "[3, 10, 13, 21, 22, 31, 32, 34, 36, 43, 51, 74, 86, 88]\n",
      "[3, 13, 21, 22, 26, 31, 32, 34, 36, 43, 51, 70, 74, 86]\n",
      "[3, 13, 21, 22, 26, 31, 32, 34, 36, 43, 51, 74, 86, 87]\n",
      "[3, 8, 13, 21, 22, 31, 32, 34, 43, 51, 70, 74, 86, 88]\n",
      "[3, 8, 10, 13, 21, 22, 31, 32, 34, 43, 51, 74, 86, 88]\n",
      "[3, 8, 13, 21, 22, 26, 31, 32, 34, 43, 51, 70, 74, 86]\n",
      "[3, 8, 13, 21, 22, 26, 31, 32, 34, 43, 51, 74, 86, 87]\n",
      "[3, 10, 13, 21, 22, 31, 34, 36, 43, 51, 55, 80, 86, 88]\n",
      "[3, 13, 21, 22, 31, 34, 36, 43, 51, 55, 70, 74, 86, 88]\n",
      "[3, 10, 13, 21, 22, 31, 34, 36, 43, 51, 55, 74, 86, 88]\n",
      "[3, 8, 13, 21, 22, 31, 34, 43, 51, 55, 70, 74, 86, 88]\n",
      "[3, 8, 10, 13, 21, 22, 31, 34, 43, 51, 55, 74, 86, 88]\n",
      "[3, 13, 21, 22, 26, 31, 34, 36, 43, 51, 55, 70, 74, 86]\n",
      "[3, 8, 13, 21, 22, 26, 31, 34, 43, 51, 55, 70, 74, 86]\n",
      "[13, 21, 22, 26, 32, 34, 36, 43, 51, 54, 65, 74, 86, 87]\n",
      "[3, 13, 21, 22, 26, 32, 34, 36, 43, 51, 65, 74, 86, 87]\n",
      "[13, 18, 22, 24, 32, 34, 43, 53, 67, 68, 74, 78, 85, 90]\n",
      "[10, 13, 22, 24, 32, 34, 43, 53, 67, 68, 74, 78, 85, 90]\n",
      "[4, 13, 15, 16, 29, 33, 35, 44, 53, 57, 61, 64, 74, 82]\n",
      "[1, 8, 13, 18, 25, 31, 43, 55, 62, 74, 85, 86, 88, 90]\n",
      "[3, 21, 22, 31, 32, 34, 36, 38, 43, 51, 70, 74, 86, 88]\n",
      "[3, 21, 22, 26, 31, 32, 34, 36, 38, 43, 51, 70, 74, 86]\n",
      "[3, 10, 21, 22, 31, 32, 34, 36, 38, 43, 51, 74, 86, 88]\n",
      "[3, 8, 21, 22, 31, 32, 34, 38, 43, 51, 70, 74, 86, 88]\n",
      "[3, 8, 21, 22, 26, 31, 32, 34, 38, 43, 51, 70, 74, 86]\n",
      "[3, 8, 10, 21, 22, 31, 32, 34, 38, 43, 51, 74, 86, 88]\n",
      "[3, 21, 22, 31, 34, 36, 38, 43, 51, 55, 70, 74, 86, 88]\n",
      "[3, 10, 21, 22, 31, 34, 36, 38, 43, 51, 55, 80, 86, 88]\n",
      "[3, 10, 21, 22, 31, 34, 36, 38, 43, 51, 55, 74, 86, 88]\n",
      "[3, 21, 22, 26, 31, 34, 36, 38, 43, 51, 55, 70, 74, 86]\n",
      "[3, 8, 21, 22, 31, 34, 38, 43, 51, 55, 70, 74, 86, 88]\n",
      "[3, 8, 21, 22, 26, 31, 34, 38, 43, 51, 55, 70, 74, 86]\n",
      "[3, 8, 10, 21, 22, 31, 34, 38, 43, 51, 55, 74, 86, 88]\n",
      "[3, 5, 8, 18, 23, 26, 37, 40, 46, 57, 69, 73, 75, 82]\n",
      "[3, 8, 18, 23, 26, 37, 40, 46, 57, 61, 69, 73, 75, 82]\n",
      "Grafo densamente conectado gerado e salvo em 'grafo.txt'.\n",
      "Cliques maximais encontradas de tamanho 14: \n",
      "[2, 5, 7, 15, 19, 28, 30, 37, 40, 43, 54, 74, 75, 77]\n",
      "[2, 5, 7, 8, 15, 19, 30, 37, 40, 43, 54, 74, 75, 77]\n",
      "[2, 5, 7, 9, 15, 19, 28, 30, 37, 40, 43, 54, 74, 75]\n",
      "[2, 5, 7, 8, 9, 15, 19, 30, 37, 40, 43, 54, 74, 75]\n",
      "[2, 5, 7, 9, 15, 28, 30, 37, 40, 43, 54, 69, 74, 75]\n",
      "[2, 5, 8, 9, 15, 19, 30, 37, 40, 43, 54, 65, 74, 75]\n",
      "[5, 10, 16, 28, 36, 41, 49, 53, 54, 73, 74, 75, 77, 91]\n"
     ]
    }
   ],
   "source": [
    "lista_tamanho_encontrado_gulosa = []\n",
    "lista_tamanhoMax_grafo = []\n",
    "for i in range(10, 100, 5):\n",
    "    tamanho_maximo_python, lista_cliques = cria_grafo(i, 0.7)    \n",
    "    lista_tamanhoMax_grafo.append(tamanho_maximo_python)\n",
    "    command = f'./abordagemGulosaOMP {i}'\n",
    "    with open(\"resultadosExaustivaConfi.txt\", \"w\") as output_file:\n",
    "        subprocess.run(command, shell=True, stdout=output_file)\n",
    "    with open(\"resultadosExaustivaConfi.txt\", \"r\") as input_file:\n",
    "        for line in input_file:\n",
    "            if line.startswith(\"Clique máxima encontrada de tamanho:\"):\n",
    "                tamanho_encontrado = line.split(\":\")[1]\n",
    "                lista_tamanho_encontrado_gulosa.append(tamanho_encontrado)\n",
    "    \n"
   ]
  },
  {
   "cell_type": "code",
   "execution_count": 134,
   "metadata": {},
   "outputs": [
    {
     "data": {
      "image/png": "[encoded data removed]",
      "text/plain": [
       "<Figure size 432x288 with 1 Axes>"
      ]
     },
     "metadata": {
      "needs_background": "light"
     },
     "output_type": "display_data"
    }
   ],
   "source": [
    "import matplotlib.pyplot as plt\n",
    "# Calculate the differences between corresponding values in the two lists\n",
    "int_list_gulosa = [int(s.strip()) for s in lista_tamanho_encontrado_gulosa]\n",
    "\n",
    "differences = [lista_tamanhoMax_grafo[i] - int_list_gulosa[i] for i in range(len(int_list_gulosa))]\n",
    "\n",
    "# Create a bar graph to visualize the differences\n",
    "plt.bar(range(1, len(int_list_gulosa) + 1), differences, color='blue')\n",
    "\n",
    "# Add labels and title\n",
    "plt.xlabel('Index')\n",
    "plt.ylabel('Diferença')\n",
    "plt.title('Diferença de cliques máximos encontrados- Gulosa x Python')\n",
    "\n",
    "# Show the plot\n",
    "plt.show()"
   ]
  },
  {
   "cell_type": "markdown",
   "metadata": {},
   "source": [
    "Como podemos ver no gráfico acima a difenreça entre cliques máximos encontrados durante a procura pode ser grande, mas a diferença entre o tempo de execução acaba sendo bem significativo como poderemos ver nos gráficos abaixo. A abordagem gulosa é muito mais rápida que a abordagem exaustiva, mas não garante que a solução encontrada seja a melhor possível. Algo que podemos fazer para tentar melhorar a solução encontrada é introduzir uma certa aleatoriedade nele, permitindo que ele explore mais o espaço de soluções, trazendo uma abordagem mais exploratória."
   ]
  },
  {
   "cell_type": "markdown",
   "metadata": {},
   "source": [
    "## Gerando gráficos de comparação "
   ]
  },
  {
   "cell_type": "code",
   "execution_count": 149,
   "metadata": {},
   "outputs": [],
   "source": [
    "with open(\"resultadosExaustiva.txt\", \"w\") as output_file:\n",
    "    pass\n",
    "with open(\"resultadosGulosa.txt\", \"w\") as output_file:\n",
    "    pass"
   ]
  },
  {
   "cell_type": "code",
   "execution_count": 150,
   "metadata": {},
   "outputs": [],
   "source": [
    "\n",
    "vertices = []\n",
    "for i in range(10, 120, 5):\n",
    "    tamanho = cria_grafo_sem_print(i, 0.7)    \n",
    "    command = f'./abordagemExaustiva {i}'\n",
    "    with open(\"resultadosExaustiva.txt\", \"a\") as output_file:\n",
    "        subprocess.run(command, shell=True, stdout=output_file)\n",
    "\n",
    "    command = f'./abordagemGulosaOMP {i}'\n",
    "    with open(\"resultadosGulosa.txt\", \"a\") as output_file:\n",
    "        subprocess.run(command, shell=True, stdout=output_file)\n",
    "    vertices.append(i)\n",
    "\n",
    "timeExaustiva = []\n",
    "timeGulosa = []\n",
    "\n",
    "with open(\"resultadosExaustiva.txt\", \"r\") as input_file:\n",
    "    for line in input_file:\n",
    "        if \"Duração: \" in line:\n",
    "            timeExaustiva.append(float(line.split(\" \")[1]))\n",
    "\n",
    "with open(\"resultadosGulosa.txt\", \"r\") as input_file:\n",
    "    for line in input_file:\n",
    "        if \"Duração: \" in line:\n",
    "            timeGulosa.append(float(line.split(\" \")[1]))\n",
    "\n"
   ]
  },
  {
   "cell_type": "code",
   "execution_count": 156,
   "metadata": {},
   "outputs": [
    {
     "data": {
      "application/vnd.plotly.v1+json": {
       "config": {
        "plotlyServerURL": "https://plot.ly"
       },
       "data": [
        {
         "hovertemplate": "variable=tempoGulosa<br>vertices=%{x}<br>value=%{y}<extra></extra>",
         "legendgroup": "tempoGulosa",
         "marker": {
          "color": "#636efa",
          "symbol": "circle"
         },
         "mode": "markers",
         "name": "tempoGulosa",
         "orientation": "v",
         "showlegend": true,
         "type": "scatter",
         "x": [
          10,
          15,
          20,
          25,
          30,
          35,
          40,
          45,
          50,
          55,
          60,
          65,
          70,
          75,
          80,
          85,
          90,
          95,
          100,
          105,
          110,
          115
         ],
         "xaxis": "x",
         "y": [
          0.237203,
          0.184428,
          0.0885429,
          0.109702,
          0.000798153,
          0.0211141,
          0.0073692,
          0.00635168,
          0.0168453,
          0.000313872,
          0.000233834,
          0.000285353,
          0.00399215,
          0.000290611,
          0.000313353,
          0.00402407,
          0.000308928,
          0.00325283,
          0.000324722,
          0.0034572,
          0.0760089,
          0.000456486
         ],
         "yaxis": "y"
        },
        {
         "hovertemplate": "<b>LOWESS trendline</b><br><br>variable=tempoGulosa<br>vertices=%{x}<br>value=%{y} <b>(trend)</b><extra></extra>",
         "legendgroup": "tempoGulosa",
         "marker": {
          "color": "#636efa",
          "symbol": "circle"
         },
         "mode": "lines",
         "name": "tempoGulosa",
         "showlegend": false,
         "type": "scatter",
         "x": [
          10,
          15,
          20,
          25,
          30,
          35,
          40,
          45,
          50,
          55,
          60,
          65,
          70,
          75,
          80,
          85,
          90,
          95,
          100,
          105,
          110,
          115
         ],
         "xaxis": "x",
         "y": [
          0.237203,
          0.184428,
          0.0885429,
          0.109702,
          0.000798153,
          0.0211141,
          0.0073692,
          0.00635168,
          0.0168453,
          0.000313872,
          0.000233834,
          0.000285353,
          0.00399215,
          0.000290611,
          0.000313353,
          0.00402407,
          0.000308928,
          0.00325283,
          0.000324722,
          0.0034572,
          0.0760089,
          0.000456486
         ],
         "yaxis": "y"
        }
       ],
       "layout": {
        "hovermode": "closest",
        "legend": {
         "title": {
          "text": "variable"
         },
         "tracegroupgap": 0
        },
        "margin": {
         "t": 60
        },
        "template": {
         "data": {
          "bar": [
           {
            "error_x": {
             "color": "rgb(36,36,36)"
            },
            "error_y": {
             "color": "rgb(36,36,36)"
            },
            "marker": {
             "line": {
              "color": "rgb(234,234,242)",
              "width": 0.5
             },
             "pattern": {
              "fillmode": "overlay",
              "size": 10,
              "solidity": 0.2
             }
            },
            "type": "bar"
           }
          ],
          "barpolar": [
           {
            "marker": {
             "line": {
              "color": "rgb(234,234,242)",
              "width": 0.5
             },
             "pattern": {
              "fillmode": "overlay",
              "size": 10,
              "solidity": 0.2
             }
            },
            "type": "barpolar"
           }
          ],
          "carpet": [
           {
            "aaxis": {
             "endlinecolor": "rgb(36,36,36)",
             "gridcolor": "white",
             "linecolor": "white",
             "minorgridcolor": "white",
             "startlinecolor": "rgb(36,36,36)"
            },
            "baxis": {
             "endlinecolor": "rgb(36,36,36)",
             "gridcolor": "white",
             "linecolor": "white",
             "minorgridcolor": "white",
             "startlinecolor": "rgb(36,36,36)"
            },
            "type": "carpet"
           }
          ],
          "choropleth": [
           {
            "colorbar": {
             "outlinewidth": 0,
             "tickcolor": "rgb(36,36,36)",
             "ticklen": 8,
             "ticks": "outside",
             "tickwidth": 2
            },
            "type": "choropleth"
           }
          ],
          "contour": [
           {
            "colorbar": {
             "outlinewidth": 0,
             "tickcolor": "rgb(36,36,36)",
             "ticklen": 8,
             "ticks": "outside",
             "tickwidth": 2
            },
            "colorscale": [
             [
              0,
              "rgb(2,4,25)"
             ],
             [
              0.06274509803921569,
              "rgb(24,15,41)"
             ],
             [
              0.12549019607843137,
              "rgb(47,23,57)"
             ],
             [
              0.18823529411764706,
              "rgb(71,28,72)"
             ],
             [
              0.25098039215686274,
              "rgb(97,30,82)"
             ],
             [
              0.3137254901960784,
              "rgb(123,30,89)"
             ],
             [
              0.3764705882352941,
              "rgb(150,27,91)"
             ],
             [
              0.4392156862745098,
              "rgb(177,22,88)"
             ],
             [
              0.5019607843137255,
              "rgb(203,26,79)"
             ],
             [
              0.5647058823529412,
              "rgb(223,47,67)"
             ],
             [
              0.6274509803921569,
              "rgb(236,76,61)"
             ],
             [
              0.6901960784313725,
              "rgb(242,107,73)"
             ],
             [
              0.7529411764705882,
              "rgb(244,135,95)"
             ],
             [
              0.8156862745098039,
              "rgb(245,162,122)"
             ],
             [
              0.8784313725490196,
              "rgb(246,188,153)"
             ],
             [
              0.9411764705882353,
              "rgb(247,212,187)"
             ],
             [
              1,
              "rgb(250,234,220)"
             ]
            ],
            "type": "contour"
           }
          ],
          "contourcarpet": [
           {
            "colorbar": {
             "outlinewidth": 0,
             "tickcolor": "rgb(36,36,36)",
             "ticklen": 8,
             "ticks": "outside",
             "tickwidth": 2
            },
            "type": "contourcarpet"
           }
          ],
          "heatmap": [
           {
            "colorbar": {
             "outlinewidth": 0,
             "tickcolor": "rgb(36,36,36)",
             "ticklen": 8,
             "ticks": "outside",
             "tickwidth": 2
            },
            "colorscale": [
             [
              0,
              "rgb(2,4,25)"
             ],
             [
              0.06274509803921569,
              "rgb(24,15,41)"
             ],
             [
              0.12549019607843137,
              "rgb(47,23,57)"
             ],
             [
              0.18823529411764706,
              "rgb(71,28,72)"
             ],
             [
              0.25098039215686274,
              "rgb(97,30,82)"
             ],
             [
              0.3137254901960784,
              "rgb(123,30,89)"
             ],
             [
              0.3764705882352941,
              "rgb(150,27,91)"
             ],
             [
              0.4392156862745098,
              "rgb(177,22,88)"
             ],
             [
              0.5019607843137255,
              "rgb(203,26,79)"
             ],
             [
              0.5647058823529412,
              "rgb(223,47,67)"
             ],
             [
              0.6274509803921569,
              "rgb(236,76,61)"
             ],
             [
              0.6901960784313725,
              "rgb(242,107,73)"
             ],
             [
              0.7529411764705882,
              "rgb(244,135,95)"
             ],
             [
              0.8156862745098039,
              "rgb(245,162,122)"
             ],
             [
              0.8784313725490196,
              "rgb(246,188,153)"
             ],
             [
              0.9411764705882353,
              "rgb(247,212,187)"
             ],
             [
              1,
              "rgb(250,234,220)"
             ]
            ],
            "type": "heatmap"
           }
          ],
          "heatmapgl": [
           {
            "colorbar": {
             "outlinewidth": 0,
             "tickcolor": "rgb(36,36,36)",
             "ticklen": 8,
             "ticks": "outside",
             "tickwidth": 2
            },
            "colorscale": [
             [
              0,
              "rgb(2,4,25)"
             ],
             [
              0.06274509803921569,
              "rgb(24,15,41)"
             ],
             [
              0.12549019607843137,
              "rgb(47,23,57)"
             ],
             [
              0.18823529411764706,
              "rgb(71,28,72)"
             ],
             [
              0.25098039215686274,
              "rgb(97,30,82)"
             ],
             [
              0.3137254901960784,
              "rgb(123,30,89)"
             ],
             [
              0.3764705882352941,
              "rgb(150,27,91)"
             ],
             [
              0.4392156862745098,
              "rgb(177,22,88)"
             ],
             [
              0.5019607843137255,
              "rgb(203,26,79)"
             ],
             [
              0.5647058823529412,
              "rgb(223,47,67)"
             ],
             [
              0.6274509803921569,
              "rgb(236,76,61)"
             ],
             [
              0.6901960784313725,
              "rgb(242,107,73)"
             ],
             [
              0.7529411764705882,
              "rgb(244,135,95)"
             ],
             [
              0.8156862745098039,
              "rgb(245,162,122)"
             ],
             [
              0.8784313725490196,
              "rgb(246,188,153)"
             ],
             [
              0.9411764705882353,
              "rgb(247,212,187)"
             ],
             [
              1,
              "rgb(250,234,220)"
             ]
            ],
            "type": "heatmapgl"
           }
          ],
          "histogram": [
           {
            "marker": {
             "pattern": {
              "fillmode": "overlay",
              "size": 10,
              "solidity": 0.2
             }
            },
            "type": "histogram"
           }
          ],
          "histogram2d": [
           {
            "colorbar": {
             "outlinewidth": 0,
             "tickcolor": "rgb(36,36,36)",
             "ticklen": 8,
             "ticks": "outside",
             "tickwidth": 2
            },
            "colorscale": [
             [
              0,
              "rgb(2,4,25)"
             ],
             [
              0.06274509803921569,
              "rgb(24,15,41)"
             ],
             [
              0.12549019607843137,
              "rgb(47,23,57)"
             ],
             [
              0.18823529411764706,
              "rgb(71,28,72)"
             ],
             [
              0.25098039215686274,
              "rgb(97,30,82)"
             ],
             [
              0.3137254901960784,
              "rgb(123,30,89)"
             ],
             [
              0.3764705882352941,
              "rgb(150,27,91)"
             ],
             [
              0.4392156862745098,
              "rgb(177,22,88)"
             ],
             [
              0.5019607843137255,
              "rgb(203,26,79)"
             ],
             [
              0.5647058823529412,
              "rgb(223,47,67)"
             ],
             [
              0.6274509803921569,
              "rgb(236,76,61)"
             ],
             [
              0.6901960784313725,
              "rgb(242,107,73)"
             ],
             [
              0.7529411764705882,
              "rgb(244,135,95)"
             ],
             [
              0.8156862745098039,
              "rgb(245,162,122)"
             ],
             [
              0.8784313725490196,
              "rgb(246,188,153)"
             ],
             [
              0.9411764705882353,
              "rgb(247,212,187)"
             ],
             [
              1,
              "rgb(250,234,220)"
             ]
            ],
            "type": "histogram2d"
           }
          ],
          "histogram2dcontour": [
           {
            "colorbar": {
             "outlinewidth": 0,
             "tickcolor": "rgb(36,36,36)",
             "ticklen": 8,
             "ticks": "outside",
             "tickwidth": 2
            },
            "colorscale": [
             [
              0,
              "rgb(2,4,25)"
             ],
             [
              0.06274509803921569,
              "rgb(24,15,41)"
             ],
             [
              0.12549019607843137,
              "rgb(47,23,57)"
             ],
             [
              0.18823529411764706,
              "rgb(71,28,72)"
             ],
             [
              0.25098039215686274,
              "rgb(97,30,82)"
             ],
             [
              0.3137254901960784,
              "rgb(123,30,89)"
             ],
             [
              0.3764705882352941,
              "rgb(150,27,91)"
             ],
             [
              0.4392156862745098,
              "rgb(177,22,88)"
             ],
             [
              0.5019607843137255,
              "rgb(203,26,79)"
             ],
             [
              0.5647058823529412,
              "rgb(223,47,67)"
             ],
             [
              0.6274509803921569,
              "rgb(236,76,61)"
             ],
             [
              0.6901960784313725,
              "rgb(242,107,73)"
             ],
             [
              0.7529411764705882,
              "rgb(244,135,95)"
             ],
             [
              0.8156862745098039,
              "rgb(245,162,122)"
             ],
             [
              0.8784313725490196,
              "rgb(246,188,153)"
             ],
             [
              0.9411764705882353,
              "rgb(247,212,187)"
             ],
             [
              1,
              "rgb(250,234,220)"
             ]
            ],
            "type": "histogram2dcontour"
           }
          ],
          "mesh3d": [
           {
            "colorbar": {
             "outlinewidth": 0,
             "tickcolor": "rgb(36,36,36)",
             "ticklen": 8,
             "ticks": "outside",
             "tickwidth": 2
            },
            "type": "mesh3d"
           }
          ],
          "parcoords": [
           {
            "line": {
             "colorbar": {
              "outlinewidth": 0,
              "tickcolor": "rgb(36,36,36)",
              "ticklen": 8,
              "ticks": "outside",
              "tickwidth": 2
             }
            },
            "type": "parcoords"
           }
          ],
          "pie": [
           {
            "automargin": true,
            "type": "pie"
           }
          ],
          "scatter": [
           {
            "fillpattern": {
             "fillmode": "overlay",
             "size": 10,
             "solidity": 0.2
            },
            "type": "scatter"
           }
          ],
          "scatter3d": [
           {
            "line": {
             "colorbar": {
              "outlinewidth": 0,
              "tickcolor": "rgb(36,36,36)",
              "ticklen": 8,
              "ticks": "outside",
              "tickwidth": 2
             }
            },
            "marker": {
             "colorbar": {
              "outlinewidth": 0,
              "tickcolor": "rgb(36,36,36)",
              "ticklen": 8,
              "ticks": "outside",
              "tickwidth": 2
             }
            },
            "type": "scatter3d"
           }
          ],
          "scattercarpet": [
           {
            "marker": {
             "colorbar": {
              "outlinewidth": 0,
              "tickcolor": "rgb(36,36,36)",
              "ticklen": 8,
              "ticks": "outside",
              "tickwidth": 2
             }
            },
            "type": "scattercarpet"
           }
          ],
          "scattergeo": [
           {
            "marker": {
             "colorbar": {
              "outlinewidth": 0,
              "tickcolor": "rgb(36,36,36)",
              "ticklen": 8,
              "ticks": "outside",
              "tickwidth": 2
             }
            },
            "type": "scattergeo"
           }
          ],
          "scattergl": [
           {
            "marker": {
             "colorbar": {
              "outlinewidth": 0,
              "tickcolor": "rgb(36,36,36)",
              "ticklen": 8,
              "ticks": "outside",
              "tickwidth": 2
             }
            },
            "type": "scattergl"
           }
          ],
          "scattermapbox": [
           {
            "marker": {
             "colorbar": {
              "outlinewidth": 0,
              "tickcolor": "rgb(36,36,36)",
              "ticklen": 8,
              "ticks": "outside",
              "tickwidth": 2
             }
            },
            "type": "scattermapbox"
           }
          ],
          "scatterpolar": [
           {
            "marker": {
             "colorbar": {
              "outlinewidth": 0,
              "tickcolor": "rgb(36,36,36)",
              "ticklen": 8,
              "ticks": "outside",
              "tickwidth": 2
             }
            },
            "type": "scatterpolar"
           }
          ],
          "scatterpolargl": [
           {
            "marker": {
             "colorbar": {
              "outlinewidth": 0,
              "tickcolor": "rgb(36,36,36)",
              "ticklen": 8,
              "ticks": "outside",
              "tickwidth": 2
             }
            },
            "type": "scatterpolargl"
           }
          ],
          "scatterternary": [
           {
            "marker": {
             "colorbar": {
              "outlinewidth": 0,
              "tickcolor": "rgb(36,36,36)",
              "ticklen": 8,
              "ticks": "outside",
              "tickwidth": 2
             }
            },
            "type": "scatterternary"
           }
          ],
          "surface": [
           {
            "colorbar": {
             "outlinewidth": 0,
             "tickcolor": "rgb(36,36,36)",
             "ticklen": 8,
             "ticks": "outside",
             "tickwidth": 2
            },
            "colorscale": [
             [
              0,
              "rgb(2,4,25)"
             ],
             [
              0.06274509803921569,
              "rgb(24,15,41)"
             ],
             [
              0.12549019607843137,
              "rgb(47,23,57)"
             ],
             [
              0.18823529411764706,
              "rgb(71,28,72)"
             ],
             [
              0.25098039215686274,
              "rgb(97,30,82)"
             ],
             [
              0.3137254901960784,
              "rgb(123,30,89)"
             ],
             [
              0.3764705882352941,
              "rgb(150,27,91)"
             ],
             [
              0.4392156862745098,
              "rgb(177,22,88)"
             ],
             [
              0.5019607843137255,
              "rgb(203,26,79)"
             ],
             [
              0.5647058823529412,
              "rgb(223,47,67)"
             ],
             [
              0.6274509803921569,
              "rgb(236,76,61)"
             ],
             [
              0.6901960784313725,
              "rgb(242,107,73)"
             ],
             [
              0.7529411764705882,
              "rgb(244,135,95)"
             ],
             [
              0.8156862745098039,
              "rgb(245,162,122)"
             ],
             [
              0.8784313725490196,
              "rgb(246,188,153)"
             ],
             [
              0.9411764705882353,
              "rgb(247,212,187)"
             ],
             [
              1,
              "rgb(250,234,220)"
             ]
            ],
            "type": "surface"
           }
          ],
          "table": [
           {
            "cells": {
             "fill": {
              "color": "rgb(231,231,240)"
             },
             "line": {
              "color": "white"
             }
            },
            "header": {
             "fill": {
              "color": "rgb(183,183,191)"
             },
             "line": {
              "color": "white"
             }
            },
            "type": "table"
           }
          ]
         },
         "layout": {
          "annotationdefaults": {
           "arrowcolor": "rgb(67,103,167)"
          },
          "autotypenumbers": "strict",
          "coloraxis": {
           "colorbar": {
            "outlinewidth": 0,
            "tickcolor": "rgb(36,36,36)",
            "ticklen": 8,
            "ticks": "outside",
            "tickwidth": 2
           }
          },
          "colorscale": {
           "sequential": [
            [
             0,
             "rgb(2,4,25)"
            ],
            [
             0.06274509803921569,
             "rgb(24,15,41)"
            ],
            [
             0.12549019607843137,
             "rgb(47,23,57)"
            ],
            [
             0.18823529411764706,
             "rgb(71,28,72)"
            ],
            [
             0.25098039215686274,
             "rgb(97,30,82)"
            ],
            [
             0.3137254901960784,
             "rgb(123,30,89)"
            ],
            [
             0.3764705882352941,
             "rgb(150,27,91)"
            ],
            [
             0.4392156862745098,
             "rgb(177,22,88)"
            ],
            [
             0.5019607843137255,
             "rgb(203,26,79)"
            ],
            [
             0.5647058823529412,
             "rgb(223,47,67)"
            ],
            [
             0.6274509803921569,
             "rgb(236,76,61)"
            ],
            [
             0.6901960784313725,
             "rgb(242,107,73)"
            ],
            [
             0.7529411764705882,
             "rgb(244,135,95)"
            ],
            [
             0.8156862745098039,
             "rgb(245,162,122)"
            ],
            [
             0.8784313725490196,
             "rgb(246,188,153)"
            ],
            [
             0.9411764705882353,
             "rgb(247,212,187)"
            ],
            [
             1,
             "rgb(250,234,220)"
            ]
           ],
           "sequentialminus": [
            [
             0,
             "rgb(2,4,25)"
            ],
            [
             0.06274509803921569,
             "rgb(24,15,41)"
            ],
            [
             0.12549019607843137,
             "rgb(47,23,57)"
            ],
            [
             0.18823529411764706,
             "rgb(71,28,72)"
            ],
            [
             0.25098039215686274,
             "rgb(97,30,82)"
            ],
            [
             0.3137254901960784,
             "rgb(123,30,89)"
            ],
            [
             0.3764705882352941,
             "rgb(150,27,91)"
            ],
            [
             0.4392156862745098,
             "rgb(177,22,88)"
            ],
            [
             0.5019607843137255,
             "rgb(203,26,79)"
            ],
            [
             0.5647058823529412,
             "rgb(223,47,67)"
            ],
            [
             0.6274509803921569,
             "rgb(236,76,61)"
            ],
            [
             0.6901960784313725,
             "rgb(242,107,73)"
            ],
            [
             0.7529411764705882,
             "rgb(244,135,95)"
            ],
            [
             0.8156862745098039,
             "rgb(245,162,122)"
            ],
            [
             0.8784313725490196,
             "rgb(246,188,153)"
            ],
            [
             0.9411764705882353,
             "rgb(247,212,187)"
            ],
            [
             1,
             "rgb(250,234,220)"
            ]
           ]
          },
          "colorway": [
           "rgb(76,114,176)",
           "rgb(221,132,82)",
           "rgb(85,168,104)",
           "rgb(196,78,82)",
           "rgb(129,114,179)",
           "rgb(147,120,96)",
           "rgb(218,139,195)",
           "rgb(140,140,140)",
           "rgb(204,185,116)",
           "rgb(100,181,205)"
          ],
          "font": {
           "color": "rgb(36,36,36)"
          },
          "geo": {
           "bgcolor": "white",
           "lakecolor": "white",
           "landcolor": "rgb(234,234,242)",
           "showlakes": true,
           "showland": true,
           "subunitcolor": "white"
          },
          "hoverlabel": {
           "align": "left"
          },
          "hovermode": "closest",
          "paper_bgcolor": "white",
          "plot_bgcolor": "rgb(234,234,242)",
          "polar": {
           "angularaxis": {
            "gridcolor": "white",
            "linecolor": "white",
            "showgrid": true,
            "ticks": ""
           },
           "bgcolor": "rgb(234,234,242)",
           "radialaxis": {
            "gridcolor": "white",
            "linecolor": "white",
            "showgrid": true,
            "ticks": ""
           }
          },
          "scene": {
           "xaxis": {
            "backgroundcolor": "rgb(234,234,242)",
            "gridcolor": "white",
            "gridwidth": 2,
            "linecolor": "white",
            "showbackground": true,
            "showgrid": true,
            "ticks": "",
            "zerolinecolor": "white"
           },
           "yaxis": {
            "backgroundcolor": "rgb(234,234,242)",
            "gridcolor": "white",
            "gridwidth": 2,
            "linecolor": "white",
            "showbackground": true,
            "showgrid": true,
            "ticks": "",
            "zerolinecolor": "white"
           },
           "zaxis": {
            "backgroundcolor": "rgb(234,234,242)",
            "gridcolor": "white",
            "gridwidth": 2,
            "linecolor": "white",
            "showbackground": true,
            "showgrid": true,
            "ticks": "",
            "zerolinecolor": "white"
           }
          },
          "shapedefaults": {
           "fillcolor": "rgb(67,103,167)",
           "line": {
            "width": 0
           },
           "opacity": 0.5
          },
          "ternary": {
           "aaxis": {
            "gridcolor": "white",
            "linecolor": "white",
            "showgrid": true,
            "ticks": ""
           },
           "baxis": {
            "gridcolor": "white",
            "linecolor": "white",
            "showgrid": true,
            "ticks": ""
           },
           "bgcolor": "rgb(234,234,242)",
           "caxis": {
            "gridcolor": "white",
            "linecolor": "white",
            "showgrid": true,
            "ticks": ""
           }
          },
          "xaxis": {
           "automargin": true,
           "gridcolor": "white",
           "linecolor": "white",
           "showgrid": true,
           "ticks": "",
           "title": {
            "standoff": 15
           },
           "zerolinecolor": "white"
          },
          "yaxis": {
           "automargin": true,
           "gridcolor": "white",
           "linecolor": "white",
           "showgrid": true,
           "ticks": "",
           "title": {
            "standoff": 15
           },
           "zerolinecolor": "white"
          }
         }
        },
        "title": {
         "text": "Tempo x Número de Vértices (Gulosa)"
        },
        "xaxis": {
         "anchor": "y",
         "domain": [
          0,
          1
         ],
         "title": {
          "text": "Números de Vértices"
         }
        },
        "yaxis": {
         "anchor": "x",
         "domain": [
          0,
          1
         ],
         "title": {
          "text": "Tempo (segundos)"
         }
        }
       }
      }
     },
     "metadata": {},
     "output_type": "display_data"
    }
   ],
   "source": [
    "import plotly.express as px\n",
    "import pandas as pd  # You need to import Pandas for working with dataframes\n",
    "\n",
    "# Create a Pandas DataFrame\n",
    "data = {'vertices': vertices, 'tempoExaustiva': timeExaustiva, 'tempoGulosa': timeGulosa}\n",
    "df = pd.DataFrame(data)\n",
    "# Create a scatter plot with trendline using Plotly Express\n",
    "fig = px.scatter(df, x=\"vertices\", y=[\"tempoGulosa\"], trendline=\"lowess\", trendline_options=dict(frac=0.1))\n",
    "\n",
    "# Update layout for better appearance and interactivity\n",
    "fig.update_layout(\n",
    "    title=\"Tempo x Número de Vértices (Gulosa)\",\n",
    "    xaxis_title=\"Números de Vértices\",\n",
    "    yaxis_title=\"Tempo (segundos)\",\n",
    "    hovermode=\"closest\",  # Show closest data point on hover\n",
    "    template=\"seaborn\",  # Dark theme\n",
    ")\n",
    "\n",
    "# Show the plot\n",
    "fig.show()"
   ]
  },
  {
   "cell_type": "markdown",
   "metadata": {},
   "source": [
    "Como pode ser visto no gráfico acima, o tempo de execução da heurística gulosa acaba não aumentando muito com o aumento do número de vértices, entretanto também se percebe uma grande diferença entre o tempo de execução dependendo da entrada do arquivo, que como pode ser visto no gráfico, em alguns vértices mesmo a tendência sendo de aumento, o tempo de execução acaba sendo menor."
   ]
  },
  {
   "cell_type": "markdown",
   "metadata": {},
   "source": [
    "## Comparação de execução entre as duas abordagens"
   ]
  },
  {
   "cell_type": "code",
   "execution_count": 157,
   "metadata": {},
   "outputs": [
    {
     "data": {
      "application/vnd.plotly.v1+json": {
       "config": {
        "plotlyServerURL": "https://plot.ly"
       },
       "data": [
        {
         "hovertemplate": "variable=tempoExaustiva<br>vertices=%{x}<br>value=%{y}<extra></extra>",
         "legendgroup": "tempoExaustiva",
         "marker": {
          "color": "#636efa",
          "symbol": "circle"
         },
         "mode": "markers",
         "name": "tempoExaustiva",
         "orientation": "v",
         "showlegend": true,
         "type": "scatter",
         "x": [
          10,
          15,
          20,
          25,
          30,
          35,
          40,
          45,
          50,
          55,
          60,
          65,
          70,
          75,
          80,
          85,
          90,
          95,
          100,
          105,
          110,
          115
         ],
         "xaxis": "x",
         "y": [
          0.000012777,
          0.000082388,
          0.000151817,
          0.00171136,
          32.2846,
          0.00254447,
          0.00639748,
          0.0213514,
          0.0422243,
          0.0284507,
          0.161162,
          0.209796,
          0.428603,
          0.718544,
          0.902861,
          3.32974,
          2.96029,
          8.23927,
          7.45951,
          10.4135,
          14.7715,
          23.7803
         ],
         "yaxis": "y"
        },
        {
         "hovertemplate": "<b>LOWESS trendline</b><br><br>variable=tempoExaustiva<br>vertices=%{x}<br>value=%{y} <b>(trend)</b><extra></extra>",
         "legendgroup": "tempoExaustiva",
         "marker": {
          "color": "#636efa",
          "symbol": "circle"
         },
         "mode": "lines",
         "name": "tempoExaustiva",
         "showlegend": false,
         "type": "scatter",
         "x": [
          10,
          15,
          20,
          25,
          30,
          35,
          40,
          45,
          50,
          55,
          60,
          65,
          70,
          75,
          80,
          85,
          90,
          95,
          100,
          105,
          110,
          115
         ],
         "xaxis": "x",
         "y": [
          0.000012777,
          0.000082388,
          0.000151817,
          0.00171136,
          32.2846,
          0.00254447,
          0.00639748,
          0.0213514,
          0.0422243,
          0.0284507,
          0.161162,
          0.209796,
          0.428603,
          0.718544,
          0.902861,
          3.32974,
          2.96029,
          8.23927,
          7.45951,
          10.4135,
          14.7715,
          23.7803
         ],
         "yaxis": "y"
        },
        {
         "hovertemplate": "variable=tempoGulosa<br>vertices=%{x}<br>value=%{y}<extra></extra>",
         "legendgroup": "tempoGulosa",
         "marker": {
          "color": "#EF553B",
          "symbol": "circle"
         },
         "mode": "markers",
         "name": "tempoGulosa",
         "orientation": "v",
         "showlegend": true,
         "type": "scatter",
         "x": [
          10,
          15,
          20,
          25,
          30,
          35,
          40,
          45,
          50,
          55,
          60,
          65,
          70,
          75,
          80,
          85,
          90,
          95,
          100,
          105,
          110,
          115
         ],
         "xaxis": "x",
         "y": [
          0.237203,
          0.184428,
          0.0885429,
          0.109702,
          0.000798153,
          0.0211141,
          0.0073692,
          0.00635168,
          0.0168453,
          0.000313872,
          0.000233834,
          0.000285353,
          0.00399215,
          0.000290611,
          0.000313353,
          0.00402407,
          0.000308928,
          0.00325283,
          0.000324722,
          0.0034572,
          0.0760089,
          0.000456486
         ],
         "yaxis": "y"
        },
        {
         "hovertemplate": "<b>LOWESS trendline</b><br><br>variable=tempoGulosa<br>vertices=%{x}<br>value=%{y} <b>(trend)</b><extra></extra>",
         "legendgroup": "tempoGulosa",
         "marker": {
          "color": "#EF553B",
          "symbol": "circle"
         },
         "mode": "lines",
         "name": "tempoGulosa",
         "showlegend": false,
         "type": "scatter",
         "x": [
          10,
          15,
          20,
          25,
          30,
          35,
          40,
          45,
          50,
          55,
          60,
          65,
          70,
          75,
          80,
          85,
          90,
          95,
          100,
          105,
          110,
          115
         ],
         "xaxis": "x",
         "y": [
          0.237203,
          0.184428,
          0.0885429,
          0.109702,
          0.000798153,
          0.0211141,
          0.0073692,
          0.00635168,
          0.0168453,
          0.000313872,
          0.000233834,
          0.000285353,
          0.00399215,
          0.000290611,
          0.000313353,
          0.00402407,
          0.000308928,
          0.00325283,
          0.000324722,
          0.0034572,
          0.0760089,
          0.000456486
         ],
         "yaxis": "y"
        }
       ],
       "layout": {
        "hovermode": "closest",
        "legend": {
         "title": {
          "text": "variable"
         },
         "tracegroupgap": 0
        },
        "margin": {
         "t": 60
        },
        "template": {
         "data": {
          "bar": [
           {
            "error_x": {
             "color": "rgb(36,36,36)"
            },
            "error_y": {
             "color": "rgb(36,36,36)"
            },
            "marker": {
             "line": {
              "color": "rgb(234,234,242)",
              "width": 0.5
             },
             "pattern": {
              "fillmode": "overlay",
              "size": 10,
              "solidity": 0.2
             }
            },
            "type": "bar"
           }
          ],
          "barpolar": [
           {
            "marker": {
             "line": {
              "color": "rgb(234,234,242)",
              "width": 0.5
             },
             "pattern": {
              "fillmode": "overlay",
              "size": 10,
              "solidity": 0.2
             }
            },
            "type": "barpolar"
           }
          ],
          "carpet": [
           {
            "aaxis": {
             "endlinecolor": "rgb(36,36,36)",
             "gridcolor": "white",
             "linecolor": "white",
             "minorgridcolor": "white",
             "startlinecolor": "rgb(36,36,36)"
            },
            "baxis": {
             "endlinecolor": "rgb(36,36,36)",
             "gridcolor": "white",
             "linecolor": "white",
             "minorgridcolor": "white",
             "startlinecolor": "rgb(36,36,36)"
            },
            "type": "carpet"
           }
          ],
          "choropleth": [
           {
            "colorbar": {
             "outlinewidth": 0,
             "tickcolor": "rgb(36,36,36)",
             "ticklen": 8,
             "ticks": "outside",
             "tickwidth": 2
            },
            "type": "choropleth"
           }
          ],
          "contour": [
           {
            "colorbar": {
             "outlinewidth": 0,
             "tickcolor": "rgb(36,36,36)",
             "ticklen": 8,
             "ticks": "outside",
             "tickwidth": 2
            },
            "colorscale": [
             [
              0,
              "rgb(2,4,25)"
             ],
             [
              0.06274509803921569,
              "rgb(24,15,41)"
             ],
             [
              0.12549019607843137,
              "rgb(47,23,57)"
             ],
             [
              0.18823529411764706,
              "rgb(71,28,72)"
             ],
             [
              0.25098039215686274,
              "rgb(97,30,82)"
             ],
             [
              0.3137254901960784,
              "rgb(123,30,89)"
             ],
             [
              0.3764705882352941,
              "rgb(150,27,91)"
             ],
             [
              0.4392156862745098,
              "rgb(177,22,88)"
             ],
             [
              0.5019607843137255,
              "rgb(203,26,79)"
             ],
             [
              0.5647058823529412,
              "rgb(223,47,67)"
             ],
             [
              0.6274509803921569,
              "rgb(236,76,61)"
             ],
             [
              0.6901960784313725,
              "rgb(242,107,73)"
             ],
             [
              0.7529411764705882,
              "rgb(244,135,95)"
             ],
             [
              0.8156862745098039,
              "rgb(245,162,122)"
             ],
             [
              0.8784313725490196,
              "rgb(246,188,153)"
             ],
             [
              0.9411764705882353,
              "rgb(247,212,187)"
             ],
             [
              1,
              "rgb(250,234,220)"
             ]
            ],
            "type": "contour"
           }
          ],
          "contourcarpet": [
           {
            "colorbar": {
             "outlinewidth": 0,
             "tickcolor": "rgb(36,36,36)",
             "ticklen": 8,
             "ticks": "outside",
             "tickwidth": 2
            },
            "type": "contourcarpet"
           }
          ],
          "heatmap": [
           {
            "colorbar": {
             "outlinewidth": 0,
             "tickcolor": "rgb(36,36,36)",
             "ticklen": 8,
             "ticks": "outside",
             "tickwidth": 2
            },
            "colorscale": [
             [
              0,
              "rgb(2,4,25)"
             ],
             [
              0.06274509803921569,
              "rgb(24,15,41)"
             ],
             [
              0.12549019607843137,
              "rgb(47,23,57)"
             ],
             [
              0.18823529411764706,
              "rgb(71,28,72)"
             ],
             [
              0.25098039215686274,
              "rgb(97,30,82)"
             ],
             [
              0.3137254901960784,
              "rgb(123,30,89)"
             ],
             [
              0.3764705882352941,
              "rgb(150,27,91)"
             ],
             [
              0.4392156862745098,
              "rgb(177,22,88)"
             ],
             [
              0.5019607843137255,
              "rgb(203,26,79)"
             ],
             [
              0.5647058823529412,
              "rgb(223,47,67)"
             ],
             [
              0.6274509803921569,
              "rgb(236,76,61)"
             ],
             [
              0.6901960784313725,
              "rgb(242,107,73)"
             ],
             [
              0.7529411764705882,
              "rgb(244,135,95)"
             ],
             [
              0.8156862745098039,
              "rgb(245,162,122)"
             ],
             [
              0.8784313725490196,
              "rgb(246,188,153)"
             ],
             [
              0.9411764705882353,
              "rgb(247,212,187)"
             ],
             [
              1,
              "rgb(250,234,220)"
             ]
            ],
            "type": "heatmap"
           }
          ],
          "heatmapgl": [
           {
            "colorbar": {
             "outlinewidth": 0,
             "tickcolor": "rgb(36,36,36)",
             "ticklen": 8,
             "ticks": "outside",
             "tickwidth": 2
            },
            "colorscale": [
             [
              0,
              "rgb(2,4,25)"
             ],
             [
              0.06274509803921569,
              "rgb(24,15,41)"
             ],
             [
              0.12549019607843137,
              "rgb(47,23,57)"
             ],
             [
              0.18823529411764706,
              "rgb(71,28,72)"
             ],
             [
              0.25098039215686274,
              "rgb(97,30,82)"
             ],
             [
              0.3137254901960784,
              "rgb(123,30,89)"
             ],
             [
              0.3764705882352941,
              "rgb(150,27,91)"
             ],
             [
              0.4392156862745098,
              "rgb(177,22,88)"
             ],
             [
              0.5019607843137255,
              "rgb(203,26,79)"
             ],
             [
              0.5647058823529412,
              "rgb(223,47,67)"
             ],
             [
              0.6274509803921569,
              "rgb(236,76,61)"
             ],
             [
              0.6901960784313725,
              "rgb(242,107,73)"
             ],
             [
              0.7529411764705882,
              "rgb(244,135,95)"
             ],
             [
              0.8156862745098039,
              "rgb(245,162,122)"
             ],
             [
              0.8784313725490196,
              "rgb(246,188,153)"
             ],
             [
              0.9411764705882353,
              "rgb(247,212,187)"
             ],
             [
              1,
              "rgb(250,234,220)"
             ]
            ],
            "type": "heatmapgl"
           }
          ],
          "histogram": [
           {
            "marker": {
             "pattern": {
              "fillmode": "overlay",
              "size": 10,
              "solidity": 0.2
             }
            },
            "type": "histogram"
           }
          ],
          "histogram2d": [
           {
            "colorbar": {
             "outlinewidth": 0,
             "tickcolor": "rgb(36,36,36)",
             "ticklen": 8,
             "ticks": "outside",
             "tickwidth": 2
            },
            "colorscale": [
             [
              0,
              "rgb(2,4,25)"
             ],
             [
              0.06274509803921569,
              "rgb(24,15,41)"
             ],
             [
              0.12549019607843137,
              "rgb(47,23,57)"
             ],
             [
              0.18823529411764706,
              "rgb(71,28,72)"
             ],
             [
              0.25098039215686274,
              "rgb(97,30,82)"
             ],
             [
              0.3137254901960784,
              "rgb(123,30,89)"
             ],
             [
              0.3764705882352941,
              "rgb(150,27,91)"
             ],
             [
              0.4392156862745098,
              "rgb(177,22,88)"
             ],
             [
              0.5019607843137255,
              "rgb(203,26,79)"
             ],
             [
              0.5647058823529412,
              "rgb(223,47,67)"
             ],
             [
              0.6274509803921569,
              "rgb(236,76,61)"
             ],
             [
              0.6901960784313725,
              "rgb(242,107,73)"
             ],
             [
              0.7529411764705882,
              "rgb(244,135,95)"
             ],
             [
              0.8156862745098039,
              "rgb(245,162,122)"
             ],
             [
              0.8784313725490196,
              "rgb(246,188,153)"
             ],
             [
              0.9411764705882353,
              "rgb(247,212,187)"
             ],
             [
              1,
              "rgb(250,234,220)"
             ]
            ],
            "type": "histogram2d"
           }
          ],
          "histogram2dcontour": [
           {
            "colorbar": {
             "outlinewidth": 0,
             "tickcolor": "rgb(36,36,36)",
             "ticklen": 8,
             "ticks": "outside",
             "tickwidth": 2
            },
            "colorscale": [
             [
              0,
              "rgb(2,4,25)"
             ],
             [
              0.06274509803921569,
              "rgb(24,15,41)"
             ],
             [
              0.12549019607843137,
              "rgb(47,23,57)"
             ],
             [
              0.18823529411764706,
              "rgb(71,28,72)"
             ],
             [
              0.25098039215686274,
              "rgb(97,30,82)"
             ],
             [
              0.3137254901960784,
              "rgb(123,30,89)"
             ],
             [
              0.3764705882352941,
              "rgb(150,27,91)"
             ],
             [
              0.4392156862745098,
              "rgb(177,22,88)"
             ],
             [
              0.5019607843137255,
              "rgb(203,26,79)"
             ],
             [
              0.5647058823529412,
              "rgb(223,47,67)"
             ],
             [
              0.6274509803921569,
              "rgb(236,76,61)"
             ],
             [
              0.6901960784313725,
              "rgb(242,107,73)"
             ],
             [
              0.7529411764705882,
              "rgb(244,135,95)"
             ],
             [
              0.8156862745098039,
              "rgb(245,162,122)"
             ],
             [
              0.8784313725490196,
              "rgb(246,188,153)"
             ],
             [
              0.9411764705882353,
              "rgb(247,212,187)"
             ],
             [
              1,
              "rgb(250,234,220)"
             ]
            ],
            "type": "histogram2dcontour"
           }
          ],
          "mesh3d": [
           {
            "colorbar": {
             "outlinewidth": 0,
             "tickcolor": "rgb(36,36,36)",
             "ticklen": 8,
             "ticks": "outside",
             "tickwidth": 2
            },
            "type": "mesh3d"
           }
          ],
          "parcoords": [
           {
            "line": {
             "colorbar": {
              "outlinewidth": 0,
              "tickcolor": "rgb(36,36,36)",
              "ticklen": 8,
              "ticks": "outside",
              "tickwidth": 2
             }
            },
            "type": "parcoords"
           }
          ],
          "pie": [
           {
            "automargin": true,
            "type": "pie"
           }
          ],
          "scatter": [
           {
            "fillpattern": {
             "fillmode": "overlay",
             "size": 10,
             "solidity": 0.2
            },
            "type": "scatter"
           }
          ],
          "scatter3d": [
           {
            "line": {
             "colorbar": {
              "outlinewidth": 0,
              "tickcolor": "rgb(36,36,36)",
              "ticklen": 8,
              "ticks": "outside",
              "tickwidth": 2
             }
            },
            "marker": {
             "colorbar": {
              "outlinewidth": 0,
              "tickcolor": "rgb(36,36,36)",
              "ticklen": 8,
              "ticks": "outside",
              "tickwidth": 2
             }
            },
            "type": "scatter3d"
           }
          ],
          "scattercarpet": [
           {
            "marker": {
             "colorbar": {
              "outlinewidth": 0,
              "tickcolor": "rgb(36,36,36)",
              "ticklen": 8,
              "ticks": "outside",
              "tickwidth": 2
             }
            },
            "type": "scattercarpet"
           }
          ],
          "scattergeo": [
           {
            "marker": {
             "colorbar": {
              "outlinewidth": 0,
              "tickcolor": "rgb(36,36,36)",
              "ticklen": 8,
              "ticks": "outside",
              "tickwidth": 2
             }
            },
            "type": "scattergeo"
           }
          ],
          "scattergl": [
           {
            "marker": {
             "colorbar": {
              "outlinewidth": 0,
              "tickcolor": "rgb(36,36,36)",
              "ticklen": 8,
              "ticks": "outside",
              "tickwidth": 2
             }
            },
            "type": "scattergl"
           }
          ],
          "scattermapbox": [
           {
            "marker": {
             "colorbar": {
              "outlinewidth": 0,
              "tickcolor": "rgb(36,36,36)",
              "ticklen": 8,
              "ticks": "outside",
              "tickwidth": 2
             }
            },
            "type": "scattermapbox"
           }
          ],
          "scatterpolar": [
           {
            "marker": {
             "colorbar": {
              "outlinewidth": 0,
              "tickcolor": "rgb(36,36,36)",
              "ticklen": 8,
              "ticks": "outside",
              "tickwidth": 2
             }
            },
            "type": "scatterpolar"
           }
          ],
          "scatterpolargl": [
           {
            "marker": {
             "colorbar": {
              "outlinewidth": 0,
              "tickcolor": "rgb(36,36,36)",
              "ticklen": 8,
              "ticks": "outside",
              "tickwidth": 2
             }
            },
            "type": "scatterpolargl"
           }
          ],
          "scatterternary": [
           {
            "marker": {
             "colorbar": {
              "outlinewidth": 0,
              "tickcolor": "rgb(36,36,36)",
              "ticklen": 8,
              "ticks": "outside",
              "tickwidth": 2
             }
            },
            "type": "scatterternary"
           }
          ],
          "surface": [
           {
            "colorbar": {
             "outlinewidth": 0,
             "tickcolor": "rgb(36,36,36)",
             "ticklen": 8,
             "ticks": "outside",
             "tickwidth": 2
            },
            "colorscale": [
             [
              0,
              "rgb(2,4,25)"
             ],
             [
              0.06274509803921569,
              "rgb(24,15,41)"
             ],
             [
              0.12549019607843137,
              "rgb(47,23,57)"
             ],
             [
              0.18823529411764706,
              "rgb(71,28,72)"
             ],
             [
              0.25098039215686274,
              "rgb(97,30,82)"
             ],
             [
              0.3137254901960784,
              "rgb(123,30,89)"
             ],
             [
              0.3764705882352941,
              "rgb(150,27,91)"
             ],
             [
              0.4392156862745098,
              "rgb(177,22,88)"
             ],
             [
              0.5019607843137255,
              "rgb(203,26,79)"
             ],
             [
              0.5647058823529412,
              "rgb(223,47,67)"
             ],
             [
              0.6274509803921569,
              "rgb(236,76,61)"
             ],
             [
              0.6901960784313725,
              "rgb(242,107,73)"
             ],
             [
              0.7529411764705882,
              "rgb(244,135,95)"
             ],
             [
              0.8156862745098039,
              "rgb(245,162,122)"
             ],
             [
              0.8784313725490196,
              "rgb(246,188,153)"
             ],
             [
              0.9411764705882353,
              "rgb(247,212,187)"
             ],
             [
              1,
              "rgb(250,234,220)"
             ]
            ],
            "type": "surface"
           }
          ],
          "table": [
           {
            "cells": {
             "fill": {
              "color": "rgb(231,231,240)"
             },
             "line": {
              "color": "white"
             }
            },
            "header": {
             "fill": {
              "color": "rgb(183,183,191)"
             },
             "line": {
              "color": "white"
             }
            },
            "type": "table"
           }
          ]
         },
         "layout": {
          "annotationdefaults": {
           "arrowcolor": "rgb(67,103,167)"
          },
          "autotypenumbers": "strict",
          "coloraxis": {
           "colorbar": {
            "outlinewidth": 0,
            "tickcolor": "rgb(36,36,36)",
            "ticklen": 8,
            "ticks": "outside",
            "tickwidth": 2
           }
          },
          "colorscale": {
           "sequential": [
            [
             0,
             "rgb(2,4,25)"
            ],
            [
             0.06274509803921569,
             "rgb(24,15,41)"
            ],
            [
             0.12549019607843137,
             "rgb(47,23,57)"
            ],
            [
             0.18823529411764706,
             "rgb(71,28,72)"
            ],
            [
             0.25098039215686274,
             "rgb(97,30,82)"
            ],
            [
             0.3137254901960784,
             "rgb(123,30,89)"
            ],
            [
             0.3764705882352941,
             "rgb(150,27,91)"
            ],
            [
             0.4392156862745098,
             "rgb(177,22,88)"
            ],
            [
             0.5019607843137255,
             "rgb(203,26,79)"
            ],
            [
             0.5647058823529412,
             "rgb(223,47,67)"
            ],
            [
             0.6274509803921569,
             "rgb(236,76,61)"
            ],
            [
             0.6901960784313725,
             "rgb(242,107,73)"
            ],
            [
             0.7529411764705882,
             "rgb(244,135,95)"
            ],
            [
             0.8156862745098039,
             "rgb(245,162,122)"
            ],
            [
             0.8784313725490196,
             "rgb(246,188,153)"
            ],
            [
             0.9411764705882353,
             "rgb(247,212,187)"
            ],
            [
             1,
             "rgb(250,234,220)"
            ]
           ],
           "sequentialminus": [
            [
             0,
             "rgb(2,4,25)"
            ],
            [
             0.06274509803921569,
             "rgb(24,15,41)"
            ],
            [
             0.12549019607843137,
             "rgb(47,23,57)"
            ],
            [
             0.18823529411764706,
             "rgb(71,28,72)"
            ],
            [
             0.25098039215686274,
             "rgb(97,30,82)"
            ],
            [
             0.3137254901960784,
             "rgb(123,30,89)"
            ],
            [
             0.3764705882352941,
             "rgb(150,27,91)"
            ],
            [
             0.4392156862745098,
             "rgb(177,22,88)"
            ],
            [
             0.5019607843137255,
             "rgb(203,26,79)"
            ],
            [
             0.5647058823529412,
             "rgb(223,47,67)"
            ],
            [
             0.6274509803921569,
             "rgb(236,76,61)"
            ],
            [
             0.6901960784313725,
             "rgb(242,107,73)"
            ],
            [
             0.7529411764705882,
             "rgb(244,135,95)"
            ],
            [
             0.8156862745098039,
             "rgb(245,162,122)"
            ],
            [
             0.8784313725490196,
             "rgb(246,188,153)"
            ],
            [
             0.9411764705882353,
             "rgb(247,212,187)"
            ],
            [
             1,
             "rgb(250,234,220)"
            ]
           ]
          },
          "colorway": [
           "rgb(76,114,176)",
           "rgb(221,132,82)",
           "rgb(85,168,104)",
           "rgb(196,78,82)",
           "rgb(129,114,179)",
           "rgb(147,120,96)",
           "rgb(218,139,195)",
           "rgb(140,140,140)",
           "rgb(204,185,116)",
           "rgb(100,181,205)"
          ],
          "font": {
           "color": "rgb(36,36,36)"
          },
          "geo": {
           "bgcolor": "white",
           "lakecolor": "white",
           "landcolor": "rgb(234,234,242)",
           "showlakes": true,
           "showland": true,
           "subunitcolor": "white"
          },
          "hoverlabel": {
           "align": "left"
          },
          "hovermode": "closest",
          "paper_bgcolor": "white",
          "plot_bgcolor": "rgb(234,234,242)",
          "polar": {
           "angularaxis": {
            "gridcolor": "white",
            "linecolor": "white",
            "showgrid": true,
            "ticks": ""
           },
           "bgcolor": "rgb(234,234,242)",
           "radialaxis": {
            "gridcolor": "white",
            "linecolor": "white",
            "showgrid": true,
            "ticks": ""
           }
          },
          "scene": {
           "xaxis": {
            "backgroundcolor": "rgb(234,234,242)",
            "gridcolor": "white",
            "gridwidth": 2,
            "linecolor": "white",
            "showbackground": true,
            "showgrid": true,
            "ticks": "",
            "zerolinecolor": "white"
           },
           "yaxis": {
            "backgroundcolor": "rgb(234,234,242)",
            "gridcolor": "white",
            "gridwidth": 2,
            "linecolor": "white",
            "showbackground": true,
            "showgrid": true,
            "ticks": "",
            "zerolinecolor": "white"
           },
           "zaxis": {
            "backgroundcolor": "rgb(234,234,242)",
            "gridcolor": "white",
            "gridwidth": 2,
            "linecolor": "white",
            "showbackground": true,
            "showgrid": true,
            "ticks": "",
            "zerolinecolor": "white"
           }
          },
          "shapedefaults": {
           "fillcolor": "rgb(67,103,167)",
           "line": {
            "width": 0
           },
           "opacity": 0.5
          },
          "ternary": {
           "aaxis": {
            "gridcolor": "white",
            "linecolor": "white",
            "showgrid": true,
            "ticks": ""
           },
           "baxis": {
            "gridcolor": "white",
            "linecolor": "white",
            "showgrid": true,
            "ticks": ""
           },
           "bgcolor": "rgb(234,234,242)",
           "caxis": {
            "gridcolor": "white",
            "linecolor": "white",
            "showgrid": true,
            "ticks": ""
           }
          },
          "xaxis": {
           "automargin": true,
           "gridcolor": "white",
           "linecolor": "white",
           "showgrid": true,
           "ticks": "",
           "title": {
            "standoff": 15
           },
           "zerolinecolor": "white"
          },
          "yaxis": {
           "automargin": true,
           "gridcolor": "white",
           "linecolor": "white",
           "showgrid": true,
           "ticks": "",
           "title": {
            "standoff": 15
           },
           "zerolinecolor": "white"
          }
         }
        },
        "title": {
         "text": "Tempo x Número de Vértices (Exaustiva x Gulosa)"
        },
        "xaxis": {
         "anchor": "y",
         "domain": [
          0,
          1
         ],
         "title": {
          "text": "Números de Vértices"
         }
        },
        "yaxis": {
         "anchor": "x",
         "domain": [
          0,
          1
         ],
         "title": {
          "text": "Tempo (segundos)"
         }
        }
       }
      }
     },
     "metadata": {},
     "output_type": "display_data"
    }
   ],
   "source": [
    "import plotly.express as px\n",
    "import pandas as pd  # You need to import Pandas for working with dataframes\n",
    "\n",
    "\n",
    "# Create a scatter plot with trendline using Plotly Express\n",
    "fig = px.scatter(df, x=\"vertices\", y=[\"tempoExaustiva\", \"tempoGulosa\"], trendline=\"lowess\", trendline_options=dict(frac=0.1))\n",
    "\n",
    "# Update layout for better appearance and interactivity\n",
    "fig.update_layout(\n",
    "    title=\"Tempo x Número de Vértices (Exaustiva x Gulosa)\",\n",
    "    xaxis_title=\"Números de Vértices\",\n",
    "    yaxis_title=\"Tempo (segundos)\",\n",
    "    hovermode=\"closest\",  # Show closest data point on hover\n",
    "    template=\"seaborn\",  # Dark theme\n",
    ")\n",
    "\n",
    "# Show the plot\n",
    "fig.show()"
   ]
  },
  {
   "cell_type": "markdown",
   "metadata": {},
   "source": [
    "Como podemos ver no gráfico acima, a abordagem gulosa é muito mais rápida que a abordagem exaustiva, ainda mais quanto maior o número de vértices, entretanto a abordagem gulosa não garante que a solução encontrada seja a melhor possível, o que muitas vezes gera uma questão de esoclha entre tempo de execução e solução ótima."
   ]
  },
  {
   "cell_type": "markdown",
   "metadata": {},
   "source": [
    "# MPI - Paralelização e distribuição de processamento"
   ]
  },
  {
   "cell_type": "code",
   "execution_count": null,
   "metadata": {},
   "outputs": [],
   "source": [
    "#include <iostream>\n",
    "#include <fstream>\n",
    "#include <vector>\n",
    "#include <mpi.h>\n",
    "\n",
    "using namespace std;\n",
    "\n",
    "\n",
    "void BuscaExaustiva(std::vector<std::vector<int>>& grafo, int numVertices,\n",
    "                    std::vector<int>& cliqueAtual, std::vector<int>& melhorClique,\n",
    "                    int verticeAtual, int startVertex, int endVertex); \n",
    "\n",
    "std::vector<int> EncontrarCliqueMaxima(std::vector<std::vector<int>>& grafo, int numVertices, MPI_Comm comm) {\n",
    "    int rank, size;\n",
    "    MPI_Comm_rank(comm, &rank);\n",
    "    MPI_Comm_size(comm, &size);\n",
    "\n",
    "    int verticesPerProcess = numVertices / size;\n",
    "    int remainder = numVertices % size;\n",
    "\n",
    "    int startVertex = rank * verticesPerProcess;\n",
    "    int endVertex = (rank == size - 1) ? (startVertex + verticesPerProcess + remainder) : (startVertex + verticesPerProcess);\n",
    "\n",
    "    std::vector<int> cliqueMaxima;\n",
    "    std::vector<int> melhorClique;\n",
    "\n",
    "    BuscaExaustiva(grafo, numVertices, cliqueMaxima, melhorClique, 0, startVertex, endVertex);\n",
    "\n",
    "    if (rank == 0) {\n",
    "        std::vector<int> tempClique(melhorClique.size());\n",
    "        MPI_Gather(melhorClique.data(), melhorClique.size(), MPI_INT, tempClique.data(), melhorClique.size(), MPI_INT, 0, comm);\n",
    "\n",
    "        for (int i = 0; i < size; ++i) {\n",
    "            if (tempClique[i * melhorClique.size()] > melhorClique.size()) {\n",
    "                melhorClique.assign(tempClique.begin() + i * melhorClique.size(),\n",
    "                                    tempClique.begin() + (i + 1) * melhorClique.size());\n",
    "            }\n",
    "        }\n",
    "    } else {\n",
    "        MPI_Gather(melhorClique.data(), melhorClique.size(), MPI_INT, nullptr, 0, MPI_INT, 0, comm);\n",
    "    }\n",
    "\n",
    "    return melhorClique;\n",
    "}\n",
    "\n",
    "void BuscaExaustiva(std::vector<std::vector<int>>& grafo, int numVertices,\n",
    "                    std::vector<int>& cliqueAtual, std::vector<int>& melhorClique,\n",
    "                    int verticeAtual, int startVertex, int endVertex) {\n",
    "    if (verticeAtual == numVertices) {\n",
    "        if (cliqueAtual.size() > melhorClique.size()) {\n",
    "            melhorClique = cliqueAtual;\n",
    "        }\n",
    "        return;\n",
    "    }\n",
    "\n",
    "    bool podeAdicionar = true;\n",
    "    for (int u : cliqueAtual) {\n",
    "        if (grafo[u][verticeAtual] == 0) {\n",
    "            podeAdicionar = false;\n",
    "            break;\n",
    "        }\n",
    "    }\n",
    "\n",
    "    if (podeAdicionar) {\n",
    "        cliqueAtual.push_back(verticeAtual);\n",
    "        BuscaExaustiva(grafo, numVertices, cliqueAtual, melhorClique, verticeAtual + 1, startVertex, endVertex);\n",
    "        cliqueAtual.pop_back(); \n",
    "    }\n",
    "\n",
    "    BuscaExaustiva(grafo, numVertices, cliqueAtual, melhorClique, verticeAtual + 1, startVertex, endVertex);\n",
    "}\n",
    "\n",
    "std::vector<std::vector<int>> LerGrafo(const std::string& nomeArquivo, int& numVertices) {\n",
    "    std::ifstream arquivo(nomeArquivo);\n",
    "    int numArestas;\n",
    "    arquivo >> numVertices >> numArestas;\n",
    "\n",
    "    std::vector<std::vector<int>> grafo(numVertices, std::vector<int>(numVertices, 0));\n",
    "\n",
    "    for (int i = 0; i < numArestas; ++i) {\n",
    "        int u, v;\n",
    "        arquivo >> u >> v;\n",
    "        grafo[u - 1][v - 1] = 1;\n",
    "        grafo[v - 1][u - 1] = 1;  \n",
    "    }\n",
    "\n",
    "    arquivo.close();\n",
    "\n",
    "    return grafo;\n",
    "}\n",
    "\n",
    "int main(int argc, char* argv[]) {\n",
    "    MPI_Init(&argc, &argv);\n",
    "\n",
    "    int numVertices;\n",
    "    vector<vector<int>> grafo;\n",
    "\n",
    "    if (argc != 2) {\n",
    "        cout << \"Usage: \" << argv[0] << \" <graph_file>\" << endl;\n",
    "        MPI_Finalize();\n",
    "        return 1;\n",
    "    }\n",
    "\n",
    "    grafo = LerGrafo(argv[1], numVertices);\n",
    " \n",
    "    MPI_Comm comm = MPI_COMM_WORLD;\n",
    "\n",
    "    double tdata = MPI_Wtime();\n",
    "\n",
    "    std::vector<int> cliqueMax = EncontrarCliqueMaxima(grafo, numVertices, comm);\n",
    "\n",
    "    tdata = MPI_Wtime() - tdata;\n",
    "\n",
    "    int rank;\n",
    "    MPI_Comm_rank(comm, &rank);\n",
    "\n",
    "    if (rank == 0) {\n",
    "        std::cout << \"Clique Máxima: \";\n",
    "        for (auto it = cliqueMax.begin(); it != cliqueMax.end(); ++it) {\n",
    "            std::cout << *it + 1 << \" \";\n",
    "        }\n",
    "        std::cout << std::endl;\n",
    "        cout << \"Clique máxima encontrada de tamanho \" << cliqueMax.size() << endl;\n",
    "        cout << \"Duração: \" << tdata << endl;\n",
    "        cout << endl;\n",
    "    }\n",
    "\n",
    "    MPI_Finalize();\n",
    "\n",
    "    return 0;\n",
    "}\n"
   ]
  },
  {
   "cell_type": "markdown",
   "metadata": {},
   "source": [
    "Script para slurm de 1 cores"
   ]
  },
  {
   "cell_type": "code",
   "execution_count": 141,
   "metadata": {},
   "outputs": [
    {
     "name": "stdout",
     "output_type": "stream",
     "text": [
      "Writing abordagemExaustivaMPI1Core.slurm\n"
     ]
    }
   ],
   "source": [
    "%%writefile abordagemExaustivaMPI1Core.slurm\n",
    "#!/bin/bash\n",
    "#SBATCH -n 1\n",
    "#SBATCH --time=00:10:00\n",
    "#SBATCH --partition=normal\n",
    "\n",
    "mpirun -np 1 ./abordagemExaustivaMPI entrada"
   ]
  },
  {
   "cell_type": "markdown",
   "metadata": {},
   "source": [
    "Script para 6 cores"
   ]
  },
  {
   "cell_type": "code",
   "execution_count": null,
   "metadata": {},
   "outputs": [],
   "source": [
    "%%writefile abordagemExaustivaMPI6Core\n",
    "#!/bin/bash\n",
    "#SBATCH -n 6\n",
    "#SBATCH --time=00:10:00\n",
    "#SBATCH --partition=normal\n",
    "\n",
    "mpirun --allow-run-as-root -np 6 ./abordagemExaustivaMPI entrada"
   ]
  },
  {
   "cell_type": "markdown",
   "metadata": {},
   "source": [
    "Compilação do código e execução"
   ]
  },
  {
   "cell_type": "code",
   "execution_count": null,
   "metadata": {},
   "outputs": [],
   "source": [
    "\n",
    "mpic++ -o mpi abordagemExaustivaMPI.cpp"
   ]
  },
  {
   "cell_type": "code",
   "execution_count": null,
   "metadata": {},
   "outputs": [],
   "source": [
    "sbatch mpi.slurm"
   ]
  },
  {
   "cell_type": "markdown",
   "metadata": {},
   "source": [
    "## Comparando resultados da Exaustiva e Exaustiva com MPI"
   ]
  },
  {
   "cell_type": "markdown",
   "metadata": {},
   "source": [
    "| Vértices | Exaustiva(s) | MPI 1 Core(s) | MPI 6 Core(s) |  \n",
    "|----------|----------|----------|----------|\n",
    "| 50 | 0.06 | 0.11 | 0.12 |\n",
    "| 100 | 13.21 | 9.64 | 5.50 |\n",
    "|  150 | 294.53 | 163.31 | 100.72 |"
   ]
  },
  {
   "cell_type": "markdown",
   "metadata": {},
   "source": [
    "Como podemos ver na tabela acima, em entradas pequenas acaba sendo mais lenta que a abordagem exaustiva normal, já que o tempo de comunicação acaba sendo maior que o tempo de execução do algoritmo. Entretanto, em entradas maiores, o tempo de execução acaba sendo menor que o tempo de comunicação, o que acaba tornando a abordagem exaustiva com MPI mais rápida que a abordagem exaustiva normal."
   ]
  }
 ],
 "metadata": {
  "kernelspec": {
   "display_name": "Python 3",
   "language": "python",
   "name": "python3"
  },
  "language_info": {
   "codemirror_mode": {
    "name": "ipython",
    "version": 3
   },
   "file_extension": ".py",
   "mimetype": "text/x-python",
   "name": "python",
   "nbconvert_exporter": "python",
   "pygments_lexer": "ipython3",
   "version": "3.8.10"
  }
 },
 "nbformat": 4,
 "nbformat_minor": 2
}
